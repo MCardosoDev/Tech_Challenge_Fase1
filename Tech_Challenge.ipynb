{
 "cells": [
  {
   "cell_type": "code",
   "execution_count": 1,
   "metadata": {},
   "outputs": [],
   "source": [
    "import pandas as pd\n",
    "import numpy as np\n",
    "# from scipy import stats\n",
    "import matplotlib.pyplot as plt\n",
    "# import matplotlib.ticker as ticker\n",
    "import seaborn as sns\n",
    "import plotly.express as px\n",
    "import plotly.graph_objects as go\n",
    "from plotly.subplots import make_subplots\n",
    "from IPython.display import Image"
   ]
  },
  {
   "cell_type": "code",
   "execution_count": 2,
   "metadata": {},
   "outputs": [
    {
     "data": {
      "text/html": [
       "<img src=\"data/tech_challenge_1.png\" width=\"600\" height=\"600\"/>"
      ],
      "text/plain": [
       "<IPython.core.display.Image object>"
      ]
     },
     "metadata": {},
     "output_type": "display_data"
    },
    {
     "data": {
      "text/html": [
       "<img src=\"data/tech_challenge_2.png\" width=\"600\" height=\"600\"/>"
      ],
      "text/plain": [
       "<IPython.core.display.Image object>"
      ]
     },
     "metadata": {},
     "output_type": "display_data"
    }
   ],
   "source": [
    "display(Image(url=\"data/tech_challenge_1.png\", width=600, height=600), Image(url=\"data/tech_challenge_2.png\", width=600, height=600))"
   ]
  },
  {
   "attachments": {},
   "cell_type": "markdown",
   "metadata": {},
   "source": [
    "# Importar dados de exportação de vinhos"
   ]
  },
  {
   "cell_type": "code",
   "execution_count": 3,
   "metadata": {},
   "outputs": [
    {
     "data": {
      "text/html": [
       "<div>\n",
       "<style scoped>\n",
       "    .dataframe tbody tr th:only-of-type {\n",
       "        vertical-align: middle;\n",
       "    }\n",
       "\n",
       "    .dataframe tbody tr th {\n",
       "        vertical-align: top;\n",
       "    }\n",
       "\n",
       "    .dataframe thead th {\n",
       "        text-align: right;\n",
       "    }\n",
       "</style>\n",
       "<table border=\"1\" class=\"dataframe\">\n",
       "  <thead>\n",
       "    <tr style=\"text-align: right;\">\n",
       "      <th></th>\n",
       "      <th>Id</th>\n",
       "      <th>País</th>\n",
       "      <th>1970</th>\n",
       "      <th>1970.1</th>\n",
       "      <th>1971</th>\n",
       "      <th>1971.1</th>\n",
       "      <th>1972</th>\n",
       "      <th>1972.1</th>\n",
       "      <th>1973</th>\n",
       "      <th>1973.1</th>\n",
       "      <th>...</th>\n",
       "      <th>2017</th>\n",
       "      <th>2017.1</th>\n",
       "      <th>2018</th>\n",
       "      <th>2018.1</th>\n",
       "      <th>2019</th>\n",
       "      <th>2019.1</th>\n",
       "      <th>2020</th>\n",
       "      <th>2020.1</th>\n",
       "      <th>2021</th>\n",
       "      <th>2021.1</th>\n",
       "    </tr>\n",
       "  </thead>\n",
       "  <tbody>\n",
       "    <tr>\n",
       "      <th>0</th>\n",
       "      <td>1</td>\n",
       "      <td>Afeganistão</td>\n",
       "      <td>0</td>\n",
       "      <td>0</td>\n",
       "      <td>0</td>\n",
       "      <td>0</td>\n",
       "      <td>0</td>\n",
       "      <td>0</td>\n",
       "      <td>0</td>\n",
       "      <td>0</td>\n",
       "      <td>...</td>\n",
       "      <td>0</td>\n",
       "      <td>0</td>\n",
       "      <td>0</td>\n",
       "      <td>0</td>\n",
       "      <td>0</td>\n",
       "      <td>0</td>\n",
       "      <td>0</td>\n",
       "      <td>0</td>\n",
       "      <td>11</td>\n",
       "      <td>46</td>\n",
       "    </tr>\n",
       "    <tr>\n",
       "      <th>1</th>\n",
       "      <td>2</td>\n",
       "      <td>África do Sul</td>\n",
       "      <td>0</td>\n",
       "      <td>0</td>\n",
       "      <td>0</td>\n",
       "      <td>0</td>\n",
       "      <td>0</td>\n",
       "      <td>0</td>\n",
       "      <td>0</td>\n",
       "      <td>0</td>\n",
       "      <td>...</td>\n",
       "      <td>0</td>\n",
       "      <td>0</td>\n",
       "      <td>0</td>\n",
       "      <td>0</td>\n",
       "      <td>26</td>\n",
       "      <td>95</td>\n",
       "      <td>4</td>\n",
       "      <td>21</td>\n",
       "      <td>0</td>\n",
       "      <td>0</td>\n",
       "    </tr>\n",
       "    <tr>\n",
       "      <th>2</th>\n",
       "      <td>3</td>\n",
       "      <td>Alemanha, República Democrática</td>\n",
       "      <td>0</td>\n",
       "      <td>0</td>\n",
       "      <td>0</td>\n",
       "      <td>0</td>\n",
       "      <td>4168</td>\n",
       "      <td>2630</td>\n",
       "      <td>12000</td>\n",
       "      <td>8250</td>\n",
       "      <td>...</td>\n",
       "      <td>15467</td>\n",
       "      <td>87702</td>\n",
       "      <td>10794</td>\n",
       "      <td>45382</td>\n",
       "      <td>3660</td>\n",
       "      <td>25467</td>\n",
       "      <td>6261</td>\n",
       "      <td>32605</td>\n",
       "      <td>2698</td>\n",
       "      <td>6741</td>\n",
       "    </tr>\n",
       "    <tr>\n",
       "      <th>3</th>\n",
       "      <td>4</td>\n",
       "      <td>Angola</td>\n",
       "      <td>0</td>\n",
       "      <td>0</td>\n",
       "      <td>0</td>\n",
       "      <td>0</td>\n",
       "      <td>0</td>\n",
       "      <td>0</td>\n",
       "      <td>0</td>\n",
       "      <td>0</td>\n",
       "      <td>...</td>\n",
       "      <td>10170</td>\n",
       "      <td>61680</td>\n",
       "      <td>477</td>\n",
       "      <td>709</td>\n",
       "      <td>345</td>\n",
       "      <td>1065</td>\n",
       "      <td>0</td>\n",
       "      <td>0</td>\n",
       "      <td>0</td>\n",
       "      <td>0</td>\n",
       "    </tr>\n",
       "    <tr>\n",
       "      <th>4</th>\n",
       "      <td>5</td>\n",
       "      <td>Anguilla</td>\n",
       "      <td>0</td>\n",
       "      <td>0</td>\n",
       "      <td>0</td>\n",
       "      <td>0</td>\n",
       "      <td>0</td>\n",
       "      <td>0</td>\n",
       "      <td>0</td>\n",
       "      <td>0</td>\n",
       "      <td>...</td>\n",
       "      <td>0</td>\n",
       "      <td>0</td>\n",
       "      <td>0</td>\n",
       "      <td>0</td>\n",
       "      <td>0</td>\n",
       "      <td>0</td>\n",
       "      <td>0</td>\n",
       "      <td>0</td>\n",
       "      <td>0</td>\n",
       "      <td>0</td>\n",
       "    </tr>\n",
       "  </tbody>\n",
       "</table>\n",
       "<p>5 rows × 106 columns</p>\n",
       "</div>"
      ],
      "text/plain": [
       "   Id                             País  1970  1970.1  1971  1971.1  1972  \\\n",
       "0   1                      Afeganistão     0       0     0       0     0   \n",
       "1   2                    África do Sul     0       0     0       0     0   \n",
       "2   3  Alemanha, República Democrática     0       0     0       0  4168   \n",
       "3   4                           Angola     0       0     0       0     0   \n",
       "4   5                         Anguilla     0       0     0       0     0   \n",
       "\n",
       "   1972.1   1973  1973.1  ...   2017  2017.1   2018  2018.1  2019  2019.1  \\\n",
       "0       0      0       0  ...      0       0      0       0     0       0   \n",
       "1       0      0       0  ...      0       0      0       0    26      95   \n",
       "2    2630  12000    8250  ...  15467   87702  10794   45382  3660   25467   \n",
       "3       0      0       0  ...  10170   61680    477     709   345    1065   \n",
       "4       0      0       0  ...      0       0      0       0     0       0   \n",
       "\n",
       "   2020  2020.1  2021  2021.1  \n",
       "0     0       0    11      46  \n",
       "1     4      21     0       0  \n",
       "2  6261   32605  2698    6741  \n",
       "3     0       0     0       0  \n",
       "4     0       0     0       0  \n",
       "\n",
       "[5 rows x 106 columns]"
      ]
     },
     "execution_count": 3,
     "metadata": {},
     "output_type": "execute_result"
    }
   ],
   "source": [
    "dataset = pd.read_csv('data/ExpVinho.csv', sep=';')\n",
    "dataset.head()"
   ]
  },
  {
   "cell_type": "code",
   "execution_count": 4,
   "metadata": {},
   "outputs": [
    {
     "name": "stdout",
     "output_type": "stream",
     "text": [
      "<class 'pandas.core.frame.DataFrame'>\n",
      "RangeIndex: 124 entries, 0 to 123\n",
      "Columns: 105 entries, País to 2021.1\n",
      "dtypes: int64(104), object(1)\n",
      "memory usage: 101.8+ KB\n"
     ]
    }
   ],
   "source": [
    "dataset.drop(\"Id\", axis=1, inplace=True)\n",
    "dataset.info()"
   ]
  },
  {
   "cell_type": "code",
   "execution_count": 5,
   "metadata": {},
   "outputs": [
    {
     "data": {
      "text/html": [
       "<div>\n",
       "<style scoped>\n",
       "    .dataframe tbody tr th:only-of-type {\n",
       "        vertical-align: middle;\n",
       "    }\n",
       "\n",
       "    .dataframe tbody tr th {\n",
       "        vertical-align: top;\n",
       "    }\n",
       "\n",
       "    .dataframe thead th {\n",
       "        text-align: right;\n",
       "    }\n",
       "</style>\n",
       "<table border=\"1\" class=\"dataframe\">\n",
       "  <thead>\n",
       "    <tr style=\"text-align: right;\">\n",
       "      <th></th>\n",
       "      <th>pais</th>\n",
       "      <th>1970</th>\n",
       "      <th>1970.1</th>\n",
       "      <th>1971</th>\n",
       "      <th>1971.1</th>\n",
       "      <th>1972</th>\n",
       "      <th>1972.1</th>\n",
       "      <th>1973</th>\n",
       "      <th>1973.1</th>\n",
       "      <th>1974</th>\n",
       "      <th>...</th>\n",
       "      <th>2017</th>\n",
       "      <th>2017.1</th>\n",
       "      <th>2018</th>\n",
       "      <th>2018.1</th>\n",
       "      <th>2019</th>\n",
       "      <th>2019.1</th>\n",
       "      <th>2020</th>\n",
       "      <th>2020.1</th>\n",
       "      <th>2021</th>\n",
       "      <th>2021.1</th>\n",
       "    </tr>\n",
       "  </thead>\n",
       "  <tbody>\n",
       "    <tr>\n",
       "      <th>0</th>\n",
       "      <td>Afeganistão</td>\n",
       "      <td>0</td>\n",
       "      <td>0</td>\n",
       "      <td>0</td>\n",
       "      <td>0</td>\n",
       "      <td>0</td>\n",
       "      <td>0</td>\n",
       "      <td>0</td>\n",
       "      <td>0</td>\n",
       "      <td>0</td>\n",
       "      <td>...</td>\n",
       "      <td>0</td>\n",
       "      <td>0</td>\n",
       "      <td>0</td>\n",
       "      <td>0</td>\n",
       "      <td>0</td>\n",
       "      <td>0</td>\n",
       "      <td>0</td>\n",
       "      <td>0</td>\n",
       "      <td>11</td>\n",
       "      <td>46</td>\n",
       "    </tr>\n",
       "    <tr>\n",
       "      <th>1</th>\n",
       "      <td>África do Sul</td>\n",
       "      <td>0</td>\n",
       "      <td>0</td>\n",
       "      <td>0</td>\n",
       "      <td>0</td>\n",
       "      <td>0</td>\n",
       "      <td>0</td>\n",
       "      <td>0</td>\n",
       "      <td>0</td>\n",
       "      <td>0</td>\n",
       "      <td>...</td>\n",
       "      <td>0</td>\n",
       "      <td>0</td>\n",
       "      <td>0</td>\n",
       "      <td>0</td>\n",
       "      <td>26</td>\n",
       "      <td>95</td>\n",
       "      <td>4</td>\n",
       "      <td>21</td>\n",
       "      <td>0</td>\n",
       "      <td>0</td>\n",
       "    </tr>\n",
       "    <tr>\n",
       "      <th>2</th>\n",
       "      <td>Alemanha, República Democrática</td>\n",
       "      <td>0</td>\n",
       "      <td>0</td>\n",
       "      <td>0</td>\n",
       "      <td>0</td>\n",
       "      <td>4168</td>\n",
       "      <td>2630</td>\n",
       "      <td>12000</td>\n",
       "      <td>8250</td>\n",
       "      <td>0</td>\n",
       "      <td>...</td>\n",
       "      <td>15467</td>\n",
       "      <td>87702</td>\n",
       "      <td>10794</td>\n",
       "      <td>45382</td>\n",
       "      <td>3660</td>\n",
       "      <td>25467</td>\n",
       "      <td>6261</td>\n",
       "      <td>32605</td>\n",
       "      <td>2698</td>\n",
       "      <td>6741</td>\n",
       "    </tr>\n",
       "    <tr>\n",
       "      <th>3</th>\n",
       "      <td>Angola</td>\n",
       "      <td>0</td>\n",
       "      <td>0</td>\n",
       "      <td>0</td>\n",
       "      <td>0</td>\n",
       "      <td>0</td>\n",
       "      <td>0</td>\n",
       "      <td>0</td>\n",
       "      <td>0</td>\n",
       "      <td>0</td>\n",
       "      <td>...</td>\n",
       "      <td>10170</td>\n",
       "      <td>61680</td>\n",
       "      <td>477</td>\n",
       "      <td>709</td>\n",
       "      <td>345</td>\n",
       "      <td>1065</td>\n",
       "      <td>0</td>\n",
       "      <td>0</td>\n",
       "      <td>0</td>\n",
       "      <td>0</td>\n",
       "    </tr>\n",
       "    <tr>\n",
       "      <th>4</th>\n",
       "      <td>Anguilla</td>\n",
       "      <td>0</td>\n",
       "      <td>0</td>\n",
       "      <td>0</td>\n",
       "      <td>0</td>\n",
       "      <td>0</td>\n",
       "      <td>0</td>\n",
       "      <td>0</td>\n",
       "      <td>0</td>\n",
       "      <td>0</td>\n",
       "      <td>...</td>\n",
       "      <td>0</td>\n",
       "      <td>0</td>\n",
       "      <td>0</td>\n",
       "      <td>0</td>\n",
       "      <td>0</td>\n",
       "      <td>0</td>\n",
       "      <td>0</td>\n",
       "      <td>0</td>\n",
       "      <td>0</td>\n",
       "      <td>0</td>\n",
       "    </tr>\n",
       "  </tbody>\n",
       "</table>\n",
       "<p>5 rows × 105 columns</p>\n",
       "</div>"
      ],
      "text/plain": [
       "                              pais  1970  1970.1  1971  1971.1  1972  1972.1  \\\n",
       "0                      Afeganistão     0       0     0       0     0       0   \n",
       "1                    África do Sul     0       0     0       0     0       0   \n",
       "2  Alemanha, República Democrática     0       0     0       0  4168    2630   \n",
       "3                           Angola     0       0     0       0     0       0   \n",
       "4                         Anguilla     0       0     0       0     0       0   \n",
       "\n",
       "    1973  1973.1  1974  ...   2017  2017.1   2018  2018.1  2019  2019.1  2020  \\\n",
       "0      0       0     0  ...      0       0      0       0     0       0     0   \n",
       "1      0       0     0  ...      0       0      0       0    26      95     4   \n",
       "2  12000    8250     0  ...  15467   87702  10794   45382  3660   25467  6261   \n",
       "3      0       0     0  ...  10170   61680    477     709   345    1065     0   \n",
       "4      0       0     0  ...      0       0      0       0     0       0     0   \n",
       "\n",
       "   2020.1  2021  2021.1  \n",
       "0       0    11      46  \n",
       "1      21     0       0  \n",
       "2   32605  2698    6741  \n",
       "3       0     0       0  \n",
       "4       0     0       0  \n",
       "\n",
       "[5 rows x 105 columns]"
      ]
     },
     "execution_count": 5,
     "metadata": {},
     "output_type": "execute_result"
    }
   ],
   "source": [
    "dataset.rename(columns={\"País\": \"pais\"}, inplace=True)\n",
    "dataset.head()"
   ]
  },
  {
   "cell_type": "code",
   "execution_count": 6,
   "metadata": {},
   "outputs": [
    {
     "name": "stdout",
     "output_type": "stream",
     "text": [
      "<class 'pandas.core.frame.DataFrame'>\n",
      "RangeIndex: 124 entries, 0 to 123\n",
      "Data columns (total 53 columns):\n",
      " #   Column  Non-Null Count  Dtype \n",
      "---  ------  --------------  ----- \n",
      " 0   pais    124 non-null    object\n",
      " 1   1970    124 non-null    int64 \n",
      " 2   1971    124 non-null    int64 \n",
      " 3   1972    124 non-null    int64 \n",
      " 4   1973    124 non-null    int64 \n",
      " 5   1974    124 non-null    int64 \n",
      " 6   1975    124 non-null    int64 \n",
      " 7   1976    124 non-null    int64 \n",
      " 8   1977    124 non-null    int64 \n",
      " 9   1978    124 non-null    int64 \n",
      " 10  1979    124 non-null    int64 \n",
      " 11  1980    124 non-null    int64 \n",
      " 12  1981    124 non-null    int64 \n",
      " 13  1982    124 non-null    int64 \n",
      " 14  1983    124 non-null    int64 \n",
      " 15  1984    124 non-null    int64 \n",
      " 16  1985    124 non-null    int64 \n",
      " 17  1986    124 non-null    int64 \n",
      " 18  1987    124 non-null    int64 \n",
      " 19  1988    124 non-null    int64 \n",
      " 20  1989    124 non-null    int64 \n",
      " 21  1990    124 non-null    int64 \n",
      " 22  1991    124 non-null    int64 \n",
      " 23  1992    124 non-null    int64 \n",
      " 24  1993    124 non-null    int64 \n",
      " 25  1994    124 non-null    int64 \n",
      " 26  1995    124 non-null    int64 \n",
      " 27  1996    124 non-null    int64 \n",
      " 28  1997    124 non-null    int64 \n",
      " 29  1998    124 non-null    int64 \n",
      " 30  1999    124 non-null    int64 \n",
      " 31  2000    124 non-null    int64 \n",
      " 32  2001    124 non-null    int64 \n",
      " 33  2002    124 non-null    int64 \n",
      " 34  2003    124 non-null    int64 \n",
      " 35  2004    124 non-null    int64 \n",
      " 36  2005    124 non-null    int64 \n",
      " 37  2006    124 non-null    int64 \n",
      " 38  2007    124 non-null    int64 \n",
      " 39  2008    124 non-null    int64 \n",
      " 40  2009    124 non-null    int64 \n",
      " 41  2010    124 non-null    int64 \n",
      " 42  2011    124 non-null    int64 \n",
      " 43  2012    124 non-null    int64 \n",
      " 44  2013    124 non-null    int64 \n",
      " 45  2014    124 non-null    int64 \n",
      " 46  2015    124 non-null    int64 \n",
      " 47  2016    124 non-null    int64 \n",
      " 48  2017    124 non-null    int64 \n",
      " 49  2018    124 non-null    int64 \n",
      " 50  2019    124 non-null    int64 \n",
      " 51  2020    124 non-null    int64 \n",
      " 52  2021    124 non-null    int64 \n",
      "dtypes: int64(52), object(1)\n",
      "memory usage: 51.5+ KB\n"
     ]
    }
   ],
   "source": [
    "colunas = [coluna for coluna in dataset.columns if '.1' in coluna]\n",
    "colunas.insert(0, 'pais')\n",
    "dataset_valor = dataset[colunas]\n",
    "dataset_valor.columns = dataset_valor.columns.str.replace('.1', '')\n",
    "dataset_valor.info()"
   ]
  },
  {
   "cell_type": "code",
   "execution_count": 7,
   "metadata": {},
   "outputs": [
    {
     "name": "stdout",
     "output_type": "stream",
     "text": [
      "<class 'pandas.core.frame.DataFrame'>\n",
      "RangeIndex: 124 entries, 0 to 123\n",
      "Data columns (total 53 columns):\n",
      " #   Column  Non-Null Count  Dtype \n",
      "---  ------  --------------  ----- \n",
      " 0   pais    124 non-null    object\n",
      " 1   1970    124 non-null    int64 \n",
      " 2   1971    124 non-null    int64 \n",
      " 3   1972    124 non-null    int64 \n",
      " 4   1973    124 non-null    int64 \n",
      " 5   1974    124 non-null    int64 \n",
      " 6   1975    124 non-null    int64 \n",
      " 7   1976    124 non-null    int64 \n",
      " 8   1977    124 non-null    int64 \n",
      " 9   1978    124 non-null    int64 \n",
      " 10  1979    124 non-null    int64 \n",
      " 11  1980    124 non-null    int64 \n",
      " 12  1981    124 non-null    int64 \n",
      " 13  1982    124 non-null    int64 \n",
      " 14  1983    124 non-null    int64 \n",
      " 15  1984    124 non-null    int64 \n",
      " 16  1985    124 non-null    int64 \n",
      " 17  1986    124 non-null    int64 \n",
      " 18  1987    124 non-null    int64 \n",
      " 19  1988    124 non-null    int64 \n",
      " 20  1989    124 non-null    int64 \n",
      " 21  1990    124 non-null    int64 \n",
      " 22  1991    124 non-null    int64 \n",
      " 23  1992    124 non-null    int64 \n",
      " 24  1993    124 non-null    int64 \n",
      " 25  1994    124 non-null    int64 \n",
      " 26  1995    124 non-null    int64 \n",
      " 27  1996    124 non-null    int64 \n",
      " 28  1997    124 non-null    int64 \n",
      " 29  1998    124 non-null    int64 \n",
      " 30  1999    124 non-null    int64 \n",
      " 31  2000    124 non-null    int64 \n",
      " 32  2001    124 non-null    int64 \n",
      " 33  2002    124 non-null    int64 \n",
      " 34  2003    124 non-null    int64 \n",
      " 35  2004    124 non-null    int64 \n",
      " 36  2005    124 non-null    int64 \n",
      " 37  2006    124 non-null    int64 \n",
      " 38  2007    124 non-null    int64 \n",
      " 39  2008    124 non-null    int64 \n",
      " 40  2009    124 non-null    int64 \n",
      " 41  2010    124 non-null    int64 \n",
      " 42  2011    124 non-null    int64 \n",
      " 43  2012    124 non-null    int64 \n",
      " 44  2013    124 non-null    int64 \n",
      " 45  2014    124 non-null    int64 \n",
      " 46  2015    124 non-null    int64 \n",
      " 47  2016    124 non-null    int64 \n",
      " 48  2017    124 non-null    int64 \n",
      " 49  2018    124 non-null    int64 \n",
      " 50  2019    124 non-null    int64 \n",
      " 51  2020    124 non-null    int64 \n",
      " 52  2021    124 non-null    int64 \n",
      "dtypes: int64(52), object(1)\n",
      "memory usage: 51.5+ KB\n"
     ]
    }
   ],
   "source": [
    "colunas.remove('pais')\n",
    "dataset_quantidade = dataset.drop(colunas, axis=1)\n",
    "dataset_quantidade.info()"
   ]
  },
  {
   "cell_type": "code",
   "execution_count": 8,
   "metadata": {},
   "outputs": [
    {
     "data": {
      "text/html": [
       "<div>\n",
       "<style scoped>\n",
       "    .dataframe tbody tr th:only-of-type {\n",
       "        vertical-align: middle;\n",
       "    }\n",
       "\n",
       "    .dataframe tbody tr th {\n",
       "        vertical-align: top;\n",
       "    }\n",
       "\n",
       "    .dataframe thead th {\n",
       "        text-align: right;\n",
       "    }\n",
       "</style>\n",
       "<table border=\"1\" class=\"dataframe\">\n",
       "  <thead>\n",
       "    <tr style=\"text-align: right;\">\n",
       "      <th></th>\n",
       "      <th>pais</th>\n",
       "      <th>1970</th>\n",
       "      <th>1971</th>\n",
       "      <th>1972</th>\n",
       "      <th>1973</th>\n",
       "      <th>1974</th>\n",
       "      <th>1975</th>\n",
       "      <th>1976</th>\n",
       "      <th>1977</th>\n",
       "      <th>1978</th>\n",
       "      <th>...</th>\n",
       "      <th>2012</th>\n",
       "      <th>2013</th>\n",
       "      <th>2014</th>\n",
       "      <th>2015</th>\n",
       "      <th>2016</th>\n",
       "      <th>2017</th>\n",
       "      <th>2018</th>\n",
       "      <th>2019</th>\n",
       "      <th>2020</th>\n",
       "      <th>2021</th>\n",
       "    </tr>\n",
       "  </thead>\n",
       "  <tbody>\n",
       "    <tr>\n",
       "      <th>0</th>\n",
       "      <td>Afeganistão</td>\n",
       "      <td>0</td>\n",
       "      <td>0</td>\n",
       "      <td>0</td>\n",
       "      <td>0</td>\n",
       "      <td>0</td>\n",
       "      <td>0</td>\n",
       "      <td>0</td>\n",
       "      <td>0</td>\n",
       "      <td>0</td>\n",
       "      <td>...</td>\n",
       "      <td>0</td>\n",
       "      <td>0</td>\n",
       "      <td>0</td>\n",
       "      <td>0</td>\n",
       "      <td>0</td>\n",
       "      <td>0</td>\n",
       "      <td>0</td>\n",
       "      <td>0</td>\n",
       "      <td>0</td>\n",
       "      <td>11</td>\n",
       "    </tr>\n",
       "    <tr>\n",
       "      <th>1</th>\n",
       "      <td>África do Sul</td>\n",
       "      <td>0</td>\n",
       "      <td>0</td>\n",
       "      <td>0</td>\n",
       "      <td>0</td>\n",
       "      <td>0</td>\n",
       "      <td>0</td>\n",
       "      <td>0</td>\n",
       "      <td>0</td>\n",
       "      <td>0</td>\n",
       "      <td>...</td>\n",
       "      <td>0</td>\n",
       "      <td>0</td>\n",
       "      <td>0</td>\n",
       "      <td>0</td>\n",
       "      <td>0</td>\n",
       "      <td>0</td>\n",
       "      <td>0</td>\n",
       "      <td>26</td>\n",
       "      <td>4</td>\n",
       "      <td>0</td>\n",
       "    </tr>\n",
       "    <tr>\n",
       "      <th>2</th>\n",
       "      <td>Alemanha, República Democrática</td>\n",
       "      <td>0</td>\n",
       "      <td>0</td>\n",
       "      <td>4168</td>\n",
       "      <td>12000</td>\n",
       "      <td>0</td>\n",
       "      <td>0</td>\n",
       "      <td>0</td>\n",
       "      <td>0</td>\n",
       "      <td>0</td>\n",
       "      <td>...</td>\n",
       "      <td>8189</td>\n",
       "      <td>61699</td>\n",
       "      <td>213348</td>\n",
       "      <td>10680</td>\n",
       "      <td>14012</td>\n",
       "      <td>15467</td>\n",
       "      <td>10794</td>\n",
       "      <td>3660</td>\n",
       "      <td>6261</td>\n",
       "      <td>2698</td>\n",
       "    </tr>\n",
       "  </tbody>\n",
       "</table>\n",
       "<p>3 rows × 53 columns</p>\n",
       "</div>"
      ],
      "text/plain": [
       "                              pais  1970  1971  1972   1973  1974  1975  1976  \\\n",
       "0                      Afeganistão     0     0     0      0     0     0     0   \n",
       "1                    África do Sul     0     0     0      0     0     0     0   \n",
       "2  Alemanha, República Democrática     0     0  4168  12000     0     0     0   \n",
       "\n",
       "   1977  1978  ...  2012   2013    2014   2015   2016   2017   2018  2019  \\\n",
       "0     0     0  ...     0      0       0      0      0      0      0     0   \n",
       "1     0     0  ...     0      0       0      0      0      0      0    26   \n",
       "2     0     0  ...  8189  61699  213348  10680  14012  15467  10794  3660   \n",
       "\n",
       "   2020  2021  \n",
       "0     0    11  \n",
       "1     4     0  \n",
       "2  6261  2698  \n",
       "\n",
       "[3 rows x 53 columns]"
      ]
     },
     "execution_count": 8,
     "metadata": {},
     "output_type": "execute_result"
    }
   ],
   "source": [
    "dataset_quantidade.head(3)"
   ]
  },
  {
   "cell_type": "code",
   "execution_count": 9,
   "metadata": {},
   "outputs": [
    {
     "data": {
      "text/html": [
       "<div>\n",
       "<style scoped>\n",
       "    .dataframe tbody tr th:only-of-type {\n",
       "        vertical-align: middle;\n",
       "    }\n",
       "\n",
       "    .dataframe tbody tr th {\n",
       "        vertical-align: top;\n",
       "    }\n",
       "\n",
       "    .dataframe thead th {\n",
       "        text-align: right;\n",
       "    }\n",
       "</style>\n",
       "<table border=\"1\" class=\"dataframe\">\n",
       "  <thead>\n",
       "    <tr style=\"text-align: right;\">\n",
       "      <th></th>\n",
       "      <th>pais</th>\n",
       "      <th>1970</th>\n",
       "      <th>1971</th>\n",
       "      <th>1972</th>\n",
       "      <th>1973</th>\n",
       "      <th>1974</th>\n",
       "      <th>1975</th>\n",
       "      <th>1976</th>\n",
       "      <th>1977</th>\n",
       "      <th>1978</th>\n",
       "      <th>...</th>\n",
       "      <th>2012</th>\n",
       "      <th>2013</th>\n",
       "      <th>2014</th>\n",
       "      <th>2015</th>\n",
       "      <th>2016</th>\n",
       "      <th>2017</th>\n",
       "      <th>2018</th>\n",
       "      <th>2019</th>\n",
       "      <th>2020</th>\n",
       "      <th>2021</th>\n",
       "    </tr>\n",
       "  </thead>\n",
       "  <tbody>\n",
       "    <tr>\n",
       "      <th>0</th>\n",
       "      <td>Afeganistão</td>\n",
       "      <td>0</td>\n",
       "      <td>0</td>\n",
       "      <td>0</td>\n",
       "      <td>0</td>\n",
       "      <td>0</td>\n",
       "      <td>0</td>\n",
       "      <td>0</td>\n",
       "      <td>0</td>\n",
       "      <td>0</td>\n",
       "      <td>...</td>\n",
       "      <td>0</td>\n",
       "      <td>0</td>\n",
       "      <td>0</td>\n",
       "      <td>0</td>\n",
       "      <td>0</td>\n",
       "      <td>0</td>\n",
       "      <td>0</td>\n",
       "      <td>0</td>\n",
       "      <td>0</td>\n",
       "      <td>46</td>\n",
       "    </tr>\n",
       "    <tr>\n",
       "      <th>1</th>\n",
       "      <td>África do Sul</td>\n",
       "      <td>0</td>\n",
       "      <td>0</td>\n",
       "      <td>0</td>\n",
       "      <td>0</td>\n",
       "      <td>0</td>\n",
       "      <td>0</td>\n",
       "      <td>0</td>\n",
       "      <td>0</td>\n",
       "      <td>0</td>\n",
       "      <td>...</td>\n",
       "      <td>0</td>\n",
       "      <td>0</td>\n",
       "      <td>0</td>\n",
       "      <td>0</td>\n",
       "      <td>0</td>\n",
       "      <td>0</td>\n",
       "      <td>0</td>\n",
       "      <td>95</td>\n",
       "      <td>21</td>\n",
       "      <td>0</td>\n",
       "    </tr>\n",
       "    <tr>\n",
       "      <th>2</th>\n",
       "      <td>Alemanha, República Democrática</td>\n",
       "      <td>0</td>\n",
       "      <td>0</td>\n",
       "      <td>2630</td>\n",
       "      <td>8250</td>\n",
       "      <td>0</td>\n",
       "      <td>0</td>\n",
       "      <td>0</td>\n",
       "      <td>0</td>\n",
       "      <td>0</td>\n",
       "      <td>...</td>\n",
       "      <td>56342</td>\n",
       "      <td>265978</td>\n",
       "      <td>761653</td>\n",
       "      <td>44780</td>\n",
       "      <td>68109</td>\n",
       "      <td>87702</td>\n",
       "      <td>45382</td>\n",
       "      <td>25467</td>\n",
       "      <td>32605</td>\n",
       "      <td>6741</td>\n",
       "    </tr>\n",
       "  </tbody>\n",
       "</table>\n",
       "<p>3 rows × 53 columns</p>\n",
       "</div>"
      ],
      "text/plain": [
       "                              pais  1970  1971  1972  1973  1974  1975  1976  \\\n",
       "0                      Afeganistão     0     0     0     0     0     0     0   \n",
       "1                    África do Sul     0     0     0     0     0     0     0   \n",
       "2  Alemanha, República Democrática     0     0  2630  8250     0     0     0   \n",
       "\n",
       "   1977  1978  ...   2012    2013    2014   2015   2016   2017   2018   2019  \\\n",
       "0     0     0  ...      0       0       0      0      0      0      0      0   \n",
       "1     0     0  ...      0       0       0      0      0      0      0     95   \n",
       "2     0     0  ...  56342  265978  761653  44780  68109  87702  45382  25467   \n",
       "\n",
       "    2020  2021  \n",
       "0      0    46  \n",
       "1     21     0  \n",
       "2  32605  6741  \n",
       "\n",
       "[3 rows x 53 columns]"
      ]
     },
     "execution_count": 9,
     "metadata": {},
     "output_type": "execute_result"
    }
   ],
   "source": [
    "dataset_valor.head(3)"
   ]
  },
  {
   "cell_type": "code",
   "execution_count": 10,
   "metadata": {},
   "outputs": [
    {
     "data": {
      "text/html": [
       "<div>\n",
       "<style scoped>\n",
       "    .dataframe tbody tr th:only-of-type {\n",
       "        vertical-align: middle;\n",
       "    }\n",
       "\n",
       "    .dataframe tbody tr th {\n",
       "        vertical-align: top;\n",
       "    }\n",
       "\n",
       "    .dataframe thead th {\n",
       "        text-align: right;\n",
       "    }\n",
       "</style>\n",
       "<table border=\"1\" class=\"dataframe\">\n",
       "  <thead>\n",
       "    <tr style=\"text-align: right;\">\n",
       "      <th></th>\n",
       "      <th>Pais_origem</th>\n",
       "      <th>Pais_destino</th>\n",
       "      <th>ano</th>\n",
       "      <th>Quantidade</th>\n",
       "    </tr>\n",
       "  </thead>\n",
       "  <tbody>\n",
       "    <tr>\n",
       "      <th>0</th>\n",
       "      <td>Brasil</td>\n",
       "      <td>Afeganistão</td>\n",
       "      <td>1970</td>\n",
       "      <td>0</td>\n",
       "    </tr>\n",
       "    <tr>\n",
       "      <th>1</th>\n",
       "      <td>Brasil</td>\n",
       "      <td>África do Sul</td>\n",
       "      <td>1970</td>\n",
       "      <td>0</td>\n",
       "    </tr>\n",
       "    <tr>\n",
       "      <th>2</th>\n",
       "      <td>Brasil</td>\n",
       "      <td>Alemanha, República Democrática</td>\n",
       "      <td>1970</td>\n",
       "      <td>0</td>\n",
       "    </tr>\n",
       "    <tr>\n",
       "      <th>3</th>\n",
       "      <td>Brasil</td>\n",
       "      <td>Angola</td>\n",
       "      <td>1970</td>\n",
       "      <td>0</td>\n",
       "    </tr>\n",
       "    <tr>\n",
       "      <th>4</th>\n",
       "      <td>Brasil</td>\n",
       "      <td>Anguilla</td>\n",
       "      <td>1970</td>\n",
       "      <td>0</td>\n",
       "    </tr>\n",
       "    <tr>\n",
       "      <th>...</th>\n",
       "      <td>...</td>\n",
       "      <td>...</td>\n",
       "      <td>...</td>\n",
       "      <td>...</td>\n",
       "    </tr>\n",
       "    <tr>\n",
       "      <th>6443</th>\n",
       "      <td>Brasil</td>\n",
       "      <td>Tuvalu</td>\n",
       "      <td>2021</td>\n",
       "      <td>0</td>\n",
       "    </tr>\n",
       "    <tr>\n",
       "      <th>6444</th>\n",
       "      <td>Brasil</td>\n",
       "      <td>Uruguai</td>\n",
       "      <td>2021</td>\n",
       "      <td>136774</td>\n",
       "    </tr>\n",
       "    <tr>\n",
       "      <th>6445</th>\n",
       "      <td>Brasil</td>\n",
       "      <td>Vanuatu</td>\n",
       "      <td>2021</td>\n",
       "      <td>0</td>\n",
       "    </tr>\n",
       "    <tr>\n",
       "      <th>6446</th>\n",
       "      <td>Brasil</td>\n",
       "      <td>Venezuela</td>\n",
       "      <td>2021</td>\n",
       "      <td>26415</td>\n",
       "    </tr>\n",
       "    <tr>\n",
       "      <th>6447</th>\n",
       "      <td>Brasil</td>\n",
       "      <td>Vietnã</td>\n",
       "      <td>2021</td>\n",
       "      <td>0</td>\n",
       "    </tr>\n",
       "  </tbody>\n",
       "</table>\n",
       "<p>6448 rows × 4 columns</p>\n",
       "</div>"
      ],
      "text/plain": [
       "     Pais_origem                     Pais_destino   ano  Quantidade\n",
       "0         Brasil                      Afeganistão  1970           0\n",
       "1         Brasil                    África do Sul  1970           0\n",
       "2         Brasil  Alemanha, República Democrática  1970           0\n",
       "3         Brasil                           Angola  1970           0\n",
       "4         Brasil                         Anguilla  1970           0\n",
       "...          ...                              ...   ...         ...\n",
       "6443      Brasil                           Tuvalu  2021           0\n",
       "6444      Brasil                          Uruguai  2021      136774\n",
       "6445      Brasil                          Vanuatu  2021           0\n",
       "6446      Brasil                        Venezuela  2021       26415\n",
       "6447      Brasil                           Vietnã  2021           0\n",
       "\n",
       "[6448 rows x 4 columns]"
      ]
     },
     "execution_count": 10,
     "metadata": {},
     "output_type": "execute_result"
    }
   ],
   "source": [
    "dataset_quantidade_unpivot = dataset_quantidade.reset_index().melt(id_vars=[\"pais\"], value_vars=dataset_quantidade.columns)\n",
    "dataset_quantidade_unpivot.columns = [\"Pais_destino\", \"ano\", \"Quantidade\"]\n",
    "dataset_quantidade_unpivot.insert(0, 'Pais_origem', 'Brasil')\n",
    "dataset_quantidade_unpivot.ano = dataset_quantidade_unpivot.ano.astype(\"datetime64[ns]\").dt.year\n",
    "dataset_quantidade_unpivot"
   ]
  },
  {
   "cell_type": "code",
   "execution_count": 11,
   "metadata": {},
   "outputs": [
    {
     "data": {
      "text/html": [
       "<div>\n",
       "<style scoped>\n",
       "    .dataframe tbody tr th:only-of-type {\n",
       "        vertical-align: middle;\n",
       "    }\n",
       "\n",
       "    .dataframe tbody tr th {\n",
       "        vertical-align: top;\n",
       "    }\n",
       "\n",
       "    .dataframe thead th {\n",
       "        text-align: right;\n",
       "    }\n",
       "</style>\n",
       "<table border=\"1\" class=\"dataframe\">\n",
       "  <thead>\n",
       "    <tr style=\"text-align: right;\">\n",
       "      <th></th>\n",
       "      <th>Pais_origem</th>\n",
       "      <th>Pais_destino</th>\n",
       "      <th>ano</th>\n",
       "      <th>Valor</th>\n",
       "    </tr>\n",
       "  </thead>\n",
       "  <tbody>\n",
       "    <tr>\n",
       "      <th>0</th>\n",
       "      <td>Brasil</td>\n",
       "      <td>Afeganistão</td>\n",
       "      <td>1970</td>\n",
       "      <td>0</td>\n",
       "    </tr>\n",
       "    <tr>\n",
       "      <th>1</th>\n",
       "      <td>Brasil</td>\n",
       "      <td>África do Sul</td>\n",
       "      <td>1970</td>\n",
       "      <td>0</td>\n",
       "    </tr>\n",
       "    <tr>\n",
       "      <th>2</th>\n",
       "      <td>Brasil</td>\n",
       "      <td>Alemanha, República Democrática</td>\n",
       "      <td>1970</td>\n",
       "      <td>0</td>\n",
       "    </tr>\n",
       "    <tr>\n",
       "      <th>3</th>\n",
       "      <td>Brasil</td>\n",
       "      <td>Angola</td>\n",
       "      <td>1970</td>\n",
       "      <td>0</td>\n",
       "    </tr>\n",
       "    <tr>\n",
       "      <th>4</th>\n",
       "      <td>Brasil</td>\n",
       "      <td>Anguilla</td>\n",
       "      <td>1970</td>\n",
       "      <td>0</td>\n",
       "    </tr>\n",
       "    <tr>\n",
       "      <th>...</th>\n",
       "      <td>...</td>\n",
       "      <td>...</td>\n",
       "      <td>...</td>\n",
       "      <td>...</td>\n",
       "    </tr>\n",
       "    <tr>\n",
       "      <th>6443</th>\n",
       "      <td>Brasil</td>\n",
       "      <td>Tuvalu</td>\n",
       "      <td>2021</td>\n",
       "      <td>0</td>\n",
       "    </tr>\n",
       "    <tr>\n",
       "      <th>6444</th>\n",
       "      <td>Brasil</td>\n",
       "      <td>Uruguai</td>\n",
       "      <td>2021</td>\n",
       "      <td>149842</td>\n",
       "    </tr>\n",
       "    <tr>\n",
       "      <th>6445</th>\n",
       "      <td>Brasil</td>\n",
       "      <td>Vanuatu</td>\n",
       "      <td>2021</td>\n",
       "      <td>0</td>\n",
       "    </tr>\n",
       "    <tr>\n",
       "      <th>6446</th>\n",
       "      <td>Brasil</td>\n",
       "      <td>Venezuela</td>\n",
       "      <td>2021</td>\n",
       "      <td>35944</td>\n",
       "    </tr>\n",
       "    <tr>\n",
       "      <th>6447</th>\n",
       "      <td>Brasil</td>\n",
       "      <td>Vietnã</td>\n",
       "      <td>2021</td>\n",
       "      <td>0</td>\n",
       "    </tr>\n",
       "  </tbody>\n",
       "</table>\n",
       "<p>6448 rows × 4 columns</p>\n",
       "</div>"
      ],
      "text/plain": [
       "     Pais_origem                     Pais_destino   ano   Valor\n",
       "0         Brasil                      Afeganistão  1970       0\n",
       "1         Brasil                    África do Sul  1970       0\n",
       "2         Brasil  Alemanha, República Democrática  1970       0\n",
       "3         Brasil                           Angola  1970       0\n",
       "4         Brasil                         Anguilla  1970       0\n",
       "...          ...                              ...   ...     ...\n",
       "6443      Brasil                           Tuvalu  2021       0\n",
       "6444      Brasil                          Uruguai  2021  149842\n",
       "6445      Brasil                          Vanuatu  2021       0\n",
       "6446      Brasil                        Venezuela  2021   35944\n",
       "6447      Brasil                           Vietnã  2021       0\n",
       "\n",
       "[6448 rows x 4 columns]"
      ]
     },
     "execution_count": 11,
     "metadata": {},
     "output_type": "execute_result"
    }
   ],
   "source": [
    "dataset_valor_unpivot = dataset_valor.reset_index().melt(id_vars=[\"pais\"], value_vars=dataset_valor.columns)\n",
    "dataset_valor_unpivot.columns = [\"Pais_destino\", \"ano\", \"Valor\"]\n",
    "dataset_valor_unpivot.insert(0, 'Pais_origem', 'Brasil')\n",
    "dataset_valor_unpivot.ano = dataset_valor_unpivot.ano.astype(\"datetime64[ns]\").dt.year\n",
    "dataset_valor_unpivot"
   ]
  },
  {
   "cell_type": "code",
   "execution_count": 12,
   "metadata": {},
   "outputs": [
    {
     "data": {
      "text/html": [
       "<div>\n",
       "<style scoped>\n",
       "    .dataframe tbody tr th:only-of-type {\n",
       "        vertical-align: middle;\n",
       "    }\n",
       "\n",
       "    .dataframe tbody tr th {\n",
       "        vertical-align: top;\n",
       "    }\n",
       "\n",
       "    .dataframe thead th {\n",
       "        text-align: right;\n",
       "    }\n",
       "</style>\n",
       "<table border=\"1\" class=\"dataframe\">\n",
       "  <thead>\n",
       "    <tr style=\"text-align: right;\">\n",
       "      <th></th>\n",
       "      <th>Pais_origem</th>\n",
       "      <th>Pais_destino</th>\n",
       "      <th>ano</th>\n",
       "      <th>Quantidade</th>\n",
       "      <th>Valor</th>\n",
       "    </tr>\n",
       "  </thead>\n",
       "  <tbody>\n",
       "    <tr>\n",
       "      <th>0</th>\n",
       "      <td>Brasil</td>\n",
       "      <td>Afeganistão</td>\n",
       "      <td>1970</td>\n",
       "      <td>0</td>\n",
       "      <td>0</td>\n",
       "    </tr>\n",
       "    <tr>\n",
       "      <th>1</th>\n",
       "      <td>Brasil</td>\n",
       "      <td>África do Sul</td>\n",
       "      <td>1970</td>\n",
       "      <td>0</td>\n",
       "      <td>0</td>\n",
       "    </tr>\n",
       "    <tr>\n",
       "      <th>2</th>\n",
       "      <td>Brasil</td>\n",
       "      <td>Alemanha, República Democrática</td>\n",
       "      <td>1970</td>\n",
       "      <td>0</td>\n",
       "      <td>0</td>\n",
       "    </tr>\n",
       "    <tr>\n",
       "      <th>3</th>\n",
       "      <td>Brasil</td>\n",
       "      <td>Angola</td>\n",
       "      <td>1970</td>\n",
       "      <td>0</td>\n",
       "      <td>0</td>\n",
       "    </tr>\n",
       "    <tr>\n",
       "      <th>4</th>\n",
       "      <td>Brasil</td>\n",
       "      <td>Anguilla</td>\n",
       "      <td>1970</td>\n",
       "      <td>0</td>\n",
       "      <td>0</td>\n",
       "    </tr>\n",
       "    <tr>\n",
       "      <th>...</th>\n",
       "      <td>...</td>\n",
       "      <td>...</td>\n",
       "      <td>...</td>\n",
       "      <td>...</td>\n",
       "      <td>...</td>\n",
       "    </tr>\n",
       "    <tr>\n",
       "      <th>6443</th>\n",
       "      <td>Brasil</td>\n",
       "      <td>Tuvalu</td>\n",
       "      <td>2021</td>\n",
       "      <td>0</td>\n",
       "      <td>0</td>\n",
       "    </tr>\n",
       "    <tr>\n",
       "      <th>6444</th>\n",
       "      <td>Brasil</td>\n",
       "      <td>Uruguai</td>\n",
       "      <td>2021</td>\n",
       "      <td>136774</td>\n",
       "      <td>149842</td>\n",
       "    </tr>\n",
       "    <tr>\n",
       "      <th>6445</th>\n",
       "      <td>Brasil</td>\n",
       "      <td>Vanuatu</td>\n",
       "      <td>2021</td>\n",
       "      <td>0</td>\n",
       "      <td>0</td>\n",
       "    </tr>\n",
       "    <tr>\n",
       "      <th>6446</th>\n",
       "      <td>Brasil</td>\n",
       "      <td>Venezuela</td>\n",
       "      <td>2021</td>\n",
       "      <td>26415</td>\n",
       "      <td>35944</td>\n",
       "    </tr>\n",
       "    <tr>\n",
       "      <th>6447</th>\n",
       "      <td>Brasil</td>\n",
       "      <td>Vietnã</td>\n",
       "      <td>2021</td>\n",
       "      <td>0</td>\n",
       "      <td>0</td>\n",
       "    </tr>\n",
       "  </tbody>\n",
       "</table>\n",
       "<p>6448 rows × 5 columns</p>\n",
       "</div>"
      ],
      "text/plain": [
       "     Pais_origem                     Pais_destino   ano  Quantidade   Valor\n",
       "0         Brasil                      Afeganistão  1970           0       0\n",
       "1         Brasil                    África do Sul  1970           0       0\n",
       "2         Brasil  Alemanha, República Democrática  1970           0       0\n",
       "3         Brasil                           Angola  1970           0       0\n",
       "4         Brasil                         Anguilla  1970           0       0\n",
       "...          ...                              ...   ...         ...     ...\n",
       "6443      Brasil                           Tuvalu  2021           0       0\n",
       "6444      Brasil                          Uruguai  2021      136774  149842\n",
       "6445      Brasil                          Vanuatu  2021           0       0\n",
       "6446      Brasil                        Venezuela  2021       26415   35944\n",
       "6447      Brasil                           Vietnã  2021           0       0\n",
       "\n",
       "[6448 rows x 5 columns]"
      ]
     },
     "execution_count": 12,
     "metadata": {},
     "output_type": "execute_result"
    }
   ],
   "source": [
    "dataset_unpivot = pd.merge(\n",
    "    dataset_quantidade_unpivot,\n",
    "    dataset_valor_unpivot,\n",
    "    left_on=['Pais_origem', 'Pais_destino', 'ano'],\n",
    "    right_on=['Pais_origem', 'Pais_destino', 'ano'])\n",
    "dataset_unpivot"
   ]
  },
  {
   "cell_type": "code",
   "execution_count": 13,
   "metadata": {},
   "outputs": [
    {
     "data": {
      "text/plain": [
       "array([2007, 2008, 2009, 2010, 2011, 2012, 2013, 2014, 2015, 2016, 2017,\n",
       "       2018, 2019, 2020, 2021], dtype=int32)"
      ]
     },
     "execution_count": 13,
     "metadata": {},
     "output_type": "execute_result"
    }
   ],
   "source": [
    "dataset_periodo = dataset_unpivot.query(\"ano >= 2007\")\n",
    "dataset_periodo.ano.unique()"
   ]
  },
  {
   "cell_type": "code",
   "execution_count": 14,
   "metadata": {},
   "outputs": [
    {
     "data": {
      "text/html": [
       "<div>\n",
       "<style scoped>\n",
       "    .dataframe tbody tr th:only-of-type {\n",
       "        vertical-align: middle;\n",
       "    }\n",
       "\n",
       "    .dataframe tbody tr th {\n",
       "        vertical-align: top;\n",
       "    }\n",
       "\n",
       "    .dataframe thead th {\n",
       "        text-align: right;\n",
       "    }\n",
       "</style>\n",
       "<table border=\"1\" class=\"dataframe\">\n",
       "  <thead>\n",
       "    <tr style=\"text-align: right;\">\n",
       "      <th></th>\n",
       "      <th>Pais_origem</th>\n",
       "      <th>Pais_destino</th>\n",
       "      <th>ano</th>\n",
       "      <th>Quantidade</th>\n",
       "      <th>Valor</th>\n",
       "    </tr>\n",
       "  </thead>\n",
       "  <tbody>\n",
       "    <tr>\n",
       "      <th>4588</th>\n",
       "      <td>Brasil</td>\n",
       "      <td>Afeganistão</td>\n",
       "      <td>2007</td>\n",
       "      <td>0</td>\n",
       "      <td>0</td>\n",
       "    </tr>\n",
       "    <tr>\n",
       "      <th>4589</th>\n",
       "      <td>Brasil</td>\n",
       "      <td>África do Sul</td>\n",
       "      <td>2007</td>\n",
       "      <td>0</td>\n",
       "      <td>0</td>\n",
       "    </tr>\n",
       "    <tr>\n",
       "      <th>4590</th>\n",
       "      <td>Brasil</td>\n",
       "      <td>Alemanha, República Democrática</td>\n",
       "      <td>2007</td>\n",
       "      <td>119512</td>\n",
       "      <td>238052</td>\n",
       "    </tr>\n",
       "    <tr>\n",
       "      <th>4591</th>\n",
       "      <td>Brasil</td>\n",
       "      <td>Angola</td>\n",
       "      <td>2007</td>\n",
       "      <td>25931</td>\n",
       "      <td>49753</td>\n",
       "    </tr>\n",
       "    <tr>\n",
       "      <th>4592</th>\n",
       "      <td>Brasil</td>\n",
       "      <td>Anguilla</td>\n",
       "      <td>2007</td>\n",
       "      <td>0</td>\n",
       "      <td>0</td>\n",
       "    </tr>\n",
       "  </tbody>\n",
       "</table>\n",
       "</div>"
      ],
      "text/plain": [
       "     Pais_origem                     Pais_destino   ano  Quantidade   Valor\n",
       "4588      Brasil                      Afeganistão  2007           0       0\n",
       "4589      Brasil                    África do Sul  2007           0       0\n",
       "4590      Brasil  Alemanha, República Democrática  2007      119512  238052\n",
       "4591      Brasil                           Angola  2007       25931   49753\n",
       "4592      Brasil                         Anguilla  2007           0       0"
      ]
     },
     "execution_count": 14,
     "metadata": {},
     "output_type": "execute_result"
    }
   ],
   "source": [
    "dataset_periodo.head(5)"
   ]
  },
  {
   "cell_type": "code",
   "execution_count": 15,
   "metadata": {},
   "outputs": [
    {
     "data": {
      "text/html": [
       "<div>\n",
       "<style scoped>\n",
       "    .dataframe tbody tr th:only-of-type {\n",
       "        vertical-align: middle;\n",
       "    }\n",
       "\n",
       "    .dataframe tbody tr th {\n",
       "        vertical-align: top;\n",
       "    }\n",
       "\n",
       "    .dataframe thead th {\n",
       "        text-align: right;\n",
       "    }\n",
       "</style>\n",
       "<table border=\"1\" class=\"dataframe\">\n",
       "  <thead>\n",
       "    <tr style=\"text-align: right;\">\n",
       "      <th></th>\n",
       "      <th>Quantidade</th>\n",
       "      <th>Valor</th>\n",
       "    </tr>\n",
       "    <tr>\n",
       "      <th>ano</th>\n",
       "      <th></th>\n",
       "      <th></th>\n",
       "    </tr>\n",
       "  </thead>\n",
       "  <tbody>\n",
       "    <tr>\n",
       "      <th>2007</th>\n",
       "      <td>3281752</td>\n",
       "      <td>3686150</td>\n",
       "    </tr>\n",
       "    <tr>\n",
       "      <th>2008</th>\n",
       "      <td>10346323</td>\n",
       "      <td>7118100</td>\n",
       "    </tr>\n",
       "    <tr>\n",
       "      <th>2009</th>\n",
       "      <td>25514198</td>\n",
       "      <td>8940988</td>\n",
       "    </tr>\n",
       "    <tr>\n",
       "      <th>2010</th>\n",
       "      <td>1280574</td>\n",
       "      <td>2595303</td>\n",
       "    </tr>\n",
       "    <tr>\n",
       "      <th>2011</th>\n",
       "      <td>1214834</td>\n",
       "      <td>3615120</td>\n",
       "    </tr>\n",
       "  </tbody>\n",
       "</table>\n",
       "</div>"
      ],
      "text/plain": [
       "      Quantidade    Valor\n",
       "ano                      \n",
       "2007     3281752  3686150\n",
       "2008    10346323  7118100\n",
       "2009    25514198  8940988\n",
       "2010     1280574  2595303\n",
       "2011     1214834  3615120"
      ]
     },
     "execution_count": 15,
     "metadata": {},
     "output_type": "execute_result"
    }
   ],
   "source": [
    "total_ano = dataset_periodo.groupby('ano').sum()\n",
    "total_ano = total_ano.iloc[:,2:4]\n",
    "total_ano.head()"
   ]
  },
  {
   "attachments": {},
   "cell_type": "markdown",
   "metadata": {},
   "source": [
    "# Criar tabela com itens de \"a\" até \"d\""
   ]
  },
  {
   "cell_type": "code",
   "execution_count": 16,
   "metadata": {},
   "outputs": [
    {
     "data": {
      "text/html": [
       "<div>\n",
       "<style scoped>\n",
       "    .dataframe tbody tr th:only-of-type {\n",
       "        vertical-align: middle;\n",
       "    }\n",
       "\n",
       "    .dataframe tbody tr th {\n",
       "        vertical-align: top;\n",
       "    }\n",
       "\n",
       "    .dataframe thead th {\n",
       "        text-align: right;\n",
       "    }\n",
       "</style>\n",
       "<table border=\"1\" class=\"dataframe\">\n",
       "  <thead>\n",
       "    <tr style=\"text-align: right;\">\n",
       "      <th></th>\n",
       "      <th>Pais_destino</th>\n",
       "      <th>Pais_origem</th>\n",
       "      <th>Quantidade</th>\n",
       "      <th>Valor</th>\n",
       "    </tr>\n",
       "  </thead>\n",
       "  <tbody>\n",
       "    <tr>\n",
       "      <th>0</th>\n",
       "      <td>Rússia</td>\n",
       "      <td>Brasil</td>\n",
       "      <td>39230153</td>\n",
       "      <td>25559026</td>\n",
       "    </tr>\n",
       "    <tr>\n",
       "      <th>1</th>\n",
       "      <td>Paraguai</td>\n",
       "      <td>Brasil</td>\n",
       "      <td>25423559</td>\n",
       "      <td>32364257</td>\n",
       "    </tr>\n",
       "    <tr>\n",
       "      <th>2</th>\n",
       "      <td>Estados Unidos</td>\n",
       "      <td>Brasil</td>\n",
       "      <td>3822251</td>\n",
       "      <td>10046712</td>\n",
       "    </tr>\n",
       "    <tr>\n",
       "      <th>3</th>\n",
       "      <td>China</td>\n",
       "      <td>Brasil</td>\n",
       "      <td>2411701</td>\n",
       "      <td>4372268</td>\n",
       "    </tr>\n",
       "    <tr>\n",
       "      <th>4</th>\n",
       "      <td>Espanha</td>\n",
       "      <td>Brasil</td>\n",
       "      <td>1993000</td>\n",
       "      <td>3808552</td>\n",
       "    </tr>\n",
       "    <tr>\n",
       "      <th>...</th>\n",
       "      <td>...</td>\n",
       "      <td>...</td>\n",
       "      <td>...</td>\n",
       "      <td>...</td>\n",
       "    </tr>\n",
       "    <tr>\n",
       "      <th>119</th>\n",
       "      <td>Líbano</td>\n",
       "      <td>Brasil</td>\n",
       "      <td>0</td>\n",
       "      <td>0</td>\n",
       "    </tr>\n",
       "    <tr>\n",
       "      <th>120</th>\n",
       "      <td>Porto Rico</td>\n",
       "      <td>Brasil</td>\n",
       "      <td>0</td>\n",
       "      <td>0</td>\n",
       "    </tr>\n",
       "    <tr>\n",
       "      <th>121</th>\n",
       "      <td>Senegal</td>\n",
       "      <td>Brasil</td>\n",
       "      <td>0</td>\n",
       "      <td>0</td>\n",
       "    </tr>\n",
       "    <tr>\n",
       "      <th>122</th>\n",
       "      <td>Tanzânia</td>\n",
       "      <td>Brasil</td>\n",
       "      <td>0</td>\n",
       "      <td>0</td>\n",
       "    </tr>\n",
       "    <tr>\n",
       "      <th>123</th>\n",
       "      <td>Tunísia</td>\n",
       "      <td>Brasil</td>\n",
       "      <td>0</td>\n",
       "      <td>0</td>\n",
       "    </tr>\n",
       "  </tbody>\n",
       "</table>\n",
       "<p>124 rows × 4 columns</p>\n",
       "</div>"
      ],
      "text/plain": [
       "       Pais_destino Pais_origem  Quantidade     Valor\n",
       "0            Rússia      Brasil    39230153  25559026\n",
       "1          Paraguai      Brasil    25423559  32364257\n",
       "2    Estados Unidos      Brasil     3822251  10046712\n",
       "3             China      Brasil     2411701   4372268\n",
       "4           Espanha      Brasil     1993000   3808552\n",
       "..              ...         ...         ...       ...\n",
       "119          Líbano      Brasil           0         0\n",
       "120      Porto Rico      Brasil           0         0\n",
       "121         Senegal      Brasil           0         0\n",
       "122        Tanzânia      Brasil           0         0\n",
       "123         Tunísia      Brasil           0         0\n",
       "\n",
       "[124 rows x 4 columns]"
      ]
     },
     "execution_count": 16,
     "metadata": {},
     "output_type": "execute_result"
    }
   ],
   "source": [
    "total_pais = dataset_periodo.groupby(['Pais_destino', 'Pais_origem']).sum()\n",
    "total_pais = total_pais.iloc[:,:4].sort_values(by=['Quantidade', 'Valor'], ascending=False)\n",
    "total_pais.drop(columns=['ano'], inplace=True)\n",
    "total_pais.reset_index(inplace=True)\n",
    "total_pais"
   ]
  },
  {
   "attachments": {},
   "cell_type": "markdown",
   "metadata": {},
   "source": [
    "- fornecer o montante de venda de exportação dos últimos 15 anos\n",
    "- separando a analise por país\n",
    "- e trazendo quais as prospercções futuras e possíveis ações para uma melhoria nas exportações\n",
    "- Construa gráfico atraentes e que passem a ideia central para que os acionistas e invetidores possam seguir em frente com suas ações."
   ]
  },
  {
   "cell_type": "code",
   "execution_count": 17,
   "metadata": {},
   "outputs": [
    {
     "data": {
      "text/html": [
       "<div>\n",
       "<style scoped>\n",
       "    .dataframe tbody tr th:only-of-type {\n",
       "        vertical-align: middle;\n",
       "    }\n",
       "\n",
       "    .dataframe tbody tr th {\n",
       "        vertical-align: top;\n",
       "    }\n",
       "\n",
       "    .dataframe thead th {\n",
       "        text-align: right;\n",
       "    }\n",
       "</style>\n",
       "<table border=\"1\" class=\"dataframe\">\n",
       "  <thead>\n",
       "    <tr style=\"text-align: right;\">\n",
       "      <th></th>\n",
       "      <th></th>\n",
       "      <th></th>\n",
       "      <th>Quantidade</th>\n",
       "      <th>Valor</th>\n",
       "    </tr>\n",
       "    <tr>\n",
       "      <th>Pais_origem</th>\n",
       "      <th>Pais_destino</th>\n",
       "      <th>ano</th>\n",
       "      <th></th>\n",
       "      <th></th>\n",
       "    </tr>\n",
       "  </thead>\n",
       "  <tbody>\n",
       "    <tr>\n",
       "      <th rowspan=\"5\" valign=\"top\">Brasil</th>\n",
       "      <th rowspan=\"5\" valign=\"top\">Afeganistão</th>\n",
       "      <th>2007</th>\n",
       "      <td>0</td>\n",
       "      <td>0</td>\n",
       "    </tr>\n",
       "    <tr>\n",
       "      <th>2008</th>\n",
       "      <td>0</td>\n",
       "      <td>0</td>\n",
       "    </tr>\n",
       "    <tr>\n",
       "      <th>2009</th>\n",
       "      <td>0</td>\n",
       "      <td>0</td>\n",
       "    </tr>\n",
       "    <tr>\n",
       "      <th>2010</th>\n",
       "      <td>0</td>\n",
       "      <td>0</td>\n",
       "    </tr>\n",
       "    <tr>\n",
       "      <th>2011</th>\n",
       "      <td>0</td>\n",
       "      <td>0</td>\n",
       "    </tr>\n",
       "  </tbody>\n",
       "</table>\n",
       "</div>"
      ],
      "text/plain": [
       "                               Quantidade  Valor\n",
       "Pais_origem Pais_destino ano                    \n",
       "Brasil      Afeganistão  2007           0      0\n",
       "                         2008           0      0\n",
       "                         2009           0      0\n",
       "                         2010           0      0\n",
       "                         2011           0      0"
      ]
     },
     "execution_count": 17,
     "metadata": {},
     "output_type": "execute_result"
    }
   ],
   "source": [
    "total = dataset_periodo.groupby(['Pais_origem', 'Pais_destino', 'ano']).sum()\n",
    "total.head()"
   ]
  },
  {
   "cell_type": "code",
   "execution_count": 18,
   "metadata": {},
   "outputs": [
    {
     "data": {
      "text/html": [
       "<div>\n",
       "<style scoped>\n",
       "    .dataframe tbody tr th:only-of-type {\n",
       "        vertical-align: middle;\n",
       "    }\n",
       "\n",
       "    .dataframe tbody tr th {\n",
       "        vertical-align: top;\n",
       "    }\n",
       "\n",
       "    .dataframe thead th {\n",
       "        text-align: right;\n",
       "    }\n",
       "</style>\n",
       "<table border=\"1\" class=\"dataframe\">\n",
       "  <thead>\n",
       "    <tr style=\"text-align: right;\">\n",
       "      <th></th>\n",
       "      <th>Quantidade</th>\n",
       "      <th>Valor</th>\n",
       "    </tr>\n",
       "  </thead>\n",
       "  <tbody>\n",
       "    <tr>\n",
       "      <th>count</th>\n",
       "      <td>1860.0</td>\n",
       "      <td>1860.0</td>\n",
       "    </tr>\n",
       "    <tr>\n",
       "      <th>mean</th>\n",
       "      <td>45289.0</td>\n",
       "      <td>56659.0</td>\n",
       "    </tr>\n",
       "    <tr>\n",
       "      <th>std</th>\n",
       "      <td>597620.0</td>\n",
       "      <td>479032.0</td>\n",
       "    </tr>\n",
       "    <tr>\n",
       "      <th>min</th>\n",
       "      <td>0.0</td>\n",
       "      <td>0.0</td>\n",
       "    </tr>\n",
       "    <tr>\n",
       "      <th>25%</th>\n",
       "      <td>0.0</td>\n",
       "      <td>0.0</td>\n",
       "    </tr>\n",
       "    <tr>\n",
       "      <th>50%</th>\n",
       "      <td>0.0</td>\n",
       "      <td>0.0</td>\n",
       "    </tr>\n",
       "    <tr>\n",
       "      <th>75%</th>\n",
       "      <td>1013.0</td>\n",
       "      <td>4038.0</td>\n",
       "    </tr>\n",
       "    <tr>\n",
       "      <th>max</th>\n",
       "      <td>21912914.0</td>\n",
       "      <td>14795694.0</td>\n",
       "    </tr>\n",
       "  </tbody>\n",
       "</table>\n",
       "</div>"
      ],
      "text/plain": [
       "       Quantidade       Valor\n",
       "count      1860.0      1860.0\n",
       "mean      45289.0     56659.0\n",
       "std      597620.0    479032.0\n",
       "min           0.0         0.0\n",
       "25%           0.0         0.0\n",
       "50%           0.0         0.0\n",
       "75%        1013.0      4038.0\n",
       "max    21912914.0  14795694.0"
      ]
     },
     "execution_count": 18,
     "metadata": {},
     "output_type": "execute_result"
    }
   ],
   "source": [
    "dataset_periodo[['Quantidade', 'Valor']].describe().round()"
   ]
  },
  {
   "cell_type": "code",
   "execution_count": 19,
   "metadata": {},
   "outputs": [],
   "source": [
    "total_pais.replace('Alemanha, República Democrática', 'Alemanha', inplace=True)\n",
    "total_pais.replace('Taiwan (FORMOSA)', 'Taiwan', inplace=True)\n",
    "total_pais.replace('Tcheca, República', 'República Tcheca', inplace=True)"
   ]
  },
  {
   "cell_type": "code",
   "execution_count": 20,
   "metadata": {},
   "outputs": [
    {
     "data": {
      "text/html": [
       "<div>\n",
       "<style scoped>\n",
       "    .dataframe tbody tr th:only-of-type {\n",
       "        vertical-align: middle;\n",
       "    }\n",
       "\n",
       "    .dataframe tbody tr th {\n",
       "        vertical-align: top;\n",
       "    }\n",
       "\n",
       "    .dataframe thead th {\n",
       "        text-align: right;\n",
       "    }\n",
       "</style>\n",
       "<table border=\"1\" class=\"dataframe\">\n",
       "  <thead>\n",
       "    <tr style=\"text-align: right;\">\n",
       "      <th></th>\n",
       "      <th>Pais_destino</th>\n",
       "      <th>Pais_origem</th>\n",
       "      <th>Quantidade</th>\n",
       "      <th>Valor</th>\n",
       "      <th>Porcentagem_acumulada_valor</th>\n",
       "      <th>Porcentagem_acumulada_quantidade</th>\n",
       "    </tr>\n",
       "  </thead>\n",
       "  <tbody>\n",
       "    <tr>\n",
       "      <th>1</th>\n",
       "      <td>Paraguai</td>\n",
       "      <td>Brasil</td>\n",
       "      <td>25423559</td>\n",
       "      <td>32364257</td>\n",
       "      <td>30.710443</td>\n",
       "      <td>30.180558</td>\n",
       "    </tr>\n",
       "    <tr>\n",
       "      <th>0</th>\n",
       "      <td>Rússia</td>\n",
       "      <td>Brasil</td>\n",
       "      <td>39230153</td>\n",
       "      <td>25559026</td>\n",
       "      <td>54.963403</td>\n",
       "      <td>76.751060</td>\n",
       "    </tr>\n",
       "    <tr>\n",
       "      <th>2</th>\n",
       "      <td>Estados Unidos</td>\n",
       "      <td>Brasil</td>\n",
       "      <td>3822251</td>\n",
       "      <td>10046712</td>\n",
       "      <td>64.496728</td>\n",
       "      <td>81.288492</td>\n",
       "    </tr>\n",
       "    <tr>\n",
       "      <th>7</th>\n",
       "      <td>Reino Unido</td>\n",
       "      <td>Brasil</td>\n",
       "      <td>1305329</td>\n",
       "      <td>4717554</td>\n",
       "      <td>68.973214</td>\n",
       "      <td>82.838061</td>\n",
       "    </tr>\n",
       "    <tr>\n",
       "      <th>3</th>\n",
       "      <td>China</td>\n",
       "      <td>Brasil</td>\n",
       "      <td>2411701</td>\n",
       "      <td>4372268</td>\n",
       "      <td>73.122060</td>\n",
       "      <td>85.701015</td>\n",
       "    </tr>\n",
       "    <tr>\n",
       "      <th>...</th>\n",
       "      <td>...</td>\n",
       "      <td>...</td>\n",
       "      <td>...</td>\n",
       "      <td>...</td>\n",
       "      <td>...</td>\n",
       "      <td>...</td>\n",
       "    </tr>\n",
       "    <tr>\n",
       "      <th>118</th>\n",
       "      <td>Jamaica</td>\n",
       "      <td>Brasil</td>\n",
       "      <td>0</td>\n",
       "      <td>0</td>\n",
       "      <td>100.000000</td>\n",
       "      <td>100.000000</td>\n",
       "    </tr>\n",
       "    <tr>\n",
       "      <th>117</th>\n",
       "      <td>Iraque</td>\n",
       "      <td>Brasil</td>\n",
       "      <td>0</td>\n",
       "      <td>0</td>\n",
       "      <td>100.000000</td>\n",
       "      <td>100.000000</td>\n",
       "    </tr>\n",
       "    <tr>\n",
       "      <th>116</th>\n",
       "      <td>Ilhas Virgens</td>\n",
       "      <td>Brasil</td>\n",
       "      <td>0</td>\n",
       "      <td>0</td>\n",
       "      <td>100.000000</td>\n",
       "      <td>100.000000</td>\n",
       "    </tr>\n",
       "    <tr>\n",
       "      <th>114</th>\n",
       "      <td>Anguilla</td>\n",
       "      <td>Brasil</td>\n",
       "      <td>0</td>\n",
       "      <td>0</td>\n",
       "      <td>100.000000</td>\n",
       "      <td>100.000000</td>\n",
       "    </tr>\n",
       "    <tr>\n",
       "      <th>123</th>\n",
       "      <td>Tunísia</td>\n",
       "      <td>Brasil</td>\n",
       "      <td>0</td>\n",
       "      <td>0</td>\n",
       "      <td>100.000000</td>\n",
       "      <td>100.000000</td>\n",
       "    </tr>\n",
       "  </tbody>\n",
       "</table>\n",
       "<p>124 rows × 6 columns</p>\n",
       "</div>"
      ],
      "text/plain": [
       "       Pais_destino Pais_origem  Quantidade     Valor  \\\n",
       "1          Paraguai      Brasil    25423559  32364257   \n",
       "0            Rússia      Brasil    39230153  25559026   \n",
       "2    Estados Unidos      Brasil     3822251  10046712   \n",
       "7       Reino Unido      Brasil     1305329   4717554   \n",
       "3             China      Brasil     2411701   4372268   \n",
       "..              ...         ...         ...       ...   \n",
       "118         Jamaica      Brasil           0         0   \n",
       "117          Iraque      Brasil           0         0   \n",
       "116   Ilhas Virgens      Brasil           0         0   \n",
       "114        Anguilla      Brasil           0         0   \n",
       "123         Tunísia      Brasil           0         0   \n",
       "\n",
       "     Porcentagem_acumulada_valor  Porcentagem_acumulada_quantidade  \n",
       "1                      30.710443                         30.180558  \n",
       "0                      54.963403                         76.751060  \n",
       "2                      64.496728                         81.288492  \n",
       "7                      68.973214                         82.838061  \n",
       "3                      73.122060                         85.701015  \n",
       "..                           ...                               ...  \n",
       "118                   100.000000                        100.000000  \n",
       "117                   100.000000                        100.000000  \n",
       "116                   100.000000                        100.000000  \n",
       "114                   100.000000                        100.000000  \n",
       "123                   100.000000                        100.000000  \n",
       "\n",
       "[124 rows x 6 columns]"
      ]
     },
     "execution_count": 20,
     "metadata": {},
     "output_type": "execute_result"
    }
   ],
   "source": [
    "total_pareto = total_pais.sort_values('Valor', ascending=False)\n",
    "total_pareto['Porcentagem_acumulada_valor'] = (total_pareto['Valor'].cumsum() / total_pareto['Valor'].sum()) * 100\n",
    "total_pareto['Porcentagem_acumulada_quantidade'] = (total_pareto['Quantidade'].cumsum() / total_pareto['Quantidade'].sum()) * 100\n",
    "total_pareto"
   ]
  },
  {
   "cell_type": "code",
   "execution_count": 21,
   "metadata": {},
   "outputs": [
    {
     "data": {
      "text/html": [
       "<div>\n",
       "<style scoped>\n",
       "    .dataframe tbody tr th:only-of-type {\n",
       "        vertical-align: middle;\n",
       "    }\n",
       "\n",
       "    .dataframe tbody tr th {\n",
       "        vertical-align: top;\n",
       "    }\n",
       "\n",
       "    .dataframe thead th {\n",
       "        text-align: right;\n",
       "    }\n",
       "</style>\n",
       "<table border=\"1\" class=\"dataframe\">\n",
       "  <thead>\n",
       "    <tr style=\"text-align: right;\">\n",
       "      <th></th>\n",
       "      <th>Pais_destino</th>\n",
       "      <th>Pais_origem</th>\n",
       "      <th>Quantidade</th>\n",
       "      <th>Valor</th>\n",
       "      <th>Porcentagem_acumulada_valor</th>\n",
       "      <th>Porcentagem_acumulada_quantidade</th>\n",
       "    </tr>\n",
       "  </thead>\n",
       "  <tbody>\n",
       "    <tr>\n",
       "      <th>1</th>\n",
       "      <td>Paraguai</td>\n",
       "      <td>Brasil</td>\n",
       "      <td>25423559</td>\n",
       "      <td>32364257</td>\n",
       "      <td>30.710443</td>\n",
       "      <td>30.180558</td>\n",
       "    </tr>\n",
       "    <tr>\n",
       "      <th>0</th>\n",
       "      <td>Rússia</td>\n",
       "      <td>Brasil</td>\n",
       "      <td>39230153</td>\n",
       "      <td>25559026</td>\n",
       "      <td>54.963403</td>\n",
       "      <td>76.751060</td>\n",
       "    </tr>\n",
       "    <tr>\n",
       "      <th>2</th>\n",
       "      <td>Estados Unidos</td>\n",
       "      <td>Brasil</td>\n",
       "      <td>3822251</td>\n",
       "      <td>10046712</td>\n",
       "      <td>64.496728</td>\n",
       "      <td>81.288492</td>\n",
       "    </tr>\n",
       "    <tr>\n",
       "      <th>7</th>\n",
       "      <td>Reino Unido</td>\n",
       "      <td>Brasil</td>\n",
       "      <td>1305329</td>\n",
       "      <td>4717554</td>\n",
       "      <td>68.973214</td>\n",
       "      <td>82.838061</td>\n",
       "    </tr>\n",
       "    <tr>\n",
       "      <th>3</th>\n",
       "      <td>China</td>\n",
       "      <td>Brasil</td>\n",
       "      <td>2411701</td>\n",
       "      <td>4372268</td>\n",
       "      <td>73.122060</td>\n",
       "      <td>85.701015</td>\n",
       "    </tr>\n",
       "    <tr>\n",
       "      <th>6</th>\n",
       "      <td>Países Baixos</td>\n",
       "      <td>Brasil</td>\n",
       "      <td>1410166</td>\n",
       "      <td>4119122</td>\n",
       "      <td>77.030694</td>\n",
       "      <td>87.375037</td>\n",
       "    </tr>\n",
       "    <tr>\n",
       "      <th>4</th>\n",
       "      <td>Espanha</td>\n",
       "      <td>Brasil</td>\n",
       "      <td>1993000</td>\n",
       "      <td>3808552</td>\n",
       "      <td>80.644629</td>\n",
       "      <td>89.740947</td>\n",
       "    </tr>\n",
       "  </tbody>\n",
       "</table>\n",
       "</div>"
      ],
      "text/plain": [
       "     Pais_destino Pais_origem  Quantidade     Valor  \\\n",
       "1        Paraguai      Brasil    25423559  32364257   \n",
       "0          Rússia      Brasil    39230153  25559026   \n",
       "2  Estados Unidos      Brasil     3822251  10046712   \n",
       "7     Reino Unido      Brasil     1305329   4717554   \n",
       "3           China      Brasil     2411701   4372268   \n",
       "6   Países Baixos      Brasil     1410166   4119122   \n",
       "4         Espanha      Brasil     1993000   3808552   \n",
       "\n",
       "   Porcentagem_acumulada_valor  Porcentagem_acumulada_quantidade  \n",
       "1                    30.710443                         30.180558  \n",
       "0                    54.963403                         76.751060  \n",
       "2                    64.496728                         81.288492  \n",
       "7                    68.973214                         82.838061  \n",
       "3                    73.122060                         85.701015  \n",
       "6                    77.030694                         87.375037  \n",
       "4                    80.644629                         89.740947  "
      ]
     },
     "execution_count": 21,
     "metadata": {},
     "output_type": "execute_result"
    }
   ],
   "source": [
    "total_pareto = total_pareto.query(\"Porcentagem_acumulada_valor < 81 or Porcentagem_acumulada_quantidade < 81\")\n",
    "total_pareto"
   ]
  },
  {
   "cell_type": "code",
   "execution_count": 22,
   "metadata": {},
   "outputs": [],
   "source": [
    "def plot_pareto(data, bar_x, bar_y, scatter_x, scatter_y, title, title_x, title_y, mean):\n",
    "    pareto = px.bar(\n",
    "        data,\n",
    "        x=bar_x,\n",
    "        y=bar_y,\n",
    "        color=bar_x,\n",
    "        title=bar_x,\n",
    "        color_discrete_sequence=px.colors.qualitative.T10,\n",
    "        template='plotly_white',\n",
    "        text_auto='.2s'\n",
    "    )\n",
    "    pareto.update_layout(\n",
    "        width=1300,\n",
    "        height=600\n",
    "    )\n",
    "    pareto.add_scatter(\n",
    "        x=data[scatter_x],\n",
    "        y=data[scatter_y], \n",
    "        mode='lines+text',\n",
    "        name='Porcentagem Acumulada',\n",
    "        text=[f'{x:.2f}' for x in data[scatter_y]],\n",
    "        textposition='top center',\n",
    "        yaxis='y2',\n",
    "        line={'color': 'red'}\n",
    "    )\n",
    "    pareto.update_layout(\n",
    "        title=title,\n",
    "        xaxis=dict(title=title_x),\n",
    "        yaxis=dict(title=title_y),\n",
    "        yaxis2=dict(title='Porcentagem Acumulada', overlaying='y', side='right', showgrid=False, range=[0, 100]),\n",
    "        legend=dict(orientation='h', yanchor='bottom', y=1.02, xanchor='right', x=1)\n",
    "    )\n",
    "    pareto.add_shape(\n",
    "        type='line',\n",
    "        x0=0,\n",
    "        x1=1,\n",
    "        y0=80,\n",
    "        y1=80,\n",
    "        line=dict(color='black', width=1),\n",
    "        xref='paper',\n",
    "        yref='y2'\n",
    "    )\n",
    "    pareto.add_shape(\n",
    "        type='line',\n",
    "        x0=0,\n",
    "        x1=7,\n",
    "        y0=mean,\n",
    "        y1=mean,\n",
    "        line=dict(color='blue', width=1)\n",
    "    )\n",
    "    pareto.add_annotation(\n",
    "        x=4.5,\n",
    "        y=total_pareto.Valor.mean(),\n",
    "        text= f\"Média: {mean / 1000000:.2f}M\",\n",
    "        showarrow=True,\n",
    "        arrowhead=1,\n",
    "        ax=40,\n",
    "        ay=-40,\n",
    "        xref='x',\n",
    "        font=dict(color='blue')\n",
    "    )\n",
    "    pareto.show()"
   ]
  },
  {
   "attachments": {},
   "cell_type": "markdown",
   "metadata": {},
   "source": [
    "## Gráfico de Pareto"
   ]
  },
  {
   "cell_type": "code",
   "execution_count": 23,
   "metadata": {},
   "outputs": [
    {
     "data": {
      "application/vnd.plotly.v1+json": {
       "config": {
        "plotlyServerURL": "https://plot.ly"
       },
       "data": [
        {
         "alignmentgroup": "True",
         "hovertemplate": "Pais_destino=%{x}<br>Valor=%{y}<extra></extra>",
         "legendgroup": "Paraguai",
         "marker": {
          "color": "#4C78A8",
          "pattern": {
           "shape": ""
          }
         },
         "name": "Paraguai",
         "offsetgroup": "Paraguai",
         "orientation": "v",
         "showlegend": true,
         "textposition": "auto",
         "texttemplate": "%{y:.2s}",
         "type": "bar",
         "x": [
          "Paraguai"
         ],
         "xaxis": "x",
         "y": [
          32364257
         ],
         "yaxis": "y"
        },
        {
         "alignmentgroup": "True",
         "hovertemplate": "Pais_destino=%{x}<br>Valor=%{y}<extra></extra>",
         "legendgroup": "Rússia",
         "marker": {
          "color": "#F58518",
          "pattern": {
           "shape": ""
          }
         },
         "name": "Rússia",
         "offsetgroup": "Rússia",
         "orientation": "v",
         "showlegend": true,
         "textposition": "auto",
         "texttemplate": "%{y:.2s}",
         "type": "bar",
         "x": [
          "Rússia"
         ],
         "xaxis": "x",
         "y": [
          25559026
         ],
         "yaxis": "y"
        },
        {
         "alignmentgroup": "True",
         "hovertemplate": "Pais_destino=%{x}<br>Valor=%{y}<extra></extra>",
         "legendgroup": "Estados Unidos",
         "marker": {
          "color": "#E45756",
          "pattern": {
           "shape": ""
          }
         },
         "name": "Estados Unidos",
         "offsetgroup": "Estados Unidos",
         "orientation": "v",
         "showlegend": true,
         "textposition": "auto",
         "texttemplate": "%{y:.2s}",
         "type": "bar",
         "x": [
          "Estados Unidos"
         ],
         "xaxis": "x",
         "y": [
          10046712
         ],
         "yaxis": "y"
        },
        {
         "alignmentgroup": "True",
         "hovertemplate": "Pais_destino=%{x}<br>Valor=%{y}<extra></extra>",
         "legendgroup": "Reino Unido",
         "marker": {
          "color": "#72B7B2",
          "pattern": {
           "shape": ""
          }
         },
         "name": "Reino Unido",
         "offsetgroup": "Reino Unido",
         "orientation": "v",
         "showlegend": true,
         "textposition": "auto",
         "texttemplate": "%{y:.2s}",
         "type": "bar",
         "x": [
          "Reino Unido"
         ],
         "xaxis": "x",
         "y": [
          4717554
         ],
         "yaxis": "y"
        },
        {
         "alignmentgroup": "True",
         "hovertemplate": "Pais_destino=%{x}<br>Valor=%{y}<extra></extra>",
         "legendgroup": "China",
         "marker": {
          "color": "#54A24B",
          "pattern": {
           "shape": ""
          }
         },
         "name": "China",
         "offsetgroup": "China",
         "orientation": "v",
         "showlegend": true,
         "textposition": "auto",
         "texttemplate": "%{y:.2s}",
         "type": "bar",
         "x": [
          "China"
         ],
         "xaxis": "x",
         "y": [
          4372268
         ],
         "yaxis": "y"
        },
        {
         "alignmentgroup": "True",
         "hovertemplate": "Pais_destino=%{x}<br>Valor=%{y}<extra></extra>",
         "legendgroup": "Países Baixos",
         "marker": {
          "color": "#EECA3B",
          "pattern": {
           "shape": ""
          }
         },
         "name": "Países Baixos",
         "offsetgroup": "Países Baixos",
         "orientation": "v",
         "showlegend": true,
         "textposition": "auto",
         "texttemplate": "%{y:.2s}",
         "type": "bar",
         "x": [
          "Países Baixos"
         ],
         "xaxis": "x",
         "y": [
          4119122
         ],
         "yaxis": "y"
        },
        {
         "alignmentgroup": "True",
         "hovertemplate": "Pais_destino=%{x}<br>Valor=%{y}<extra></extra>",
         "legendgroup": "Espanha",
         "marker": {
          "color": "#B279A2",
          "pattern": {
           "shape": ""
          }
         },
         "name": "Espanha",
         "offsetgroup": "Espanha",
         "orientation": "v",
         "showlegend": true,
         "textposition": "auto",
         "texttemplate": "%{y:.2s}",
         "type": "bar",
         "x": [
          "Espanha"
         ],
         "xaxis": "x",
         "y": [
          3808552
         ],
         "yaxis": "y"
        },
        {
         "line": {
          "color": "red"
         },
         "mode": "lines+text",
         "name": "Porcentagem Acumulada",
         "text": [
          "30.71",
          "54.96",
          "64.50",
          "68.97",
          "73.12",
          "77.03",
          "80.64"
         ],
         "textposition": "top center",
         "type": "scatter",
         "x": [
          "Paraguai",
          "Rússia",
          "Estados Unidos",
          "Reino Unido",
          "China",
          "Países Baixos",
          "Espanha"
         ],
         "y": [
          30.710443130222174,
          54.96340263542169,
          64.49672754758392,
          68.97321448905,
          73.12205954871227,
          77.03069437161109,
          80.64462932474454
         ],
         "yaxis": "y2"
        }
       ],
       "layout": {
        "annotations": [
         {
          "arrowhead": 1,
          "ax": 40,
          "ay": -40,
          "font": {
           "color": "blue"
          },
          "showarrow": true,
          "text": "Média: 12.14M",
          "x": 4.5,
          "xref": "x",
          "y": 12141070.142857144
         }
        ],
        "barmode": "relative",
        "height": 600,
        "legend": {
         "orientation": "h",
         "title": {
          "text": "Pais_destino"
         },
         "tracegroupgap": 0,
         "x": 1,
         "xanchor": "right",
         "y": 1.02,
         "yanchor": "bottom"
        },
        "shapes": [
         {
          "line": {
           "color": "black",
           "width": 1
          },
          "type": "line",
          "x0": 0,
          "x1": 1,
          "xref": "paper",
          "y0": 80,
          "y1": 80,
          "yref": "y2"
         },
         {
          "line": {
           "color": "blue",
           "width": 1
          },
          "type": "line",
          "x0": 0,
          "x1": 7,
          "y0": 12141070.142857144,
          "y1": 12141070.142857144
         }
        ],
        "template": {
         "data": {
          "bar": [
           {
            "error_x": {
             "color": "#2a3f5f"
            },
            "error_y": {
             "color": "#2a3f5f"
            },
            "marker": {
             "line": {
              "color": "white",
              "width": 0.5
             },
             "pattern": {
              "fillmode": "overlay",
              "size": 10,
              "solidity": 0.2
             }
            },
            "type": "bar"
           }
          ],
          "barpolar": [
           {
            "marker": {
             "line": {
              "color": "white",
              "width": 0.5
             },
             "pattern": {
              "fillmode": "overlay",
              "size": 10,
              "solidity": 0.2
             }
            },
            "type": "barpolar"
           }
          ],
          "carpet": [
           {
            "aaxis": {
             "endlinecolor": "#2a3f5f",
             "gridcolor": "#C8D4E3",
             "linecolor": "#C8D4E3",
             "minorgridcolor": "#C8D4E3",
             "startlinecolor": "#2a3f5f"
            },
            "baxis": {
             "endlinecolor": "#2a3f5f",
             "gridcolor": "#C8D4E3",
             "linecolor": "#C8D4E3",
             "minorgridcolor": "#C8D4E3",
             "startlinecolor": "#2a3f5f"
            },
            "type": "carpet"
           }
          ],
          "choropleth": [
           {
            "colorbar": {
             "outlinewidth": 0,
             "ticks": ""
            },
            "type": "choropleth"
           }
          ],
          "contour": [
           {
            "colorbar": {
             "outlinewidth": 0,
             "ticks": ""
            },
            "colorscale": [
             [
              0,
              "#0d0887"
             ],
             [
              0.1111111111111111,
              "#46039f"
             ],
             [
              0.2222222222222222,
              "#7201a8"
             ],
             [
              0.3333333333333333,
              "#9c179e"
             ],
             [
              0.4444444444444444,
              "#bd3786"
             ],
             [
              0.5555555555555556,
              "#d8576b"
             ],
             [
              0.6666666666666666,
              "#ed7953"
             ],
             [
              0.7777777777777778,
              "#fb9f3a"
             ],
             [
              0.8888888888888888,
              "#fdca26"
             ],
             [
              1,
              "#f0f921"
             ]
            ],
            "type": "contour"
           }
          ],
          "contourcarpet": [
           {
            "colorbar": {
             "outlinewidth": 0,
             "ticks": ""
            },
            "type": "contourcarpet"
           }
          ],
          "heatmap": [
           {
            "colorbar": {
             "outlinewidth": 0,
             "ticks": ""
            },
            "colorscale": [
             [
              0,
              "#0d0887"
             ],
             [
              0.1111111111111111,
              "#46039f"
             ],
             [
              0.2222222222222222,
              "#7201a8"
             ],
             [
              0.3333333333333333,
              "#9c179e"
             ],
             [
              0.4444444444444444,
              "#bd3786"
             ],
             [
              0.5555555555555556,
              "#d8576b"
             ],
             [
              0.6666666666666666,
              "#ed7953"
             ],
             [
              0.7777777777777778,
              "#fb9f3a"
             ],
             [
              0.8888888888888888,
              "#fdca26"
             ],
             [
              1,
              "#f0f921"
             ]
            ],
            "type": "heatmap"
           }
          ],
          "heatmapgl": [
           {
            "colorbar": {
             "outlinewidth": 0,
             "ticks": ""
            },
            "colorscale": [
             [
              0,
              "#0d0887"
             ],
             [
              0.1111111111111111,
              "#46039f"
             ],
             [
              0.2222222222222222,
              "#7201a8"
             ],
             [
              0.3333333333333333,
              "#9c179e"
             ],
             [
              0.4444444444444444,
              "#bd3786"
             ],
             [
              0.5555555555555556,
              "#d8576b"
             ],
             [
              0.6666666666666666,
              "#ed7953"
             ],
             [
              0.7777777777777778,
              "#fb9f3a"
             ],
             [
              0.8888888888888888,
              "#fdca26"
             ],
             [
              1,
              "#f0f921"
             ]
            ],
            "type": "heatmapgl"
           }
          ],
          "histogram": [
           {
            "marker": {
             "pattern": {
              "fillmode": "overlay",
              "size": 10,
              "solidity": 0.2
             }
            },
            "type": "histogram"
           }
          ],
          "histogram2d": [
           {
            "colorbar": {
             "outlinewidth": 0,
             "ticks": ""
            },
            "colorscale": [
             [
              0,
              "#0d0887"
             ],
             [
              0.1111111111111111,
              "#46039f"
             ],
             [
              0.2222222222222222,
              "#7201a8"
             ],
             [
              0.3333333333333333,
              "#9c179e"
             ],
             [
              0.4444444444444444,
              "#bd3786"
             ],
             [
              0.5555555555555556,
              "#d8576b"
             ],
             [
              0.6666666666666666,
              "#ed7953"
             ],
             [
              0.7777777777777778,
              "#fb9f3a"
             ],
             [
              0.8888888888888888,
              "#fdca26"
             ],
             [
              1,
              "#f0f921"
             ]
            ],
            "type": "histogram2d"
           }
          ],
          "histogram2dcontour": [
           {
            "colorbar": {
             "outlinewidth": 0,
             "ticks": ""
            },
            "colorscale": [
             [
              0,
              "#0d0887"
             ],
             [
              0.1111111111111111,
              "#46039f"
             ],
             [
              0.2222222222222222,
              "#7201a8"
             ],
             [
              0.3333333333333333,
              "#9c179e"
             ],
             [
              0.4444444444444444,
              "#bd3786"
             ],
             [
              0.5555555555555556,
              "#d8576b"
             ],
             [
              0.6666666666666666,
              "#ed7953"
             ],
             [
              0.7777777777777778,
              "#fb9f3a"
             ],
             [
              0.8888888888888888,
              "#fdca26"
             ],
             [
              1,
              "#f0f921"
             ]
            ],
            "type": "histogram2dcontour"
           }
          ],
          "mesh3d": [
           {
            "colorbar": {
             "outlinewidth": 0,
             "ticks": ""
            },
            "type": "mesh3d"
           }
          ],
          "parcoords": [
           {
            "line": {
             "colorbar": {
              "outlinewidth": 0,
              "ticks": ""
             }
            },
            "type": "parcoords"
           }
          ],
          "pie": [
           {
            "automargin": true,
            "type": "pie"
           }
          ],
          "scatter": [
           {
            "fillpattern": {
             "fillmode": "overlay",
             "size": 10,
             "solidity": 0.2
            },
            "type": "scatter"
           }
          ],
          "scatter3d": [
           {
            "line": {
             "colorbar": {
              "outlinewidth": 0,
              "ticks": ""
             }
            },
            "marker": {
             "colorbar": {
              "outlinewidth": 0,
              "ticks": ""
             }
            },
            "type": "scatter3d"
           }
          ],
          "scattercarpet": [
           {
            "marker": {
             "colorbar": {
              "outlinewidth": 0,
              "ticks": ""
             }
            },
            "type": "scattercarpet"
           }
          ],
          "scattergeo": [
           {
            "marker": {
             "colorbar": {
              "outlinewidth": 0,
              "ticks": ""
             }
            },
            "type": "scattergeo"
           }
          ],
          "scattergl": [
           {
            "marker": {
             "colorbar": {
              "outlinewidth": 0,
              "ticks": ""
             }
            },
            "type": "scattergl"
           }
          ],
          "scattermapbox": [
           {
            "marker": {
             "colorbar": {
              "outlinewidth": 0,
              "ticks": ""
             }
            },
            "type": "scattermapbox"
           }
          ],
          "scatterpolar": [
           {
            "marker": {
             "colorbar": {
              "outlinewidth": 0,
              "ticks": ""
             }
            },
            "type": "scatterpolar"
           }
          ],
          "scatterpolargl": [
           {
            "marker": {
             "colorbar": {
              "outlinewidth": 0,
              "ticks": ""
             }
            },
            "type": "scatterpolargl"
           }
          ],
          "scatterternary": [
           {
            "marker": {
             "colorbar": {
              "outlinewidth": 0,
              "ticks": ""
             }
            },
            "type": "scatterternary"
           }
          ],
          "surface": [
           {
            "colorbar": {
             "outlinewidth": 0,
             "ticks": ""
            },
            "colorscale": [
             [
              0,
              "#0d0887"
             ],
             [
              0.1111111111111111,
              "#46039f"
             ],
             [
              0.2222222222222222,
              "#7201a8"
             ],
             [
              0.3333333333333333,
              "#9c179e"
             ],
             [
              0.4444444444444444,
              "#bd3786"
             ],
             [
              0.5555555555555556,
              "#d8576b"
             ],
             [
              0.6666666666666666,
              "#ed7953"
             ],
             [
              0.7777777777777778,
              "#fb9f3a"
             ],
             [
              0.8888888888888888,
              "#fdca26"
             ],
             [
              1,
              "#f0f921"
             ]
            ],
            "type": "surface"
           }
          ],
          "table": [
           {
            "cells": {
             "fill": {
              "color": "#EBF0F8"
             },
             "line": {
              "color": "white"
             }
            },
            "header": {
             "fill": {
              "color": "#C8D4E3"
             },
             "line": {
              "color": "white"
             }
            },
            "type": "table"
           }
          ]
         },
         "layout": {
          "annotationdefaults": {
           "arrowcolor": "#2a3f5f",
           "arrowhead": 0,
           "arrowwidth": 1
          },
          "autotypenumbers": "strict",
          "coloraxis": {
           "colorbar": {
            "outlinewidth": 0,
            "ticks": ""
           }
          },
          "colorscale": {
           "diverging": [
            [
             0,
             "#8e0152"
            ],
            [
             0.1,
             "#c51b7d"
            ],
            [
             0.2,
             "#de77ae"
            ],
            [
             0.3,
             "#f1b6da"
            ],
            [
             0.4,
             "#fde0ef"
            ],
            [
             0.5,
             "#f7f7f7"
            ],
            [
             0.6,
             "#e6f5d0"
            ],
            [
             0.7,
             "#b8e186"
            ],
            [
             0.8,
             "#7fbc41"
            ],
            [
             0.9,
             "#4d9221"
            ],
            [
             1,
             "#276419"
            ]
           ],
           "sequential": [
            [
             0,
             "#0d0887"
            ],
            [
             0.1111111111111111,
             "#46039f"
            ],
            [
             0.2222222222222222,
             "#7201a8"
            ],
            [
             0.3333333333333333,
             "#9c179e"
            ],
            [
             0.4444444444444444,
             "#bd3786"
            ],
            [
             0.5555555555555556,
             "#d8576b"
            ],
            [
             0.6666666666666666,
             "#ed7953"
            ],
            [
             0.7777777777777778,
             "#fb9f3a"
            ],
            [
             0.8888888888888888,
             "#fdca26"
            ],
            [
             1,
             "#f0f921"
            ]
           ],
           "sequentialminus": [
            [
             0,
             "#0d0887"
            ],
            [
             0.1111111111111111,
             "#46039f"
            ],
            [
             0.2222222222222222,
             "#7201a8"
            ],
            [
             0.3333333333333333,
             "#9c179e"
            ],
            [
             0.4444444444444444,
             "#bd3786"
            ],
            [
             0.5555555555555556,
             "#d8576b"
            ],
            [
             0.6666666666666666,
             "#ed7953"
            ],
            [
             0.7777777777777778,
             "#fb9f3a"
            ],
            [
             0.8888888888888888,
             "#fdca26"
            ],
            [
             1,
             "#f0f921"
            ]
           ]
          },
          "colorway": [
           "#636efa",
           "#EF553B",
           "#00cc96",
           "#ab63fa",
           "#FFA15A",
           "#19d3f3",
           "#FF6692",
           "#B6E880",
           "#FF97FF",
           "#FECB52"
          ],
          "font": {
           "color": "#2a3f5f"
          },
          "geo": {
           "bgcolor": "white",
           "lakecolor": "white",
           "landcolor": "white",
           "showlakes": true,
           "showland": true,
           "subunitcolor": "#C8D4E3"
          },
          "hoverlabel": {
           "align": "left"
          },
          "hovermode": "closest",
          "mapbox": {
           "style": "light"
          },
          "paper_bgcolor": "white",
          "plot_bgcolor": "white",
          "polar": {
           "angularaxis": {
            "gridcolor": "#EBF0F8",
            "linecolor": "#EBF0F8",
            "ticks": ""
           },
           "bgcolor": "white",
           "radialaxis": {
            "gridcolor": "#EBF0F8",
            "linecolor": "#EBF0F8",
            "ticks": ""
           }
          },
          "scene": {
           "xaxis": {
            "backgroundcolor": "white",
            "gridcolor": "#DFE8F3",
            "gridwidth": 2,
            "linecolor": "#EBF0F8",
            "showbackground": true,
            "ticks": "",
            "zerolinecolor": "#EBF0F8"
           },
           "yaxis": {
            "backgroundcolor": "white",
            "gridcolor": "#DFE8F3",
            "gridwidth": 2,
            "linecolor": "#EBF0F8",
            "showbackground": true,
            "ticks": "",
            "zerolinecolor": "#EBF0F8"
           },
           "zaxis": {
            "backgroundcolor": "white",
            "gridcolor": "#DFE8F3",
            "gridwidth": 2,
            "linecolor": "#EBF0F8",
            "showbackground": true,
            "ticks": "",
            "zerolinecolor": "#EBF0F8"
           }
          },
          "shapedefaults": {
           "line": {
            "color": "#2a3f5f"
           }
          },
          "ternary": {
           "aaxis": {
            "gridcolor": "#DFE8F3",
            "linecolor": "#A2B1C6",
            "ticks": ""
           },
           "baxis": {
            "gridcolor": "#DFE8F3",
            "linecolor": "#A2B1C6",
            "ticks": ""
           },
           "bgcolor": "white",
           "caxis": {
            "gridcolor": "#DFE8F3",
            "linecolor": "#A2B1C6",
            "ticks": ""
           }
          },
          "title": {
           "x": 0.05
          },
          "xaxis": {
           "automargin": true,
           "gridcolor": "#EBF0F8",
           "linecolor": "#EBF0F8",
           "ticks": "",
           "title": {
            "standoff": 15
           },
           "zerolinecolor": "#EBF0F8",
           "zerolinewidth": 2
          },
          "yaxis": {
           "automargin": true,
           "gridcolor": "#EBF0F8",
           "linecolor": "#EBF0F8",
           "ticks": "",
           "title": {
            "standoff": 15
           },
           "zerolinecolor": "#EBF0F8",
           "zerolinewidth": 2
          }
         }
        },
        "title": {
         "text": "Gráfico de Pareto - Total de Vendas por País repensáveis por 80% da vendas no período"
        },
        "width": 1300,
        "xaxis": {
         "anchor": "y",
         "categoryarray": [
          "Paraguai",
          "Rússia",
          "Estados Unidos",
          "Reino Unido",
          "China",
          "Países Baixos",
          "Espanha"
         ],
         "categoryorder": "array",
         "domain": [
          0,
          1
         ],
         "title": {
          "text": "Países"
         }
        },
        "yaxis": {
         "anchor": "x",
         "domain": [
          0,
          1
         ],
         "title": {
          "text": "Vendas"
         }
        },
        "yaxis2": {
         "overlaying": "y",
         "range": [
          0,
          100
         ],
         "showgrid": false,
         "side": "right",
         "title": {
          "text": "Porcentagem Acumulada"
         }
        }
       }
      }
     },
     "metadata": {},
     "output_type": "display_data"
    }
   ],
   "source": [
    "plot_pareto(\n",
    "    total_pareto,\n",
    "    \"Pais_destino\",\n",
    "    \"Valor\",\n",
    "    \"Pais_destino\",\n",
    "    \"Porcentagem_acumulada_valor\",\n",
    "    \"Gráfico de Pareto - Total de Vendas por País repensáveis por 80% da vendas no período\",\n",
    "    \"Países\",\n",
    "    \"Vendas\",\n",
    "    total_pareto.Valor.mean()\n",
    ")"
   ]
  },
  {
   "attachments": {},
   "cell_type": "markdown",
   "metadata": {},
   "source": [
    "**Paraguai, Rússia, Estados Unidos, Reino Unido, China, Países Baixos e Espanha são responsáveis por 80% do total vendido**"
   ]
  },
  {
   "cell_type": "code",
   "execution_count": 24,
   "metadata": {},
   "outputs": [
    {
     "data": {
      "application/vnd.plotly.v1+json": {
       "config": {
        "plotlyServerURL": "https://plot.ly"
       },
       "data": [
        {
         "alignmentgroup": "True",
         "hovertemplate": "Pais_destino=%{x}<br>Quantidade=%{y}<extra></extra>",
         "legendgroup": "Paraguai",
         "marker": {
          "color": "#4C78A8",
          "pattern": {
           "shape": ""
          }
         },
         "name": "Paraguai",
         "offsetgroup": "Paraguai",
         "orientation": "v",
         "showlegend": true,
         "textposition": "auto",
         "texttemplate": "%{y:.2s}",
         "type": "bar",
         "x": [
          "Paraguai"
         ],
         "xaxis": "x",
         "y": [
          25423559
         ],
         "yaxis": "y"
        },
        {
         "alignmentgroup": "True",
         "hovertemplate": "Pais_destino=%{x}<br>Quantidade=%{y}<extra></extra>",
         "legendgroup": "Rússia",
         "marker": {
          "color": "#F58518",
          "pattern": {
           "shape": ""
          }
         },
         "name": "Rússia",
         "offsetgroup": "Rússia",
         "orientation": "v",
         "showlegend": true,
         "textposition": "auto",
         "texttemplate": "%{y:.2s}",
         "type": "bar",
         "x": [
          "Rússia"
         ],
         "xaxis": "x",
         "y": [
          39230153
         ],
         "yaxis": "y"
        },
        {
         "alignmentgroup": "True",
         "hovertemplate": "Pais_destino=%{x}<br>Quantidade=%{y}<extra></extra>",
         "legendgroup": "Estados Unidos",
         "marker": {
          "color": "#E45756",
          "pattern": {
           "shape": ""
          }
         },
         "name": "Estados Unidos",
         "offsetgroup": "Estados Unidos",
         "orientation": "v",
         "showlegend": true,
         "textposition": "auto",
         "texttemplate": "%{y:.2s}",
         "type": "bar",
         "x": [
          "Estados Unidos"
         ],
         "xaxis": "x",
         "y": [
          3822251
         ],
         "yaxis": "y"
        },
        {
         "alignmentgroup": "True",
         "hovertemplate": "Pais_destino=%{x}<br>Quantidade=%{y}<extra></extra>",
         "legendgroup": "Reino Unido",
         "marker": {
          "color": "#72B7B2",
          "pattern": {
           "shape": ""
          }
         },
         "name": "Reino Unido",
         "offsetgroup": "Reino Unido",
         "orientation": "v",
         "showlegend": true,
         "textposition": "auto",
         "texttemplate": "%{y:.2s}",
         "type": "bar",
         "x": [
          "Reino Unido"
         ],
         "xaxis": "x",
         "y": [
          1305329
         ],
         "yaxis": "y"
        },
        {
         "alignmentgroup": "True",
         "hovertemplate": "Pais_destino=%{x}<br>Quantidade=%{y}<extra></extra>",
         "legendgroup": "China",
         "marker": {
          "color": "#54A24B",
          "pattern": {
           "shape": ""
          }
         },
         "name": "China",
         "offsetgroup": "China",
         "orientation": "v",
         "showlegend": true,
         "textposition": "auto",
         "texttemplate": "%{y:.2s}",
         "type": "bar",
         "x": [
          "China"
         ],
         "xaxis": "x",
         "y": [
          2411701
         ],
         "yaxis": "y"
        },
        {
         "alignmentgroup": "True",
         "hovertemplate": "Pais_destino=%{x}<br>Quantidade=%{y}<extra></extra>",
         "legendgroup": "Países Baixos",
         "marker": {
          "color": "#EECA3B",
          "pattern": {
           "shape": ""
          }
         },
         "name": "Países Baixos",
         "offsetgroup": "Países Baixos",
         "orientation": "v",
         "showlegend": true,
         "textposition": "auto",
         "texttemplate": "%{y:.2s}",
         "type": "bar",
         "x": [
          "Países Baixos"
         ],
         "xaxis": "x",
         "y": [
          1410166
         ],
         "yaxis": "y"
        },
        {
         "alignmentgroup": "True",
         "hovertemplate": "Pais_destino=%{x}<br>Quantidade=%{y}<extra></extra>",
         "legendgroup": "Espanha",
         "marker": {
          "color": "#B279A2",
          "pattern": {
           "shape": ""
          }
         },
         "name": "Espanha",
         "offsetgroup": "Espanha",
         "orientation": "v",
         "showlegend": true,
         "textposition": "auto",
         "texttemplate": "%{y:.2s}",
         "type": "bar",
         "x": [
          "Espanha"
         ],
         "xaxis": "x",
         "y": [
          1993000
         ],
         "yaxis": "y"
        },
        {
         "line": {
          "color": "red"
         },
         "mode": "lines+text",
         "name": "Porcentagem Acumulada",
         "text": [
          "30.18",
          "76.75",
          "81.29",
          "82.84",
          "85.70",
          "87.38",
          "89.74"
         ],
         "textposition": "top center",
         "type": "scatter",
         "x": [
          "Paraguai",
          "Rússia",
          "Estados Unidos",
          "Reino Unido",
          "China",
          "Países Baixos",
          "Espanha"
         ],
         "y": [
          30.180557868276413,
          76.75105977156373,
          81.28849166662522,
          82.83806060863051,
          85.70101467385327,
          87.37503665350118,
          89.74094662824055
         ],
         "yaxis": "y2"
        }
       ],
       "layout": {
        "annotations": [
         {
          "arrowhead": 1,
          "ax": 40,
          "ay": -40,
          "font": {
           "color": "blue"
          },
          "showarrow": true,
          "text": "Média: 10.80M",
          "x": 4.5,
          "xref": "x",
          "y": 12141070.142857144
         }
        ],
        "barmode": "relative",
        "height": 600,
        "legend": {
         "orientation": "h",
         "title": {
          "text": "Pais_destino"
         },
         "tracegroupgap": 0,
         "x": 1,
         "xanchor": "right",
         "y": 1.02,
         "yanchor": "bottom"
        },
        "shapes": [
         {
          "line": {
           "color": "black",
           "width": 1
          },
          "type": "line",
          "x0": 0,
          "x1": 1,
          "xref": "paper",
          "y0": 80,
          "y1": 80,
          "yref": "y2"
         },
         {
          "line": {
           "color": "blue",
           "width": 1
          },
          "type": "line",
          "x0": 0,
          "x1": 7,
          "y0": 10799451.285714285,
          "y1": 10799451.285714285
         }
        ],
        "template": {
         "data": {
          "bar": [
           {
            "error_x": {
             "color": "#2a3f5f"
            },
            "error_y": {
             "color": "#2a3f5f"
            },
            "marker": {
             "line": {
              "color": "white",
              "width": 0.5
             },
             "pattern": {
              "fillmode": "overlay",
              "size": 10,
              "solidity": 0.2
             }
            },
            "type": "bar"
           }
          ],
          "barpolar": [
           {
            "marker": {
             "line": {
              "color": "white",
              "width": 0.5
             },
             "pattern": {
              "fillmode": "overlay",
              "size": 10,
              "solidity": 0.2
             }
            },
            "type": "barpolar"
           }
          ],
          "carpet": [
           {
            "aaxis": {
             "endlinecolor": "#2a3f5f",
             "gridcolor": "#C8D4E3",
             "linecolor": "#C8D4E3",
             "minorgridcolor": "#C8D4E3",
             "startlinecolor": "#2a3f5f"
            },
            "baxis": {
             "endlinecolor": "#2a3f5f",
             "gridcolor": "#C8D4E3",
             "linecolor": "#C8D4E3",
             "minorgridcolor": "#C8D4E3",
             "startlinecolor": "#2a3f5f"
            },
            "type": "carpet"
           }
          ],
          "choropleth": [
           {
            "colorbar": {
             "outlinewidth": 0,
             "ticks": ""
            },
            "type": "choropleth"
           }
          ],
          "contour": [
           {
            "colorbar": {
             "outlinewidth": 0,
             "ticks": ""
            },
            "colorscale": [
             [
              0,
              "#0d0887"
             ],
             [
              0.1111111111111111,
              "#46039f"
             ],
             [
              0.2222222222222222,
              "#7201a8"
             ],
             [
              0.3333333333333333,
              "#9c179e"
             ],
             [
              0.4444444444444444,
              "#bd3786"
             ],
             [
              0.5555555555555556,
              "#d8576b"
             ],
             [
              0.6666666666666666,
              "#ed7953"
             ],
             [
              0.7777777777777778,
              "#fb9f3a"
             ],
             [
              0.8888888888888888,
              "#fdca26"
             ],
             [
              1,
              "#f0f921"
             ]
            ],
            "type": "contour"
           }
          ],
          "contourcarpet": [
           {
            "colorbar": {
             "outlinewidth": 0,
             "ticks": ""
            },
            "type": "contourcarpet"
           }
          ],
          "heatmap": [
           {
            "colorbar": {
             "outlinewidth": 0,
             "ticks": ""
            },
            "colorscale": [
             [
              0,
              "#0d0887"
             ],
             [
              0.1111111111111111,
              "#46039f"
             ],
             [
              0.2222222222222222,
              "#7201a8"
             ],
             [
              0.3333333333333333,
              "#9c179e"
             ],
             [
              0.4444444444444444,
              "#bd3786"
             ],
             [
              0.5555555555555556,
              "#d8576b"
             ],
             [
              0.6666666666666666,
              "#ed7953"
             ],
             [
              0.7777777777777778,
              "#fb9f3a"
             ],
             [
              0.8888888888888888,
              "#fdca26"
             ],
             [
              1,
              "#f0f921"
             ]
            ],
            "type": "heatmap"
           }
          ],
          "heatmapgl": [
           {
            "colorbar": {
             "outlinewidth": 0,
             "ticks": ""
            },
            "colorscale": [
             [
              0,
              "#0d0887"
             ],
             [
              0.1111111111111111,
              "#46039f"
             ],
             [
              0.2222222222222222,
              "#7201a8"
             ],
             [
              0.3333333333333333,
              "#9c179e"
             ],
             [
              0.4444444444444444,
              "#bd3786"
             ],
             [
              0.5555555555555556,
              "#d8576b"
             ],
             [
              0.6666666666666666,
              "#ed7953"
             ],
             [
              0.7777777777777778,
              "#fb9f3a"
             ],
             [
              0.8888888888888888,
              "#fdca26"
             ],
             [
              1,
              "#f0f921"
             ]
            ],
            "type": "heatmapgl"
           }
          ],
          "histogram": [
           {
            "marker": {
             "pattern": {
              "fillmode": "overlay",
              "size": 10,
              "solidity": 0.2
             }
            },
            "type": "histogram"
           }
          ],
          "histogram2d": [
           {
            "colorbar": {
             "outlinewidth": 0,
             "ticks": ""
            },
            "colorscale": [
             [
              0,
              "#0d0887"
             ],
             [
              0.1111111111111111,
              "#46039f"
             ],
             [
              0.2222222222222222,
              "#7201a8"
             ],
             [
              0.3333333333333333,
              "#9c179e"
             ],
             [
              0.4444444444444444,
              "#bd3786"
             ],
             [
              0.5555555555555556,
              "#d8576b"
             ],
             [
              0.6666666666666666,
              "#ed7953"
             ],
             [
              0.7777777777777778,
              "#fb9f3a"
             ],
             [
              0.8888888888888888,
              "#fdca26"
             ],
             [
              1,
              "#f0f921"
             ]
            ],
            "type": "histogram2d"
           }
          ],
          "histogram2dcontour": [
           {
            "colorbar": {
             "outlinewidth": 0,
             "ticks": ""
            },
            "colorscale": [
             [
              0,
              "#0d0887"
             ],
             [
              0.1111111111111111,
              "#46039f"
             ],
             [
              0.2222222222222222,
              "#7201a8"
             ],
             [
              0.3333333333333333,
              "#9c179e"
             ],
             [
              0.4444444444444444,
              "#bd3786"
             ],
             [
              0.5555555555555556,
              "#d8576b"
             ],
             [
              0.6666666666666666,
              "#ed7953"
             ],
             [
              0.7777777777777778,
              "#fb9f3a"
             ],
             [
              0.8888888888888888,
              "#fdca26"
             ],
             [
              1,
              "#f0f921"
             ]
            ],
            "type": "histogram2dcontour"
           }
          ],
          "mesh3d": [
           {
            "colorbar": {
             "outlinewidth": 0,
             "ticks": ""
            },
            "type": "mesh3d"
           }
          ],
          "parcoords": [
           {
            "line": {
             "colorbar": {
              "outlinewidth": 0,
              "ticks": ""
             }
            },
            "type": "parcoords"
           }
          ],
          "pie": [
           {
            "automargin": true,
            "type": "pie"
           }
          ],
          "scatter": [
           {
            "fillpattern": {
             "fillmode": "overlay",
             "size": 10,
             "solidity": 0.2
            },
            "type": "scatter"
           }
          ],
          "scatter3d": [
           {
            "line": {
             "colorbar": {
              "outlinewidth": 0,
              "ticks": ""
             }
            },
            "marker": {
             "colorbar": {
              "outlinewidth": 0,
              "ticks": ""
             }
            },
            "type": "scatter3d"
           }
          ],
          "scattercarpet": [
           {
            "marker": {
             "colorbar": {
              "outlinewidth": 0,
              "ticks": ""
             }
            },
            "type": "scattercarpet"
           }
          ],
          "scattergeo": [
           {
            "marker": {
             "colorbar": {
              "outlinewidth": 0,
              "ticks": ""
             }
            },
            "type": "scattergeo"
           }
          ],
          "scattergl": [
           {
            "marker": {
             "colorbar": {
              "outlinewidth": 0,
              "ticks": ""
             }
            },
            "type": "scattergl"
           }
          ],
          "scattermapbox": [
           {
            "marker": {
             "colorbar": {
              "outlinewidth": 0,
              "ticks": ""
             }
            },
            "type": "scattermapbox"
           }
          ],
          "scatterpolar": [
           {
            "marker": {
             "colorbar": {
              "outlinewidth": 0,
              "ticks": ""
             }
            },
            "type": "scatterpolar"
           }
          ],
          "scatterpolargl": [
           {
            "marker": {
             "colorbar": {
              "outlinewidth": 0,
              "ticks": ""
             }
            },
            "type": "scatterpolargl"
           }
          ],
          "scatterternary": [
           {
            "marker": {
             "colorbar": {
              "outlinewidth": 0,
              "ticks": ""
             }
            },
            "type": "scatterternary"
           }
          ],
          "surface": [
           {
            "colorbar": {
             "outlinewidth": 0,
             "ticks": ""
            },
            "colorscale": [
             [
              0,
              "#0d0887"
             ],
             [
              0.1111111111111111,
              "#46039f"
             ],
             [
              0.2222222222222222,
              "#7201a8"
             ],
             [
              0.3333333333333333,
              "#9c179e"
             ],
             [
              0.4444444444444444,
              "#bd3786"
             ],
             [
              0.5555555555555556,
              "#d8576b"
             ],
             [
              0.6666666666666666,
              "#ed7953"
             ],
             [
              0.7777777777777778,
              "#fb9f3a"
             ],
             [
              0.8888888888888888,
              "#fdca26"
             ],
             [
              1,
              "#f0f921"
             ]
            ],
            "type": "surface"
           }
          ],
          "table": [
           {
            "cells": {
             "fill": {
              "color": "#EBF0F8"
             },
             "line": {
              "color": "white"
             }
            },
            "header": {
             "fill": {
              "color": "#C8D4E3"
             },
             "line": {
              "color": "white"
             }
            },
            "type": "table"
           }
          ]
         },
         "layout": {
          "annotationdefaults": {
           "arrowcolor": "#2a3f5f",
           "arrowhead": 0,
           "arrowwidth": 1
          },
          "autotypenumbers": "strict",
          "coloraxis": {
           "colorbar": {
            "outlinewidth": 0,
            "ticks": ""
           }
          },
          "colorscale": {
           "diverging": [
            [
             0,
             "#8e0152"
            ],
            [
             0.1,
             "#c51b7d"
            ],
            [
             0.2,
             "#de77ae"
            ],
            [
             0.3,
             "#f1b6da"
            ],
            [
             0.4,
             "#fde0ef"
            ],
            [
             0.5,
             "#f7f7f7"
            ],
            [
             0.6,
             "#e6f5d0"
            ],
            [
             0.7,
             "#b8e186"
            ],
            [
             0.8,
             "#7fbc41"
            ],
            [
             0.9,
             "#4d9221"
            ],
            [
             1,
             "#276419"
            ]
           ],
           "sequential": [
            [
             0,
             "#0d0887"
            ],
            [
             0.1111111111111111,
             "#46039f"
            ],
            [
             0.2222222222222222,
             "#7201a8"
            ],
            [
             0.3333333333333333,
             "#9c179e"
            ],
            [
             0.4444444444444444,
             "#bd3786"
            ],
            [
             0.5555555555555556,
             "#d8576b"
            ],
            [
             0.6666666666666666,
             "#ed7953"
            ],
            [
             0.7777777777777778,
             "#fb9f3a"
            ],
            [
             0.8888888888888888,
             "#fdca26"
            ],
            [
             1,
             "#f0f921"
            ]
           ],
           "sequentialminus": [
            [
             0,
             "#0d0887"
            ],
            [
             0.1111111111111111,
             "#46039f"
            ],
            [
             0.2222222222222222,
             "#7201a8"
            ],
            [
             0.3333333333333333,
             "#9c179e"
            ],
            [
             0.4444444444444444,
             "#bd3786"
            ],
            [
             0.5555555555555556,
             "#d8576b"
            ],
            [
             0.6666666666666666,
             "#ed7953"
            ],
            [
             0.7777777777777778,
             "#fb9f3a"
            ],
            [
             0.8888888888888888,
             "#fdca26"
            ],
            [
             1,
             "#f0f921"
            ]
           ]
          },
          "colorway": [
           "#636efa",
           "#EF553B",
           "#00cc96",
           "#ab63fa",
           "#FFA15A",
           "#19d3f3",
           "#FF6692",
           "#B6E880",
           "#FF97FF",
           "#FECB52"
          ],
          "font": {
           "color": "#2a3f5f"
          },
          "geo": {
           "bgcolor": "white",
           "lakecolor": "white",
           "landcolor": "white",
           "showlakes": true,
           "showland": true,
           "subunitcolor": "#C8D4E3"
          },
          "hoverlabel": {
           "align": "left"
          },
          "hovermode": "closest",
          "mapbox": {
           "style": "light"
          },
          "paper_bgcolor": "white",
          "plot_bgcolor": "white",
          "polar": {
           "angularaxis": {
            "gridcolor": "#EBF0F8",
            "linecolor": "#EBF0F8",
            "ticks": ""
           },
           "bgcolor": "white",
           "radialaxis": {
            "gridcolor": "#EBF0F8",
            "linecolor": "#EBF0F8",
            "ticks": ""
           }
          },
          "scene": {
           "xaxis": {
            "backgroundcolor": "white",
            "gridcolor": "#DFE8F3",
            "gridwidth": 2,
            "linecolor": "#EBF0F8",
            "showbackground": true,
            "ticks": "",
            "zerolinecolor": "#EBF0F8"
           },
           "yaxis": {
            "backgroundcolor": "white",
            "gridcolor": "#DFE8F3",
            "gridwidth": 2,
            "linecolor": "#EBF0F8",
            "showbackground": true,
            "ticks": "",
            "zerolinecolor": "#EBF0F8"
           },
           "zaxis": {
            "backgroundcolor": "white",
            "gridcolor": "#DFE8F3",
            "gridwidth": 2,
            "linecolor": "#EBF0F8",
            "showbackground": true,
            "ticks": "",
            "zerolinecolor": "#EBF0F8"
           }
          },
          "shapedefaults": {
           "line": {
            "color": "#2a3f5f"
           }
          },
          "ternary": {
           "aaxis": {
            "gridcolor": "#DFE8F3",
            "linecolor": "#A2B1C6",
            "ticks": ""
           },
           "baxis": {
            "gridcolor": "#DFE8F3",
            "linecolor": "#A2B1C6",
            "ticks": ""
           },
           "bgcolor": "white",
           "caxis": {
            "gridcolor": "#DFE8F3",
            "linecolor": "#A2B1C6",
            "ticks": ""
           }
          },
          "title": {
           "x": 0.05
          },
          "xaxis": {
           "automargin": true,
           "gridcolor": "#EBF0F8",
           "linecolor": "#EBF0F8",
           "ticks": "",
           "title": {
            "standoff": 15
           },
           "zerolinecolor": "#EBF0F8",
           "zerolinewidth": 2
          },
          "yaxis": {
           "automargin": true,
           "gridcolor": "#EBF0F8",
           "linecolor": "#EBF0F8",
           "ticks": "",
           "title": {
            "standoff": 15
           },
           "zerolinecolor": "#EBF0F8",
           "zerolinewidth": 2
          }
         }
        },
        "title": {
         "text": "Gráfico de Pareto - Países repensáveis por 80% das quatidades vendidas no período"
        },
        "width": 1300,
        "xaxis": {
         "anchor": "y",
         "categoryarray": [
          "Paraguai",
          "Rússia",
          "Estados Unidos",
          "Reino Unido",
          "China",
          "Países Baixos",
          "Espanha"
         ],
         "categoryorder": "array",
         "domain": [
          0,
          1
         ],
         "title": {
          "text": "Países"
         }
        },
        "yaxis": {
         "anchor": "x",
         "domain": [
          0,
          1
         ],
         "title": {
          "text": "Quantidade"
         }
        },
        "yaxis2": {
         "overlaying": "y",
         "range": [
          0,
          100
         ],
         "showgrid": false,
         "side": "right",
         "title": {
          "text": "Porcentagem Acumulada"
         }
        }
       }
      }
     },
     "metadata": {},
     "output_type": "display_data"
    }
   ],
   "source": [
    "plot_pareto(\n",
    "    total_pareto,\n",
    "    \"Pais_destino\",\n",
    "    \"Quantidade\",\n",
    "    \"Pais_destino\",\n",
    "    \"Porcentagem_acumulada_quantidade\",\n",
    "    \"Gráfico de Pareto - Países repensáveis por 80% das quatidades vendidas no período\",\n",
    "    \"Países\",\n",
    "    \"Quantidade\",\n",
    "    total_pareto.Quantidade.mean()\n",
    ")"
   ]
  },
  {
   "attachments": {},
   "cell_type": "markdown",
   "metadata": {},
   "source": [
    "**Paraguai e Rússia são responsáveis por 80% do total vendido em Kg/Litros**"
   ]
  },
  {
   "attachments": {},
   "cell_type": "markdown",
   "metadata": {},
   "source": [
    "# Importar dados financeiros do Banco Mundial"
   ]
  },
  {
   "attachments": {},
   "cell_type": "markdown",
   "metadata": {},
   "source": [
    "## Dados do PIB (US$)"
   ]
  },
  {
   "cell_type": "code",
   "execution_count": 25,
   "metadata": {},
   "outputs": [
    {
     "data": {
      "text/html": [
       "<div>\n",
       "<style scoped>\n",
       "    .dataframe tbody tr th:only-of-type {\n",
       "        vertical-align: middle;\n",
       "    }\n",
       "\n",
       "    .dataframe tbody tr th {\n",
       "        vertical-align: top;\n",
       "    }\n",
       "\n",
       "    .dataframe thead th {\n",
       "        text-align: right;\n",
       "    }\n",
       "</style>\n",
       "<table border=\"1\" class=\"dataframe\">\n",
       "  <thead>\n",
       "    <tr style=\"text-align: right;\">\n",
       "      <th></th>\n",
       "      <th>pais</th>\n",
       "      <th>2007</th>\n",
       "      <th>2008</th>\n",
       "      <th>2009</th>\n",
       "      <th>2010</th>\n",
       "      <th>2011</th>\n",
       "      <th>2012</th>\n",
       "      <th>2013</th>\n",
       "      <th>2014</th>\n",
       "      <th>2015</th>\n",
       "      <th>2016</th>\n",
       "      <th>2017</th>\n",
       "      <th>2018</th>\n",
       "      <th>2019</th>\n",
       "      <th>2020</th>\n",
       "      <th>2021</th>\n",
       "    </tr>\n",
       "  </thead>\n",
       "  <tbody>\n",
       "    <tr>\n",
       "      <th>0</th>\n",
       "      <td>Afghanistan</td>\n",
       "      <td>9715761649.8</td>\n",
       "      <td>10249767311.2</td>\n",
       "      <td>12154835707.9</td>\n",
       "      <td>15633856787.0</td>\n",
       "      <td>18190410820.6</td>\n",
       "      <td>20203572959.5</td>\n",
       "      <td>20564485419.2</td>\n",
       "      <td>20550582746.8</td>\n",
       "      <td>19998156214.4</td>\n",
       "      <td>18019558182.0</td>\n",
       "      <td>18896352021.9</td>\n",
       "      <td>18418848299.6</td>\n",
       "      <td>18904490262.9</td>\n",
       "      <td>20143442151.0</td>\n",
       "      <td>14786861638.5</td>\n",
       "    </tr>\n",
       "  </tbody>\n",
       "</table>\n",
       "</div>"
      ],
      "text/plain": [
       "          pais          2007           2008           2009           2010  \\\n",
       "0  Afghanistan  9715761649.8  10249767311.2  12154835707.9  15633856787.0   \n",
       "\n",
       "            2011           2012           2013           2014           2015  \\\n",
       "0  18190410820.6  20203572959.5  20564485419.2  20550582746.8  19998156214.4   \n",
       "\n",
       "            2016           2017           2018           2019           2020  \\\n",
       "0  18019558182.0  18896352021.9  18418848299.6  18904490262.9  20143442151.0   \n",
       "\n",
       "            2021  \n",
       "0  14786861638.5  "
      ]
     },
     "execution_count": 25,
     "metadata": {},
     "output_type": "execute_result"
    }
   ],
   "source": [
    "dataset_pib = pd.read_excel('data/GPD.xlsx', thousands=',', decimal='.', skipfooter=50)\n",
    "dataset_pib.drop('Unnamed: 4', axis=1, inplace=True)\n",
    "dataset_pib.rename(columns={\" \": \"pais\"}, inplace=True)\n",
    "dataset_pib.head(1)"
   ]
  },
  {
   "attachments": {},
   "cell_type": "markdown",
   "metadata": {},
   "source": [
    "## Dados de Inflação (%)"
   ]
  },
  {
   "cell_type": "code",
   "execution_count": 26,
   "metadata": {},
   "outputs": [
    {
     "data": {
      "text/html": [
       "<div>\n",
       "<style scoped>\n",
       "    .dataframe tbody tr th:only-of-type {\n",
       "        vertical-align: middle;\n",
       "    }\n",
       "\n",
       "    .dataframe tbody tr th {\n",
       "        vertical-align: top;\n",
       "    }\n",
       "\n",
       "    .dataframe thead th {\n",
       "        text-align: right;\n",
       "    }\n",
       "</style>\n",
       "<table border=\"1\" class=\"dataframe\">\n",
       "  <thead>\n",
       "    <tr style=\"text-align: right;\">\n",
       "      <th></th>\n",
       "      <th>pais</th>\n",
       "      <th>2007</th>\n",
       "      <th>2008</th>\n",
       "      <th>2009</th>\n",
       "      <th>2010</th>\n",
       "      <th>2011</th>\n",
       "      <th>2012</th>\n",
       "      <th>2013</th>\n",
       "      <th>2014</th>\n",
       "      <th>2015</th>\n",
       "      <th>2016</th>\n",
       "      <th>2017</th>\n",
       "      <th>2018</th>\n",
       "      <th>2019</th>\n",
       "      <th>2020</th>\n",
       "      <th>2021</th>\n",
       "    </tr>\n",
       "  </thead>\n",
       "  <tbody>\n",
       "    <tr>\n",
       "      <th>0</th>\n",
       "      <td>Afghanistan</td>\n",
       "      <td>8.680571</td>\n",
       "      <td>26.418664</td>\n",
       "      <td>-6.811161</td>\n",
       "      <td>2.178538</td>\n",
       "      <td>11.804186</td>\n",
       "      <td>6.441213</td>\n",
       "      <td>7.385772</td>\n",
       "      <td>4.673996</td>\n",
       "      <td>-0.661709</td>\n",
       "      <td>4.383892</td>\n",
       "      <td>4.975952</td>\n",
       "      <td>0.626149</td>\n",
       "      <td>2.302373</td>\n",
       "      <td>..</td>\n",
       "      <td>..</td>\n",
       "    </tr>\n",
       "  </tbody>\n",
       "</table>\n",
       "</div>"
      ],
      "text/plain": [
       "          pais     2007       2008      2009      2010       2011      2012   \\\n",
       "0  Afghanistan  8.680571  26.418664 -6.811161  2.178538  11.804186  6.441213   \n",
       "\n",
       "      2013      2014      2015      2016      2017      2018      2019  2020   \\\n",
       "0  7.385772  4.673996 -0.661709  4.383892  4.975952  0.626149  2.302373    ..   \n",
       "\n",
       "  2021   \n",
       "0    ..  "
      ]
     },
     "execution_count": 26,
     "metadata": {},
     "output_type": "execute_result"
    }
   ],
   "source": [
    "dataset_inflation = pd.read_excel('data/Inflation.xlsx', skipfooter=54)\n",
    "dataset_inflation.drop('Series Name', axis=1, inplace=True)\n",
    "dataset_inflation.drop('Series Code', axis=1, inplace=True)\n",
    "dataset_inflation.drop('Country Code', axis=1, inplace=True)\n",
    "dataset_inflation.rename(columns={\"Country Name\": \"pais\"}, inplace=True)\n",
    "dataset_inflation.columns = dataset_inflation.columns.str.replace(r'\\[YR\\d{4}\\]\\s*', '', regex=True)\n",
    "dataset_inflation.head(1)"
   ]
  },
  {
   "attachments": {},
   "cell_type": "markdown",
   "metadata": {},
   "source": [
    "## Dados de proporção do comércio internacional em relação ao PIB (%) "
   ]
  },
  {
   "cell_type": "code",
   "execution_count": 27,
   "metadata": {},
   "outputs": [
    {
     "data": {
      "text/html": [
       "<div>\n",
       "<style scoped>\n",
       "    .dataframe tbody tr th:only-of-type {\n",
       "        vertical-align: middle;\n",
       "    }\n",
       "\n",
       "    .dataframe tbody tr th {\n",
       "        vertical-align: top;\n",
       "    }\n",
       "\n",
       "    .dataframe thead th {\n",
       "        text-align: right;\n",
       "    }\n",
       "</style>\n",
       "<table border=\"1\" class=\"dataframe\">\n",
       "  <thead>\n",
       "    <tr style=\"text-align: right;\">\n",
       "      <th></th>\n",
       "      <th>pais</th>\n",
       "      <th>2007</th>\n",
       "      <th>2008</th>\n",
       "      <th>2009</th>\n",
       "      <th>2010</th>\n",
       "      <th>2011</th>\n",
       "      <th>2012</th>\n",
       "      <th>2013</th>\n",
       "      <th>2014</th>\n",
       "      <th>2015</th>\n",
       "      <th>2016</th>\n",
       "      <th>2017</th>\n",
       "      <th>2018</th>\n",
       "      <th>2019</th>\n",
       "      <th>2020</th>\n",
       "      <th>2021</th>\n",
       "    </tr>\n",
       "  </thead>\n",
       "  <tbody>\n",
       "    <tr>\n",
       "      <th>0</th>\n",
       "      <td>Afghanistan</td>\n",
       "      <td>..</td>\n",
       "      <td>..</td>\n",
       "      <td>..</td>\n",
       "      <td>..</td>\n",
       "      <td>..</td>\n",
       "      <td>..</td>\n",
       "      <td>..</td>\n",
       "      <td>..</td>\n",
       "      <td>..</td>\n",
       "      <td>..</td>\n",
       "      <td>..</td>\n",
       "      <td>..</td>\n",
       "      <td>..</td>\n",
       "      <td>..</td>\n",
       "      <td>..</td>\n",
       "    </tr>\n",
       "    <tr>\n",
       "      <th>1</th>\n",
       "      <td>Albania</td>\n",
       "      <td>83.20208</td>\n",
       "      <td>77.451751</td>\n",
       "      <td>75.094914</td>\n",
       "      <td>76.54339</td>\n",
       "      <td>81.218569</td>\n",
       "      <td>76.510201</td>\n",
       "      <td>75.873714</td>\n",
       "      <td>75.407846</td>\n",
       "      <td>71.801006</td>\n",
       "      <td>74.809863</td>\n",
       "      <td>78.194274</td>\n",
       "      <td>76.808118</td>\n",
       "      <td>76.279195</td>\n",
       "      <td>59.951749</td>\n",
       "      <td>74.535665</td>\n",
       "    </tr>\n",
       "  </tbody>\n",
       "</table>\n",
       "</div>"
      ],
      "text/plain": [
       "          pais     2007       2008       2009      2010       2011   \\\n",
       "0  Afghanistan        ..         ..         ..        ..         ..   \n",
       "1      Albania  83.20208  77.451751  75.094914  76.54339  81.218569   \n",
       "\n",
       "       2012       2013       2014       2015       2016       2017   \\\n",
       "0         ..         ..         ..         ..         ..         ..   \n",
       "1  76.510201  75.873714  75.407846  71.801006  74.809863  78.194274   \n",
       "\n",
       "       2018       2019       2020       2021   \n",
       "0         ..         ..         ..         ..  \n",
       "1  76.808118  76.279195  59.951749  74.535665  "
      ]
     },
     "execution_count": 27,
     "metadata": {},
     "output_type": "execute_result"
    }
   ],
   "source": [
    "dataset_trade = pd.read_excel('data/Trade.xlsx', skipfooter=54)\n",
    "dataset_trade.drop('Series Name', axis=1, inplace=True)\n",
    "dataset_trade.drop('Series Code', axis=1, inplace=True)\n",
    "dataset_trade.drop('Country Code', axis=1, inplace=True)\n",
    "dataset_trade.rename(columns={\"Country Name\": \"pais\"}, inplace=True)\n",
    "dataset_trade.columns = dataset_trade.columns.str.replace(r'\\[YR\\d{4}\\]\\s*', '', regex=True)\n",
    "dataset_trade.head(2)"
   ]
  },
  {
   "attachments": {},
   "cell_type": "markdown",
   "metadata": {},
   "source": [
    "## Dados de população"
   ]
  },
  {
   "cell_type": "code",
   "execution_count": 28,
   "metadata": {},
   "outputs": [
    {
     "data": {
      "text/html": [
       "<div>\n",
       "<style scoped>\n",
       "    .dataframe tbody tr th:only-of-type {\n",
       "        vertical-align: middle;\n",
       "    }\n",
       "\n",
       "    .dataframe tbody tr th {\n",
       "        vertical-align: top;\n",
       "    }\n",
       "\n",
       "    .dataframe thead th {\n",
       "        text-align: right;\n",
       "    }\n",
       "</style>\n",
       "<table border=\"1\" class=\"dataframe\">\n",
       "  <thead>\n",
       "    <tr style=\"text-align: right;\">\n",
       "      <th></th>\n",
       "      <th>pais</th>\n",
       "      <th>2007</th>\n",
       "      <th>2008</th>\n",
       "      <th>2009</th>\n",
       "      <th>2010</th>\n",
       "      <th>2011</th>\n",
       "      <th>2012</th>\n",
       "      <th>2013</th>\n",
       "      <th>2014</th>\n",
       "      <th>2015</th>\n",
       "      <th>2016</th>\n",
       "      <th>2017</th>\n",
       "      <th>2018</th>\n",
       "      <th>2019</th>\n",
       "      <th>2020</th>\n",
       "      <th>2021</th>\n",
       "    </tr>\n",
       "  </thead>\n",
       "  <tbody>\n",
       "    <tr>\n",
       "      <th>0</th>\n",
       "      <td>Afghanistan</td>\n",
       "      <td>25903301</td>\n",
       "      <td>26427199</td>\n",
       "      <td>27385307</td>\n",
       "      <td>28189672</td>\n",
       "      <td>29249157</td>\n",
       "      <td>30466479</td>\n",
       "      <td>31541209</td>\n",
       "      <td>32716210</td>\n",
       "      <td>33753499</td>\n",
       "      <td>34636207</td>\n",
       "      <td>35643418</td>\n",
       "      <td>36686784</td>\n",
       "      <td>37769499</td>\n",
       "      <td>38972230</td>\n",
       "      <td>40099462</td>\n",
       "    </tr>\n",
       "  </tbody>\n",
       "</table>\n",
       "</div>"
      ],
      "text/plain": [
       "          pais     2007      2008      2009      2010      2011      2012   \\\n",
       "0  Afghanistan  25903301  26427199  27385307  28189672  29249157  30466479   \n",
       "\n",
       "      2013      2014      2015      2016      2017      2018      2019   \\\n",
       "0  31541209  32716210  33753499  34636207  35643418  36686784  37769499   \n",
       "\n",
       "      2020      2021   \n",
       "0  38972230  40099462  "
      ]
     },
     "execution_count": 28,
     "metadata": {},
     "output_type": "execute_result"
    }
   ],
   "source": [
    "dataset_population = pd.read_excel('data/Population.xlsx', skipfooter=54)\n",
    "dataset_population.drop('Series Name', axis=1, inplace=True)\n",
    "dataset_population.drop('Series Code', axis=1, inplace=True)\n",
    "dataset_population.drop('Country Code', axis=1, inplace=True)\n",
    "dataset_population.rename(columns={\"Country Name\": \"pais\"}, inplace=True)\n",
    "dataset_population.columns = dataset_population.columns.str.replace(r'\\[YR\\d{4}\\]\\s*', '', regex=True)\n",
    "dataset_population.head(1)"
   ]
  },
  {
   "attachments": {},
   "cell_type": "markdown",
   "metadata": {},
   "source": [
    "## Dados de desemprego"
   ]
  },
  {
   "cell_type": "code",
   "execution_count": 29,
   "metadata": {},
   "outputs": [
    {
     "data": {
      "text/html": [
       "<div>\n",
       "<style scoped>\n",
       "    .dataframe tbody tr th:only-of-type {\n",
       "        vertical-align: middle;\n",
       "    }\n",
       "\n",
       "    .dataframe tbody tr th {\n",
       "        vertical-align: top;\n",
       "    }\n",
       "\n",
       "    .dataframe thead th {\n",
       "        text-align: right;\n",
       "    }\n",
       "</style>\n",
       "<table border=\"1\" class=\"dataframe\">\n",
       "  <thead>\n",
       "    <tr style=\"text-align: right;\">\n",
       "      <th></th>\n",
       "      <th>pais</th>\n",
       "      <th>2007</th>\n",
       "      <th>2008</th>\n",
       "      <th>2009</th>\n",
       "      <th>2010</th>\n",
       "      <th>2011</th>\n",
       "      <th>2012</th>\n",
       "      <th>2013</th>\n",
       "      <th>2014</th>\n",
       "      <th>2015</th>\n",
       "      <th>2016</th>\n",
       "      <th>2017</th>\n",
       "      <th>2018</th>\n",
       "      <th>2019</th>\n",
       "      <th>2020</th>\n",
       "      <th>2021</th>\n",
       "    </tr>\n",
       "  </thead>\n",
       "  <tbody>\n",
       "    <tr>\n",
       "      <th>0</th>\n",
       "      <td>Afghanistan</td>\n",
       "      <td>8.108</td>\n",
       "      <td>8.022</td>\n",
       "      <td>8.082</td>\n",
       "      <td>8.068</td>\n",
       "      <td>7.947</td>\n",
       "      <td>8.019</td>\n",
       "      <td>7.949</td>\n",
       "      <td>7.91</td>\n",
       "      <td>8.989</td>\n",
       "      <td>10.086</td>\n",
       "      <td>11.18</td>\n",
       "      <td>11.11</td>\n",
       "      <td>11.085</td>\n",
       "      <td>11.71</td>\n",
       "      <td>..</td>\n",
       "    </tr>\n",
       "  </tbody>\n",
       "</table>\n",
       "</div>"
      ],
      "text/plain": [
       "          pais  2007   2008   2009   2010   2011   2012   2013  2014   2015   \\\n",
       "0  Afghanistan  8.108  8.022  8.082  8.068  7.947  8.019  7.949  7.91  8.989   \n",
       "\n",
       "    2016   2017   2018    2019   2020  2021   \n",
       "0  10.086  11.18  11.11  11.085  11.71    ..  "
      ]
     },
     "execution_count": 29,
     "metadata": {},
     "output_type": "execute_result"
    }
   ],
   "source": [
    "dataset_unemployment = pd.read_excel('data/Unemployment.xlsx', skipfooter=54)\n",
    "dataset_unemployment.drop('Series Name', axis=1, inplace=True)\n",
    "dataset_unemployment.drop('Series Code', axis=1, inplace=True)\n",
    "dataset_unemployment.drop('Country Code', axis=1, inplace=True)\n",
    "dataset_unemployment.rename(columns={\"Country Name\": \"pais\"}, inplace=True)\n",
    "dataset_unemployment.columns = dataset_unemployment.columns.str.replace(r'\\[YR\\d{4}\\]\\s*', '', regex=True)\n",
    "dataset_unemployment.head(1)"
   ]
  },
  {
   "attachments": {},
   "cell_type": "markdown",
   "metadata": {},
   "source": [
    "# Limpeza dos dados"
   ]
  },
  {
   "cell_type": "code",
   "execution_count": 30,
   "metadata": {},
   "outputs": [
    {
     "data": {
      "text/html": [
       "<div>\n",
       "<style scoped>\n",
       "    .dataframe tbody tr th:only-of-type {\n",
       "        vertical-align: middle;\n",
       "    }\n",
       "\n",
       "    .dataframe tbody tr th {\n",
       "        vertical-align: top;\n",
       "    }\n",
       "\n",
       "    .dataframe thead th {\n",
       "        text-align: right;\n",
       "    }\n",
       "</style>\n",
       "<table border=\"1\" class=\"dataframe\">\n",
       "  <thead>\n",
       "    <tr style=\"text-align: right;\">\n",
       "      <th></th>\n",
       "      <th>2007</th>\n",
       "      <th>2008</th>\n",
       "      <th>2009</th>\n",
       "      <th>2010</th>\n",
       "      <th>2011</th>\n",
       "      <th>2012</th>\n",
       "      <th>2013</th>\n",
       "      <th>2014</th>\n",
       "      <th>2015</th>\n",
       "      <th>2016</th>\n",
       "      <th>2017</th>\n",
       "      <th>2018</th>\n",
       "      <th>2019</th>\n",
       "      <th>2020</th>\n",
       "      <th>2021</th>\n",
       "    </tr>\n",
       "    <tr>\n",
       "      <th>pais</th>\n",
       "      <th></th>\n",
       "      <th></th>\n",
       "      <th></th>\n",
       "      <th></th>\n",
       "      <th></th>\n",
       "      <th></th>\n",
       "      <th></th>\n",
       "      <th></th>\n",
       "      <th></th>\n",
       "      <th></th>\n",
       "      <th></th>\n",
       "      <th></th>\n",
       "      <th></th>\n",
       "      <th></th>\n",
       "      <th></th>\n",
       "    </tr>\n",
       "  </thead>\n",
       "  <tbody>\n",
       "    <tr>\n",
       "      <th>China</th>\n",
       "      <td>3550342737010.8</td>\n",
       "      <td>4594307032660.8</td>\n",
       "      <td>5101703073086.0</td>\n",
       "      <td>6087163874512.2</td>\n",
       "      <td>7551500124203.4</td>\n",
       "      <td>8532229986993.7</td>\n",
       "      <td>9570406235659.6</td>\n",
       "      <td>10475682920594.5</td>\n",
       "      <td>11061553079876.4</td>\n",
       "      <td>11233276536737.2</td>\n",
       "      <td>12310409370892.8</td>\n",
       "      <td>13894817549374.2</td>\n",
       "      <td>14279937500606.5</td>\n",
       "      <td>14687673892882.0</td>\n",
       "      <td>17734062645371.4</td>\n",
       "    </tr>\n",
       "    <tr>\n",
       "      <th>Netherlands</th>\n",
       "      <td>848558887541.2</td>\n",
       "      <td>951869997864.1</td>\n",
       "      <td>871518638049.2</td>\n",
       "      <td>847380859016.7</td>\n",
       "      <td>905270626332.7</td>\n",
       "      <td>838923319919.5</td>\n",
       "      <td>877172824534.5</td>\n",
       "      <td>892167986713.7</td>\n",
       "      <td>765572770634.4</td>\n",
       "      <td>784060430240.1</td>\n",
       "      <td>833869641687.1</td>\n",
       "      <td>914043438179.6</td>\n",
       "      <td>910194347568.6</td>\n",
       "      <td>909793466661.5</td>\n",
       "      <td>1012846760976.7</td>\n",
       "    </tr>\n",
       "    <tr>\n",
       "      <th>Paraguay</th>\n",
       "      <td>17856393235.4</td>\n",
       "      <td>24615267663.5</td>\n",
       "      <td>22355151162.0</td>\n",
       "      <td>27260886405.2</td>\n",
       "      <td>33756238766.5</td>\n",
       "      <td>33271921136.3</td>\n",
       "      <td>38501122141.4</td>\n",
       "      <td>40377929295.6</td>\n",
       "      <td>36211447840.1</td>\n",
       "      <td>36089700222.9</td>\n",
       "      <td>38997129473.6</td>\n",
       "      <td>40225448340.6</td>\n",
       "      <td>37925338329.1</td>\n",
       "      <td>35432178068.2</td>\n",
       "      <td>39495431574.2</td>\n",
       "    </tr>\n",
       "    <tr>\n",
       "      <th>Russian Federation</th>\n",
       "      <td>1299705764823.6</td>\n",
       "      <td>1660846387624.8</td>\n",
       "      <td>1222644282201.9</td>\n",
       "      <td>1524917468442.0</td>\n",
       "      <td>2045925608274.4</td>\n",
       "      <td>2208295773643.2</td>\n",
       "      <td>2292473246621.1</td>\n",
       "      <td>2059241965490.8</td>\n",
       "      <td>1363481063446.8</td>\n",
       "      <td>1276786979221.8</td>\n",
       "      <td>1574199387070.9</td>\n",
       "      <td>1657329646183.6</td>\n",
       "      <td>1693113904262.9</td>\n",
       "      <td>1489362488439.8</td>\n",
       "      <td>1778782625793.7</td>\n",
       "    </tr>\n",
       "    <tr>\n",
       "      <th>Spain</th>\n",
       "      <td>1474002579820.0</td>\n",
       "      <td>1631863493552.3</td>\n",
       "      <td>1491472923706.6</td>\n",
       "      <td>1422108199783.3</td>\n",
       "      <td>1480710495710.1</td>\n",
       "      <td>1324750738725.0</td>\n",
       "      <td>1355579535912.6</td>\n",
       "      <td>1371820537888.6</td>\n",
       "      <td>1196156971279.7</td>\n",
       "      <td>1233554967011.7</td>\n",
       "      <td>1313245330197.7</td>\n",
       "      <td>1421702715218.0</td>\n",
       "      <td>1394320055129.4</td>\n",
       "      <td>1276962685648.3</td>\n",
       "      <td>1427380681294.6</td>\n",
       "    </tr>\n",
       "    <tr>\n",
       "      <th>United Kingdom</th>\n",
       "      <td>3092821128451.4</td>\n",
       "      <td>2931501838235.3</td>\n",
       "      <td>2417638261411.4</td>\n",
       "      <td>2491397494468.0</td>\n",
       "      <td>2666403005061.4</td>\n",
       "      <td>2706340967030.7</td>\n",
       "      <td>2786315215250.0</td>\n",
       "      <td>3065223279583.8</td>\n",
       "      <td>2934857946213.5</td>\n",
       "      <td>2699659680997.2</td>\n",
       "      <td>2683399006715.8</td>\n",
       "      <td>2878152147315.8</td>\n",
       "      <td>2857057847953.0</td>\n",
       "      <td>2704609160088.2</td>\n",
       "      <td>3131377762926.0</td>\n",
       "    </tr>\n",
       "    <tr>\n",
       "      <th>United States</th>\n",
       "      <td>14474226905000.0</td>\n",
       "      <td>14769857911000.0</td>\n",
       "      <td>14478064934000.0</td>\n",
       "      <td>15048964444000.0</td>\n",
       "      <td>15599728123000.0</td>\n",
       "      <td>16253972230000.0</td>\n",
       "      <td>16843190993000.0</td>\n",
       "      <td>17550680174000.0</td>\n",
       "      <td>18206020741000.0</td>\n",
       "      <td>18695110842000.0</td>\n",
       "      <td>19477336549000.0</td>\n",
       "      <td>20533057312000.0</td>\n",
       "      <td>21380976119000.0</td>\n",
       "      <td>21060473613000.0</td>\n",
       "      <td>23315080560000.0</td>\n",
       "    </tr>\n",
       "  </tbody>\n",
       "</table>\n",
       "</div>"
      ],
      "text/plain": [
       "                                2007              2008              2009  \\\n",
       "pais                                                                       \n",
       "China                3550342737010.8   4594307032660.8   5101703073086.0   \n",
       "Netherlands           848558887541.2    951869997864.1    871518638049.2   \n",
       "Paraguay               17856393235.4     24615267663.5     22355151162.0   \n",
       "Russian Federation   1299705764823.6   1660846387624.8   1222644282201.9   \n",
       "Spain                1474002579820.0   1631863493552.3   1491472923706.6   \n",
       "United Kingdom       3092821128451.4   2931501838235.3   2417638261411.4   \n",
       "United States       14474226905000.0  14769857911000.0  14478064934000.0   \n",
       "\n",
       "                                2010              2011              2012  \\\n",
       "pais                                                                       \n",
       "China                6087163874512.2   7551500124203.4   8532229986993.7   \n",
       "Netherlands           847380859016.7    905270626332.7    838923319919.5   \n",
       "Paraguay               27260886405.2     33756238766.5     33271921136.3   \n",
       "Russian Federation   1524917468442.0   2045925608274.4   2208295773643.2   \n",
       "Spain                1422108199783.3   1480710495710.1   1324750738725.0   \n",
       "United Kingdom       2491397494468.0   2666403005061.4   2706340967030.7   \n",
       "United States       15048964444000.0  15599728123000.0  16253972230000.0   \n",
       "\n",
       "                                2013              2014              2015  \\\n",
       "pais                                                                       \n",
       "China                9570406235659.6  10475682920594.5  11061553079876.4   \n",
       "Netherlands           877172824534.5    892167986713.7    765572770634.4   \n",
       "Paraguay               38501122141.4     40377929295.6     36211447840.1   \n",
       "Russian Federation   2292473246621.1   2059241965490.8   1363481063446.8   \n",
       "Spain                1355579535912.6   1371820537888.6   1196156971279.7   \n",
       "United Kingdom       2786315215250.0   3065223279583.8   2934857946213.5   \n",
       "United States       16843190993000.0  17550680174000.0  18206020741000.0   \n",
       "\n",
       "                                2016              2017              2018  \\\n",
       "pais                                                                       \n",
       "China               11233276536737.2  12310409370892.8  13894817549374.2   \n",
       "Netherlands           784060430240.1    833869641687.1    914043438179.6   \n",
       "Paraguay               36089700222.9     38997129473.6     40225448340.6   \n",
       "Russian Federation   1276786979221.8   1574199387070.9   1657329646183.6   \n",
       "Spain                1233554967011.7   1313245330197.7   1421702715218.0   \n",
       "United Kingdom       2699659680997.2   2683399006715.8   2878152147315.8   \n",
       "United States       18695110842000.0  19477336549000.0  20533057312000.0   \n",
       "\n",
       "                                2019              2020              2021  \n",
       "pais                                                                      \n",
       "China               14279937500606.5  14687673892882.0  17734062645371.4  \n",
       "Netherlands           910194347568.6    909793466661.5   1012846760976.7  \n",
       "Paraguay               37925338329.1     35432178068.2     39495431574.2  \n",
       "Russian Federation   1693113904262.9   1489362488439.8   1778782625793.7  \n",
       "Spain                1394320055129.4   1276962685648.3   1427380681294.6  \n",
       "United Kingdom       2857057847953.0   2704609160088.2   3131377762926.0  \n",
       "United States       21380976119000.0  21060473613000.0  23315080560000.0  "
      ]
     },
     "execution_count": 30,
     "metadata": {},
     "output_type": "execute_result"
    }
   ],
   "source": [
    "paises_pib = dataset_pib.query(\"pais == 'Paraguay' or pais == 'Russian Federation' or pais == 'United States' or pais == 'United Kingdom' or pais == 'China' or pais == 'Netherlands' or pais == 'Spain'\")\n",
    "paises_pib.set_index('pais',inplace=True)\n",
    "paises_pib"
   ]
  },
  {
   "cell_type": "code",
   "execution_count": 31,
   "metadata": {},
   "outputs": [
    {
     "data": {
      "text/html": [
       "<div>\n",
       "<style scoped>\n",
       "    .dataframe tbody tr th:only-of-type {\n",
       "        vertical-align: middle;\n",
       "    }\n",
       "\n",
       "    .dataframe tbody tr th {\n",
       "        vertical-align: top;\n",
       "    }\n",
       "\n",
       "    .dataframe thead th {\n",
       "        text-align: right;\n",
       "    }\n",
       "</style>\n",
       "<table border=\"1\" class=\"dataframe\">\n",
       "  <thead>\n",
       "    <tr style=\"text-align: right;\">\n",
       "      <th></th>\n",
       "      <th>2007</th>\n",
       "      <th>2008</th>\n",
       "      <th>2009</th>\n",
       "      <th>2010</th>\n",
       "      <th>2011</th>\n",
       "      <th>2012</th>\n",
       "      <th>2013</th>\n",
       "      <th>2014</th>\n",
       "      <th>2015</th>\n",
       "      <th>2016</th>\n",
       "      <th>2017</th>\n",
       "      <th>2018</th>\n",
       "      <th>2019</th>\n",
       "      <th>2020</th>\n",
       "      <th>2021</th>\n",
       "    </tr>\n",
       "    <tr>\n",
       "      <th>pais</th>\n",
       "      <th></th>\n",
       "      <th></th>\n",
       "      <th></th>\n",
       "      <th></th>\n",
       "      <th></th>\n",
       "      <th></th>\n",
       "      <th></th>\n",
       "      <th></th>\n",
       "      <th></th>\n",
       "      <th></th>\n",
       "      <th></th>\n",
       "      <th></th>\n",
       "      <th></th>\n",
       "      <th></th>\n",
       "      <th></th>\n",
       "    </tr>\n",
       "  </thead>\n",
       "  <tbody>\n",
       "    <tr>\n",
       "      <th>China</th>\n",
       "      <td>4.816768</td>\n",
       "      <td>5.925251</td>\n",
       "      <td>-0.728165</td>\n",
       "      <td>3.175325</td>\n",
       "      <td>5.553899</td>\n",
       "      <td>2.619524</td>\n",
       "      <td>2.62105</td>\n",
       "      <td>1.921642</td>\n",
       "      <td>1.437024</td>\n",
       "      <td>2.000002</td>\n",
       "      <td>1.593136</td>\n",
       "      <td>2.07479</td>\n",
       "      <td>2.899234</td>\n",
       "      <td>2.419422</td>\n",
       "      <td>0.981015</td>\n",
       "    </tr>\n",
       "    <tr>\n",
       "      <th>Netherlands</th>\n",
       "      <td>1.613859</td>\n",
       "      <td>2.486502</td>\n",
       "      <td>1.189777</td>\n",
       "      <td>1.275306</td>\n",
       "      <td>2.34107</td>\n",
       "      <td>2.455548</td>\n",
       "      <td>2.506899</td>\n",
       "      <td>0.976035</td>\n",
       "      <td>0.600248</td>\n",
       "      <td>0.316667</td>\n",
       "      <td>1.381459</td>\n",
       "      <td>1.703498</td>\n",
       "      <td>2.633699</td>\n",
       "      <td>1.27246</td>\n",
       "      <td>2.67572</td>\n",
       "    </tr>\n",
       "    <tr>\n",
       "      <th>Paraguay</th>\n",
       "      <td>8.130474</td>\n",
       "      <td>10.154785</td>\n",
       "      <td>2.591947</td>\n",
       "      <td>4.651163</td>\n",
       "      <td>8.253968</td>\n",
       "      <td>3.675919</td>\n",
       "      <td>2.683857</td>\n",
       "      <td>5.028828</td>\n",
       "      <td>3.129003</td>\n",
       "      <td>4.086823</td>\n",
       "      <td>3.602477</td>\n",
       "      <td>3.97561</td>\n",
       "      <td>2.757097</td>\n",
       "      <td>1.767516</td>\n",
       "      <td>4.787983</td>\n",
       "    </tr>\n",
       "    <tr>\n",
       "      <th>Russian Federation</th>\n",
       "      <td>9.007299</td>\n",
       "      <td>14.110768</td>\n",
       "      <td>11.64733</td>\n",
       "      <td>6.849392</td>\n",
       "      <td>8.440465</td>\n",
       "      <td>5.074743</td>\n",
       "      <td>6.75371</td>\n",
       "      <td>7.823412</td>\n",
       "      <td>15.534405</td>\n",
       "      <td>7.042448</td>\n",
       "      <td>3.683329</td>\n",
       "      <td>2.878297</td>\n",
       "      <td>4.470367</td>\n",
       "      <td>3.381659</td>\n",
       "      <td>6.694459</td>\n",
       "    </tr>\n",
       "    <tr>\n",
       "      <th>Spain</th>\n",
       "      <td>2.786797</td>\n",
       "      <td>4.075343</td>\n",
       "      <td>-0.287813</td>\n",
       "      <td>1.799865</td>\n",
       "      <td>3.196102</td>\n",
       "      <td>2.446128</td>\n",
       "      <td>1.408581</td>\n",
       "      <td>-0.151115</td>\n",
       "      <td>-0.500366</td>\n",
       "      <td>-0.202598</td>\n",
       "      <td>1.956076</td>\n",
       "      <td>1.674981</td>\n",
       "      <td>0.699519</td>\n",
       "      <td>-0.322753</td>\n",
       "      <td>3.093135</td>\n",
       "    </tr>\n",
       "    <tr>\n",
       "      <th>United Kingdom</th>\n",
       "      <td>2.386562</td>\n",
       "      <td>3.521409</td>\n",
       "      <td>1.961732</td>\n",
       "      <td>2.492655</td>\n",
       "      <td>3.856112</td>\n",
       "      <td>2.573235</td>\n",
       "      <td>2.291667</td>\n",
       "      <td>1.45112</td>\n",
       "      <td>0.368047</td>\n",
       "      <td>1.008417</td>\n",
       "      <td>2.557756</td>\n",
       "      <td>2.29284</td>\n",
       "      <td>1.738105</td>\n",
       "      <td>0.989487</td>\n",
       "      <td>2.518371</td>\n",
       "    </tr>\n",
       "    <tr>\n",
       "      <th>United States</th>\n",
       "      <td>2.852672</td>\n",
       "      <td>3.8391</td>\n",
       "      <td>-0.355546</td>\n",
       "      <td>1.640043</td>\n",
       "      <td>3.156842</td>\n",
       "      <td>2.069337</td>\n",
       "      <td>1.464833</td>\n",
       "      <td>1.622223</td>\n",
       "      <td>0.118627</td>\n",
       "      <td>1.261583</td>\n",
       "      <td>2.13011</td>\n",
       "      <td>2.442583</td>\n",
       "      <td>1.81221</td>\n",
       "      <td>1.233584</td>\n",
       "      <td>4.697859</td>\n",
       "    </tr>\n",
       "  </tbody>\n",
       "</table>\n",
       "</div>"
      ],
      "text/plain": [
       "                       2007       2008      2009      2010      2011   \\\n",
       "pais                                                                    \n",
       "China               4.816768   5.925251 -0.728165  3.175325  5.553899   \n",
       "Netherlands         1.613859   2.486502  1.189777  1.275306   2.34107   \n",
       "Paraguay            8.130474  10.154785  2.591947  4.651163  8.253968   \n",
       "Russian Federation  9.007299  14.110768  11.64733  6.849392  8.440465   \n",
       "Spain               2.786797   4.075343 -0.287813  1.799865  3.196102   \n",
       "United Kingdom      2.386562   3.521409  1.961732  2.492655  3.856112   \n",
       "United States       2.852672     3.8391 -0.355546  1.640043  3.156842   \n",
       "\n",
       "                       2012      2013      2014       2015      2016   \\\n",
       "pais                                                                    \n",
       "China               2.619524   2.62105  1.921642   1.437024  2.000002   \n",
       "Netherlands         2.455548  2.506899  0.976035   0.600248  0.316667   \n",
       "Paraguay            3.675919  2.683857  5.028828   3.129003  4.086823   \n",
       "Russian Federation  5.074743   6.75371  7.823412  15.534405  7.042448   \n",
       "Spain               2.446128  1.408581 -0.151115  -0.500366 -0.202598   \n",
       "United Kingdom      2.573235  2.291667   1.45112   0.368047  1.008417   \n",
       "United States       2.069337  1.464833  1.622223   0.118627  1.261583   \n",
       "\n",
       "                       2017      2018      2019      2020      2021   \n",
       "pais                                                                  \n",
       "China               1.593136   2.07479  2.899234  2.419422  0.981015  \n",
       "Netherlands         1.381459  1.703498  2.633699   1.27246   2.67572  \n",
       "Paraguay            3.602477   3.97561  2.757097  1.767516  4.787983  \n",
       "Russian Federation  3.683329  2.878297  4.470367  3.381659  6.694459  \n",
       "Spain               1.956076  1.674981  0.699519 -0.322753  3.093135  \n",
       "United Kingdom      2.557756   2.29284  1.738105  0.989487  2.518371  \n",
       "United States        2.13011  2.442583   1.81221  1.233584  4.697859  "
      ]
     },
     "execution_count": 31,
     "metadata": {},
     "output_type": "execute_result"
    }
   ],
   "source": [
    "paises_inflation = dataset_inflation.query(\"pais == 'Paraguay' or pais == 'Russian Federation' or pais == 'United States' or pais == 'United Kingdom' or pais == 'China' or pais == 'Netherlands' or pais == 'Spain'\")\n",
    "paises_inflation.set_index('pais',inplace=True)\n",
    "paises_inflation"
   ]
  },
  {
   "cell_type": "code",
   "execution_count": 32,
   "metadata": {},
   "outputs": [
    {
     "data": {
      "text/html": [
       "<div>\n",
       "<style scoped>\n",
       "    .dataframe tbody tr th:only-of-type {\n",
       "        vertical-align: middle;\n",
       "    }\n",
       "\n",
       "    .dataframe tbody tr th {\n",
       "        vertical-align: top;\n",
       "    }\n",
       "\n",
       "    .dataframe thead th {\n",
       "        text-align: right;\n",
       "    }\n",
       "</style>\n",
       "<table border=\"1\" class=\"dataframe\">\n",
       "  <thead>\n",
       "    <tr style=\"text-align: right;\">\n",
       "      <th></th>\n",
       "      <th>2007</th>\n",
       "      <th>2008</th>\n",
       "      <th>2009</th>\n",
       "      <th>2010</th>\n",
       "      <th>2011</th>\n",
       "      <th>2012</th>\n",
       "      <th>2013</th>\n",
       "      <th>2014</th>\n",
       "      <th>2015</th>\n",
       "      <th>2016</th>\n",
       "      <th>2017</th>\n",
       "      <th>2018</th>\n",
       "      <th>2019</th>\n",
       "      <th>2020</th>\n",
       "      <th>2021</th>\n",
       "    </tr>\n",
       "    <tr>\n",
       "      <th>pais</th>\n",
       "      <th></th>\n",
       "      <th></th>\n",
       "      <th></th>\n",
       "      <th></th>\n",
       "      <th></th>\n",
       "      <th></th>\n",
       "      <th></th>\n",
       "      <th></th>\n",
       "      <th></th>\n",
       "      <th></th>\n",
       "      <th></th>\n",
       "      <th></th>\n",
       "      <th></th>\n",
       "      <th></th>\n",
       "      <th></th>\n",
       "    </tr>\n",
       "  </thead>\n",
       "  <tbody>\n",
       "    <tr>\n",
       "      <th>China</th>\n",
       "      <td>62.193363</td>\n",
       "      <td>57.612715</td>\n",
       "      <td>45.18487</td>\n",
       "      <td>50.717078</td>\n",
       "      <td>50.740905</td>\n",
       "      <td>48.267522</td>\n",
       "      <td>46.744376</td>\n",
       "      <td>44.905216</td>\n",
       "      <td>39.464169</td>\n",
       "      <td>36.894415</td>\n",
       "      <td>37.632413</td>\n",
       "      <td>37.565784</td>\n",
       "      <td>35.890096</td>\n",
       "      <td>34.754296</td>\n",
       "      <td>37.468958</td>\n",
       "    </tr>\n",
       "    <tr>\n",
       "      <th>Netherlands</th>\n",
       "      <td>130.457871</td>\n",
       "      <td>131.059892</td>\n",
       "      <td>116.88955</td>\n",
       "      <td>131.522074</td>\n",
       "      <td>142.471773</td>\n",
       "      <td>149.268415</td>\n",
       "      <td>149.549331</td>\n",
       "      <td>150.053755</td>\n",
       "      <td>157.816576</td>\n",
       "      <td>148.858665</td>\n",
       "      <td>156.028211</td>\n",
       "      <td>158.82321</td>\n",
       "      <td>155.270677</td>\n",
       "      <td>146.461778</td>\n",
       "      <td>155.700083</td>\n",
       "    </tr>\n",
       "    <tr>\n",
       "      <th>Paraguay</th>\n",
       "      <td>79.001137</td>\n",
       "      <td>80.777575</td>\n",
       "      <td>70.841982</td>\n",
       "      <td>81.257523</td>\n",
       "      <td>78.492124</td>\n",
       "      <td>74.764957</td>\n",
       "      <td>73.369871</td>\n",
       "      <td>69.083724</td>\n",
       "      <td>66.940141</td>\n",
       "      <td>67.788388</td>\n",
       "      <td>71.482213</td>\n",
       "      <td>72.528586</td>\n",
       "      <td>71.327655</td>\n",
       "      <td>63.09465</td>\n",
       "      <td>70.801081</td>\n",
       "    </tr>\n",
       "    <tr>\n",
       "      <th>Russian Federation</th>\n",
       "      <td>51.706123</td>\n",
       "      <td>53.382466</td>\n",
       "      <td>48.435061</td>\n",
       "      <td>50.355505</td>\n",
       "      <td>48.035399</td>\n",
       "      <td>47.15139</td>\n",
       "      <td>46.287149</td>\n",
       "      <td>47.801341</td>\n",
       "      <td>49.359349</td>\n",
       "      <td>46.51812</td>\n",
       "      <td>46.876524</td>\n",
       "      <td>51.5809</td>\n",
       "      <td>49.228754</td>\n",
       "      <td>46.030866</td>\n",
       "      <td>52.167008</td>\n",
       "    </tr>\n",
       "    <tr>\n",
       "      <th>Spain</th>\n",
       "      <td>57.747604</td>\n",
       "      <td>55.98333</td>\n",
       "      <td>46.994874</td>\n",
       "      <td>52.928241</td>\n",
       "      <td>58.793171</td>\n",
       "      <td>60.845075</td>\n",
       "      <td>61.976316</td>\n",
       "      <td>63.838262</td>\n",
       "      <td>64.183205</td>\n",
       "      <td>63.739883</td>\n",
       "      <td>66.657061</td>\n",
       "      <td>67.57494</td>\n",
       "      <td>66.873891</td>\n",
       "      <td>60.143168</td>\n",
       "      <td>68.381777</td>\n",
       "    </tr>\n",
       "    <tr>\n",
       "      <th>United Kingdom</th>\n",
       "      <td>52.834146</td>\n",
       "      <td>56.405288</td>\n",
       "      <td>54.590491</td>\n",
       "      <td>58.806634</td>\n",
       "      <td>63.157196</td>\n",
       "      <td>61.88995</td>\n",
       "      <td>61.655527</td>\n",
       "      <td>58.857317</td>\n",
       "      <td>56.913021</td>\n",
       "      <td>59.25622</td>\n",
       "      <td>62.799567</td>\n",
       "      <td>63.999796</td>\n",
       "      <td>64.130153</td>\n",
       "      <td>58.116159</td>\n",
       "      <td>56.670334</td>\n",
       "    </tr>\n",
       "    <tr>\n",
       "      <th>United States</th>\n",
       "      <td>28.012018</td>\n",
       "      <td>29.867796</td>\n",
       "      <td>24.759531</td>\n",
       "      <td>28.219895</td>\n",
       "      <td>30.842486</td>\n",
       "      <td>30.681835</td>\n",
       "      <td>30.002367</td>\n",
       "      <td>29.998</td>\n",
       "      <td>27.812234</td>\n",
       "      <td>26.586999</td>\n",
       "      <td>27.279161</td>\n",
       "      <td>27.610379</td>\n",
       "      <td>26.451949</td>\n",
       "      <td>23.383762</td>\n",
       "      <td>25.4814</td>\n",
       "    </tr>\n",
       "  </tbody>\n",
       "</table>\n",
       "</div>"
      ],
      "text/plain": [
       "                         2007        2008       2009        2010        2011   \\\n",
       "pais                                                                            \n",
       "China                62.193363   57.612715   45.18487   50.717078   50.740905   \n",
       "Netherlands         130.457871  131.059892  116.88955  131.522074  142.471773   \n",
       "Paraguay             79.001137   80.777575  70.841982   81.257523   78.492124   \n",
       "Russian Federation   51.706123   53.382466  48.435061   50.355505   48.035399   \n",
       "Spain                57.747604    55.98333  46.994874   52.928241   58.793171   \n",
       "United Kingdom       52.834146   56.405288  54.590491   58.806634   63.157196   \n",
       "United States        28.012018   29.867796  24.759531   28.219895   30.842486   \n",
       "\n",
       "                         2012        2013        2014        2015   \\\n",
       "pais                                                                 \n",
       "China                48.267522   46.744376   44.905216   39.464169   \n",
       "Netherlands         149.268415  149.549331  150.053755  157.816576   \n",
       "Paraguay             74.764957   73.369871   69.083724   66.940141   \n",
       "Russian Federation    47.15139   46.287149   47.801341   49.359349   \n",
       "Spain                60.845075   61.976316   63.838262   64.183205   \n",
       "United Kingdom        61.88995   61.655527   58.857317   56.913021   \n",
       "United States        30.681835   30.002367      29.998   27.812234   \n",
       "\n",
       "                         2016        2017       2018        2019        2020   \\\n",
       "pais                                                                            \n",
       "China                36.894415   37.632413  37.565784   35.890096   34.754296   \n",
       "Netherlands         148.858665  156.028211  158.82321  155.270677  146.461778   \n",
       "Paraguay             67.788388   71.482213  72.528586   71.327655    63.09465   \n",
       "Russian Federation    46.51812   46.876524    51.5809   49.228754   46.030866   \n",
       "Spain                63.739883   66.657061   67.57494   66.873891   60.143168   \n",
       "United Kingdom        59.25622   62.799567  63.999796   64.130153   58.116159   \n",
       "United States        26.586999   27.279161  27.610379   26.451949   23.383762   \n",
       "\n",
       "                         2021   \n",
       "pais                            \n",
       "China                37.468958  \n",
       "Netherlands         155.700083  \n",
       "Paraguay             70.801081  \n",
       "Russian Federation   52.167008  \n",
       "Spain                68.381777  \n",
       "United Kingdom       56.670334  \n",
       "United States          25.4814  "
      ]
     },
     "execution_count": 32,
     "metadata": {},
     "output_type": "execute_result"
    }
   ],
   "source": [
    "paises_trade = dataset_trade.query(\"pais == 'Paraguay' or pais == 'Russian Federation' or pais == 'United States' or pais == 'United Kingdom' or pais == 'China' or pais == 'Netherlands' or pais == 'Spain'\")\n",
    "paises_trade.set_index('pais',inplace=True)\n",
    "paises_trade"
   ]
  },
  {
   "cell_type": "code",
   "execution_count": 33,
   "metadata": {},
   "outputs": [
    {
     "data": {
      "text/html": [
       "<div>\n",
       "<style scoped>\n",
       "    .dataframe tbody tr th:only-of-type {\n",
       "        vertical-align: middle;\n",
       "    }\n",
       "\n",
       "    .dataframe tbody tr th {\n",
       "        vertical-align: top;\n",
       "    }\n",
       "\n",
       "    .dataframe thead th {\n",
       "        text-align: right;\n",
       "    }\n",
       "</style>\n",
       "<table border=\"1\" class=\"dataframe\">\n",
       "  <thead>\n",
       "    <tr style=\"text-align: right;\">\n",
       "      <th></th>\n",
       "      <th>2007</th>\n",
       "      <th>2008</th>\n",
       "      <th>2009</th>\n",
       "      <th>2010</th>\n",
       "      <th>2011</th>\n",
       "      <th>2012</th>\n",
       "      <th>2013</th>\n",
       "      <th>2014</th>\n",
       "      <th>2015</th>\n",
       "      <th>2016</th>\n",
       "      <th>2017</th>\n",
       "      <th>2018</th>\n",
       "      <th>2019</th>\n",
       "      <th>2020</th>\n",
       "      <th>2021</th>\n",
       "    </tr>\n",
       "    <tr>\n",
       "      <th>pais</th>\n",
       "      <th></th>\n",
       "      <th></th>\n",
       "      <th></th>\n",
       "      <th></th>\n",
       "      <th></th>\n",
       "      <th></th>\n",
       "      <th></th>\n",
       "      <th></th>\n",
       "      <th></th>\n",
       "      <th></th>\n",
       "      <th></th>\n",
       "      <th></th>\n",
       "      <th></th>\n",
       "      <th></th>\n",
       "      <th></th>\n",
       "    </tr>\n",
       "  </thead>\n",
       "  <tbody>\n",
       "    <tr>\n",
       "      <th>China</th>\n",
       "      <td>1317885000</td>\n",
       "      <td>1324655000</td>\n",
       "      <td>1331260000</td>\n",
       "      <td>1337705000</td>\n",
       "      <td>1345035000</td>\n",
       "      <td>1354190000</td>\n",
       "      <td>1363240000</td>\n",
       "      <td>1371860000</td>\n",
       "      <td>1379860000</td>\n",
       "      <td>1387790000</td>\n",
       "      <td>1396215000</td>\n",
       "      <td>1402760000</td>\n",
       "      <td>1407745000</td>\n",
       "      <td>1411100000</td>\n",
       "      <td>1412360000</td>\n",
       "    </tr>\n",
       "    <tr>\n",
       "      <th>Netherlands</th>\n",
       "      <td>16381696</td>\n",
       "      <td>16445593</td>\n",
       "      <td>16530388</td>\n",
       "      <td>16615394</td>\n",
       "      <td>16693074</td>\n",
       "      <td>16754962</td>\n",
       "      <td>16804432</td>\n",
       "      <td>16865008</td>\n",
       "      <td>16939923</td>\n",
       "      <td>17030314</td>\n",
       "      <td>17131296</td>\n",
       "      <td>17231624</td>\n",
       "      <td>17344874</td>\n",
       "      <td>17441500</td>\n",
       "      <td>17533044</td>\n",
       "    </tr>\n",
       "    <tr>\n",
       "      <th>Paraguay</th>\n",
       "      <td>5590145</td>\n",
       "      <td>5645148</td>\n",
       "      <td>5702574</td>\n",
       "      <td>5768613</td>\n",
       "      <td>5843939</td>\n",
       "      <td>5923322</td>\n",
       "      <td>6005652</td>\n",
       "      <td>6090721</td>\n",
       "      <td>6177950</td>\n",
       "      <td>6266615</td>\n",
       "      <td>6355404</td>\n",
       "      <td>6443328</td>\n",
       "      <td>6530026</td>\n",
       "      <td>6618695</td>\n",
       "      <td>6703799</td>\n",
       "    </tr>\n",
       "    <tr>\n",
       "      <th>Russian Federation</th>\n",
       "      <td>142805114</td>\n",
       "      <td>142742366</td>\n",
       "      <td>142785349</td>\n",
       "      <td>142849468</td>\n",
       "      <td>142960908</td>\n",
       "      <td>143201721</td>\n",
       "      <td>143506995</td>\n",
       "      <td>143819667</td>\n",
       "      <td>144096870</td>\n",
       "      <td>144342397</td>\n",
       "      <td>144496739</td>\n",
       "      <td>144477859</td>\n",
       "      <td>144406261</td>\n",
       "      <td>144073139</td>\n",
       "      <td>143449286</td>\n",
       "    </tr>\n",
       "    <tr>\n",
       "      <th>Spain</th>\n",
       "      <td>45226803</td>\n",
       "      <td>45954106</td>\n",
       "      <td>46362946</td>\n",
       "      <td>46576897</td>\n",
       "      <td>46742697</td>\n",
       "      <td>46773055</td>\n",
       "      <td>46620045</td>\n",
       "      <td>46480882</td>\n",
       "      <td>46444832</td>\n",
       "      <td>46484062</td>\n",
       "      <td>46593236</td>\n",
       "      <td>46797754</td>\n",
       "      <td>47134837</td>\n",
       "      <td>47365655</td>\n",
       "      <td>47415750</td>\n",
       "    </tr>\n",
       "    <tr>\n",
       "      <th>United Kingdom</th>\n",
       "      <td>61322463</td>\n",
       "      <td>61806995</td>\n",
       "      <td>62276270</td>\n",
       "      <td>62766365</td>\n",
       "      <td>63258810</td>\n",
       "      <td>63700215</td>\n",
       "      <td>64128273</td>\n",
       "      <td>64602298</td>\n",
       "      <td>65116219</td>\n",
       "      <td>65611593</td>\n",
       "      <td>66058859</td>\n",
       "      <td>66460344</td>\n",
       "      <td>66836327</td>\n",
       "      <td>67081000</td>\n",
       "      <td>67326569</td>\n",
       "    </tr>\n",
       "    <tr>\n",
       "      <th>United States</th>\n",
       "      <td>301231207</td>\n",
       "      <td>304093966</td>\n",
       "      <td>306771529</td>\n",
       "      <td>309327143</td>\n",
       "      <td>311583481</td>\n",
       "      <td>313877662</td>\n",
       "      <td>316059947</td>\n",
       "      <td>318386329</td>\n",
       "      <td>320738994</td>\n",
       "      <td>323071755</td>\n",
       "      <td>325122128</td>\n",
       "      <td>326838199</td>\n",
       "      <td>328329953</td>\n",
       "      <td>331501080</td>\n",
       "      <td>331893745</td>\n",
       "    </tr>\n",
       "  </tbody>\n",
       "</table>\n",
       "</div>"
      ],
      "text/plain": [
       "                         2007        2008        2009        2010   \\\n",
       "pais                                                                 \n",
       "China               1317885000  1324655000  1331260000  1337705000   \n",
       "Netherlands           16381696    16445593    16530388    16615394   \n",
       "Paraguay               5590145     5645148     5702574     5768613   \n",
       "Russian Federation   142805114   142742366   142785349   142849468   \n",
       "Spain                 45226803    45954106    46362946    46576897   \n",
       "United Kingdom        61322463    61806995    62276270    62766365   \n",
       "United States        301231207   304093966   306771529   309327143   \n",
       "\n",
       "                         2011        2012        2013        2014   \\\n",
       "pais                                                                 \n",
       "China               1345035000  1354190000  1363240000  1371860000   \n",
       "Netherlands           16693074    16754962    16804432    16865008   \n",
       "Paraguay               5843939     5923322     6005652     6090721   \n",
       "Russian Federation   142960908   143201721   143506995   143819667   \n",
       "Spain                 46742697    46773055    46620045    46480882   \n",
       "United Kingdom        63258810    63700215    64128273    64602298   \n",
       "United States        311583481   313877662   316059947   318386329   \n",
       "\n",
       "                         2015        2016        2017        2018   \\\n",
       "pais                                                                 \n",
       "China               1379860000  1387790000  1396215000  1402760000   \n",
       "Netherlands           16939923    17030314    17131296    17231624   \n",
       "Paraguay               6177950     6266615     6355404     6443328   \n",
       "Russian Federation   144096870   144342397   144496739   144477859   \n",
       "Spain                 46444832    46484062    46593236    46797754   \n",
       "United Kingdom        65116219    65611593    66058859    66460344   \n",
       "United States        320738994   323071755   325122128   326838199   \n",
       "\n",
       "                         2019        2020        2021   \n",
       "pais                                                    \n",
       "China               1407745000  1411100000  1412360000  \n",
       "Netherlands           17344874    17441500    17533044  \n",
       "Paraguay               6530026     6618695     6703799  \n",
       "Russian Federation   144406261   144073139   143449286  \n",
       "Spain                 47134837    47365655    47415750  \n",
       "United Kingdom        66836327    67081000    67326569  \n",
       "United States        328329953   331501080   331893745  "
      ]
     },
     "execution_count": 33,
     "metadata": {},
     "output_type": "execute_result"
    }
   ],
   "source": [
    "paises_population = dataset_population.query(\"pais == 'Paraguay' or pais == 'Russian Federation' or pais == 'United States' or pais == 'United Kingdom' or pais == 'China' or pais == 'Netherlands' or pais == 'Spain'\")\n",
    "paises_population.set_index('pais',inplace=True)\n",
    "paises_population"
   ]
  },
  {
   "cell_type": "code",
   "execution_count": 34,
   "metadata": {},
   "outputs": [
    {
     "data": {
      "text/html": [
       "<div>\n",
       "<style scoped>\n",
       "    .dataframe tbody tr th:only-of-type {\n",
       "        vertical-align: middle;\n",
       "    }\n",
       "\n",
       "    .dataframe tbody tr th {\n",
       "        vertical-align: top;\n",
       "    }\n",
       "\n",
       "    .dataframe thead th {\n",
       "        text-align: right;\n",
       "    }\n",
       "</style>\n",
       "<table border=\"1\" class=\"dataframe\">\n",
       "  <thead>\n",
       "    <tr style=\"text-align: right;\">\n",
       "      <th></th>\n",
       "      <th>2007</th>\n",
       "      <th>2008</th>\n",
       "      <th>2009</th>\n",
       "      <th>2010</th>\n",
       "      <th>2011</th>\n",
       "      <th>2012</th>\n",
       "      <th>2013</th>\n",
       "      <th>2014</th>\n",
       "      <th>2015</th>\n",
       "      <th>2016</th>\n",
       "      <th>2017</th>\n",
       "      <th>2018</th>\n",
       "      <th>2019</th>\n",
       "      <th>2020</th>\n",
       "      <th>2021</th>\n",
       "    </tr>\n",
       "    <tr>\n",
       "      <th>pais</th>\n",
       "      <th></th>\n",
       "      <th></th>\n",
       "      <th></th>\n",
       "      <th></th>\n",
       "      <th></th>\n",
       "      <th></th>\n",
       "      <th></th>\n",
       "      <th></th>\n",
       "      <th></th>\n",
       "      <th></th>\n",
       "      <th></th>\n",
       "      <th></th>\n",
       "      <th></th>\n",
       "      <th></th>\n",
       "      <th></th>\n",
       "    </tr>\n",
       "  </thead>\n",
       "  <tbody>\n",
       "    <tr>\n",
       "      <th>China</th>\n",
       "      <td>4.35</td>\n",
       "      <td>4.59</td>\n",
       "      <td>4.72</td>\n",
       "      <td>4.53</td>\n",
       "      <td>4.55</td>\n",
       "      <td>4.58</td>\n",
       "      <td>4.6</td>\n",
       "      <td>4.63</td>\n",
       "      <td>4.65</td>\n",
       "      <td>4.56</td>\n",
       "      <td>4.47</td>\n",
       "      <td>4.31</td>\n",
       "      <td>4.56</td>\n",
       "      <td>5</td>\n",
       "      <td>4.55</td>\n",
       "    </tr>\n",
       "    <tr>\n",
       "      <th>Netherlands</th>\n",
       "      <td>4.15</td>\n",
       "      <td>3.65</td>\n",
       "      <td>4.35</td>\n",
       "      <td>4.99</td>\n",
       "      <td>4.98</td>\n",
       "      <td>5.82</td>\n",
       "      <td>7.24</td>\n",
       "      <td>7.42</td>\n",
       "      <td>6.87</td>\n",
       "      <td>6.01</td>\n",
       "      <td>4.84</td>\n",
       "      <td>3.83</td>\n",
       "      <td>3.38</td>\n",
       "      <td>3.82</td>\n",
       "      <td>4.21</td>\n",
       "    </tr>\n",
       "    <tr>\n",
       "      <th>Paraguay</th>\n",
       "      <td>4.71</td>\n",
       "      <td>4.42</td>\n",
       "      <td>5.46</td>\n",
       "      <td>4.57</td>\n",
       "      <td>4.67</td>\n",
       "      <td>4.09</td>\n",
       "      <td>4.38</td>\n",
       "      <td>5.03</td>\n",
       "      <td>4.56</td>\n",
       "      <td>5.25</td>\n",
       "      <td>4.61</td>\n",
       "      <td>6.22</td>\n",
       "      <td>6.59</td>\n",
       "      <td>7.55</td>\n",
       "      <td>7.31</td>\n",
       "    </tr>\n",
       "    <tr>\n",
       "      <th>Russian Federation</th>\n",
       "      <td>6</td>\n",
       "      <td>6.21</td>\n",
       "      <td>8.3</td>\n",
       "      <td>7.37</td>\n",
       "      <td>6.54</td>\n",
       "      <td>5.44</td>\n",
       "      <td>5.46</td>\n",
       "      <td>5.16</td>\n",
       "      <td>5.57</td>\n",
       "      <td>5.56</td>\n",
       "      <td>5.21</td>\n",
       "      <td>4.85</td>\n",
       "      <td>4.5</td>\n",
       "      <td>5.59</td>\n",
       "      <td>4.72</td>\n",
       "    </tr>\n",
       "    <tr>\n",
       "      <th>Spain</th>\n",
       "      <td>8.23</td>\n",
       "      <td>11.25</td>\n",
       "      <td>17.86</td>\n",
       "      <td>19.86</td>\n",
       "      <td>21.39</td>\n",
       "      <td>24.79</td>\n",
       "      <td>26.09</td>\n",
       "      <td>24.44</td>\n",
       "      <td>22.06</td>\n",
       "      <td>19.64</td>\n",
       "      <td>17.22</td>\n",
       "      <td>15.25</td>\n",
       "      <td>14.1</td>\n",
       "      <td>15.53</td>\n",
       "      <td>14.78</td>\n",
       "    </tr>\n",
       "    <tr>\n",
       "      <th>United Kingdom</th>\n",
       "      <td>5.26</td>\n",
       "      <td>5.62</td>\n",
       "      <td>7.54</td>\n",
       "      <td>7.79</td>\n",
       "      <td>8.04</td>\n",
       "      <td>7.88</td>\n",
       "      <td>7.52</td>\n",
       "      <td>6.11</td>\n",
       "      <td>5.3</td>\n",
       "      <td>4.81</td>\n",
       "      <td>4.33</td>\n",
       "      <td>4</td>\n",
       "      <td>3.74</td>\n",
       "      <td>4.472</td>\n",
       "      <td>4.826</td>\n",
       "    </tr>\n",
       "    <tr>\n",
       "      <th>United States</th>\n",
       "      <td>4.62</td>\n",
       "      <td>5.78</td>\n",
       "      <td>9.25</td>\n",
       "      <td>9.63</td>\n",
       "      <td>8.95</td>\n",
       "      <td>8.07</td>\n",
       "      <td>7.37</td>\n",
       "      <td>6.17</td>\n",
       "      <td>5.28</td>\n",
       "      <td>4.87</td>\n",
       "      <td>4.36</td>\n",
       "      <td>3.9</td>\n",
       "      <td>3.67</td>\n",
       "      <td>8.05</td>\n",
       "      <td>5.35</td>\n",
       "    </tr>\n",
       "  </tbody>\n",
       "</table>\n",
       "</div>"
      ],
      "text/plain": [
       "                   2007   2008   2009   2010   2011   2012   2013   2014   \\\n",
       "pais                                                                        \n",
       "China               4.35   4.59   4.72   4.53   4.55   4.58    4.6   4.63   \n",
       "Netherlands         4.15   3.65   4.35   4.99   4.98   5.82   7.24   7.42   \n",
       "Paraguay            4.71   4.42   5.46   4.57   4.67   4.09   4.38   5.03   \n",
       "Russian Federation     6   6.21    8.3   7.37   6.54   5.44   5.46   5.16   \n",
       "Spain               8.23  11.25  17.86  19.86  21.39  24.79  26.09  24.44   \n",
       "United Kingdom      5.26   5.62   7.54   7.79   8.04   7.88   7.52   6.11   \n",
       "United States       4.62   5.78   9.25   9.63   8.95   8.07   7.37   6.17   \n",
       "\n",
       "                    2015   2016   2017   2018  2019   2020   2021   \n",
       "pais                                                                \n",
       "China                4.65   4.56   4.47   4.31  4.56      5   4.55  \n",
       "Netherlands          6.87   6.01   4.84   3.83  3.38   3.82   4.21  \n",
       "Paraguay             4.56   5.25   4.61   6.22  6.59   7.55   7.31  \n",
       "Russian Federation   5.57   5.56   5.21   4.85   4.5   5.59   4.72  \n",
       "Spain               22.06  19.64  17.22  15.25  14.1  15.53  14.78  \n",
       "United Kingdom        5.3   4.81   4.33      4  3.74  4.472  4.826  \n",
       "United States        5.28   4.87   4.36    3.9  3.67   8.05   5.35  "
      ]
     },
     "execution_count": 34,
     "metadata": {},
     "output_type": "execute_result"
    }
   ],
   "source": [
    "paises_unemployment = dataset_unemployment.query(\"pais == 'Paraguay' or pais == 'Russian Federation' or pais == 'United States' or pais == 'United Kingdom' or pais == 'China' or pais == 'Netherlands' or pais == 'Spain'\")\n",
    "paises_unemployment.set_index('pais',inplace=True)\n",
    "paises_unemployment"
   ]
  },
  {
   "cell_type": "code",
   "execution_count": 35,
   "metadata": {},
   "outputs": [
    {
     "name": "stdout",
     "output_type": "stream",
     "text": [
      "<class 'pandas.core.frame.DataFrame'>\n",
      "Index: 7 entries, China to United States\n",
      "Data columns (total 15 columns):\n",
      " #   Column  Non-Null Count  Dtype \n",
      "---  ------  --------------  ----- \n",
      " 0   2007    7 non-null      object\n",
      " 1   2008    7 non-null      object\n",
      " 2   2009    7 non-null      object\n",
      " 3   2010    7 non-null      object\n",
      " 4   2011    7 non-null      object\n",
      " 5   2012    7 non-null      object\n",
      " 6   2013    7 non-null      object\n",
      " 7   2014    7 non-null      object\n",
      " 8   2015    7 non-null      object\n",
      " 9   2016    7 non-null      object\n",
      " 10  2017    7 non-null      object\n",
      " 11  2018    7 non-null      object\n",
      " 12  2019    7 non-null      object\n",
      " 13  2020    7 non-null      object\n",
      " 14  2021    7 non-null      object\n",
      "dtypes: object(15)\n",
      "memory usage: 896.0+ bytes\n"
     ]
    }
   ],
   "source": [
    "paises_pib.info()"
   ]
  },
  {
   "cell_type": "code",
   "execution_count": 36,
   "metadata": {},
   "outputs": [
    {
     "data": {
      "text/html": [
       "<div>\n",
       "<style scoped>\n",
       "    .dataframe tbody tr th:only-of-type {\n",
       "        vertical-align: middle;\n",
       "    }\n",
       "\n",
       "    .dataframe tbody tr th {\n",
       "        vertical-align: top;\n",
       "    }\n",
       "\n",
       "    .dataframe thead th {\n",
       "        text-align: right;\n",
       "    }\n",
       "</style>\n",
       "<table border=\"1\" class=\"dataframe\">\n",
       "  <thead>\n",
       "    <tr style=\"text-align: right;\">\n",
       "      <th></th>\n",
       "      <th>pais</th>\n",
       "      <th>2007</th>\n",
       "      <th>2008</th>\n",
       "      <th>2009</th>\n",
       "      <th>2010</th>\n",
       "      <th>2011</th>\n",
       "      <th>2012</th>\n",
       "      <th>2013</th>\n",
       "      <th>2014</th>\n",
       "      <th>2015</th>\n",
       "      <th>2016</th>\n",
       "      <th>2017</th>\n",
       "      <th>2018</th>\n",
       "      <th>2019</th>\n",
       "      <th>2020</th>\n",
       "      <th>2021</th>\n",
       "    </tr>\n",
       "  </thead>\n",
       "  <tbody>\n",
       "    <tr>\n",
       "      <th>0</th>\n",
       "      <td>China</td>\n",
       "      <td>3.550343e+12</td>\n",
       "      <td>4.594307e+12</td>\n",
       "      <td>5.101703e+12</td>\n",
       "      <td>6.087164e+12</td>\n",
       "      <td>7.551500e+12</td>\n",
       "      <td>8.532230e+12</td>\n",
       "      <td>9.570406e+12</td>\n",
       "      <td>1.047568e+13</td>\n",
       "      <td>1.106155e+13</td>\n",
       "      <td>1.123328e+13</td>\n",
       "      <td>1.231041e+13</td>\n",
       "      <td>1.389482e+13</td>\n",
       "      <td>1.427994e+13</td>\n",
       "      <td>1.468767e+13</td>\n",
       "      <td>1.773406e+13</td>\n",
       "    </tr>\n",
       "    <tr>\n",
       "      <th>1</th>\n",
       "      <td>Netherlands</td>\n",
       "      <td>8.485589e+11</td>\n",
       "      <td>9.518700e+11</td>\n",
       "      <td>8.715186e+11</td>\n",
       "      <td>8.473809e+11</td>\n",
       "      <td>9.052706e+11</td>\n",
       "      <td>8.389233e+11</td>\n",
       "      <td>8.771728e+11</td>\n",
       "      <td>8.921680e+11</td>\n",
       "      <td>7.655728e+11</td>\n",
       "      <td>7.840604e+11</td>\n",
       "      <td>8.338696e+11</td>\n",
       "      <td>9.140434e+11</td>\n",
       "      <td>9.101943e+11</td>\n",
       "      <td>9.097935e+11</td>\n",
       "      <td>1.012847e+12</td>\n",
       "    </tr>\n",
       "    <tr>\n",
       "      <th>2</th>\n",
       "      <td>Paraguay</td>\n",
       "      <td>1.785639e+10</td>\n",
       "      <td>2.461527e+10</td>\n",
       "      <td>2.235515e+10</td>\n",
       "      <td>2.726089e+10</td>\n",
       "      <td>3.375624e+10</td>\n",
       "      <td>3.327192e+10</td>\n",
       "      <td>3.850112e+10</td>\n",
       "      <td>4.037793e+10</td>\n",
       "      <td>3.621145e+10</td>\n",
       "      <td>3.608970e+10</td>\n",
       "      <td>3.899713e+10</td>\n",
       "      <td>4.022545e+10</td>\n",
       "      <td>3.792534e+10</td>\n",
       "      <td>3.543218e+10</td>\n",
       "      <td>3.949543e+10</td>\n",
       "    </tr>\n",
       "    <tr>\n",
       "      <th>3</th>\n",
       "      <td>Russian Federation</td>\n",
       "      <td>1.299706e+12</td>\n",
       "      <td>1.660846e+12</td>\n",
       "      <td>1.222644e+12</td>\n",
       "      <td>1.524917e+12</td>\n",
       "      <td>2.045926e+12</td>\n",
       "      <td>2.208296e+12</td>\n",
       "      <td>2.292473e+12</td>\n",
       "      <td>2.059242e+12</td>\n",
       "      <td>1.363481e+12</td>\n",
       "      <td>1.276787e+12</td>\n",
       "      <td>1.574199e+12</td>\n",
       "      <td>1.657330e+12</td>\n",
       "      <td>1.693114e+12</td>\n",
       "      <td>1.489362e+12</td>\n",
       "      <td>1.778783e+12</td>\n",
       "    </tr>\n",
       "    <tr>\n",
       "      <th>4</th>\n",
       "      <td>Spain</td>\n",
       "      <td>1.474003e+12</td>\n",
       "      <td>1.631863e+12</td>\n",
       "      <td>1.491473e+12</td>\n",
       "      <td>1.422108e+12</td>\n",
       "      <td>1.480710e+12</td>\n",
       "      <td>1.324751e+12</td>\n",
       "      <td>1.355580e+12</td>\n",
       "      <td>1.371821e+12</td>\n",
       "      <td>1.196157e+12</td>\n",
       "      <td>1.233555e+12</td>\n",
       "      <td>1.313245e+12</td>\n",
       "      <td>1.421703e+12</td>\n",
       "      <td>1.394320e+12</td>\n",
       "      <td>1.276963e+12</td>\n",
       "      <td>1.427381e+12</td>\n",
       "    </tr>\n",
       "    <tr>\n",
       "      <th>5</th>\n",
       "      <td>United Kingdom</td>\n",
       "      <td>3.092821e+12</td>\n",
       "      <td>2.931502e+12</td>\n",
       "      <td>2.417638e+12</td>\n",
       "      <td>2.491397e+12</td>\n",
       "      <td>2.666403e+12</td>\n",
       "      <td>2.706341e+12</td>\n",
       "      <td>2.786315e+12</td>\n",
       "      <td>3.065223e+12</td>\n",
       "      <td>2.934858e+12</td>\n",
       "      <td>2.699660e+12</td>\n",
       "      <td>2.683399e+12</td>\n",
       "      <td>2.878152e+12</td>\n",
       "      <td>2.857058e+12</td>\n",
       "      <td>2.704609e+12</td>\n",
       "      <td>3.131378e+12</td>\n",
       "    </tr>\n",
       "    <tr>\n",
       "      <th>6</th>\n",
       "      <td>United States</td>\n",
       "      <td>1.447423e+13</td>\n",
       "      <td>1.476986e+13</td>\n",
       "      <td>1.447806e+13</td>\n",
       "      <td>1.504896e+13</td>\n",
       "      <td>1.559973e+13</td>\n",
       "      <td>1.625397e+13</td>\n",
       "      <td>1.684319e+13</td>\n",
       "      <td>1.755068e+13</td>\n",
       "      <td>1.820602e+13</td>\n",
       "      <td>1.869511e+13</td>\n",
       "      <td>1.947734e+13</td>\n",
       "      <td>2.053306e+13</td>\n",
       "      <td>2.138098e+13</td>\n",
       "      <td>2.106047e+13</td>\n",
       "      <td>2.331508e+13</td>\n",
       "    </tr>\n",
       "  </tbody>\n",
       "</table>\n",
       "</div>"
      ],
      "text/plain": [
       "                 pais          2007          2008          2009          2010  \\\n",
       "0               China  3.550343e+12  4.594307e+12  5.101703e+12  6.087164e+12   \n",
       "1         Netherlands  8.485589e+11  9.518700e+11  8.715186e+11  8.473809e+11   \n",
       "2            Paraguay  1.785639e+10  2.461527e+10  2.235515e+10  2.726089e+10   \n",
       "3  Russian Federation  1.299706e+12  1.660846e+12  1.222644e+12  1.524917e+12   \n",
       "4               Spain  1.474003e+12  1.631863e+12  1.491473e+12  1.422108e+12   \n",
       "5      United Kingdom  3.092821e+12  2.931502e+12  2.417638e+12  2.491397e+12   \n",
       "6       United States  1.447423e+13  1.476986e+13  1.447806e+13  1.504896e+13   \n",
       "\n",
       "           2011          2012          2013          2014          2015  \\\n",
       "0  7.551500e+12  8.532230e+12  9.570406e+12  1.047568e+13  1.106155e+13   \n",
       "1  9.052706e+11  8.389233e+11  8.771728e+11  8.921680e+11  7.655728e+11   \n",
       "2  3.375624e+10  3.327192e+10  3.850112e+10  4.037793e+10  3.621145e+10   \n",
       "3  2.045926e+12  2.208296e+12  2.292473e+12  2.059242e+12  1.363481e+12   \n",
       "4  1.480710e+12  1.324751e+12  1.355580e+12  1.371821e+12  1.196157e+12   \n",
       "5  2.666403e+12  2.706341e+12  2.786315e+12  3.065223e+12  2.934858e+12   \n",
       "6  1.559973e+13  1.625397e+13  1.684319e+13  1.755068e+13  1.820602e+13   \n",
       "\n",
       "           2016          2017          2018          2019          2020  \\\n",
       "0  1.123328e+13  1.231041e+13  1.389482e+13  1.427994e+13  1.468767e+13   \n",
       "1  7.840604e+11  8.338696e+11  9.140434e+11  9.101943e+11  9.097935e+11   \n",
       "2  3.608970e+10  3.899713e+10  4.022545e+10  3.792534e+10  3.543218e+10   \n",
       "3  1.276787e+12  1.574199e+12  1.657330e+12  1.693114e+12  1.489362e+12   \n",
       "4  1.233555e+12  1.313245e+12  1.421703e+12  1.394320e+12  1.276963e+12   \n",
       "5  2.699660e+12  2.683399e+12  2.878152e+12  2.857058e+12  2.704609e+12   \n",
       "6  1.869511e+13  1.947734e+13  2.053306e+13  2.138098e+13  2.106047e+13   \n",
       "\n",
       "           2021  \n",
       "0  1.773406e+13  \n",
       "1  1.012847e+12  \n",
       "2  3.949543e+10  \n",
       "3  1.778783e+12  \n",
       "4  1.427381e+12  \n",
       "5  3.131378e+12  \n",
       "6  2.331508e+13  "
      ]
     },
     "execution_count": 36,
     "metadata": {},
     "output_type": "execute_result"
    }
   ],
   "source": [
    "paises_pib = paises_pib.applymap(lambda x: float(x) if isinstance(x, str) else x)\n",
    "paises_pib.reset_index(inplace=True)\n",
    "paises_pib"
   ]
  },
  {
   "cell_type": "code",
   "execution_count": 37,
   "metadata": {},
   "outputs": [
    {
     "name": "stdout",
     "output_type": "stream",
     "text": [
      "<class 'pandas.core.frame.DataFrame'>\n",
      "RangeIndex: 7 entries, 0 to 6\n",
      "Data columns (total 16 columns):\n",
      " #   Column  Non-Null Count  Dtype  \n",
      "---  ------  --------------  -----  \n",
      " 0   pais    7 non-null      object \n",
      " 1   2007    7 non-null      float64\n",
      " 2   2008    7 non-null      float64\n",
      " 3   2009    7 non-null      float64\n",
      " 4   2010    7 non-null      float64\n",
      " 5   2011    7 non-null      float64\n",
      " 6   2012    7 non-null      float64\n",
      " 7   2013    7 non-null      float64\n",
      " 8   2014    7 non-null      float64\n",
      " 9   2015    7 non-null      float64\n",
      " 10  2016    7 non-null      float64\n",
      " 11  2017    7 non-null      float64\n",
      " 12  2018    7 non-null      float64\n",
      " 13  2019    7 non-null      float64\n",
      " 14  2020    7 non-null      float64\n",
      " 15  2021    7 non-null      float64\n",
      "dtypes: float64(15), object(1)\n",
      "memory usage: 1.0+ KB\n"
     ]
    }
   ],
   "source": [
    "paises_pib.info()"
   ]
  },
  {
   "cell_type": "code",
   "execution_count": 38,
   "metadata": {},
   "outputs": [
    {
     "name": "stdout",
     "output_type": "stream",
     "text": [
      "<class 'pandas.core.frame.DataFrame'>\n",
      "Index: 7 entries, China to United States\n",
      "Data columns (total 15 columns):\n",
      " #   Column  Non-Null Count  Dtype \n",
      "---  ------  --------------  ----- \n",
      " 0   2007    7 non-null      object\n",
      " 1   2008    7 non-null      object\n",
      " 2   2009    7 non-null      object\n",
      " 3   2010    7 non-null      object\n",
      " 4   2011    7 non-null      object\n",
      " 5   2012    7 non-null      object\n",
      " 6   2013    7 non-null      object\n",
      " 7   2014    7 non-null      object\n",
      " 8   2015    7 non-null      object\n",
      " 9   2016    7 non-null      object\n",
      " 10  2017    7 non-null      object\n",
      " 11  2018    7 non-null      object\n",
      " 12  2019    7 non-null      object\n",
      " 13  2020    7 non-null      object\n",
      " 14  2021    7 non-null      object\n",
      "dtypes: object(15)\n",
      "memory usage: 896.0+ bytes\n"
     ]
    }
   ],
   "source": [
    "paises_inflation.info()"
   ]
  },
  {
   "cell_type": "code",
   "execution_count": 39,
   "metadata": {},
   "outputs": [
    {
     "data": {
      "text/html": [
       "<div>\n",
       "<style scoped>\n",
       "    .dataframe tbody tr th:only-of-type {\n",
       "        vertical-align: middle;\n",
       "    }\n",
       "\n",
       "    .dataframe tbody tr th {\n",
       "        vertical-align: top;\n",
       "    }\n",
       "\n",
       "    .dataframe thead th {\n",
       "        text-align: right;\n",
       "    }\n",
       "</style>\n",
       "<table border=\"1\" class=\"dataframe\">\n",
       "  <thead>\n",
       "    <tr style=\"text-align: right;\">\n",
       "      <th></th>\n",
       "      <th>pais</th>\n",
       "      <th>2007</th>\n",
       "      <th>2008</th>\n",
       "      <th>2009</th>\n",
       "      <th>2010</th>\n",
       "      <th>2011</th>\n",
       "      <th>2012</th>\n",
       "      <th>2013</th>\n",
       "      <th>2014</th>\n",
       "      <th>2015</th>\n",
       "      <th>2016</th>\n",
       "      <th>2017</th>\n",
       "      <th>2018</th>\n",
       "      <th>2019</th>\n",
       "      <th>2020</th>\n",
       "      <th>2021</th>\n",
       "    </tr>\n",
       "  </thead>\n",
       "  <tbody>\n",
       "    <tr>\n",
       "      <th>0</th>\n",
       "      <td>China</td>\n",
       "      <td>4.816768</td>\n",
       "      <td>5.925251</td>\n",
       "      <td>-0.728165</td>\n",
       "      <td>3.175325</td>\n",
       "      <td>5.553899</td>\n",
       "      <td>2.619524</td>\n",
       "      <td>2.621050</td>\n",
       "      <td>1.921642</td>\n",
       "      <td>1.437024</td>\n",
       "      <td>2.000002</td>\n",
       "      <td>1.593136</td>\n",
       "      <td>2.074790</td>\n",
       "      <td>2.899234</td>\n",
       "      <td>2.419422</td>\n",
       "      <td>0.981015</td>\n",
       "    </tr>\n",
       "    <tr>\n",
       "      <th>1</th>\n",
       "      <td>Netherlands</td>\n",
       "      <td>1.613859</td>\n",
       "      <td>2.486502</td>\n",
       "      <td>1.189777</td>\n",
       "      <td>1.275306</td>\n",
       "      <td>2.341070</td>\n",
       "      <td>2.455548</td>\n",
       "      <td>2.506899</td>\n",
       "      <td>0.976035</td>\n",
       "      <td>0.600248</td>\n",
       "      <td>0.316667</td>\n",
       "      <td>1.381459</td>\n",
       "      <td>1.703498</td>\n",
       "      <td>2.633699</td>\n",
       "      <td>1.272460</td>\n",
       "      <td>2.675720</td>\n",
       "    </tr>\n",
       "    <tr>\n",
       "      <th>2</th>\n",
       "      <td>Paraguay</td>\n",
       "      <td>8.130474</td>\n",
       "      <td>10.154785</td>\n",
       "      <td>2.591947</td>\n",
       "      <td>4.651163</td>\n",
       "      <td>8.253968</td>\n",
       "      <td>3.675919</td>\n",
       "      <td>2.683857</td>\n",
       "      <td>5.028828</td>\n",
       "      <td>3.129003</td>\n",
       "      <td>4.086823</td>\n",
       "      <td>3.602477</td>\n",
       "      <td>3.975610</td>\n",
       "      <td>2.757097</td>\n",
       "      <td>1.767516</td>\n",
       "      <td>4.787983</td>\n",
       "    </tr>\n",
       "    <tr>\n",
       "      <th>3</th>\n",
       "      <td>Russian Federation</td>\n",
       "      <td>9.007299</td>\n",
       "      <td>14.110768</td>\n",
       "      <td>11.647330</td>\n",
       "      <td>6.849392</td>\n",
       "      <td>8.440465</td>\n",
       "      <td>5.074743</td>\n",
       "      <td>6.753710</td>\n",
       "      <td>7.823412</td>\n",
       "      <td>15.534405</td>\n",
       "      <td>7.042448</td>\n",
       "      <td>3.683329</td>\n",
       "      <td>2.878297</td>\n",
       "      <td>4.470367</td>\n",
       "      <td>3.381659</td>\n",
       "      <td>6.694459</td>\n",
       "    </tr>\n",
       "    <tr>\n",
       "      <th>4</th>\n",
       "      <td>Spain</td>\n",
       "      <td>2.786797</td>\n",
       "      <td>4.075343</td>\n",
       "      <td>-0.287813</td>\n",
       "      <td>1.799865</td>\n",
       "      <td>3.196102</td>\n",
       "      <td>2.446128</td>\n",
       "      <td>1.408581</td>\n",
       "      <td>-0.151115</td>\n",
       "      <td>-0.500366</td>\n",
       "      <td>-0.202598</td>\n",
       "      <td>1.956076</td>\n",
       "      <td>1.674981</td>\n",
       "      <td>0.699519</td>\n",
       "      <td>-0.322753</td>\n",
       "      <td>3.093135</td>\n",
       "    </tr>\n",
       "    <tr>\n",
       "      <th>5</th>\n",
       "      <td>United Kingdom</td>\n",
       "      <td>2.386562</td>\n",
       "      <td>3.521409</td>\n",
       "      <td>1.961732</td>\n",
       "      <td>2.492655</td>\n",
       "      <td>3.856112</td>\n",
       "      <td>2.573235</td>\n",
       "      <td>2.291667</td>\n",
       "      <td>1.451120</td>\n",
       "      <td>0.368047</td>\n",
       "      <td>1.008417</td>\n",
       "      <td>2.557756</td>\n",
       "      <td>2.292840</td>\n",
       "      <td>1.738105</td>\n",
       "      <td>0.989487</td>\n",
       "      <td>2.518371</td>\n",
       "    </tr>\n",
       "    <tr>\n",
       "      <th>6</th>\n",
       "      <td>United States</td>\n",
       "      <td>2.852672</td>\n",
       "      <td>3.839100</td>\n",
       "      <td>-0.355546</td>\n",
       "      <td>1.640043</td>\n",
       "      <td>3.156842</td>\n",
       "      <td>2.069337</td>\n",
       "      <td>1.464833</td>\n",
       "      <td>1.622223</td>\n",
       "      <td>0.118627</td>\n",
       "      <td>1.261583</td>\n",
       "      <td>2.130110</td>\n",
       "      <td>2.442583</td>\n",
       "      <td>1.812210</td>\n",
       "      <td>1.233584</td>\n",
       "      <td>4.697859</td>\n",
       "    </tr>\n",
       "  </tbody>\n",
       "</table>\n",
       "</div>"
      ],
      "text/plain": [
       "                 pais     2007       2008       2009      2010      2011   \\\n",
       "0               China  4.816768   5.925251  -0.728165  3.175325  5.553899   \n",
       "1         Netherlands  1.613859   2.486502   1.189777  1.275306  2.341070   \n",
       "2            Paraguay  8.130474  10.154785   2.591947  4.651163  8.253968   \n",
       "3  Russian Federation  9.007299  14.110768  11.647330  6.849392  8.440465   \n",
       "4               Spain  2.786797   4.075343  -0.287813  1.799865  3.196102   \n",
       "5      United Kingdom  2.386562   3.521409   1.961732  2.492655  3.856112   \n",
       "6       United States  2.852672   3.839100  -0.355546  1.640043  3.156842   \n",
       "\n",
       "      2012      2013      2014       2015      2016      2017      2018   \\\n",
       "0  2.619524  2.621050  1.921642   1.437024  2.000002  1.593136  2.074790   \n",
       "1  2.455548  2.506899  0.976035   0.600248  0.316667  1.381459  1.703498   \n",
       "2  3.675919  2.683857  5.028828   3.129003  4.086823  3.602477  3.975610   \n",
       "3  5.074743  6.753710  7.823412  15.534405  7.042448  3.683329  2.878297   \n",
       "4  2.446128  1.408581 -0.151115  -0.500366 -0.202598  1.956076  1.674981   \n",
       "5  2.573235  2.291667  1.451120   0.368047  1.008417  2.557756  2.292840   \n",
       "6  2.069337  1.464833  1.622223   0.118627  1.261583  2.130110  2.442583   \n",
       "\n",
       "      2019      2020      2021   \n",
       "0  2.899234  2.419422  0.981015  \n",
       "1  2.633699  1.272460  2.675720  \n",
       "2  2.757097  1.767516  4.787983  \n",
       "3  4.470367  3.381659  6.694459  \n",
       "4  0.699519 -0.322753  3.093135  \n",
       "5  1.738105  0.989487  2.518371  \n",
       "6  1.812210  1.233584  4.697859  "
      ]
     },
     "execution_count": 39,
     "metadata": {},
     "output_type": "execute_result"
    }
   ],
   "source": [
    "paises_inflation = paises_inflation.applymap(lambda x: float(x) if isinstance(x, str) else x)\n",
    "paises_inflation.reset_index(inplace=True)\n",
    "paises_inflation"
   ]
  },
  {
   "cell_type": "code",
   "execution_count": 40,
   "metadata": {},
   "outputs": [
    {
     "name": "stdout",
     "output_type": "stream",
     "text": [
      "<class 'pandas.core.frame.DataFrame'>\n",
      "RangeIndex: 7 entries, 0 to 6\n",
      "Data columns (total 16 columns):\n",
      " #   Column  Non-Null Count  Dtype  \n",
      "---  ------  --------------  -----  \n",
      " 0   pais    7 non-null      object \n",
      " 1   2007    7 non-null      float64\n",
      " 2   2008    7 non-null      float64\n",
      " 3   2009    7 non-null      float64\n",
      " 4   2010    7 non-null      float64\n",
      " 5   2011    7 non-null      float64\n",
      " 6   2012    7 non-null      float64\n",
      " 7   2013    7 non-null      float64\n",
      " 8   2014    7 non-null      float64\n",
      " 9   2015    7 non-null      float64\n",
      " 10  2016    7 non-null      float64\n",
      " 11  2017    7 non-null      float64\n",
      " 12  2018    7 non-null      float64\n",
      " 13  2019    7 non-null      float64\n",
      " 14  2020    7 non-null      float64\n",
      " 15  2021    7 non-null      float64\n",
      "dtypes: float64(15), object(1)\n",
      "memory usage: 1.0+ KB\n"
     ]
    }
   ],
   "source": [
    "paises_inflation.info()"
   ]
  },
  {
   "cell_type": "code",
   "execution_count": 41,
   "metadata": {},
   "outputs": [
    {
     "name": "stdout",
     "output_type": "stream",
     "text": [
      "<class 'pandas.core.frame.DataFrame'>\n",
      "Index: 7 entries, China to United States\n",
      "Data columns (total 15 columns):\n",
      " #   Column  Non-Null Count  Dtype \n",
      "---  ------  --------------  ----- \n",
      " 0   2007    7 non-null      object\n",
      " 1   2008    7 non-null      object\n",
      " 2   2009    7 non-null      object\n",
      " 3   2010    7 non-null      object\n",
      " 4   2011    7 non-null      object\n",
      " 5   2012    7 non-null      object\n",
      " 6   2013    7 non-null      object\n",
      " 7   2014    7 non-null      object\n",
      " 8   2015    7 non-null      object\n",
      " 9   2016    7 non-null      object\n",
      " 10  2017    7 non-null      object\n",
      " 11  2018    7 non-null      object\n",
      " 12  2019    7 non-null      object\n",
      " 13  2020    7 non-null      object\n",
      " 14  2021    7 non-null      object\n",
      "dtypes: object(15)\n",
      "memory usage: 896.0+ bytes\n"
     ]
    }
   ],
   "source": [
    "paises_trade.info()"
   ]
  },
  {
   "cell_type": "code",
   "execution_count": 42,
   "metadata": {},
   "outputs": [
    {
     "data": {
      "text/html": [
       "<div>\n",
       "<style scoped>\n",
       "    .dataframe tbody tr th:only-of-type {\n",
       "        vertical-align: middle;\n",
       "    }\n",
       "\n",
       "    .dataframe tbody tr th {\n",
       "        vertical-align: top;\n",
       "    }\n",
       "\n",
       "    .dataframe thead th {\n",
       "        text-align: right;\n",
       "    }\n",
       "</style>\n",
       "<table border=\"1\" class=\"dataframe\">\n",
       "  <thead>\n",
       "    <tr style=\"text-align: right;\">\n",
       "      <th></th>\n",
       "      <th>pais</th>\n",
       "      <th>2007</th>\n",
       "      <th>2008</th>\n",
       "      <th>2009</th>\n",
       "      <th>2010</th>\n",
       "      <th>2011</th>\n",
       "      <th>2012</th>\n",
       "      <th>2013</th>\n",
       "      <th>2014</th>\n",
       "      <th>2015</th>\n",
       "      <th>2016</th>\n",
       "      <th>2017</th>\n",
       "      <th>2018</th>\n",
       "      <th>2019</th>\n",
       "      <th>2020</th>\n",
       "      <th>2021</th>\n",
       "    </tr>\n",
       "  </thead>\n",
       "  <tbody>\n",
       "    <tr>\n",
       "      <th>0</th>\n",
       "      <td>China</td>\n",
       "      <td>62.193363</td>\n",
       "      <td>57.612715</td>\n",
       "      <td>45.184870</td>\n",
       "      <td>50.717078</td>\n",
       "      <td>50.740905</td>\n",
       "      <td>48.267522</td>\n",
       "      <td>46.744376</td>\n",
       "      <td>44.905216</td>\n",
       "      <td>39.464169</td>\n",
       "      <td>36.894415</td>\n",
       "      <td>37.632413</td>\n",
       "      <td>37.565784</td>\n",
       "      <td>35.890096</td>\n",
       "      <td>34.754296</td>\n",
       "      <td>37.468958</td>\n",
       "    </tr>\n",
       "    <tr>\n",
       "      <th>1</th>\n",
       "      <td>Netherlands</td>\n",
       "      <td>130.457871</td>\n",
       "      <td>131.059892</td>\n",
       "      <td>116.889550</td>\n",
       "      <td>131.522074</td>\n",
       "      <td>142.471773</td>\n",
       "      <td>149.268415</td>\n",
       "      <td>149.549331</td>\n",
       "      <td>150.053755</td>\n",
       "      <td>157.816576</td>\n",
       "      <td>148.858665</td>\n",
       "      <td>156.028211</td>\n",
       "      <td>158.823210</td>\n",
       "      <td>155.270677</td>\n",
       "      <td>146.461778</td>\n",
       "      <td>155.700083</td>\n",
       "    </tr>\n",
       "    <tr>\n",
       "      <th>2</th>\n",
       "      <td>Paraguay</td>\n",
       "      <td>79.001137</td>\n",
       "      <td>80.777575</td>\n",
       "      <td>70.841982</td>\n",
       "      <td>81.257523</td>\n",
       "      <td>78.492124</td>\n",
       "      <td>74.764957</td>\n",
       "      <td>73.369871</td>\n",
       "      <td>69.083724</td>\n",
       "      <td>66.940141</td>\n",
       "      <td>67.788388</td>\n",
       "      <td>71.482213</td>\n",
       "      <td>72.528586</td>\n",
       "      <td>71.327655</td>\n",
       "      <td>63.094650</td>\n",
       "      <td>70.801081</td>\n",
       "    </tr>\n",
       "    <tr>\n",
       "      <th>3</th>\n",
       "      <td>Russian Federation</td>\n",
       "      <td>51.706123</td>\n",
       "      <td>53.382466</td>\n",
       "      <td>48.435061</td>\n",
       "      <td>50.355505</td>\n",
       "      <td>48.035399</td>\n",
       "      <td>47.151390</td>\n",
       "      <td>46.287149</td>\n",
       "      <td>47.801341</td>\n",
       "      <td>49.359349</td>\n",
       "      <td>46.518120</td>\n",
       "      <td>46.876524</td>\n",
       "      <td>51.580900</td>\n",
       "      <td>49.228754</td>\n",
       "      <td>46.030866</td>\n",
       "      <td>52.167008</td>\n",
       "    </tr>\n",
       "    <tr>\n",
       "      <th>4</th>\n",
       "      <td>Spain</td>\n",
       "      <td>57.747604</td>\n",
       "      <td>55.983330</td>\n",
       "      <td>46.994874</td>\n",
       "      <td>52.928241</td>\n",
       "      <td>58.793171</td>\n",
       "      <td>60.845075</td>\n",
       "      <td>61.976316</td>\n",
       "      <td>63.838262</td>\n",
       "      <td>64.183205</td>\n",
       "      <td>63.739883</td>\n",
       "      <td>66.657061</td>\n",
       "      <td>67.574940</td>\n",
       "      <td>66.873891</td>\n",
       "      <td>60.143168</td>\n",
       "      <td>68.381777</td>\n",
       "    </tr>\n",
       "    <tr>\n",
       "      <th>5</th>\n",
       "      <td>United Kingdom</td>\n",
       "      <td>52.834146</td>\n",
       "      <td>56.405288</td>\n",
       "      <td>54.590491</td>\n",
       "      <td>58.806634</td>\n",
       "      <td>63.157196</td>\n",
       "      <td>61.889950</td>\n",
       "      <td>61.655527</td>\n",
       "      <td>58.857317</td>\n",
       "      <td>56.913021</td>\n",
       "      <td>59.256220</td>\n",
       "      <td>62.799567</td>\n",
       "      <td>63.999796</td>\n",
       "      <td>64.130153</td>\n",
       "      <td>58.116159</td>\n",
       "      <td>56.670334</td>\n",
       "    </tr>\n",
       "    <tr>\n",
       "      <th>6</th>\n",
       "      <td>United States</td>\n",
       "      <td>28.012018</td>\n",
       "      <td>29.867796</td>\n",
       "      <td>24.759531</td>\n",
       "      <td>28.219895</td>\n",
       "      <td>30.842486</td>\n",
       "      <td>30.681835</td>\n",
       "      <td>30.002367</td>\n",
       "      <td>29.998000</td>\n",
       "      <td>27.812234</td>\n",
       "      <td>26.586999</td>\n",
       "      <td>27.279161</td>\n",
       "      <td>27.610379</td>\n",
       "      <td>26.451949</td>\n",
       "      <td>23.383762</td>\n",
       "      <td>25.481400</td>\n",
       "    </tr>\n",
       "  </tbody>\n",
       "</table>\n",
       "</div>"
      ],
      "text/plain": [
       "                 pais       2007        2008        2009        2010   \\\n",
       "0               China   62.193363   57.612715   45.184870   50.717078   \n",
       "1         Netherlands  130.457871  131.059892  116.889550  131.522074   \n",
       "2            Paraguay   79.001137   80.777575   70.841982   81.257523   \n",
       "3  Russian Federation   51.706123   53.382466   48.435061   50.355505   \n",
       "4               Spain   57.747604   55.983330   46.994874   52.928241   \n",
       "5      United Kingdom   52.834146   56.405288   54.590491   58.806634   \n",
       "6       United States   28.012018   29.867796   24.759531   28.219895   \n",
       "\n",
       "        2011        2012        2013        2014        2015        2016   \\\n",
       "0   50.740905   48.267522   46.744376   44.905216   39.464169   36.894415   \n",
       "1  142.471773  149.268415  149.549331  150.053755  157.816576  148.858665   \n",
       "2   78.492124   74.764957   73.369871   69.083724   66.940141   67.788388   \n",
       "3   48.035399   47.151390   46.287149   47.801341   49.359349   46.518120   \n",
       "4   58.793171   60.845075   61.976316   63.838262   64.183205   63.739883   \n",
       "5   63.157196   61.889950   61.655527   58.857317   56.913021   59.256220   \n",
       "6   30.842486   30.681835   30.002367   29.998000   27.812234   26.586999   \n",
       "\n",
       "        2017        2018        2019        2020        2021   \n",
       "0   37.632413   37.565784   35.890096   34.754296   37.468958  \n",
       "1  156.028211  158.823210  155.270677  146.461778  155.700083  \n",
       "2   71.482213   72.528586   71.327655   63.094650   70.801081  \n",
       "3   46.876524   51.580900   49.228754   46.030866   52.167008  \n",
       "4   66.657061   67.574940   66.873891   60.143168   68.381777  \n",
       "5   62.799567   63.999796   64.130153   58.116159   56.670334  \n",
       "6   27.279161   27.610379   26.451949   23.383762   25.481400  "
      ]
     },
     "execution_count": 42,
     "metadata": {},
     "output_type": "execute_result"
    }
   ],
   "source": [
    "paises_trade = paises_trade.applymap(lambda x: float(x) if isinstance(x, str) else x)\n",
    "paises_trade.reset_index(inplace=True)\n",
    "paises_trade"
   ]
  },
  {
   "cell_type": "code",
   "execution_count": 43,
   "metadata": {},
   "outputs": [
    {
     "name": "stdout",
     "output_type": "stream",
     "text": [
      "<class 'pandas.core.frame.DataFrame'>\n",
      "RangeIndex: 7 entries, 0 to 6\n",
      "Data columns (total 16 columns):\n",
      " #   Column  Non-Null Count  Dtype  \n",
      "---  ------  --------------  -----  \n",
      " 0   pais    7 non-null      object \n",
      " 1   2007    7 non-null      float64\n",
      " 2   2008    7 non-null      float64\n",
      " 3   2009    7 non-null      float64\n",
      " 4   2010    7 non-null      float64\n",
      " 5   2011    7 non-null      float64\n",
      " 6   2012    7 non-null      float64\n",
      " 7   2013    7 non-null      float64\n",
      " 8   2014    7 non-null      float64\n",
      " 9   2015    7 non-null      float64\n",
      " 10  2016    7 non-null      float64\n",
      " 11  2017    7 non-null      float64\n",
      " 12  2018    7 non-null      float64\n",
      " 13  2019    7 non-null      float64\n",
      " 14  2020    7 non-null      float64\n",
      " 15  2021    7 non-null      float64\n",
      "dtypes: float64(15), object(1)\n",
      "memory usage: 1.0+ KB\n"
     ]
    }
   ],
   "source": [
    "paises_trade.info()"
   ]
  },
  {
   "cell_type": "code",
   "execution_count": 44,
   "metadata": {},
   "outputs": [
    {
     "name": "stdout",
     "output_type": "stream",
     "text": [
      "<class 'pandas.core.frame.DataFrame'>\n",
      "Index: 7 entries, China to United States\n",
      "Data columns (total 15 columns):\n",
      " #   Column  Non-Null Count  Dtype\n",
      "---  ------  --------------  -----\n",
      " 0   2007    7 non-null      int64\n",
      " 1   2008    7 non-null      int64\n",
      " 2   2009    7 non-null      int64\n",
      " 3   2010    7 non-null      int64\n",
      " 4   2011    7 non-null      int64\n",
      " 5   2012    7 non-null      int64\n",
      " 6   2013    7 non-null      int64\n",
      " 7   2014    7 non-null      int64\n",
      " 8   2015    7 non-null      int64\n",
      " 9   2016    7 non-null      int64\n",
      " 10  2017    7 non-null      int64\n",
      " 11  2018    7 non-null      int64\n",
      " 12  2019    7 non-null      int64\n",
      " 13  2020    7 non-null      int64\n",
      " 14  2021    7 non-null      int64\n",
      "dtypes: int64(15)\n",
      "memory usage: 896.0+ bytes\n"
     ]
    }
   ],
   "source": [
    "paises_population.info()"
   ]
  },
  {
   "cell_type": "code",
   "execution_count": 45,
   "metadata": {},
   "outputs": [
    {
     "data": {
      "text/html": [
       "<div>\n",
       "<style scoped>\n",
       "    .dataframe tbody tr th:only-of-type {\n",
       "        vertical-align: middle;\n",
       "    }\n",
       "\n",
       "    .dataframe tbody tr th {\n",
       "        vertical-align: top;\n",
       "    }\n",
       "\n",
       "    .dataframe thead th {\n",
       "        text-align: right;\n",
       "    }\n",
       "</style>\n",
       "<table border=\"1\" class=\"dataframe\">\n",
       "  <thead>\n",
       "    <tr style=\"text-align: right;\">\n",
       "      <th></th>\n",
       "      <th>pais</th>\n",
       "      <th>2007</th>\n",
       "      <th>2008</th>\n",
       "      <th>2009</th>\n",
       "      <th>2010</th>\n",
       "      <th>2011</th>\n",
       "      <th>2012</th>\n",
       "      <th>2013</th>\n",
       "      <th>2014</th>\n",
       "      <th>2015</th>\n",
       "      <th>2016</th>\n",
       "      <th>2017</th>\n",
       "      <th>2018</th>\n",
       "      <th>2019</th>\n",
       "      <th>2020</th>\n",
       "      <th>2021</th>\n",
       "    </tr>\n",
       "  </thead>\n",
       "  <tbody>\n",
       "    <tr>\n",
       "      <th>0</th>\n",
       "      <td>China</td>\n",
       "      <td>1317885000</td>\n",
       "      <td>1324655000</td>\n",
       "      <td>1331260000</td>\n",
       "      <td>1337705000</td>\n",
       "      <td>1345035000</td>\n",
       "      <td>1354190000</td>\n",
       "      <td>1363240000</td>\n",
       "      <td>1371860000</td>\n",
       "      <td>1379860000</td>\n",
       "      <td>1387790000</td>\n",
       "      <td>1396215000</td>\n",
       "      <td>1402760000</td>\n",
       "      <td>1407745000</td>\n",
       "      <td>1411100000</td>\n",
       "      <td>1412360000</td>\n",
       "    </tr>\n",
       "    <tr>\n",
       "      <th>1</th>\n",
       "      <td>Netherlands</td>\n",
       "      <td>16381696</td>\n",
       "      <td>16445593</td>\n",
       "      <td>16530388</td>\n",
       "      <td>16615394</td>\n",
       "      <td>16693074</td>\n",
       "      <td>16754962</td>\n",
       "      <td>16804432</td>\n",
       "      <td>16865008</td>\n",
       "      <td>16939923</td>\n",
       "      <td>17030314</td>\n",
       "      <td>17131296</td>\n",
       "      <td>17231624</td>\n",
       "      <td>17344874</td>\n",
       "      <td>17441500</td>\n",
       "      <td>17533044</td>\n",
       "    </tr>\n",
       "    <tr>\n",
       "      <th>2</th>\n",
       "      <td>Paraguay</td>\n",
       "      <td>5590145</td>\n",
       "      <td>5645148</td>\n",
       "      <td>5702574</td>\n",
       "      <td>5768613</td>\n",
       "      <td>5843939</td>\n",
       "      <td>5923322</td>\n",
       "      <td>6005652</td>\n",
       "      <td>6090721</td>\n",
       "      <td>6177950</td>\n",
       "      <td>6266615</td>\n",
       "      <td>6355404</td>\n",
       "      <td>6443328</td>\n",
       "      <td>6530026</td>\n",
       "      <td>6618695</td>\n",
       "      <td>6703799</td>\n",
       "    </tr>\n",
       "    <tr>\n",
       "      <th>3</th>\n",
       "      <td>Russian Federation</td>\n",
       "      <td>142805114</td>\n",
       "      <td>142742366</td>\n",
       "      <td>142785349</td>\n",
       "      <td>142849468</td>\n",
       "      <td>142960908</td>\n",
       "      <td>143201721</td>\n",
       "      <td>143506995</td>\n",
       "      <td>143819667</td>\n",
       "      <td>144096870</td>\n",
       "      <td>144342397</td>\n",
       "      <td>144496739</td>\n",
       "      <td>144477859</td>\n",
       "      <td>144406261</td>\n",
       "      <td>144073139</td>\n",
       "      <td>143449286</td>\n",
       "    </tr>\n",
       "    <tr>\n",
       "      <th>4</th>\n",
       "      <td>Spain</td>\n",
       "      <td>45226803</td>\n",
       "      <td>45954106</td>\n",
       "      <td>46362946</td>\n",
       "      <td>46576897</td>\n",
       "      <td>46742697</td>\n",
       "      <td>46773055</td>\n",
       "      <td>46620045</td>\n",
       "      <td>46480882</td>\n",
       "      <td>46444832</td>\n",
       "      <td>46484062</td>\n",
       "      <td>46593236</td>\n",
       "      <td>46797754</td>\n",
       "      <td>47134837</td>\n",
       "      <td>47365655</td>\n",
       "      <td>47415750</td>\n",
       "    </tr>\n",
       "    <tr>\n",
       "      <th>5</th>\n",
       "      <td>United Kingdom</td>\n",
       "      <td>61322463</td>\n",
       "      <td>61806995</td>\n",
       "      <td>62276270</td>\n",
       "      <td>62766365</td>\n",
       "      <td>63258810</td>\n",
       "      <td>63700215</td>\n",
       "      <td>64128273</td>\n",
       "      <td>64602298</td>\n",
       "      <td>65116219</td>\n",
       "      <td>65611593</td>\n",
       "      <td>66058859</td>\n",
       "      <td>66460344</td>\n",
       "      <td>66836327</td>\n",
       "      <td>67081000</td>\n",
       "      <td>67326569</td>\n",
       "    </tr>\n",
       "    <tr>\n",
       "      <th>6</th>\n",
       "      <td>United States</td>\n",
       "      <td>301231207</td>\n",
       "      <td>304093966</td>\n",
       "      <td>306771529</td>\n",
       "      <td>309327143</td>\n",
       "      <td>311583481</td>\n",
       "      <td>313877662</td>\n",
       "      <td>316059947</td>\n",
       "      <td>318386329</td>\n",
       "      <td>320738994</td>\n",
       "      <td>323071755</td>\n",
       "      <td>325122128</td>\n",
       "      <td>326838199</td>\n",
       "      <td>328329953</td>\n",
       "      <td>331501080</td>\n",
       "      <td>331893745</td>\n",
       "    </tr>\n",
       "  </tbody>\n",
       "</table>\n",
       "</div>"
      ],
      "text/plain": [
       "                 pais       2007        2008        2009        2010   \\\n",
       "0               China  1317885000  1324655000  1331260000  1337705000   \n",
       "1         Netherlands    16381696    16445593    16530388    16615394   \n",
       "2            Paraguay     5590145     5645148     5702574     5768613   \n",
       "3  Russian Federation   142805114   142742366   142785349   142849468   \n",
       "4               Spain    45226803    45954106    46362946    46576897   \n",
       "5      United Kingdom    61322463    61806995    62276270    62766365   \n",
       "6       United States   301231207   304093966   306771529   309327143   \n",
       "\n",
       "        2011        2012        2013        2014        2015        2016   \\\n",
       "0  1345035000  1354190000  1363240000  1371860000  1379860000  1387790000   \n",
       "1    16693074    16754962    16804432    16865008    16939923    17030314   \n",
       "2     5843939     5923322     6005652     6090721     6177950     6266615   \n",
       "3   142960908   143201721   143506995   143819667   144096870   144342397   \n",
       "4    46742697    46773055    46620045    46480882    46444832    46484062   \n",
       "5    63258810    63700215    64128273    64602298    65116219    65611593   \n",
       "6   311583481   313877662   316059947   318386329   320738994   323071755   \n",
       "\n",
       "        2017        2018        2019        2020        2021   \n",
       "0  1396215000  1402760000  1407745000  1411100000  1412360000  \n",
       "1    17131296    17231624    17344874    17441500    17533044  \n",
       "2     6355404     6443328     6530026     6618695     6703799  \n",
       "3   144496739   144477859   144406261   144073139   143449286  \n",
       "4    46593236    46797754    47134837    47365655    47415750  \n",
       "5    66058859    66460344    66836327    67081000    67326569  \n",
       "6   325122128   326838199   328329953   331501080   331893745  "
      ]
     },
     "execution_count": 45,
     "metadata": {},
     "output_type": "execute_result"
    }
   ],
   "source": [
    "paises_population = paises_population.applymap(lambda x: float(x) if isinstance(x, str) else x)\n",
    "paises_population.reset_index(inplace=True)\n",
    "paises_population"
   ]
  },
  {
   "cell_type": "code",
   "execution_count": 46,
   "metadata": {},
   "outputs": [
    {
     "name": "stdout",
     "output_type": "stream",
     "text": [
      "<class 'pandas.core.frame.DataFrame'>\n",
      "RangeIndex: 7 entries, 0 to 6\n",
      "Data columns (total 16 columns):\n",
      " #   Column  Non-Null Count  Dtype \n",
      "---  ------  --------------  ----- \n",
      " 0   pais    7 non-null      object\n",
      " 1   2007    7 non-null      int64 \n",
      " 2   2008    7 non-null      int64 \n",
      " 3   2009    7 non-null      int64 \n",
      " 4   2010    7 non-null      int64 \n",
      " 5   2011    7 non-null      int64 \n",
      " 6   2012    7 non-null      int64 \n",
      " 7   2013    7 non-null      int64 \n",
      " 8   2014    7 non-null      int64 \n",
      " 9   2015    7 non-null      int64 \n",
      " 10  2016    7 non-null      int64 \n",
      " 11  2017    7 non-null      int64 \n",
      " 12  2018    7 non-null      int64 \n",
      " 13  2019    7 non-null      int64 \n",
      " 14  2020    7 non-null      int64 \n",
      " 15  2021    7 non-null      int64 \n",
      "dtypes: int64(15), object(1)\n",
      "memory usage: 1.0+ KB\n"
     ]
    }
   ],
   "source": [
    "paises_population.info()"
   ]
  },
  {
   "cell_type": "code",
   "execution_count": 47,
   "metadata": {},
   "outputs": [
    {
     "name": "stdout",
     "output_type": "stream",
     "text": [
      "<class 'pandas.core.frame.DataFrame'>\n",
      "Index: 7 entries, China to United States\n",
      "Data columns (total 15 columns):\n",
      " #   Column  Non-Null Count  Dtype \n",
      "---  ------  --------------  ----- \n",
      " 0   2007    7 non-null      object\n",
      " 1   2008    7 non-null      object\n",
      " 2   2009    7 non-null      object\n",
      " 3   2010    7 non-null      object\n",
      " 4   2011    7 non-null      object\n",
      " 5   2012    7 non-null      object\n",
      " 6   2013    7 non-null      object\n",
      " 7   2014    7 non-null      object\n",
      " 8   2015    7 non-null      object\n",
      " 9   2016    7 non-null      object\n",
      " 10  2017    7 non-null      object\n",
      " 11  2018    7 non-null      object\n",
      " 12  2019    7 non-null      object\n",
      " 13  2020    7 non-null      object\n",
      " 14  2021    7 non-null      object\n",
      "dtypes: object(15)\n",
      "memory usage: 896.0+ bytes\n"
     ]
    }
   ],
   "source": [
    "paises_unemployment.info()"
   ]
  },
  {
   "cell_type": "code",
   "execution_count": 48,
   "metadata": {},
   "outputs": [
    {
     "data": {
      "text/html": [
       "<div>\n",
       "<style scoped>\n",
       "    .dataframe tbody tr th:only-of-type {\n",
       "        vertical-align: middle;\n",
       "    }\n",
       "\n",
       "    .dataframe tbody tr th {\n",
       "        vertical-align: top;\n",
       "    }\n",
       "\n",
       "    .dataframe thead th {\n",
       "        text-align: right;\n",
       "    }\n",
       "</style>\n",
       "<table border=\"1\" class=\"dataframe\">\n",
       "  <thead>\n",
       "    <tr style=\"text-align: right;\">\n",
       "      <th></th>\n",
       "      <th>pais</th>\n",
       "      <th>2007</th>\n",
       "      <th>2008</th>\n",
       "      <th>2009</th>\n",
       "      <th>2010</th>\n",
       "      <th>2011</th>\n",
       "      <th>2012</th>\n",
       "      <th>2013</th>\n",
       "      <th>2014</th>\n",
       "      <th>2015</th>\n",
       "      <th>2016</th>\n",
       "      <th>2017</th>\n",
       "      <th>2018</th>\n",
       "      <th>2019</th>\n",
       "      <th>2020</th>\n",
       "      <th>2021</th>\n",
       "    </tr>\n",
       "  </thead>\n",
       "  <tbody>\n",
       "    <tr>\n",
       "      <th>0</th>\n",
       "      <td>China</td>\n",
       "      <td>4.35</td>\n",
       "      <td>4.59</td>\n",
       "      <td>4.72</td>\n",
       "      <td>4.53</td>\n",
       "      <td>4.55</td>\n",
       "      <td>4.58</td>\n",
       "      <td>4.60</td>\n",
       "      <td>4.63</td>\n",
       "      <td>4.65</td>\n",
       "      <td>4.56</td>\n",
       "      <td>4.47</td>\n",
       "      <td>4.31</td>\n",
       "      <td>4.56</td>\n",
       "      <td>5.000</td>\n",
       "      <td>4.550</td>\n",
       "    </tr>\n",
       "    <tr>\n",
       "      <th>1</th>\n",
       "      <td>Netherlands</td>\n",
       "      <td>4.15</td>\n",
       "      <td>3.65</td>\n",
       "      <td>4.35</td>\n",
       "      <td>4.99</td>\n",
       "      <td>4.98</td>\n",
       "      <td>5.82</td>\n",
       "      <td>7.24</td>\n",
       "      <td>7.42</td>\n",
       "      <td>6.87</td>\n",
       "      <td>6.01</td>\n",
       "      <td>4.84</td>\n",
       "      <td>3.83</td>\n",
       "      <td>3.38</td>\n",
       "      <td>3.820</td>\n",
       "      <td>4.210</td>\n",
       "    </tr>\n",
       "    <tr>\n",
       "      <th>2</th>\n",
       "      <td>Paraguay</td>\n",
       "      <td>4.71</td>\n",
       "      <td>4.42</td>\n",
       "      <td>5.46</td>\n",
       "      <td>4.57</td>\n",
       "      <td>4.67</td>\n",
       "      <td>4.09</td>\n",
       "      <td>4.38</td>\n",
       "      <td>5.03</td>\n",
       "      <td>4.56</td>\n",
       "      <td>5.25</td>\n",
       "      <td>4.61</td>\n",
       "      <td>6.22</td>\n",
       "      <td>6.59</td>\n",
       "      <td>7.550</td>\n",
       "      <td>7.310</td>\n",
       "    </tr>\n",
       "    <tr>\n",
       "      <th>3</th>\n",
       "      <td>Russian Federation</td>\n",
       "      <td>6.00</td>\n",
       "      <td>6.21</td>\n",
       "      <td>8.30</td>\n",
       "      <td>7.37</td>\n",
       "      <td>6.54</td>\n",
       "      <td>5.44</td>\n",
       "      <td>5.46</td>\n",
       "      <td>5.16</td>\n",
       "      <td>5.57</td>\n",
       "      <td>5.56</td>\n",
       "      <td>5.21</td>\n",
       "      <td>4.85</td>\n",
       "      <td>4.50</td>\n",
       "      <td>5.590</td>\n",
       "      <td>4.720</td>\n",
       "    </tr>\n",
       "    <tr>\n",
       "      <th>4</th>\n",
       "      <td>Spain</td>\n",
       "      <td>8.23</td>\n",
       "      <td>11.25</td>\n",
       "      <td>17.86</td>\n",
       "      <td>19.86</td>\n",
       "      <td>21.39</td>\n",
       "      <td>24.79</td>\n",
       "      <td>26.09</td>\n",
       "      <td>24.44</td>\n",
       "      <td>22.06</td>\n",
       "      <td>19.64</td>\n",
       "      <td>17.22</td>\n",
       "      <td>15.25</td>\n",
       "      <td>14.10</td>\n",
       "      <td>15.530</td>\n",
       "      <td>14.780</td>\n",
       "    </tr>\n",
       "    <tr>\n",
       "      <th>5</th>\n",
       "      <td>United Kingdom</td>\n",
       "      <td>5.26</td>\n",
       "      <td>5.62</td>\n",
       "      <td>7.54</td>\n",
       "      <td>7.79</td>\n",
       "      <td>8.04</td>\n",
       "      <td>7.88</td>\n",
       "      <td>7.52</td>\n",
       "      <td>6.11</td>\n",
       "      <td>5.30</td>\n",
       "      <td>4.81</td>\n",
       "      <td>4.33</td>\n",
       "      <td>4.00</td>\n",
       "      <td>3.74</td>\n",
       "      <td>4.472</td>\n",
       "      <td>4.826</td>\n",
       "    </tr>\n",
       "    <tr>\n",
       "      <th>6</th>\n",
       "      <td>United States</td>\n",
       "      <td>4.62</td>\n",
       "      <td>5.78</td>\n",
       "      <td>9.25</td>\n",
       "      <td>9.63</td>\n",
       "      <td>8.95</td>\n",
       "      <td>8.07</td>\n",
       "      <td>7.37</td>\n",
       "      <td>6.17</td>\n",
       "      <td>5.28</td>\n",
       "      <td>4.87</td>\n",
       "      <td>4.36</td>\n",
       "      <td>3.90</td>\n",
       "      <td>3.67</td>\n",
       "      <td>8.050</td>\n",
       "      <td>5.350</td>\n",
       "    </tr>\n",
       "  </tbody>\n",
       "</table>\n",
       "</div>"
      ],
      "text/plain": [
       "                 pais  2007   2008   2009   2010   2011   2012   2013   2014   \\\n",
       "0               China   4.35   4.59   4.72   4.53   4.55   4.58   4.60   4.63   \n",
       "1         Netherlands   4.15   3.65   4.35   4.99   4.98   5.82   7.24   7.42   \n",
       "2            Paraguay   4.71   4.42   5.46   4.57   4.67   4.09   4.38   5.03   \n",
       "3  Russian Federation   6.00   6.21   8.30   7.37   6.54   5.44   5.46   5.16   \n",
       "4               Spain   8.23  11.25  17.86  19.86  21.39  24.79  26.09  24.44   \n",
       "5      United Kingdom   5.26   5.62   7.54   7.79   8.04   7.88   7.52   6.11   \n",
       "6       United States   4.62   5.78   9.25   9.63   8.95   8.07   7.37   6.17   \n",
       "\n",
       "   2015   2016   2017   2018   2019    2020    2021   \n",
       "0   4.65   4.56   4.47   4.31   4.56   5.000   4.550  \n",
       "1   6.87   6.01   4.84   3.83   3.38   3.820   4.210  \n",
       "2   4.56   5.25   4.61   6.22   6.59   7.550   7.310  \n",
       "3   5.57   5.56   5.21   4.85   4.50   5.590   4.720  \n",
       "4  22.06  19.64  17.22  15.25  14.10  15.530  14.780  \n",
       "5   5.30   4.81   4.33   4.00   3.74   4.472   4.826  \n",
       "6   5.28   4.87   4.36   3.90   3.67   8.050   5.350  "
      ]
     },
     "execution_count": 48,
     "metadata": {},
     "output_type": "execute_result"
    }
   ],
   "source": [
    "paises_unemployment = paises_unemployment.applymap(lambda x: float(x) if isinstance(x, str) else x)\n",
    "paises_unemployment.reset_index(inplace=True)\n",
    "paises_unemployment"
   ]
  },
  {
   "cell_type": "code",
   "execution_count": 49,
   "metadata": {},
   "outputs": [
    {
     "name": "stdout",
     "output_type": "stream",
     "text": [
      "<class 'pandas.core.frame.DataFrame'>\n",
      "RangeIndex: 7 entries, 0 to 6\n",
      "Data columns (total 16 columns):\n",
      " #   Column  Non-Null Count  Dtype  \n",
      "---  ------  --------------  -----  \n",
      " 0   pais    7 non-null      object \n",
      " 1   2007    7 non-null      float64\n",
      " 2   2008    7 non-null      float64\n",
      " 3   2009    7 non-null      float64\n",
      " 4   2010    7 non-null      float64\n",
      " 5   2011    7 non-null      float64\n",
      " 6   2012    7 non-null      float64\n",
      " 7   2013    7 non-null      float64\n",
      " 8   2014    7 non-null      float64\n",
      " 9   2015    7 non-null      float64\n",
      " 10  2016    7 non-null      float64\n",
      " 11  2017    7 non-null      float64\n",
      " 12  2018    7 non-null      float64\n",
      " 13  2019    7 non-null      float64\n",
      " 14  2020    7 non-null      float64\n",
      " 15  2021    7 non-null      float64\n",
      "dtypes: float64(15), object(1)\n",
      "memory usage: 1.0+ KB\n"
     ]
    }
   ],
   "source": [
    "paises_unemployment.info()"
   ]
  },
  {
   "cell_type": "code",
   "execution_count": 50,
   "metadata": {},
   "outputs": [],
   "source": [
    "nomes = {\n",
    "    \"Paraguay\": \"Paraguai\",\n",
    "    \"Russian Federation\": \"Rússia\",\n",
    "    \"United States\": \"Estados Unidos\",\n",
    "    \"United Kingdom\": \"Reino Unido\",\n",
    "    \"China\": \"China\",\n",
    "    \"Netherlands\": \"Países Baixos\",\n",
    "    \"Spain\": \"Espanha\"\n",
    "}\n",
    "\n",
    "paises_pib[\"pais\"] = paises_pib[\"pais\"].map(nomes)\n",
    "paises_inflation[\"pais\"] = paises_inflation[\"pais\"].map(nomes)\n",
    "paises_trade[\"pais\"] = paises_trade[\"pais\"].map(nomes)\n",
    "paises_population[\"pais\"] = paises_population[\"pais\"].map(nomes)\n",
    "paises_unemployment[\"pais\"] = paises_unemployment[\"pais\"].map(nomes)"
   ]
  },
  {
   "cell_type": "code",
   "execution_count": 51,
   "metadata": {},
   "outputs": [
    {
     "data": {
      "text/html": [
       "<div>\n",
       "<style scoped>\n",
       "    .dataframe tbody tr th:only-of-type {\n",
       "        vertical-align: middle;\n",
       "    }\n",
       "\n",
       "    .dataframe tbody tr th {\n",
       "        vertical-align: top;\n",
       "    }\n",
       "\n",
       "    .dataframe thead th {\n",
       "        text-align: right;\n",
       "    }\n",
       "</style>\n",
       "<table border=\"1\" class=\"dataframe\">\n",
       "  <thead>\n",
       "    <tr style=\"text-align: right;\">\n",
       "      <th></th>\n",
       "      <th>pais</th>\n",
       "      <th>2007</th>\n",
       "      <th>2008</th>\n",
       "      <th>2009</th>\n",
       "      <th>2010</th>\n",
       "      <th>2011</th>\n",
       "      <th>2012</th>\n",
       "      <th>2013</th>\n",
       "      <th>2014</th>\n",
       "      <th>2015</th>\n",
       "      <th>2016</th>\n",
       "      <th>2017</th>\n",
       "      <th>2018</th>\n",
       "      <th>2019</th>\n",
       "      <th>2020</th>\n",
       "      <th>2021</th>\n",
       "    </tr>\n",
       "  </thead>\n",
       "  <tbody>\n",
       "    <tr>\n",
       "      <th>0</th>\n",
       "      <td>China</td>\n",
       "      <td>3.550343e+12</td>\n",
       "      <td>4.594307e+12</td>\n",
       "      <td>5.101703e+12</td>\n",
       "      <td>6.087164e+12</td>\n",
       "      <td>7.551500e+12</td>\n",
       "      <td>8.532230e+12</td>\n",
       "      <td>9.570406e+12</td>\n",
       "      <td>1.047568e+13</td>\n",
       "      <td>1.106155e+13</td>\n",
       "      <td>1.123328e+13</td>\n",
       "      <td>1.231041e+13</td>\n",
       "      <td>1.389482e+13</td>\n",
       "      <td>1.427994e+13</td>\n",
       "      <td>1.468767e+13</td>\n",
       "      <td>1.773406e+13</td>\n",
       "    </tr>\n",
       "    <tr>\n",
       "      <th>1</th>\n",
       "      <td>Países Baixos</td>\n",
       "      <td>8.485589e+11</td>\n",
       "      <td>9.518700e+11</td>\n",
       "      <td>8.715186e+11</td>\n",
       "      <td>8.473809e+11</td>\n",
       "      <td>9.052706e+11</td>\n",
       "      <td>8.389233e+11</td>\n",
       "      <td>8.771728e+11</td>\n",
       "      <td>8.921680e+11</td>\n",
       "      <td>7.655728e+11</td>\n",
       "      <td>7.840604e+11</td>\n",
       "      <td>8.338696e+11</td>\n",
       "      <td>9.140434e+11</td>\n",
       "      <td>9.101943e+11</td>\n",
       "      <td>9.097935e+11</td>\n",
       "      <td>1.012847e+12</td>\n",
       "    </tr>\n",
       "    <tr>\n",
       "      <th>2</th>\n",
       "      <td>Paraguai</td>\n",
       "      <td>1.785639e+10</td>\n",
       "      <td>2.461527e+10</td>\n",
       "      <td>2.235515e+10</td>\n",
       "      <td>2.726089e+10</td>\n",
       "      <td>3.375624e+10</td>\n",
       "      <td>3.327192e+10</td>\n",
       "      <td>3.850112e+10</td>\n",
       "      <td>4.037793e+10</td>\n",
       "      <td>3.621145e+10</td>\n",
       "      <td>3.608970e+10</td>\n",
       "      <td>3.899713e+10</td>\n",
       "      <td>4.022545e+10</td>\n",
       "      <td>3.792534e+10</td>\n",
       "      <td>3.543218e+10</td>\n",
       "      <td>3.949543e+10</td>\n",
       "    </tr>\n",
       "    <tr>\n",
       "      <th>3</th>\n",
       "      <td>Rússia</td>\n",
       "      <td>1.299706e+12</td>\n",
       "      <td>1.660846e+12</td>\n",
       "      <td>1.222644e+12</td>\n",
       "      <td>1.524917e+12</td>\n",
       "      <td>2.045926e+12</td>\n",
       "      <td>2.208296e+12</td>\n",
       "      <td>2.292473e+12</td>\n",
       "      <td>2.059242e+12</td>\n",
       "      <td>1.363481e+12</td>\n",
       "      <td>1.276787e+12</td>\n",
       "      <td>1.574199e+12</td>\n",
       "      <td>1.657330e+12</td>\n",
       "      <td>1.693114e+12</td>\n",
       "      <td>1.489362e+12</td>\n",
       "      <td>1.778783e+12</td>\n",
       "    </tr>\n",
       "    <tr>\n",
       "      <th>4</th>\n",
       "      <td>Espanha</td>\n",
       "      <td>1.474003e+12</td>\n",
       "      <td>1.631863e+12</td>\n",
       "      <td>1.491473e+12</td>\n",
       "      <td>1.422108e+12</td>\n",
       "      <td>1.480710e+12</td>\n",
       "      <td>1.324751e+12</td>\n",
       "      <td>1.355580e+12</td>\n",
       "      <td>1.371821e+12</td>\n",
       "      <td>1.196157e+12</td>\n",
       "      <td>1.233555e+12</td>\n",
       "      <td>1.313245e+12</td>\n",
       "      <td>1.421703e+12</td>\n",
       "      <td>1.394320e+12</td>\n",
       "      <td>1.276963e+12</td>\n",
       "      <td>1.427381e+12</td>\n",
       "    </tr>\n",
       "    <tr>\n",
       "      <th>5</th>\n",
       "      <td>Reino Unido</td>\n",
       "      <td>3.092821e+12</td>\n",
       "      <td>2.931502e+12</td>\n",
       "      <td>2.417638e+12</td>\n",
       "      <td>2.491397e+12</td>\n",
       "      <td>2.666403e+12</td>\n",
       "      <td>2.706341e+12</td>\n",
       "      <td>2.786315e+12</td>\n",
       "      <td>3.065223e+12</td>\n",
       "      <td>2.934858e+12</td>\n",
       "      <td>2.699660e+12</td>\n",
       "      <td>2.683399e+12</td>\n",
       "      <td>2.878152e+12</td>\n",
       "      <td>2.857058e+12</td>\n",
       "      <td>2.704609e+12</td>\n",
       "      <td>3.131378e+12</td>\n",
       "    </tr>\n",
       "    <tr>\n",
       "      <th>6</th>\n",
       "      <td>Estados Unidos</td>\n",
       "      <td>1.447423e+13</td>\n",
       "      <td>1.476986e+13</td>\n",
       "      <td>1.447806e+13</td>\n",
       "      <td>1.504896e+13</td>\n",
       "      <td>1.559973e+13</td>\n",
       "      <td>1.625397e+13</td>\n",
       "      <td>1.684319e+13</td>\n",
       "      <td>1.755068e+13</td>\n",
       "      <td>1.820602e+13</td>\n",
       "      <td>1.869511e+13</td>\n",
       "      <td>1.947734e+13</td>\n",
       "      <td>2.053306e+13</td>\n",
       "      <td>2.138098e+13</td>\n",
       "      <td>2.106047e+13</td>\n",
       "      <td>2.331508e+13</td>\n",
       "    </tr>\n",
       "  </tbody>\n",
       "</table>\n",
       "</div>"
      ],
      "text/plain": [
       "             pais          2007          2008          2009          2010  \\\n",
       "0           China  3.550343e+12  4.594307e+12  5.101703e+12  6.087164e+12   \n",
       "1   Países Baixos  8.485589e+11  9.518700e+11  8.715186e+11  8.473809e+11   \n",
       "2        Paraguai  1.785639e+10  2.461527e+10  2.235515e+10  2.726089e+10   \n",
       "3          Rússia  1.299706e+12  1.660846e+12  1.222644e+12  1.524917e+12   \n",
       "4         Espanha  1.474003e+12  1.631863e+12  1.491473e+12  1.422108e+12   \n",
       "5     Reino Unido  3.092821e+12  2.931502e+12  2.417638e+12  2.491397e+12   \n",
       "6  Estados Unidos  1.447423e+13  1.476986e+13  1.447806e+13  1.504896e+13   \n",
       "\n",
       "           2011          2012          2013          2014          2015  \\\n",
       "0  7.551500e+12  8.532230e+12  9.570406e+12  1.047568e+13  1.106155e+13   \n",
       "1  9.052706e+11  8.389233e+11  8.771728e+11  8.921680e+11  7.655728e+11   \n",
       "2  3.375624e+10  3.327192e+10  3.850112e+10  4.037793e+10  3.621145e+10   \n",
       "3  2.045926e+12  2.208296e+12  2.292473e+12  2.059242e+12  1.363481e+12   \n",
       "4  1.480710e+12  1.324751e+12  1.355580e+12  1.371821e+12  1.196157e+12   \n",
       "5  2.666403e+12  2.706341e+12  2.786315e+12  3.065223e+12  2.934858e+12   \n",
       "6  1.559973e+13  1.625397e+13  1.684319e+13  1.755068e+13  1.820602e+13   \n",
       "\n",
       "           2016          2017          2018          2019          2020  \\\n",
       "0  1.123328e+13  1.231041e+13  1.389482e+13  1.427994e+13  1.468767e+13   \n",
       "1  7.840604e+11  8.338696e+11  9.140434e+11  9.101943e+11  9.097935e+11   \n",
       "2  3.608970e+10  3.899713e+10  4.022545e+10  3.792534e+10  3.543218e+10   \n",
       "3  1.276787e+12  1.574199e+12  1.657330e+12  1.693114e+12  1.489362e+12   \n",
       "4  1.233555e+12  1.313245e+12  1.421703e+12  1.394320e+12  1.276963e+12   \n",
       "5  2.699660e+12  2.683399e+12  2.878152e+12  2.857058e+12  2.704609e+12   \n",
       "6  1.869511e+13  1.947734e+13  2.053306e+13  2.138098e+13  2.106047e+13   \n",
       "\n",
       "           2021  \n",
       "0  1.773406e+13  \n",
       "1  1.012847e+12  \n",
       "2  3.949543e+10  \n",
       "3  1.778783e+12  \n",
       "4  1.427381e+12  \n",
       "5  3.131378e+12  \n",
       "6  2.331508e+13  "
      ]
     },
     "execution_count": 51,
     "metadata": {},
     "output_type": "execute_result"
    }
   ],
   "source": [
    "paises_pib\n",
    "# paises_inflation\n",
    "# paises_trade\n",
    "# paises_population\n",
    "# paises_unemployment"
   ]
  },
  {
   "cell_type": "code",
   "execution_count": 52,
   "metadata": {},
   "outputs": [
    {
     "data": {
      "text/html": [
       "<div>\n",
       "<style scoped>\n",
       "    .dataframe tbody tr th:only-of-type {\n",
       "        vertical-align: middle;\n",
       "    }\n",
       "\n",
       "    .dataframe tbody tr th {\n",
       "        vertical-align: top;\n",
       "    }\n",
       "\n",
       "    .dataframe thead th {\n",
       "        text-align: right;\n",
       "    }\n",
       "</style>\n",
       "<table border=\"1\" class=\"dataframe\">\n",
       "  <thead>\n",
       "    <tr style=\"text-align: right;\">\n",
       "      <th></th>\n",
       "      <th>2007</th>\n",
       "      <th>2008</th>\n",
       "      <th>2009</th>\n",
       "      <th>2010</th>\n",
       "      <th>2011</th>\n",
       "      <th>2012</th>\n",
       "      <th>2013</th>\n",
       "      <th>2014</th>\n",
       "      <th>2015</th>\n",
       "      <th>2016</th>\n",
       "      <th>2017</th>\n",
       "      <th>2018</th>\n",
       "      <th>2019</th>\n",
       "      <th>2020</th>\n",
       "      <th>2021</th>\n",
       "    </tr>\n",
       "  </thead>\n",
       "  <tbody>\n",
       "    <tr>\n",
       "      <th>0</th>\n",
       "      <td>3.550343e+12</td>\n",
       "      <td>4.594307e+12</td>\n",
       "      <td>5.101703e+12</td>\n",
       "      <td>6.087164e+12</td>\n",
       "      <td>7.551500e+12</td>\n",
       "      <td>8.532230e+12</td>\n",
       "      <td>9.570406e+12</td>\n",
       "      <td>1.047568e+13</td>\n",
       "      <td>1.106155e+13</td>\n",
       "      <td>1.123328e+13</td>\n",
       "      <td>1.231041e+13</td>\n",
       "      <td>1.389482e+13</td>\n",
       "      <td>1.427994e+13</td>\n",
       "      <td>1.468767e+13</td>\n",
       "      <td>1.773406e+13</td>\n",
       "    </tr>\n",
       "    <tr>\n",
       "      <th>1</th>\n",
       "      <td>8.485589e+11</td>\n",
       "      <td>9.518700e+11</td>\n",
       "      <td>8.715186e+11</td>\n",
       "      <td>8.473809e+11</td>\n",
       "      <td>9.052706e+11</td>\n",
       "      <td>8.389233e+11</td>\n",
       "      <td>8.771728e+11</td>\n",
       "      <td>8.921680e+11</td>\n",
       "      <td>7.655728e+11</td>\n",
       "      <td>7.840604e+11</td>\n",
       "      <td>8.338696e+11</td>\n",
       "      <td>9.140434e+11</td>\n",
       "      <td>9.101943e+11</td>\n",
       "      <td>9.097935e+11</td>\n",
       "      <td>1.012847e+12</td>\n",
       "    </tr>\n",
       "    <tr>\n",
       "      <th>2</th>\n",
       "      <td>1.785639e+10</td>\n",
       "      <td>2.461527e+10</td>\n",
       "      <td>2.235515e+10</td>\n",
       "      <td>2.726089e+10</td>\n",
       "      <td>3.375624e+10</td>\n",
       "      <td>3.327192e+10</td>\n",
       "      <td>3.850112e+10</td>\n",
       "      <td>4.037793e+10</td>\n",
       "      <td>3.621145e+10</td>\n",
       "      <td>3.608970e+10</td>\n",
       "      <td>3.899713e+10</td>\n",
       "      <td>4.022545e+10</td>\n",
       "      <td>3.792534e+10</td>\n",
       "      <td>3.543218e+10</td>\n",
       "      <td>3.949543e+10</td>\n",
       "    </tr>\n",
       "    <tr>\n",
       "      <th>3</th>\n",
       "      <td>1.299706e+12</td>\n",
       "      <td>1.660846e+12</td>\n",
       "      <td>1.222644e+12</td>\n",
       "      <td>1.524917e+12</td>\n",
       "      <td>2.045926e+12</td>\n",
       "      <td>2.208296e+12</td>\n",
       "      <td>2.292473e+12</td>\n",
       "      <td>2.059242e+12</td>\n",
       "      <td>1.363481e+12</td>\n",
       "      <td>1.276787e+12</td>\n",
       "      <td>1.574199e+12</td>\n",
       "      <td>1.657330e+12</td>\n",
       "      <td>1.693114e+12</td>\n",
       "      <td>1.489362e+12</td>\n",
       "      <td>1.778783e+12</td>\n",
       "    </tr>\n",
       "    <tr>\n",
       "      <th>4</th>\n",
       "      <td>1.474003e+12</td>\n",
       "      <td>1.631863e+12</td>\n",
       "      <td>1.491473e+12</td>\n",
       "      <td>1.422108e+12</td>\n",
       "      <td>1.480710e+12</td>\n",
       "      <td>1.324751e+12</td>\n",
       "      <td>1.355580e+12</td>\n",
       "      <td>1.371821e+12</td>\n",
       "      <td>1.196157e+12</td>\n",
       "      <td>1.233555e+12</td>\n",
       "      <td>1.313245e+12</td>\n",
       "      <td>1.421703e+12</td>\n",
       "      <td>1.394320e+12</td>\n",
       "      <td>1.276963e+12</td>\n",
       "      <td>1.427381e+12</td>\n",
       "    </tr>\n",
       "    <tr>\n",
       "      <th>5</th>\n",
       "      <td>3.092821e+12</td>\n",
       "      <td>2.931502e+12</td>\n",
       "      <td>2.417638e+12</td>\n",
       "      <td>2.491397e+12</td>\n",
       "      <td>2.666403e+12</td>\n",
       "      <td>2.706341e+12</td>\n",
       "      <td>2.786315e+12</td>\n",
       "      <td>3.065223e+12</td>\n",
       "      <td>2.934858e+12</td>\n",
       "      <td>2.699660e+12</td>\n",
       "      <td>2.683399e+12</td>\n",
       "      <td>2.878152e+12</td>\n",
       "      <td>2.857058e+12</td>\n",
       "      <td>2.704609e+12</td>\n",
       "      <td>3.131378e+12</td>\n",
       "    </tr>\n",
       "    <tr>\n",
       "      <th>6</th>\n",
       "      <td>1.447423e+13</td>\n",
       "      <td>1.476986e+13</td>\n",
       "      <td>1.447806e+13</td>\n",
       "      <td>1.504896e+13</td>\n",
       "      <td>1.559973e+13</td>\n",
       "      <td>1.625397e+13</td>\n",
       "      <td>1.684319e+13</td>\n",
       "      <td>1.755068e+13</td>\n",
       "      <td>1.820602e+13</td>\n",
       "      <td>1.869511e+13</td>\n",
       "      <td>1.947734e+13</td>\n",
       "      <td>2.053306e+13</td>\n",
       "      <td>2.138098e+13</td>\n",
       "      <td>2.106047e+13</td>\n",
       "      <td>2.331508e+13</td>\n",
       "    </tr>\n",
       "  </tbody>\n",
       "</table>\n",
       "</div>"
      ],
      "text/plain": [
       "           2007          2008          2009          2010          2011  \\\n",
       "0  3.550343e+12  4.594307e+12  5.101703e+12  6.087164e+12  7.551500e+12   \n",
       "1  8.485589e+11  9.518700e+11  8.715186e+11  8.473809e+11  9.052706e+11   \n",
       "2  1.785639e+10  2.461527e+10  2.235515e+10  2.726089e+10  3.375624e+10   \n",
       "3  1.299706e+12  1.660846e+12  1.222644e+12  1.524917e+12  2.045926e+12   \n",
       "4  1.474003e+12  1.631863e+12  1.491473e+12  1.422108e+12  1.480710e+12   \n",
       "5  3.092821e+12  2.931502e+12  2.417638e+12  2.491397e+12  2.666403e+12   \n",
       "6  1.447423e+13  1.476986e+13  1.447806e+13  1.504896e+13  1.559973e+13   \n",
       "\n",
       "           2012          2013          2014          2015          2016  \\\n",
       "0  8.532230e+12  9.570406e+12  1.047568e+13  1.106155e+13  1.123328e+13   \n",
       "1  8.389233e+11  8.771728e+11  8.921680e+11  7.655728e+11  7.840604e+11   \n",
       "2  3.327192e+10  3.850112e+10  4.037793e+10  3.621145e+10  3.608970e+10   \n",
       "3  2.208296e+12  2.292473e+12  2.059242e+12  1.363481e+12  1.276787e+12   \n",
       "4  1.324751e+12  1.355580e+12  1.371821e+12  1.196157e+12  1.233555e+12   \n",
       "5  2.706341e+12  2.786315e+12  3.065223e+12  2.934858e+12  2.699660e+12   \n",
       "6  1.625397e+13  1.684319e+13  1.755068e+13  1.820602e+13  1.869511e+13   \n",
       "\n",
       "           2017          2018          2019          2020          2021  \n",
       "0  1.231041e+13  1.389482e+13  1.427994e+13  1.468767e+13  1.773406e+13  \n",
       "1  8.338696e+11  9.140434e+11  9.101943e+11  9.097935e+11  1.012847e+12  \n",
       "2  3.899713e+10  4.022545e+10  3.792534e+10  3.543218e+10  3.949543e+10  \n",
       "3  1.574199e+12  1.657330e+12  1.693114e+12  1.489362e+12  1.778783e+12  \n",
       "4  1.313245e+12  1.421703e+12  1.394320e+12  1.276963e+12  1.427381e+12  \n",
       "5  2.683399e+12  2.878152e+12  2.857058e+12  2.704609e+12  3.131378e+12  \n",
       "6  1.947734e+13  2.053306e+13  2.138098e+13  2.106047e+13  2.331508e+13  "
      ]
     },
     "execution_count": 52,
     "metadata": {},
     "output_type": "execute_result"
    }
   ],
   "source": [
    "paises_pib.iloc[:, 1:]"
   ]
  },
  {
   "cell_type": "code",
   "execution_count": 53,
   "metadata": {},
   "outputs": [
    {
     "data": {
      "text/html": [
       "<div>\n",
       "<style scoped>\n",
       "    .dataframe tbody tr th:only-of-type {\n",
       "        vertical-align: middle;\n",
       "    }\n",
       "\n",
       "    .dataframe tbody tr th {\n",
       "        vertical-align: top;\n",
       "    }\n",
       "\n",
       "    .dataframe thead th {\n",
       "        text-align: right;\n",
       "    }\n",
       "</style>\n",
       "<table border=\"1\" class=\"dataframe\">\n",
       "  <thead>\n",
       "    <tr style=\"text-align: right;\">\n",
       "      <th></th>\n",
       "      <th>pais</th>\n",
       "      <th>2007</th>\n",
       "      <th>2008</th>\n",
       "      <th>2009</th>\n",
       "      <th>2010</th>\n",
       "      <th>2011</th>\n",
       "      <th>2012</th>\n",
       "      <th>2013</th>\n",
       "      <th>2014</th>\n",
       "      <th>2015</th>\n",
       "      <th>2016</th>\n",
       "      <th>2017</th>\n",
       "      <th>2018</th>\n",
       "      <th>2019</th>\n",
       "      <th>2020</th>\n",
       "      <th>2021</th>\n",
       "    </tr>\n",
       "  </thead>\n",
       "  <tbody>\n",
       "    <tr>\n",
       "      <th>28</th>\n",
       "      <td>China</td>\n",
       "      <td>30390</td>\n",
       "      <td>25926</td>\n",
       "      <td>482400</td>\n",
       "      <td>2358</td>\n",
       "      <td>334867</td>\n",
       "      <td>642177</td>\n",
       "      <td>279956</td>\n",
       "      <td>455340</td>\n",
       "      <td>222866</td>\n",
       "      <td>499622</td>\n",
       "      <td>266086</td>\n",
       "      <td>126336</td>\n",
       "      <td>376828</td>\n",
       "      <td>363000</td>\n",
       "      <td>264116</td>\n",
       "    </tr>\n",
       "    <tr>\n",
       "      <th>46</th>\n",
       "      <td>Espanha</td>\n",
       "      <td>0</td>\n",
       "      <td>6834</td>\n",
       "      <td>4050</td>\n",
       "      <td>0</td>\n",
       "      <td>24618</td>\n",
       "      <td>0</td>\n",
       "      <td>3748940</td>\n",
       "      <td>0</td>\n",
       "      <td>0</td>\n",
       "      <td>0</td>\n",
       "      <td>0</td>\n",
       "      <td>22631</td>\n",
       "      <td>1353</td>\n",
       "      <td>126</td>\n",
       "      <td>0</td>\n",
       "    </tr>\n",
       "    <tr>\n",
       "      <th>47</th>\n",
       "      <td>Estados Unidos</td>\n",
       "      <td>810038</td>\n",
       "      <td>804607</td>\n",
       "      <td>660066</td>\n",
       "      <td>478630</td>\n",
       "      <td>1030254</td>\n",
       "      <td>303986</td>\n",
       "      <td>786556</td>\n",
       "      <td>494216</td>\n",
       "      <td>524109</td>\n",
       "      <td>687411</td>\n",
       "      <td>1523699</td>\n",
       "      <td>512519</td>\n",
       "      <td>616274</td>\n",
       "      <td>610793</td>\n",
       "      <td>203554</td>\n",
       "    </tr>\n",
       "    <tr>\n",
       "      <th>91</th>\n",
       "      <td>Países Baixos</td>\n",
       "      <td>364751</td>\n",
       "      <td>783635</td>\n",
       "      <td>136991</td>\n",
       "      <td>302182</td>\n",
       "      <td>395356</td>\n",
       "      <td>539641</td>\n",
       "      <td>255690</td>\n",
       "      <td>773767</td>\n",
       "      <td>186464</td>\n",
       "      <td>190203</td>\n",
       "      <td>0</td>\n",
       "      <td>32395</td>\n",
       "      <td>148031</td>\n",
       "      <td>1532</td>\n",
       "      <td>8484</td>\n",
       "    </tr>\n",
       "    <tr>\n",
       "      <th>93</th>\n",
       "      <td>Paraguai</td>\n",
       "      <td>801519</td>\n",
       "      <td>1374088</td>\n",
       "      <td>392087</td>\n",
       "      <td>449197</td>\n",
       "      <td>276281</td>\n",
       "      <td>428279</td>\n",
       "      <td>680828</td>\n",
       "      <td>908028</td>\n",
       "      <td>741370</td>\n",
       "      <td>1655417</td>\n",
       "      <td>4274650</td>\n",
       "      <td>5494321</td>\n",
       "      <td>3826587</td>\n",
       "      <td>3869243</td>\n",
       "      <td>7192362</td>\n",
       "    </tr>\n",
       "    <tr>\n",
       "      <th>99</th>\n",
       "      <td>Reino Unido</td>\n",
       "      <td>144244</td>\n",
       "      <td>155076</td>\n",
       "      <td>68788</td>\n",
       "      <td>295690</td>\n",
       "      <td>285642</td>\n",
       "      <td>334856</td>\n",
       "      <td>305005</td>\n",
       "      <td>1373747</td>\n",
       "      <td>308407</td>\n",
       "      <td>536681</td>\n",
       "      <td>242883</td>\n",
       "      <td>296827</td>\n",
       "      <td>164592</td>\n",
       "      <td>82722</td>\n",
       "      <td>122394</td>\n",
       "    </tr>\n",
       "    <tr>\n",
       "      <th>101</th>\n",
       "      <td>Rússia</td>\n",
       "      <td>173160</td>\n",
       "      <td>2352768</td>\n",
       "      <td>5732280</td>\n",
       "      <td>0</td>\n",
       "      <td>0</td>\n",
       "      <td>2103968</td>\n",
       "      <td>14795694</td>\n",
       "      <td>61440</td>\n",
       "      <td>18240</td>\n",
       "      <td>0</td>\n",
       "      <td>0</td>\n",
       "      <td>0</td>\n",
       "      <td>0</td>\n",
       "      <td>8550</td>\n",
       "      <td>312926</td>\n",
       "    </tr>\n",
       "  </tbody>\n",
       "</table>\n",
       "</div>"
      ],
      "text/plain": [
       "               pais    2007     2008     2009    2010     2011     2012  \\\n",
       "28            China   30390    25926   482400    2358   334867   642177   \n",
       "46          Espanha       0     6834     4050       0    24618        0   \n",
       "47   Estados Unidos  810038   804607   660066  478630  1030254   303986   \n",
       "91    Países Baixos  364751   783635   136991  302182   395356   539641   \n",
       "93         Paraguai  801519  1374088   392087  449197   276281   428279   \n",
       "99      Reino Unido  144244   155076    68788  295690   285642   334856   \n",
       "101          Rússia  173160  2352768  5732280       0        0  2103968   \n",
       "\n",
       "         2013     2014    2015     2016     2017     2018     2019     2020  \\\n",
       "28     279956   455340  222866   499622   266086   126336   376828   363000   \n",
       "46    3748940        0       0        0        0    22631     1353      126   \n",
       "47     786556   494216  524109   687411  1523699   512519   616274   610793   \n",
       "91     255690   773767  186464   190203        0    32395   148031     1532   \n",
       "93     680828   908028  741370  1655417  4274650  5494321  3826587  3869243   \n",
       "99     305005  1373747  308407   536681   242883   296827   164592    82722   \n",
       "101  14795694    61440   18240        0        0        0        0     8550   \n",
       "\n",
       "        2021  \n",
       "28    264116  \n",
       "46         0  \n",
       "47    203554  \n",
       "91      8484  \n",
       "93   7192362  \n",
       "99    122394  \n",
       "101   312926  "
      ]
     },
     "execution_count": 53,
     "metadata": {},
     "output_type": "execute_result"
    }
   ],
   "source": [
    "paises_exportacao = dataset_valor.query(\"pais == 'Paraguai' or pais == 'Rússia' or pais == 'Estados Unidos' or pais == 'Reino Unido' or pais == 'China' or pais == 'Países Baixos' or pais == 'Espanha'\")\n",
    "periodo = [str(ano) for ano in range(2007, 2022)]\n",
    "colunas = ['pais'] + periodo\n",
    "paises_exportacao = paises_exportacao.loc[:, colunas]\n",
    "paises_exportacao"
   ]
  },
  {
   "cell_type": "code",
   "execution_count": 54,
   "metadata": {},
   "outputs": [
    {
     "data": {
      "text/plain": [
       "pais    object\n",
       "2007     int64\n",
       "2008     int64\n",
       "2009     int64\n",
       "2010     int64\n",
       "2011     int64\n",
       "2012     int64\n",
       "2013     int64\n",
       "2014     int64\n",
       "2015     int64\n",
       "2016     int64\n",
       "2017     int64\n",
       "2018     int64\n",
       "2019     int64\n",
       "2020     int64\n",
       "2021     int64\n",
       "dtype: object"
      ]
     },
     "execution_count": 54,
     "metadata": {},
     "output_type": "execute_result"
    }
   ],
   "source": [
    "paises_exportacao.dtypes"
   ]
  },
  {
   "attachments": {},
   "cell_type": "markdown",
   "metadata": {},
   "source": [
    "## Comparando"
   ]
  },
  {
   "cell_type": "code",
   "execution_count": 55,
   "metadata": {},
   "outputs": [
    {
     "data": {
      "text/html": [
       "<div>\n",
       "<style scoped>\n",
       "    .dataframe tbody tr th:only-of-type {\n",
       "        vertical-align: middle;\n",
       "    }\n",
       "\n",
       "    .dataframe tbody tr th {\n",
       "        vertical-align: top;\n",
       "    }\n",
       "\n",
       "    .dataframe thead th {\n",
       "        text-align: right;\n",
       "    }\n",
       "</style>\n",
       "<table border=\"1\" class=\"dataframe\">\n",
       "  <thead>\n",
       "    <tr style=\"text-align: right;\">\n",
       "      <th></th>\n",
       "      <th>pais</th>\n",
       "      <th>2007</th>\n",
       "      <th>2008</th>\n",
       "      <th>2009</th>\n",
       "      <th>2010</th>\n",
       "      <th>2011</th>\n",
       "      <th>2012</th>\n",
       "      <th>2013</th>\n",
       "      <th>2014</th>\n",
       "      <th>2015</th>\n",
       "      <th>2016</th>\n",
       "      <th>2017</th>\n",
       "      <th>2018</th>\n",
       "      <th>2019</th>\n",
       "      <th>2020</th>\n",
       "      <th>2021</th>\n",
       "    </tr>\n",
       "  </thead>\n",
       "  <tbody>\n",
       "    <tr>\n",
       "      <th>0</th>\n",
       "      <td>China</td>\n",
       "      <td>3.550343e+12</td>\n",
       "      <td>4.594307e+12</td>\n",
       "      <td>5.101703e+12</td>\n",
       "      <td>6.087164e+12</td>\n",
       "      <td>7.551500e+12</td>\n",
       "      <td>8.532230e+12</td>\n",
       "      <td>9.570406e+12</td>\n",
       "      <td>1.047568e+13</td>\n",
       "      <td>1.106155e+13</td>\n",
       "      <td>1.123328e+13</td>\n",
       "      <td>1.231041e+13</td>\n",
       "      <td>1.389482e+13</td>\n",
       "      <td>1.427994e+13</td>\n",
       "      <td>1.468767e+13</td>\n",
       "      <td>1.773406e+13</td>\n",
       "    </tr>\n",
       "    <tr>\n",
       "      <th>1</th>\n",
       "      <td>Países Baixos</td>\n",
       "      <td>8.485589e+11</td>\n",
       "      <td>9.518700e+11</td>\n",
       "      <td>8.715186e+11</td>\n",
       "      <td>8.473809e+11</td>\n",
       "      <td>9.052706e+11</td>\n",
       "      <td>8.389233e+11</td>\n",
       "      <td>8.771728e+11</td>\n",
       "      <td>8.921680e+11</td>\n",
       "      <td>7.655728e+11</td>\n",
       "      <td>7.840604e+11</td>\n",
       "      <td>8.338696e+11</td>\n",
       "      <td>9.140434e+11</td>\n",
       "      <td>9.101943e+11</td>\n",
       "      <td>9.097935e+11</td>\n",
       "      <td>1.012847e+12</td>\n",
       "    </tr>\n",
       "    <tr>\n",
       "      <th>2</th>\n",
       "      <td>Paraguai</td>\n",
       "      <td>1.785639e+10</td>\n",
       "      <td>2.461527e+10</td>\n",
       "      <td>2.235515e+10</td>\n",
       "      <td>2.726089e+10</td>\n",
       "      <td>3.375624e+10</td>\n",
       "      <td>3.327192e+10</td>\n",
       "      <td>3.850112e+10</td>\n",
       "      <td>4.037793e+10</td>\n",
       "      <td>3.621145e+10</td>\n",
       "      <td>3.608970e+10</td>\n",
       "      <td>3.899713e+10</td>\n",
       "      <td>4.022545e+10</td>\n",
       "      <td>3.792534e+10</td>\n",
       "      <td>3.543218e+10</td>\n",
       "      <td>3.949543e+10</td>\n",
       "    </tr>\n",
       "    <tr>\n",
       "      <th>3</th>\n",
       "      <td>Rússia</td>\n",
       "      <td>1.299706e+12</td>\n",
       "      <td>1.660846e+12</td>\n",
       "      <td>1.222644e+12</td>\n",
       "      <td>1.524917e+12</td>\n",
       "      <td>2.045926e+12</td>\n",
       "      <td>2.208296e+12</td>\n",
       "      <td>2.292473e+12</td>\n",
       "      <td>2.059242e+12</td>\n",
       "      <td>1.363481e+12</td>\n",
       "      <td>1.276787e+12</td>\n",
       "      <td>1.574199e+12</td>\n",
       "      <td>1.657330e+12</td>\n",
       "      <td>1.693114e+12</td>\n",
       "      <td>1.489362e+12</td>\n",
       "      <td>1.778783e+12</td>\n",
       "    </tr>\n",
       "    <tr>\n",
       "      <th>4</th>\n",
       "      <td>Espanha</td>\n",
       "      <td>1.474003e+12</td>\n",
       "      <td>1.631863e+12</td>\n",
       "      <td>1.491473e+12</td>\n",
       "      <td>1.422108e+12</td>\n",
       "      <td>1.480710e+12</td>\n",
       "      <td>1.324751e+12</td>\n",
       "      <td>1.355580e+12</td>\n",
       "      <td>1.371821e+12</td>\n",
       "      <td>1.196157e+12</td>\n",
       "      <td>1.233555e+12</td>\n",
       "      <td>1.313245e+12</td>\n",
       "      <td>1.421703e+12</td>\n",
       "      <td>1.394320e+12</td>\n",
       "      <td>1.276963e+12</td>\n",
       "      <td>1.427381e+12</td>\n",
       "    </tr>\n",
       "    <tr>\n",
       "      <th>5</th>\n",
       "      <td>Reino Unido</td>\n",
       "      <td>3.092821e+12</td>\n",
       "      <td>2.931502e+12</td>\n",
       "      <td>2.417638e+12</td>\n",
       "      <td>2.491397e+12</td>\n",
       "      <td>2.666403e+12</td>\n",
       "      <td>2.706341e+12</td>\n",
       "      <td>2.786315e+12</td>\n",
       "      <td>3.065223e+12</td>\n",
       "      <td>2.934858e+12</td>\n",
       "      <td>2.699660e+12</td>\n",
       "      <td>2.683399e+12</td>\n",
       "      <td>2.878152e+12</td>\n",
       "      <td>2.857058e+12</td>\n",
       "      <td>2.704609e+12</td>\n",
       "      <td>3.131378e+12</td>\n",
       "    </tr>\n",
       "    <tr>\n",
       "      <th>6</th>\n",
       "      <td>Estados Unidos</td>\n",
       "      <td>1.447423e+13</td>\n",
       "      <td>1.476986e+13</td>\n",
       "      <td>1.447806e+13</td>\n",
       "      <td>1.504896e+13</td>\n",
       "      <td>1.559973e+13</td>\n",
       "      <td>1.625397e+13</td>\n",
       "      <td>1.684319e+13</td>\n",
       "      <td>1.755068e+13</td>\n",
       "      <td>1.820602e+13</td>\n",
       "      <td>1.869511e+13</td>\n",
       "      <td>1.947734e+13</td>\n",
       "      <td>2.053306e+13</td>\n",
       "      <td>2.138098e+13</td>\n",
       "      <td>2.106047e+13</td>\n",
       "      <td>2.331508e+13</td>\n",
       "    </tr>\n",
       "  </tbody>\n",
       "</table>\n",
       "</div>"
      ],
      "text/plain": [
       "             pais          2007          2008          2009          2010  \\\n",
       "0           China  3.550343e+12  4.594307e+12  5.101703e+12  6.087164e+12   \n",
       "1   Países Baixos  8.485589e+11  9.518700e+11  8.715186e+11  8.473809e+11   \n",
       "2        Paraguai  1.785639e+10  2.461527e+10  2.235515e+10  2.726089e+10   \n",
       "3          Rússia  1.299706e+12  1.660846e+12  1.222644e+12  1.524917e+12   \n",
       "4         Espanha  1.474003e+12  1.631863e+12  1.491473e+12  1.422108e+12   \n",
       "5     Reino Unido  3.092821e+12  2.931502e+12  2.417638e+12  2.491397e+12   \n",
       "6  Estados Unidos  1.447423e+13  1.476986e+13  1.447806e+13  1.504896e+13   \n",
       "\n",
       "           2011          2012          2013          2014          2015  \\\n",
       "0  7.551500e+12  8.532230e+12  9.570406e+12  1.047568e+13  1.106155e+13   \n",
       "1  9.052706e+11  8.389233e+11  8.771728e+11  8.921680e+11  7.655728e+11   \n",
       "2  3.375624e+10  3.327192e+10  3.850112e+10  4.037793e+10  3.621145e+10   \n",
       "3  2.045926e+12  2.208296e+12  2.292473e+12  2.059242e+12  1.363481e+12   \n",
       "4  1.480710e+12  1.324751e+12  1.355580e+12  1.371821e+12  1.196157e+12   \n",
       "5  2.666403e+12  2.706341e+12  2.786315e+12  3.065223e+12  2.934858e+12   \n",
       "6  1.559973e+13  1.625397e+13  1.684319e+13  1.755068e+13  1.820602e+13   \n",
       "\n",
       "           2016          2017          2018          2019          2020  \\\n",
       "0  1.123328e+13  1.231041e+13  1.389482e+13  1.427994e+13  1.468767e+13   \n",
       "1  7.840604e+11  8.338696e+11  9.140434e+11  9.101943e+11  9.097935e+11   \n",
       "2  3.608970e+10  3.899713e+10  4.022545e+10  3.792534e+10  3.543218e+10   \n",
       "3  1.276787e+12  1.574199e+12  1.657330e+12  1.693114e+12  1.489362e+12   \n",
       "4  1.233555e+12  1.313245e+12  1.421703e+12  1.394320e+12  1.276963e+12   \n",
       "5  2.699660e+12  2.683399e+12  2.878152e+12  2.857058e+12  2.704609e+12   \n",
       "6  1.869511e+13  1.947734e+13  2.053306e+13  2.138098e+13  2.106047e+13   \n",
       "\n",
       "           2021  \n",
       "0  1.773406e+13  \n",
       "1  1.012847e+12  \n",
       "2  3.949543e+10  \n",
       "3  1.778783e+12  \n",
       "4  1.427381e+12  \n",
       "5  3.131378e+12  \n",
       "6  2.331508e+13  "
      ]
     },
     "execution_count": 55,
     "metadata": {},
     "output_type": "execute_result"
    }
   ],
   "source": [
    "paises_pib\n",
    "# paises_inflation\n",
    "# paises_trade\n",
    "# paises_population\n",
    "# paises_unemployment"
   ]
  },
  {
   "cell_type": "code",
   "execution_count": 56,
   "metadata": {},
   "outputs": [],
   "source": [
    "def plot_regressao_estimada(data, title, data_type):\n",
    "    pib = make_subplots(rows=4, cols=2, start_cell=\"bottom-left\")\n",
    "    pib.update_layout(\n",
    "        title=title,\n",
    "        width=1300,\n",
    "        height=600,\n",
    "        showlegend=False,\n",
    "        colorway=['blue', 'green', 'orange', 'purple', 'brown', 'black', 'gray']\n",
    "    )\n",
    "    for i, pais in enumerate(data.pais):\n",
    "        row = 4 - (i // 2)  # Inverter a ordem das linhas\n",
    "        col = (i % 2) + 1\n",
    "        trace = go.Scatter(x=data.columns[1:], y=data.iloc[i, 1:], name=pais)\n",
    "        x = np.array(data.columns[1:], dtype=data_type)\n",
    "        y = np.array(data.iloc[i, 1:], dtype=data_type)\n",
    "        coef = np.polyfit(x, y, 1)\n",
    "        line = coef[1] + coef[0] * x\n",
    "        reg = go.Scatter(x=x, y=line, mode='lines', name='Regressão', line=dict(color='red'))\n",
    "        pib.add_trace(reg, row=row, col=col)\n",
    "        pib.add_trace(trace, row=row, col=col)\n",
    "        pib.update_xaxes(title_text=pais, row=row, col=col, title_standoff=10,\n",
    "                         tickfont=dict(size=8), title_font=dict(size=10),\n",
    "                         tickvals=paises_inflation.columns[1:])\n",
    "    pib.show()"
   ]
  },
  {
   "cell_type": "code",
   "execution_count": 57,
   "metadata": {},
   "outputs": [
    {
     "data": {
      "application/vnd.plotly.v1+json": {
       "config": {
        "plotlyServerURL": "https://plot.ly"
       },
       "data": [
        {
         "line": {
          "color": "red"
         },
         "mode": "lines",
         "name": "Regressão",
         "type": "scatter",
         "x": [
          2007,
          2008,
          2009,
          2010,
          2011,
          2012,
          2013,
          2014,
          2015,
          2016,
          2017,
          2018,
          2019,
          2020,
          2021
         ],
         "xaxis": "x7",
         "y": [
          214533.6583333388,
          225526.640476197,
          236519.6226190552,
          247512.60476191342,
          258505.5869047679,
          269498.5690476261,
          280491.5511904843,
          291484.5333333425,
          302477.51547620073,
          313470.49761905894,
          324463.47976191714,
          335456.46190477535,
          346449.44404763356,
          357442.42619049177,
          368435.40833335
         ],
         "yaxis": "y7"
        },
        {
         "name": "China",
         "type": "scatter",
         "x": [
          "2007",
          "2008",
          "2009",
          "2010",
          "2011",
          "2012",
          "2013",
          "2014",
          "2015",
          "2016",
          "2017",
          "2018",
          "2019",
          "2020",
          "2021"
         ],
         "xaxis": "x7",
         "y": [
          30390,
          25926,
          482400,
          2358,
          334867,
          642177,
          279956,
          455340,
          222866,
          499622,
          266086,
          126336,
          376828,
          363000,
          264116
         ],
         "yaxis": "y7"
        },
        {
         "line": {
          "color": "red"
         },
         "mode": "lines",
         "name": "Regressão",
         "type": "scatter",
         "x": [
          2007,
          2008,
          2009,
          2010,
          2011,
          2012,
          2013,
          2014,
          2015,
          2016,
          2017,
          2018,
          2019,
          2020,
          2021
         ],
         "xaxis": "x8",
         "y": [
          348553.541666653,
          335032.1023809388,
          321510.66309522465,
          307989.22380951047,
          294467.7845237963,
          280946.3452380821,
          267424.90595236793,
          253903.46666665375,
          240382.02738093957,
          226860.5880952254,
          213339.1488095112,
          199817.70952379704,
          186296.27023808286,
          172774.83095236868,
          159253.3916666545
         ],
         "yaxis": "y8"
        },
        {
         "name": "Espanha",
         "type": "scatter",
         "x": [
          "2007",
          "2008",
          "2009",
          "2010",
          "2011",
          "2012",
          "2013",
          "2014",
          "2015",
          "2016",
          "2017",
          "2018",
          "2019",
          "2020",
          "2021"
         ],
         "xaxis": "x8",
         "y": [
          0,
          6834,
          4050,
          0,
          24618,
          0,
          3748940,
          0,
          0,
          0,
          0,
          22631,
          1353,
          126,
          0
         ],
         "yaxis": "y8"
        },
        {
         "line": {
          "color": "red"
         },
         "mode": "lines",
         "name": "Regressão",
         "type": "scatter",
         "x": [
          2007,
          2008,
          2009,
          2010,
          2011,
          2012,
          2013,
          2014,
          2015,
          2016,
          2017,
          2018,
          2019,
          2020,
          2021
         ],
         "xaxis": "x5",
         "y": [
          757454.2499999888,
          744929.4714285582,
          732404.6928571314,
          719879.9142857008,
          707355.1357142702,
          694830.3571428433,
          682305.5785714127,
          669780.7999999821,
          657256.0214285553,
          644731.2428571247,
          632206.4642856941,
          619681.6857142672,
          607156.9071428366,
          594632.128571406,
          582107.3499999791
         ],
         "yaxis": "y5"
        },
        {
         "name": "Estados Unidos",
         "type": "scatter",
         "x": [
          "2007",
          "2008",
          "2009",
          "2010",
          "2011",
          "2012",
          "2013",
          "2014",
          "2015",
          "2016",
          "2017",
          "2018",
          "2019",
          "2020",
          "2021"
         ],
         "xaxis": "x5",
         "y": [
          810038,
          804607,
          660066,
          478630,
          1030254,
          303986,
          786556,
          494216,
          524109,
          687411,
          1523699,
          512519,
          616274,
          610793,
          203554
         ],
         "yaxis": "y5"
        },
        {
         "line": {
          "color": "red"
         },
         "mode": "lines",
         "name": "Regressão",
         "type": "scatter",
         "x": [
          2007,
          2008,
          2009,
          2010,
          2011,
          2012,
          2013,
          2014,
          2015,
          2016,
          2017,
          2018,
          2019,
          2020,
          2021
         ],
         "xaxis": "x6",
         "y": [
          528723.2583332956,
          492421.097619012,
          456118.9369047284,
          419816.7761904448,
          383514.61547616124,
          347212.45476187766,
          310910.29404759407,
          274608.1333333105,
          238305.9726190269,
          202003.8119047433,
          165701.65119045973,
          129399.49047617614,
          93097.32976189256,
          56795.16904760897,
          20493.008333325386
         ],
         "yaxis": "y6"
        },
        {
         "name": "Países Baixos",
         "type": "scatter",
         "x": [
          "2007",
          "2008",
          "2009",
          "2010",
          "2011",
          "2012",
          "2013",
          "2014",
          "2015",
          "2016",
          "2017",
          "2018",
          "2019",
          "2020",
          "2021"
         ],
         "xaxis": "x6",
         "y": [
          364751,
          783635,
          136991,
          302182,
          395356,
          539641,
          255690,
          773767,
          186464,
          190203,
          0,
          32395,
          148031,
          1532,
          8484
         ],
         "yaxis": "y6"
        },
        {
         "line": {
          "color": "red"
         },
         "mode": "lines",
         "name": "Regressão",
         "type": "scatter",
         "x": [
          2007,
          2008,
          2009,
          2010,
          2011,
          2012,
          2013,
          2014,
          2015,
          2016,
          2017,
          2018,
          2019,
          2020,
          2021
         ],
         "xaxis": "x3",
         "y": [
          -631626.6666661501,
          -233163.26666617393,
          165300.13333380222,
          563763.5333337784,
          962226.9333337545,
          1360690.3333337307,
          1759153.7333337069,
          2157617.133333802,
          2556080.5333337784,
          2954543.9333337545,
          3353007.3333337307,
          3751470.733333707,
          4149934.133333683,
          4548397.533333659,
          4946860.933333635
         ],
         "yaxis": "y3"
        },
        {
         "name": "Paraguai",
         "type": "scatter",
         "x": [
          "2007",
          "2008",
          "2009",
          "2010",
          "2011",
          "2012",
          "2013",
          "2014",
          "2015",
          "2016",
          "2017",
          "2018",
          "2019",
          "2020",
          "2021"
         ],
         "xaxis": "x3",
         "y": [
          801519,
          1374088,
          392087,
          449197,
          276281,
          428279,
          680828,
          908028,
          741370,
          1655417,
          4274650,
          5494321,
          3826587,
          3869243,
          7192362
         ],
         "yaxis": "y3"
        },
        {
         "line": {
          "color": "red"
         },
         "mode": "lines",
         "name": "Regressão",
         "type": "scatter",
         "x": [
          2007,
          2008,
          2009,
          2010,
          2011,
          2012,
          2013,
          2014,
          2015,
          2016,
          2017,
          2018,
          2019,
          2020,
          2021
         ],
         "xaxis": "x4",
         "y": [
          310121.8749999943,
          310747.83571428095,
          311373.7964285674,
          311999.75714285404,
          312625.71785714047,
          313251.6785714271,
          313877.6392857138,
          314503.6000000002,
          315129.56071428687,
          315755.5214285733,
          316381.48214285995,
          317007.4428571466,
          317633.40357143304,
          318259.3642857197,
          318885.32500000636
         ],
         "yaxis": "y4"
        },
        {
         "name": "Reino Unido",
         "type": "scatter",
         "x": [
          "2007",
          "2008",
          "2009",
          "2010",
          "2011",
          "2012",
          "2013",
          "2014",
          "2015",
          "2016",
          "2017",
          "2018",
          "2019",
          "2020",
          "2021"
         ],
         "xaxis": "x4",
         "y": [
          144244,
          155076,
          68788,
          295690,
          285642,
          334856,
          305005,
          1373747,
          308407,
          536681,
          242883,
          296827,
          164592,
          82722,
          122394
         ],
         "yaxis": "y4"
        },
        {
         "line": {
          "color": "red"
         },
         "mode": "lines",
         "name": "Regressão",
         "type": "scatter",
         "x": [
          2007,
          2008,
          2009,
          2010,
          2011,
          2012,
          2013,
          2014,
          2015,
          2016,
          2017,
          2018,
          2019,
          2020,
          2021
         ],
         "xaxis": "x",
         "y": [
          3222278.466666341,
          3005372.2666663527,
          2788466.0666663647,
          2571559.8666663766,
          2354653.6666663885,
          2137747.4666664004,
          1920841.2666664124,
          1703935.0666664243,
          1487028.8666664362,
          1270122.666666448,
          1053216.4666665196,
          836310.2666665316,
          619404.0666665435,
          402497.8666665554,
          185591.66666656733
         ],
         "yaxis": "y"
        },
        {
         "name": "Rússia",
         "type": "scatter",
         "x": [
          "2007",
          "2008",
          "2009",
          "2010",
          "2011",
          "2012",
          "2013",
          "2014",
          "2015",
          "2016",
          "2017",
          "2018",
          "2019",
          "2020",
          "2021"
         ],
         "xaxis": "x",
         "y": [
          173160,
          2352768,
          5732280,
          0,
          0,
          2103968,
          14795694,
          61440,
          18240,
          0,
          0,
          0,
          0,
          8550,
          312926
         ],
         "yaxis": "y"
        }
       ],
       "layout": {
        "colorway": [
         "blue",
         "green",
         "orange",
         "purple",
         "brown",
         "black",
         "gray"
        ],
        "height": 600,
        "showlegend": false,
        "template": {
         "data": {
          "bar": [
           {
            "error_x": {
             "color": "#2a3f5f"
            },
            "error_y": {
             "color": "#2a3f5f"
            },
            "marker": {
             "line": {
              "color": "#E5ECF6",
              "width": 0.5
             },
             "pattern": {
              "fillmode": "overlay",
              "size": 10,
              "solidity": 0.2
             }
            },
            "type": "bar"
           }
          ],
          "barpolar": [
           {
            "marker": {
             "line": {
              "color": "#E5ECF6",
              "width": 0.5
             },
             "pattern": {
              "fillmode": "overlay",
              "size": 10,
              "solidity": 0.2
             }
            },
            "type": "barpolar"
           }
          ],
          "carpet": [
           {
            "aaxis": {
             "endlinecolor": "#2a3f5f",
             "gridcolor": "white",
             "linecolor": "white",
             "minorgridcolor": "white",
             "startlinecolor": "#2a3f5f"
            },
            "baxis": {
             "endlinecolor": "#2a3f5f",
             "gridcolor": "white",
             "linecolor": "white",
             "minorgridcolor": "white",
             "startlinecolor": "#2a3f5f"
            },
            "type": "carpet"
           }
          ],
          "choropleth": [
           {
            "colorbar": {
             "outlinewidth": 0,
             "ticks": ""
            },
            "type": "choropleth"
           }
          ],
          "contour": [
           {
            "colorbar": {
             "outlinewidth": 0,
             "ticks": ""
            },
            "colorscale": [
             [
              0,
              "#0d0887"
             ],
             [
              0.1111111111111111,
              "#46039f"
             ],
             [
              0.2222222222222222,
              "#7201a8"
             ],
             [
              0.3333333333333333,
              "#9c179e"
             ],
             [
              0.4444444444444444,
              "#bd3786"
             ],
             [
              0.5555555555555556,
              "#d8576b"
             ],
             [
              0.6666666666666666,
              "#ed7953"
             ],
             [
              0.7777777777777778,
              "#fb9f3a"
             ],
             [
              0.8888888888888888,
              "#fdca26"
             ],
             [
              1,
              "#f0f921"
             ]
            ],
            "type": "contour"
           }
          ],
          "contourcarpet": [
           {
            "colorbar": {
             "outlinewidth": 0,
             "ticks": ""
            },
            "type": "contourcarpet"
           }
          ],
          "heatmap": [
           {
            "colorbar": {
             "outlinewidth": 0,
             "ticks": ""
            },
            "colorscale": [
             [
              0,
              "#0d0887"
             ],
             [
              0.1111111111111111,
              "#46039f"
             ],
             [
              0.2222222222222222,
              "#7201a8"
             ],
             [
              0.3333333333333333,
              "#9c179e"
             ],
             [
              0.4444444444444444,
              "#bd3786"
             ],
             [
              0.5555555555555556,
              "#d8576b"
             ],
             [
              0.6666666666666666,
              "#ed7953"
             ],
             [
              0.7777777777777778,
              "#fb9f3a"
             ],
             [
              0.8888888888888888,
              "#fdca26"
             ],
             [
              1,
              "#f0f921"
             ]
            ],
            "type": "heatmap"
           }
          ],
          "heatmapgl": [
           {
            "colorbar": {
             "outlinewidth": 0,
             "ticks": ""
            },
            "colorscale": [
             [
              0,
              "#0d0887"
             ],
             [
              0.1111111111111111,
              "#46039f"
             ],
             [
              0.2222222222222222,
              "#7201a8"
             ],
             [
              0.3333333333333333,
              "#9c179e"
             ],
             [
              0.4444444444444444,
              "#bd3786"
             ],
             [
              0.5555555555555556,
              "#d8576b"
             ],
             [
              0.6666666666666666,
              "#ed7953"
             ],
             [
              0.7777777777777778,
              "#fb9f3a"
             ],
             [
              0.8888888888888888,
              "#fdca26"
             ],
             [
              1,
              "#f0f921"
             ]
            ],
            "type": "heatmapgl"
           }
          ],
          "histogram": [
           {
            "marker": {
             "pattern": {
              "fillmode": "overlay",
              "size": 10,
              "solidity": 0.2
             }
            },
            "type": "histogram"
           }
          ],
          "histogram2d": [
           {
            "colorbar": {
             "outlinewidth": 0,
             "ticks": ""
            },
            "colorscale": [
             [
              0,
              "#0d0887"
             ],
             [
              0.1111111111111111,
              "#46039f"
             ],
             [
              0.2222222222222222,
              "#7201a8"
             ],
             [
              0.3333333333333333,
              "#9c179e"
             ],
             [
              0.4444444444444444,
              "#bd3786"
             ],
             [
              0.5555555555555556,
              "#d8576b"
             ],
             [
              0.6666666666666666,
              "#ed7953"
             ],
             [
              0.7777777777777778,
              "#fb9f3a"
             ],
             [
              0.8888888888888888,
              "#fdca26"
             ],
             [
              1,
              "#f0f921"
             ]
            ],
            "type": "histogram2d"
           }
          ],
          "histogram2dcontour": [
           {
            "colorbar": {
             "outlinewidth": 0,
             "ticks": ""
            },
            "colorscale": [
             [
              0,
              "#0d0887"
             ],
             [
              0.1111111111111111,
              "#46039f"
             ],
             [
              0.2222222222222222,
              "#7201a8"
             ],
             [
              0.3333333333333333,
              "#9c179e"
             ],
             [
              0.4444444444444444,
              "#bd3786"
             ],
             [
              0.5555555555555556,
              "#d8576b"
             ],
             [
              0.6666666666666666,
              "#ed7953"
             ],
             [
              0.7777777777777778,
              "#fb9f3a"
             ],
             [
              0.8888888888888888,
              "#fdca26"
             ],
             [
              1,
              "#f0f921"
             ]
            ],
            "type": "histogram2dcontour"
           }
          ],
          "mesh3d": [
           {
            "colorbar": {
             "outlinewidth": 0,
             "ticks": ""
            },
            "type": "mesh3d"
           }
          ],
          "parcoords": [
           {
            "line": {
             "colorbar": {
              "outlinewidth": 0,
              "ticks": ""
             }
            },
            "type": "parcoords"
           }
          ],
          "pie": [
           {
            "automargin": true,
            "type": "pie"
           }
          ],
          "scatter": [
           {
            "fillpattern": {
             "fillmode": "overlay",
             "size": 10,
             "solidity": 0.2
            },
            "type": "scatter"
           }
          ],
          "scatter3d": [
           {
            "line": {
             "colorbar": {
              "outlinewidth": 0,
              "ticks": ""
             }
            },
            "marker": {
             "colorbar": {
              "outlinewidth": 0,
              "ticks": ""
             }
            },
            "type": "scatter3d"
           }
          ],
          "scattercarpet": [
           {
            "marker": {
             "colorbar": {
              "outlinewidth": 0,
              "ticks": ""
             }
            },
            "type": "scattercarpet"
           }
          ],
          "scattergeo": [
           {
            "marker": {
             "colorbar": {
              "outlinewidth": 0,
              "ticks": ""
             }
            },
            "type": "scattergeo"
           }
          ],
          "scattergl": [
           {
            "marker": {
             "colorbar": {
              "outlinewidth": 0,
              "ticks": ""
             }
            },
            "type": "scattergl"
           }
          ],
          "scattermapbox": [
           {
            "marker": {
             "colorbar": {
              "outlinewidth": 0,
              "ticks": ""
             }
            },
            "type": "scattermapbox"
           }
          ],
          "scatterpolar": [
           {
            "marker": {
             "colorbar": {
              "outlinewidth": 0,
              "ticks": ""
             }
            },
            "type": "scatterpolar"
           }
          ],
          "scatterpolargl": [
           {
            "marker": {
             "colorbar": {
              "outlinewidth": 0,
              "ticks": ""
             }
            },
            "type": "scatterpolargl"
           }
          ],
          "scatterternary": [
           {
            "marker": {
             "colorbar": {
              "outlinewidth": 0,
              "ticks": ""
             }
            },
            "type": "scatterternary"
           }
          ],
          "surface": [
           {
            "colorbar": {
             "outlinewidth": 0,
             "ticks": ""
            },
            "colorscale": [
             [
              0,
              "#0d0887"
             ],
             [
              0.1111111111111111,
              "#46039f"
             ],
             [
              0.2222222222222222,
              "#7201a8"
             ],
             [
              0.3333333333333333,
              "#9c179e"
             ],
             [
              0.4444444444444444,
              "#bd3786"
             ],
             [
              0.5555555555555556,
              "#d8576b"
             ],
             [
              0.6666666666666666,
              "#ed7953"
             ],
             [
              0.7777777777777778,
              "#fb9f3a"
             ],
             [
              0.8888888888888888,
              "#fdca26"
             ],
             [
              1,
              "#f0f921"
             ]
            ],
            "type": "surface"
           }
          ],
          "table": [
           {
            "cells": {
             "fill": {
              "color": "#EBF0F8"
             },
             "line": {
              "color": "white"
             }
            },
            "header": {
             "fill": {
              "color": "#C8D4E3"
             },
             "line": {
              "color": "white"
             }
            },
            "type": "table"
           }
          ]
         },
         "layout": {
          "annotationdefaults": {
           "arrowcolor": "#2a3f5f",
           "arrowhead": 0,
           "arrowwidth": 1
          },
          "autotypenumbers": "strict",
          "coloraxis": {
           "colorbar": {
            "outlinewidth": 0,
            "ticks": ""
           }
          },
          "colorscale": {
           "diverging": [
            [
             0,
             "#8e0152"
            ],
            [
             0.1,
             "#c51b7d"
            ],
            [
             0.2,
             "#de77ae"
            ],
            [
             0.3,
             "#f1b6da"
            ],
            [
             0.4,
             "#fde0ef"
            ],
            [
             0.5,
             "#f7f7f7"
            ],
            [
             0.6,
             "#e6f5d0"
            ],
            [
             0.7,
             "#b8e186"
            ],
            [
             0.8,
             "#7fbc41"
            ],
            [
             0.9,
             "#4d9221"
            ],
            [
             1,
             "#276419"
            ]
           ],
           "sequential": [
            [
             0,
             "#0d0887"
            ],
            [
             0.1111111111111111,
             "#46039f"
            ],
            [
             0.2222222222222222,
             "#7201a8"
            ],
            [
             0.3333333333333333,
             "#9c179e"
            ],
            [
             0.4444444444444444,
             "#bd3786"
            ],
            [
             0.5555555555555556,
             "#d8576b"
            ],
            [
             0.6666666666666666,
             "#ed7953"
            ],
            [
             0.7777777777777778,
             "#fb9f3a"
            ],
            [
             0.8888888888888888,
             "#fdca26"
            ],
            [
             1,
             "#f0f921"
            ]
           ],
           "sequentialminus": [
            [
             0,
             "#0d0887"
            ],
            [
             0.1111111111111111,
             "#46039f"
            ],
            [
             0.2222222222222222,
             "#7201a8"
            ],
            [
             0.3333333333333333,
             "#9c179e"
            ],
            [
             0.4444444444444444,
             "#bd3786"
            ],
            [
             0.5555555555555556,
             "#d8576b"
            ],
            [
             0.6666666666666666,
             "#ed7953"
            ],
            [
             0.7777777777777778,
             "#fb9f3a"
            ],
            [
             0.8888888888888888,
             "#fdca26"
            ],
            [
             1,
             "#f0f921"
            ]
           ]
          },
          "colorway": [
           "#636efa",
           "#EF553B",
           "#00cc96",
           "#ab63fa",
           "#FFA15A",
           "#19d3f3",
           "#FF6692",
           "#B6E880",
           "#FF97FF",
           "#FECB52"
          ],
          "font": {
           "color": "#2a3f5f"
          },
          "geo": {
           "bgcolor": "white",
           "lakecolor": "white",
           "landcolor": "#E5ECF6",
           "showlakes": true,
           "showland": true,
           "subunitcolor": "white"
          },
          "hoverlabel": {
           "align": "left"
          },
          "hovermode": "closest",
          "mapbox": {
           "style": "light"
          },
          "paper_bgcolor": "white",
          "plot_bgcolor": "#E5ECF6",
          "polar": {
           "angularaxis": {
            "gridcolor": "white",
            "linecolor": "white",
            "ticks": ""
           },
           "bgcolor": "#E5ECF6",
           "radialaxis": {
            "gridcolor": "white",
            "linecolor": "white",
            "ticks": ""
           }
          },
          "scene": {
           "xaxis": {
            "backgroundcolor": "#E5ECF6",
            "gridcolor": "white",
            "gridwidth": 2,
            "linecolor": "white",
            "showbackground": true,
            "ticks": "",
            "zerolinecolor": "white"
           },
           "yaxis": {
            "backgroundcolor": "#E5ECF6",
            "gridcolor": "white",
            "gridwidth": 2,
            "linecolor": "white",
            "showbackground": true,
            "ticks": "",
            "zerolinecolor": "white"
           },
           "zaxis": {
            "backgroundcolor": "#E5ECF6",
            "gridcolor": "white",
            "gridwidth": 2,
            "linecolor": "white",
            "showbackground": true,
            "ticks": "",
            "zerolinecolor": "white"
           }
          },
          "shapedefaults": {
           "line": {
            "color": "#2a3f5f"
           }
          },
          "ternary": {
           "aaxis": {
            "gridcolor": "white",
            "linecolor": "white",
            "ticks": ""
           },
           "baxis": {
            "gridcolor": "white",
            "linecolor": "white",
            "ticks": ""
           },
           "bgcolor": "#E5ECF6",
           "caxis": {
            "gridcolor": "white",
            "linecolor": "white",
            "ticks": ""
           }
          },
          "title": {
           "x": 0.05
          },
          "xaxis": {
           "automargin": true,
           "gridcolor": "white",
           "linecolor": "white",
           "ticks": "",
           "title": {
            "standoff": 15
           },
           "zerolinecolor": "white",
           "zerolinewidth": 2
          },
          "yaxis": {
           "automargin": true,
           "gridcolor": "white",
           "linecolor": "white",
           "ticks": "",
           "title": {
            "standoff": 15
           },
           "zerolinecolor": "white",
           "zerolinewidth": 2
          }
         }
        },
        "title": {
         "text": "Comparação da regressão estimada dos valores de exportação para os principais países"
        },
        "width": 1300,
        "xaxis": {
         "anchor": "y",
         "domain": [
          0,
          0.45
         ],
         "tickfont": {
          "size": 8
         },
         "tickvals": [
          "2007 ",
          "2008 ",
          "2009 ",
          "2010 ",
          "2011 ",
          "2012 ",
          "2013 ",
          "2014 ",
          "2015 ",
          "2016 ",
          "2017 ",
          "2018 ",
          "2019 ",
          "2020 ",
          "2021 "
         ],
         "title": {
          "font": {
           "size": 10
          },
          "standoff": 10,
          "text": "Rússia"
         }
        },
        "xaxis2": {
         "anchor": "y2",
         "domain": [
          0.55,
          1
         ]
        },
        "xaxis3": {
         "anchor": "y3",
         "domain": [
          0,
          0.45
         ],
         "tickfont": {
          "size": 8
         },
         "tickvals": [
          "2007 ",
          "2008 ",
          "2009 ",
          "2010 ",
          "2011 ",
          "2012 ",
          "2013 ",
          "2014 ",
          "2015 ",
          "2016 ",
          "2017 ",
          "2018 ",
          "2019 ",
          "2020 ",
          "2021 "
         ],
         "title": {
          "font": {
           "size": 10
          },
          "standoff": 10,
          "text": "Paraguai"
         }
        },
        "xaxis4": {
         "anchor": "y4",
         "domain": [
          0.55,
          1
         ],
         "tickfont": {
          "size": 8
         },
         "tickvals": [
          "2007 ",
          "2008 ",
          "2009 ",
          "2010 ",
          "2011 ",
          "2012 ",
          "2013 ",
          "2014 ",
          "2015 ",
          "2016 ",
          "2017 ",
          "2018 ",
          "2019 ",
          "2020 ",
          "2021 "
         ],
         "title": {
          "font": {
           "size": 10
          },
          "standoff": 10,
          "text": "Reino Unido"
         }
        },
        "xaxis5": {
         "anchor": "y5",
         "domain": [
          0,
          0.45
         ],
         "tickfont": {
          "size": 8
         },
         "tickvals": [
          "2007 ",
          "2008 ",
          "2009 ",
          "2010 ",
          "2011 ",
          "2012 ",
          "2013 ",
          "2014 ",
          "2015 ",
          "2016 ",
          "2017 ",
          "2018 ",
          "2019 ",
          "2020 ",
          "2021 "
         ],
         "title": {
          "font": {
           "size": 10
          },
          "standoff": 10,
          "text": "Estados Unidos"
         }
        },
        "xaxis6": {
         "anchor": "y6",
         "domain": [
          0.55,
          1
         ],
         "tickfont": {
          "size": 8
         },
         "tickvals": [
          "2007 ",
          "2008 ",
          "2009 ",
          "2010 ",
          "2011 ",
          "2012 ",
          "2013 ",
          "2014 ",
          "2015 ",
          "2016 ",
          "2017 ",
          "2018 ",
          "2019 ",
          "2020 ",
          "2021 "
         ],
         "title": {
          "font": {
           "size": 10
          },
          "standoff": 10,
          "text": "Países Baixos"
         }
        },
        "xaxis7": {
         "anchor": "y7",
         "domain": [
          0,
          0.45
         ],
         "tickfont": {
          "size": 8
         },
         "tickvals": [
          "2007 ",
          "2008 ",
          "2009 ",
          "2010 ",
          "2011 ",
          "2012 ",
          "2013 ",
          "2014 ",
          "2015 ",
          "2016 ",
          "2017 ",
          "2018 ",
          "2019 ",
          "2020 ",
          "2021 "
         ],
         "title": {
          "font": {
           "size": 10
          },
          "standoff": 10,
          "text": "China"
         }
        },
        "xaxis8": {
         "anchor": "y8",
         "domain": [
          0.55,
          1
         ],
         "tickfont": {
          "size": 8
         },
         "tickvals": [
          "2007 ",
          "2008 ",
          "2009 ",
          "2010 ",
          "2011 ",
          "2012 ",
          "2013 ",
          "2014 ",
          "2015 ",
          "2016 ",
          "2017 ",
          "2018 ",
          "2019 ",
          "2020 ",
          "2021 "
         ],
         "title": {
          "font": {
           "size": 10
          },
          "standoff": 10,
          "text": "Espanha"
         }
        },
        "yaxis": {
         "anchor": "x",
         "domain": [
          0,
          0.19375
         ]
        },
        "yaxis2": {
         "anchor": "x2",
         "domain": [
          0,
          0.19375
         ]
        },
        "yaxis3": {
         "anchor": "x3",
         "domain": [
          0.26875,
          0.4625
         ]
        },
        "yaxis4": {
         "anchor": "x4",
         "domain": [
          0.26875,
          0.4625
         ]
        },
        "yaxis5": {
         "anchor": "x5",
         "domain": [
          0.5375,
          0.73125
         ]
        },
        "yaxis6": {
         "anchor": "x6",
         "domain": [
          0.5375,
          0.73125
         ]
        },
        "yaxis7": {
         "anchor": "x7",
         "domain": [
          0.80625,
          1
         ]
        },
        "yaxis8": {
         "anchor": "x8",
         "domain": [
          0.80625,
          1
         ]
        }
       }
      }
     },
     "metadata": {},
     "output_type": "display_data"
    }
   ],
   "source": [
    "plot_regressao_estimada(paises_exportacao, 'Comparação da regressão estimada dos valores de exportação para os principais países', int)"
   ]
  },
  {
   "cell_type": "code",
   "execution_count": 58,
   "metadata": {},
   "outputs": [
    {
     "data": {
      "application/vnd.plotly.v1+json": {
       "config": {
        "plotlyServerURL": "https://plot.ly"
       },
       "data": [
        {
         "line": {
          "color": "red"
         },
         "mode": "lines",
         "name": "Regressão",
         "type": "scatter",
         "x": [
          2007,
          2008,
          2009,
          2010,
          2011,
          2012,
          2013,
          2014,
          2015,
          2016,
          2017,
          2018,
          2019,
          2020,
          2021
         ],
         "xaxis": "x7",
         "y": [
          3590887894682,
          4512809305541.5,
          5434730716401,
          6356652127260.5,
          7278573538120,
          8200494948979.5,
          9122416359839,
          10044337770698.75,
          10966259181558.25,
          11888180592417.75,
          12810102003277.25,
          13732023414136.75,
          14653944824996.25,
          15575866235855.75,
          16497787646715.25
         ],
         "yaxis": "y7"
        },
        {
         "name": "China",
         "type": "scatter",
         "x": [
          "2007",
          "2008",
          "2009",
          "2010",
          "2011",
          "2012",
          "2013",
          "2014",
          "2015",
          "2016",
          "2017",
          "2018",
          "2019",
          "2020",
          "2021"
         ],
         "xaxis": "x7",
         "y": [
          3550342737010.8,
          4594307032660.8,
          5101703073086,
          6087163874512.2,
          7551500124203.4,
          8532229986993.7,
          9570406235659.6,
          10475682920594.5,
          11061553079876.4,
          11233276536737.2,
          12310409370892.8,
          13894817549374.2,
          14279937500606.5,
          14687673892882,
          17734062645371.4
         ],
         "yaxis": "y7"
        },
        {
         "line": {
          "color": "red"
         },
         "mode": "lines",
         "name": "Regressão",
         "type": "scatter",
         "x": [
          2007,
          2008,
          2009,
          2010,
          2011,
          2012,
          2013,
          2014,
          2015,
          2016,
          2017,
          2018,
          2019,
          2020,
          2021
         ],
         "xaxis": "x8",
         "y": [
          854498199630.832,
          857791256787.5664,
          861084313944.3018,
          864377371101.0371,
          867670428257.7715,
          870963485414.5068,
          874256542571.2422,
          877549599727.9766,
          880842656884.7119,
          884135714041.4473,
          887428771198.1816,
          890721828354.917,
          894014885511.6514,
          897307942668.3867,
          900600999825.1221
         ],
         "yaxis": "y8"
        },
        {
         "name": "Países Baixos",
         "type": "scatter",
         "x": [
          "2007",
          "2008",
          "2009",
          "2010",
          "2011",
          "2012",
          "2013",
          "2014",
          "2015",
          "2016",
          "2017",
          "2018",
          "2019",
          "2020",
          "2021"
         ],
         "xaxis": "x8",
         "y": [
          848558887541.2,
          951869997864.1,
          871518638049.2,
          847380859016.7,
          905270626332.7,
          838923319919.5,
          877172824534.5,
          892167986713.7,
          765572770634.4,
          784060430240.1,
          833869641687.1,
          914043438179.6,
          910194347568.6,
          909793466661.5,
          1012846760976.7
         ],
         "yaxis": "y8"
        },
        {
         "line": {
          "color": "red"
         },
         "mode": "lines",
         "name": "Regressão",
         "type": "scatter",
         "x": [
          2007,
          2008,
          2009,
          2010,
          2011,
          2012,
          2013,
          2014,
          2015,
          2016,
          2017,
          2018,
          2019,
          2020,
          2021
         ],
         "xaxis": "x5",
         "y": [
          24362627151.055664,
          25666743116.663086,
          26970859082.270508,
          28274975047.87793,
          29579091013.48535,
          30883206979.092773,
          32187322944.700195,
          33491438910.308105,
          34795554875.91553,
          36099670841.52295,
          37403786807.13037,
          38707902772.73779,
          40012018738.345215,
          41316134703.95264,
          42620250669.56006
         ],
         "yaxis": "y5"
        },
        {
         "name": "Paraguai",
         "type": "scatter",
         "x": [
          "2007",
          "2008",
          "2009",
          "2010",
          "2011",
          "2012",
          "2013",
          "2014",
          "2015",
          "2016",
          "2017",
          "2018",
          "2019",
          "2020",
          "2021"
         ],
         "xaxis": "x5",
         "y": [
          17856393235.4,
          24615267663.5,
          22355151162,
          27260886405.2,
          33756238766.5,
          33271921136.3,
          38501122141.4,
          40377929295.6,
          36211447840.1,
          36089700222.9,
          38997129473.6,
          40225448340.6,
          37925338329.1,
          35432178068.2,
          39495431574.2
         ],
         "yaxis": "y5"
        },
        {
         "line": {
          "color": "red"
         },
         "mode": "lines",
         "name": "Regressão",
         "type": "scatter",
         "x": [
          2007,
          2008,
          2009,
          2010,
          2011,
          2012,
          2013,
          2014,
          2015,
          2016,
          2017,
          2018,
          2019,
          2020,
          2021
         ],
         "xaxis": "x6",
         "y": [
          1651487697336.3027,
          1655057136683.8916,
          1658626576031.4805,
          1662196015379.0693,
          1665765454726.6582,
          1669334894074.247,
          1672904333421.836,
          1676473772769.4248,
          1680043212117.0137,
          1683612651464.6025,
          1687182090812.1914,
          1690751530159.7803,
          1694320969507.37,
          1697890408854.959,
          1701459848202.5479
         ],
         "yaxis": "y6"
        },
        {
         "name": "Rússia",
         "type": "scatter",
         "x": [
          "2007",
          "2008",
          "2009",
          "2010",
          "2011",
          "2012",
          "2013",
          "2014",
          "2015",
          "2016",
          "2017",
          "2018",
          "2019",
          "2020",
          "2021"
         ],
         "xaxis": "x6",
         "y": [
          1299705764823.6,
          1660846387624.8,
          1222644282201.9,
          1524917468442,
          2045925608274.4,
          2208295773643.2,
          2292473246621.1,
          2059241965490.8,
          1363481063446.8,
          1276786979221.8,
          1574199387070.9,
          1657329646183.6,
          1693113904262.9,
          1489362488439.8,
          1778782625793.7
         ],
         "yaxis": "y6"
        },
        {
         "line": {
          "color": "red"
         },
         "mode": "lines",
         "name": "Regressão",
         "type": "scatter",
         "x": [
          2007,
          2008,
          2009,
          2010,
          2011,
          2012,
          2013,
          2014,
          2015,
          2016,
          2017,
          2018,
          2019,
          2020,
          2021
         ],
         "xaxis": "x3",
         "y": [
          1482392644629.6562,
          1468866380262.3516,
          1455340115895.0469,
          1441813851527.7383,
          1428287587160.4336,
          1414761322793.129,
          1401235058425.8242,
          1387708794058.5156,
          1374182529691.211,
          1360656265323.9062,
          1347130000956.6016,
          1333603736589.293,
          1320077472221.9883,
          1306551207854.6836,
          1293024943487.379
         ],
         "yaxis": "y3"
        },
        {
         "name": "Espanha",
         "type": "scatter",
         "x": [
          "2007",
          "2008",
          "2009",
          "2010",
          "2011",
          "2012",
          "2013",
          "2014",
          "2015",
          "2016",
          "2017",
          "2018",
          "2019",
          "2020",
          "2021"
         ],
         "xaxis": "x3",
         "y": [
          1474002579820,
          1631863493552.3,
          1491472923706.6,
          1422108199783.3,
          1480710495710.1,
          1324750738725,
          1355579535912.6,
          1371820537888.6,
          1196156971279.7,
          1233554967011.7,
          1313245330197.7,
          1421702715218,
          1394320055129.4,
          1276962685648.3,
          1427380681294.6
         ],
         "yaxis": "y3"
        },
        {
         "line": {
          "color": "red"
         },
         "mode": "lines",
         "name": "Regressão",
         "type": "scatter",
         "x": [
          2007,
          2008,
          2009,
          2010,
          2011,
          2012,
          2013,
          2014,
          2015,
          2016,
          2017,
          2018,
          2019,
          2020,
          2021
         ],
         "xaxis": "x4",
         "y": [
          2732146355770.164,
          2742285016771.586,
          2752423677773.008,
          2762562338774.4297,
          2772700999775.8516,
          2782839660777.2734,
          2792978321778.6953,
          2803116982780.117,
          2813255643781.539,
          2823394304782.961,
          2833532965784.383,
          2843671626785.8047,
          2853810287787.2266,
          2863948948788.6484,
          2874087609790.0703
         ],
         "yaxis": "y4"
        },
        {
         "name": "Reino Unido",
         "type": "scatter",
         "x": [
          "2007",
          "2008",
          "2009",
          "2010",
          "2011",
          "2012",
          "2013",
          "2014",
          "2015",
          "2016",
          "2017",
          "2018",
          "2019",
          "2020",
          "2021"
         ],
         "xaxis": "x4",
         "y": [
          3092821128451.4,
          2931501838235.3,
          2417638261411.4,
          2491397494468,
          2666403005061.4,
          2706340967030.7,
          2786315215250,
          3065223279583.8,
          2934857946213.5,
          2699659680997.2,
          2683399006715.8,
          2878152147315.8,
          2857057847953,
          2704609160088.2,
          3131377762926
         ],
         "yaxis": "y4"
        },
        {
         "line": {
          "color": "red"
         },
         "mode": "lines",
         "name": "Regressão",
         "type": "scatter",
         "x": [
          2007,
          2008,
          2009,
          2010,
          2011,
          2012,
          2013,
          2014,
          2015,
          2016,
          2017,
          2018,
          2019,
          2020,
          2021
         ],
         "xaxis": "x",
         "y": [
          13496819527234,
          14118099989534,
          14739380451834,
          15360660914134,
          15981941376434,
          16603221838734,
          17224502301034,
          17845782763334,
          18467063225634,
          19088343687934,
          19709624150234,
          20330904612534,
          20952185074833.75,
          21573465537133.75,
          22194745999433.75
         ],
         "yaxis": "y"
        },
        {
         "name": "Estados Unidos",
         "type": "scatter",
         "x": [
          "2007",
          "2008",
          "2009",
          "2010",
          "2011",
          "2012",
          "2013",
          "2014",
          "2015",
          "2016",
          "2017",
          "2018",
          "2019",
          "2020",
          "2021"
         ],
         "xaxis": "x",
         "y": [
          14474226905000,
          14769857911000,
          14478064934000,
          15048964444000,
          15599728123000,
          16253972230000,
          16843190993000,
          17550680174000,
          18206020741000,
          18695110842000,
          19477336549000,
          20533057312000,
          21380976119000,
          21060473613000,
          23315080560000
         ],
         "yaxis": "y"
        }
       ],
       "layout": {
        "colorway": [
         "blue",
         "green",
         "orange",
         "purple",
         "brown",
         "black",
         "gray"
        ],
        "height": 600,
        "showlegend": false,
        "template": {
         "data": {
          "bar": [
           {
            "error_x": {
             "color": "#2a3f5f"
            },
            "error_y": {
             "color": "#2a3f5f"
            },
            "marker": {
             "line": {
              "color": "#E5ECF6",
              "width": 0.5
             },
             "pattern": {
              "fillmode": "overlay",
              "size": 10,
              "solidity": 0.2
             }
            },
            "type": "bar"
           }
          ],
          "barpolar": [
           {
            "marker": {
             "line": {
              "color": "#E5ECF6",
              "width": 0.5
             },
             "pattern": {
              "fillmode": "overlay",
              "size": 10,
              "solidity": 0.2
             }
            },
            "type": "barpolar"
           }
          ],
          "carpet": [
           {
            "aaxis": {
             "endlinecolor": "#2a3f5f",
             "gridcolor": "white",
             "linecolor": "white",
             "minorgridcolor": "white",
             "startlinecolor": "#2a3f5f"
            },
            "baxis": {
             "endlinecolor": "#2a3f5f",
             "gridcolor": "white",
             "linecolor": "white",
             "minorgridcolor": "white",
             "startlinecolor": "#2a3f5f"
            },
            "type": "carpet"
           }
          ],
          "choropleth": [
           {
            "colorbar": {
             "outlinewidth": 0,
             "ticks": ""
            },
            "type": "choropleth"
           }
          ],
          "contour": [
           {
            "colorbar": {
             "outlinewidth": 0,
             "ticks": ""
            },
            "colorscale": [
             [
              0,
              "#0d0887"
             ],
             [
              0.1111111111111111,
              "#46039f"
             ],
             [
              0.2222222222222222,
              "#7201a8"
             ],
             [
              0.3333333333333333,
              "#9c179e"
             ],
             [
              0.4444444444444444,
              "#bd3786"
             ],
             [
              0.5555555555555556,
              "#d8576b"
             ],
             [
              0.6666666666666666,
              "#ed7953"
             ],
             [
              0.7777777777777778,
              "#fb9f3a"
             ],
             [
              0.8888888888888888,
              "#fdca26"
             ],
             [
              1,
              "#f0f921"
             ]
            ],
            "type": "contour"
           }
          ],
          "contourcarpet": [
           {
            "colorbar": {
             "outlinewidth": 0,
             "ticks": ""
            },
            "type": "contourcarpet"
           }
          ],
          "heatmap": [
           {
            "colorbar": {
             "outlinewidth": 0,
             "ticks": ""
            },
            "colorscale": [
             [
              0,
              "#0d0887"
             ],
             [
              0.1111111111111111,
              "#46039f"
             ],
             [
              0.2222222222222222,
              "#7201a8"
             ],
             [
              0.3333333333333333,
              "#9c179e"
             ],
             [
              0.4444444444444444,
              "#bd3786"
             ],
             [
              0.5555555555555556,
              "#d8576b"
             ],
             [
              0.6666666666666666,
              "#ed7953"
             ],
             [
              0.7777777777777778,
              "#fb9f3a"
             ],
             [
              0.8888888888888888,
              "#fdca26"
             ],
             [
              1,
              "#f0f921"
             ]
            ],
            "type": "heatmap"
           }
          ],
          "heatmapgl": [
           {
            "colorbar": {
             "outlinewidth": 0,
             "ticks": ""
            },
            "colorscale": [
             [
              0,
              "#0d0887"
             ],
             [
              0.1111111111111111,
              "#46039f"
             ],
             [
              0.2222222222222222,
              "#7201a8"
             ],
             [
              0.3333333333333333,
              "#9c179e"
             ],
             [
              0.4444444444444444,
              "#bd3786"
             ],
             [
              0.5555555555555556,
              "#d8576b"
             ],
             [
              0.6666666666666666,
              "#ed7953"
             ],
             [
              0.7777777777777778,
              "#fb9f3a"
             ],
             [
              0.8888888888888888,
              "#fdca26"
             ],
             [
              1,
              "#f0f921"
             ]
            ],
            "type": "heatmapgl"
           }
          ],
          "histogram": [
           {
            "marker": {
             "pattern": {
              "fillmode": "overlay",
              "size": 10,
              "solidity": 0.2
             }
            },
            "type": "histogram"
           }
          ],
          "histogram2d": [
           {
            "colorbar": {
             "outlinewidth": 0,
             "ticks": ""
            },
            "colorscale": [
             [
              0,
              "#0d0887"
             ],
             [
              0.1111111111111111,
              "#46039f"
             ],
             [
              0.2222222222222222,
              "#7201a8"
             ],
             [
              0.3333333333333333,
              "#9c179e"
             ],
             [
              0.4444444444444444,
              "#bd3786"
             ],
             [
              0.5555555555555556,
              "#d8576b"
             ],
             [
              0.6666666666666666,
              "#ed7953"
             ],
             [
              0.7777777777777778,
              "#fb9f3a"
             ],
             [
              0.8888888888888888,
              "#fdca26"
             ],
             [
              1,
              "#f0f921"
             ]
            ],
            "type": "histogram2d"
           }
          ],
          "histogram2dcontour": [
           {
            "colorbar": {
             "outlinewidth": 0,
             "ticks": ""
            },
            "colorscale": [
             [
              0,
              "#0d0887"
             ],
             [
              0.1111111111111111,
              "#46039f"
             ],
             [
              0.2222222222222222,
              "#7201a8"
             ],
             [
              0.3333333333333333,
              "#9c179e"
             ],
             [
              0.4444444444444444,
              "#bd3786"
             ],
             [
              0.5555555555555556,
              "#d8576b"
             ],
             [
              0.6666666666666666,
              "#ed7953"
             ],
             [
              0.7777777777777778,
              "#fb9f3a"
             ],
             [
              0.8888888888888888,
              "#fdca26"
             ],
             [
              1,
              "#f0f921"
             ]
            ],
            "type": "histogram2dcontour"
           }
          ],
          "mesh3d": [
           {
            "colorbar": {
             "outlinewidth": 0,
             "ticks": ""
            },
            "type": "mesh3d"
           }
          ],
          "parcoords": [
           {
            "line": {
             "colorbar": {
              "outlinewidth": 0,
              "ticks": ""
             }
            },
            "type": "parcoords"
           }
          ],
          "pie": [
           {
            "automargin": true,
            "type": "pie"
           }
          ],
          "scatter": [
           {
            "fillpattern": {
             "fillmode": "overlay",
             "size": 10,
             "solidity": 0.2
            },
            "type": "scatter"
           }
          ],
          "scatter3d": [
           {
            "line": {
             "colorbar": {
              "outlinewidth": 0,
              "ticks": ""
             }
            },
            "marker": {
             "colorbar": {
              "outlinewidth": 0,
              "ticks": ""
             }
            },
            "type": "scatter3d"
           }
          ],
          "scattercarpet": [
           {
            "marker": {
             "colorbar": {
              "outlinewidth": 0,
              "ticks": ""
             }
            },
            "type": "scattercarpet"
           }
          ],
          "scattergeo": [
           {
            "marker": {
             "colorbar": {
              "outlinewidth": 0,
              "ticks": ""
             }
            },
            "type": "scattergeo"
           }
          ],
          "scattergl": [
           {
            "marker": {
             "colorbar": {
              "outlinewidth": 0,
              "ticks": ""
             }
            },
            "type": "scattergl"
           }
          ],
          "scattermapbox": [
           {
            "marker": {
             "colorbar": {
              "outlinewidth": 0,
              "ticks": ""
             }
            },
            "type": "scattermapbox"
           }
          ],
          "scatterpolar": [
           {
            "marker": {
             "colorbar": {
              "outlinewidth": 0,
              "ticks": ""
             }
            },
            "type": "scatterpolar"
           }
          ],
          "scatterpolargl": [
           {
            "marker": {
             "colorbar": {
              "outlinewidth": 0,
              "ticks": ""
             }
            },
            "type": "scatterpolargl"
           }
          ],
          "scatterternary": [
           {
            "marker": {
             "colorbar": {
              "outlinewidth": 0,
              "ticks": ""
             }
            },
            "type": "scatterternary"
           }
          ],
          "surface": [
           {
            "colorbar": {
             "outlinewidth": 0,
             "ticks": ""
            },
            "colorscale": [
             [
              0,
              "#0d0887"
             ],
             [
              0.1111111111111111,
              "#46039f"
             ],
             [
              0.2222222222222222,
              "#7201a8"
             ],
             [
              0.3333333333333333,
              "#9c179e"
             ],
             [
              0.4444444444444444,
              "#bd3786"
             ],
             [
              0.5555555555555556,
              "#d8576b"
             ],
             [
              0.6666666666666666,
              "#ed7953"
             ],
             [
              0.7777777777777778,
              "#fb9f3a"
             ],
             [
              0.8888888888888888,
              "#fdca26"
             ],
             [
              1,
              "#f0f921"
             ]
            ],
            "type": "surface"
           }
          ],
          "table": [
           {
            "cells": {
             "fill": {
              "color": "#EBF0F8"
             },
             "line": {
              "color": "white"
             }
            },
            "header": {
             "fill": {
              "color": "#C8D4E3"
             },
             "line": {
              "color": "white"
             }
            },
            "type": "table"
           }
          ]
         },
         "layout": {
          "annotationdefaults": {
           "arrowcolor": "#2a3f5f",
           "arrowhead": 0,
           "arrowwidth": 1
          },
          "autotypenumbers": "strict",
          "coloraxis": {
           "colorbar": {
            "outlinewidth": 0,
            "ticks": ""
           }
          },
          "colorscale": {
           "diverging": [
            [
             0,
             "#8e0152"
            ],
            [
             0.1,
             "#c51b7d"
            ],
            [
             0.2,
             "#de77ae"
            ],
            [
             0.3,
             "#f1b6da"
            ],
            [
             0.4,
             "#fde0ef"
            ],
            [
             0.5,
             "#f7f7f7"
            ],
            [
             0.6,
             "#e6f5d0"
            ],
            [
             0.7,
             "#b8e186"
            ],
            [
             0.8,
             "#7fbc41"
            ],
            [
             0.9,
             "#4d9221"
            ],
            [
             1,
             "#276419"
            ]
           ],
           "sequential": [
            [
             0,
             "#0d0887"
            ],
            [
             0.1111111111111111,
             "#46039f"
            ],
            [
             0.2222222222222222,
             "#7201a8"
            ],
            [
             0.3333333333333333,
             "#9c179e"
            ],
            [
             0.4444444444444444,
             "#bd3786"
            ],
            [
             0.5555555555555556,
             "#d8576b"
            ],
            [
             0.6666666666666666,
             "#ed7953"
            ],
            [
             0.7777777777777778,
             "#fb9f3a"
            ],
            [
             0.8888888888888888,
             "#fdca26"
            ],
            [
             1,
             "#f0f921"
            ]
           ],
           "sequentialminus": [
            [
             0,
             "#0d0887"
            ],
            [
             0.1111111111111111,
             "#46039f"
            ],
            [
             0.2222222222222222,
             "#7201a8"
            ],
            [
             0.3333333333333333,
             "#9c179e"
            ],
            [
             0.4444444444444444,
             "#bd3786"
            ],
            [
             0.5555555555555556,
             "#d8576b"
            ],
            [
             0.6666666666666666,
             "#ed7953"
            ],
            [
             0.7777777777777778,
             "#fb9f3a"
            ],
            [
             0.8888888888888888,
             "#fdca26"
            ],
            [
             1,
             "#f0f921"
            ]
           ]
          },
          "colorway": [
           "#636efa",
           "#EF553B",
           "#00cc96",
           "#ab63fa",
           "#FFA15A",
           "#19d3f3",
           "#FF6692",
           "#B6E880",
           "#FF97FF",
           "#FECB52"
          ],
          "font": {
           "color": "#2a3f5f"
          },
          "geo": {
           "bgcolor": "white",
           "lakecolor": "white",
           "landcolor": "#E5ECF6",
           "showlakes": true,
           "showland": true,
           "subunitcolor": "white"
          },
          "hoverlabel": {
           "align": "left"
          },
          "hovermode": "closest",
          "mapbox": {
           "style": "light"
          },
          "paper_bgcolor": "white",
          "plot_bgcolor": "#E5ECF6",
          "polar": {
           "angularaxis": {
            "gridcolor": "white",
            "linecolor": "white",
            "ticks": ""
           },
           "bgcolor": "#E5ECF6",
           "radialaxis": {
            "gridcolor": "white",
            "linecolor": "white",
            "ticks": ""
           }
          },
          "scene": {
           "xaxis": {
            "backgroundcolor": "#E5ECF6",
            "gridcolor": "white",
            "gridwidth": 2,
            "linecolor": "white",
            "showbackground": true,
            "ticks": "",
            "zerolinecolor": "white"
           },
           "yaxis": {
            "backgroundcolor": "#E5ECF6",
            "gridcolor": "white",
            "gridwidth": 2,
            "linecolor": "white",
            "showbackground": true,
            "ticks": "",
            "zerolinecolor": "white"
           },
           "zaxis": {
            "backgroundcolor": "#E5ECF6",
            "gridcolor": "white",
            "gridwidth": 2,
            "linecolor": "white",
            "showbackground": true,
            "ticks": "",
            "zerolinecolor": "white"
           }
          },
          "shapedefaults": {
           "line": {
            "color": "#2a3f5f"
           }
          },
          "ternary": {
           "aaxis": {
            "gridcolor": "white",
            "linecolor": "white",
            "ticks": ""
           },
           "baxis": {
            "gridcolor": "white",
            "linecolor": "white",
            "ticks": ""
           },
           "bgcolor": "#E5ECF6",
           "caxis": {
            "gridcolor": "white",
            "linecolor": "white",
            "ticks": ""
           }
          },
          "title": {
           "x": 0.05
          },
          "xaxis": {
           "automargin": true,
           "gridcolor": "white",
           "linecolor": "white",
           "ticks": "",
           "title": {
            "standoff": 15
           },
           "zerolinecolor": "white",
           "zerolinewidth": 2
          },
          "yaxis": {
           "automargin": true,
           "gridcolor": "white",
           "linecolor": "white",
           "ticks": "",
           "title": {
            "standoff": 15
           },
           "zerolinecolor": "white",
           "zerolinewidth": 2
          }
         }
        },
        "title": {
         "text": "Comparação da regressão estimada do PIB dos países responsáveis por 80% da exportação"
        },
        "width": 1300,
        "xaxis": {
         "anchor": "y",
         "domain": [
          0,
          0.45
         ],
         "tickfont": {
          "size": 8
         },
         "tickvals": [
          "2007 ",
          "2008 ",
          "2009 ",
          "2010 ",
          "2011 ",
          "2012 ",
          "2013 ",
          "2014 ",
          "2015 ",
          "2016 ",
          "2017 ",
          "2018 ",
          "2019 ",
          "2020 ",
          "2021 "
         ],
         "title": {
          "font": {
           "size": 10
          },
          "standoff": 10,
          "text": "Estados Unidos"
         }
        },
        "xaxis2": {
         "anchor": "y2",
         "domain": [
          0.55,
          1
         ]
        },
        "xaxis3": {
         "anchor": "y3",
         "domain": [
          0,
          0.45
         ],
         "tickfont": {
          "size": 8
         },
         "tickvals": [
          "2007 ",
          "2008 ",
          "2009 ",
          "2010 ",
          "2011 ",
          "2012 ",
          "2013 ",
          "2014 ",
          "2015 ",
          "2016 ",
          "2017 ",
          "2018 ",
          "2019 ",
          "2020 ",
          "2021 "
         ],
         "title": {
          "font": {
           "size": 10
          },
          "standoff": 10,
          "text": "Espanha"
         }
        },
        "xaxis4": {
         "anchor": "y4",
         "domain": [
          0.55,
          1
         ],
         "tickfont": {
          "size": 8
         },
         "tickvals": [
          "2007 ",
          "2008 ",
          "2009 ",
          "2010 ",
          "2011 ",
          "2012 ",
          "2013 ",
          "2014 ",
          "2015 ",
          "2016 ",
          "2017 ",
          "2018 ",
          "2019 ",
          "2020 ",
          "2021 "
         ],
         "title": {
          "font": {
           "size": 10
          },
          "standoff": 10,
          "text": "Reino Unido"
         }
        },
        "xaxis5": {
         "anchor": "y5",
         "domain": [
          0,
          0.45
         ],
         "tickfont": {
          "size": 8
         },
         "tickvals": [
          "2007 ",
          "2008 ",
          "2009 ",
          "2010 ",
          "2011 ",
          "2012 ",
          "2013 ",
          "2014 ",
          "2015 ",
          "2016 ",
          "2017 ",
          "2018 ",
          "2019 ",
          "2020 ",
          "2021 "
         ],
         "title": {
          "font": {
           "size": 10
          },
          "standoff": 10,
          "text": "Paraguai"
         }
        },
        "xaxis6": {
         "anchor": "y6",
         "domain": [
          0.55,
          1
         ],
         "tickfont": {
          "size": 8
         },
         "tickvals": [
          "2007 ",
          "2008 ",
          "2009 ",
          "2010 ",
          "2011 ",
          "2012 ",
          "2013 ",
          "2014 ",
          "2015 ",
          "2016 ",
          "2017 ",
          "2018 ",
          "2019 ",
          "2020 ",
          "2021 "
         ],
         "title": {
          "font": {
           "size": 10
          },
          "standoff": 10,
          "text": "Rússia"
         }
        },
        "xaxis7": {
         "anchor": "y7",
         "domain": [
          0,
          0.45
         ],
         "tickfont": {
          "size": 8
         },
         "tickvals": [
          "2007 ",
          "2008 ",
          "2009 ",
          "2010 ",
          "2011 ",
          "2012 ",
          "2013 ",
          "2014 ",
          "2015 ",
          "2016 ",
          "2017 ",
          "2018 ",
          "2019 ",
          "2020 ",
          "2021 "
         ],
         "title": {
          "font": {
           "size": 10
          },
          "standoff": 10,
          "text": "China"
         }
        },
        "xaxis8": {
         "anchor": "y8",
         "domain": [
          0.55,
          1
         ],
         "tickfont": {
          "size": 8
         },
         "tickvals": [
          "2007 ",
          "2008 ",
          "2009 ",
          "2010 ",
          "2011 ",
          "2012 ",
          "2013 ",
          "2014 ",
          "2015 ",
          "2016 ",
          "2017 ",
          "2018 ",
          "2019 ",
          "2020 ",
          "2021 "
         ],
         "title": {
          "font": {
           "size": 10
          },
          "standoff": 10,
          "text": "Países Baixos"
         }
        },
        "yaxis": {
         "anchor": "x",
         "domain": [
          0,
          0.19375
         ]
        },
        "yaxis2": {
         "anchor": "x2",
         "domain": [
          0,
          0.19375
         ]
        },
        "yaxis3": {
         "anchor": "x3",
         "domain": [
          0.26875,
          0.4625
         ]
        },
        "yaxis4": {
         "anchor": "x4",
         "domain": [
          0.26875,
          0.4625
         ]
        },
        "yaxis5": {
         "anchor": "x5",
         "domain": [
          0.5375,
          0.73125
         ]
        },
        "yaxis6": {
         "anchor": "x6",
         "domain": [
          0.5375,
          0.73125
         ]
        },
        "yaxis7": {
         "anchor": "x7",
         "domain": [
          0.80625,
          1
         ]
        },
        "yaxis8": {
         "anchor": "x8",
         "domain": [
          0.80625,
          1
         ]
        }
       }
      }
     },
     "metadata": {},
     "output_type": "display_data"
    }
   ],
   "source": [
    "plot_regressao_estimada(paises_pib, 'Comparação da regressão estimada do PIB dos países responsáveis por 80% da exportação', float)"
   ]
  },
  {
   "cell_type": "code",
   "execution_count": 59,
   "metadata": {},
   "outputs": [
    {
     "data": {
      "application/vnd.plotly.v1+json": {
       "config": {
        "plotlyServerURL": "https://plot.ly"
       },
       "data": [
        {
         "line": {
          "color": "red"
         },
         "mode": "lines",
         "name": "Regressão",
         "type": "scatter",
         "x": [
          2007,
          2008,
          2009,
          2010,
          2011,
          2012,
          2013,
          2014,
          2015,
          2016,
          2017,
          2018,
          2019,
          2020,
          2021
         ],
         "xaxis": "x7",
         "y": [
          3.8320547346732496,
          3.658998502726604,
          3.485942270780015,
          3.312886038833369,
          3.1398298068867803,
          2.9667735749401913,
          2.7937173429935456,
          2.6206611110469566,
          2.447604879100311,
          2.274548647153722,
          2.101492415207133,
          1.9284361832604873,
          1.7553799513138983,
          1.5823237193673094,
          1.4092674874206637
         ],
         "yaxis": "y7"
        },
        {
         "name": "China",
         "type": "scatter",
         "x": [
          "2007 ",
          "2008 ",
          "2009 ",
          "2010 ",
          "2011 ",
          "2012 ",
          "2013 ",
          "2014 ",
          "2015 ",
          "2016 ",
          "2017 ",
          "2018 ",
          "2019 ",
          "2020 ",
          "2021 "
         ],
         "xaxis": "x7",
         "y": [
          4.81676767378831,
          5.92525137041095,
          -0.728165250932952,
          3.17532475269199,
          5.55389892257492,
          2.61952432645544,
          2.62105001748115,
          1.92164162788521,
          1.43702380935655,
          2.00000182191941,
          1.59313600071434,
          2.07479039965578,
          2.89923416358227,
          2.4194218945778,
          0.981015135544851
         ],
         "yaxis": "y7"
        },
        {
         "line": {
          "color": "red"
         },
         "mode": "lines",
         "name": "Regressão",
         "type": "scatter",
         "x": [
          2007,
          2008,
          2009,
          2010,
          2011,
          2012,
          2013,
          2014,
          2015,
          2016,
          2017,
          2018,
          2019,
          2020,
          2021
         ],
         "xaxis": "x8",
         "y": [
          1.6948018528122661,
          1.694865832194418,
          1.69492981157657,
          1.694993790958722,
          1.695057770340874,
          1.695121749723026,
          1.695185729105178,
          1.6952497084873297,
          1.6953136878694817,
          1.6953776672516336,
          1.6954416466337856,
          1.6955056260159376,
          1.6955696053980893,
          1.6956335847802413,
          1.6956975641623933
         ],
         "yaxis": "y8"
        },
        {
         "name": "Países Baixos",
         "type": "scatter",
         "x": [
          "2007 ",
          "2008 ",
          "2009 ",
          "2010 ",
          "2011 ",
          "2012 ",
          "2013 ",
          "2014 ",
          "2015 ",
          "2016 ",
          "2017 ",
          "2018 ",
          "2019 ",
          "2020 ",
          "2021 "
         ],
         "xaxis": "x8",
         "y": [
          1.61385859802103,
          2.48650198289454,
          1.18977687021549,
          1.27530569556686,
          2.3410701775137,
          2.45554765291609,
          2.50689852657884,
          0.976035079699661,
          0.600248147278775,
          0.316666666666663,
          1.3814587140721,
          1.70349794744475,
          2.63369910249593,
          1.2724603778917,
          2.67572008805381
         ],
         "yaxis": "y8"
        },
        {
         "line": {
          "color": "red"
         },
         "mode": "lines",
         "name": "Regressão",
         "type": "scatter",
         "x": [
          2007,
          2008,
          2009,
          2010,
          2011,
          2012,
          2013,
          2014,
          2015,
          2016,
          2017,
          2018,
          2019,
          2020,
          2021
         ],
         "xaxis": "x5",
         "y": [
          6.825622351728612,
          6.510318683083483,
          6.195015014438354,
          5.8797113457932255,
          5.564407677148097,
          5.249104008502968,
          4.933800339857839,
          4.618496671212711,
          4.303193002567582,
          3.9878893339224533,
          3.6725856652773246,
          3.357281996632082,
          3.0419783279869534,
          2.7266746593418247,
          2.411370990696696
         ],
         "yaxis": "y5"
        },
        {
         "name": "Paraguai",
         "type": "scatter",
         "x": [
          "2007 ",
          "2008 ",
          "2009 ",
          "2010 ",
          "2011 ",
          "2012 ",
          "2013 ",
          "2014 ",
          "2015 ",
          "2016 ",
          "2017 ",
          "2018 ",
          "2019 ",
          "2020 ",
          "2021 "
         ],
         "xaxis": "x5",
         "y": [
          8.13047417698579,
          10.1547846489023,
          2.5919467343056,
          4.6511627906977,
          8.25396825396825,
          3.6759189797449,
          2.68385738718593,
          5.02882767456758,
          3.12900274473924,
          4.08682280577242,
          3.60247741348942,
          3.97561015740689,
          2.7570972756279,
          1.7675159235669,
          4.78798310123612
         ],
         "yaxis": "y5"
        },
        {
         "line": {
          "color": "red"
         },
         "mode": "lines",
         "name": "Regressão",
         "type": "scatter",
         "x": [
          2007,
          2008,
          2009,
          2010,
          2011,
          2012,
          2013,
          2014,
          2015,
          2016,
          2017,
          2018,
          2019,
          2020,
          2021
         ],
         "xaxis": "x6",
         "y": [
          10.906697826491609,
          10.42852273301503,
          9.950347639538563,
          9.472172546061984,
          8.993997452585518,
          8.515822359108938,
          8.037647265632359,
          7.559472172155893,
          7.081297078679313,
          6.603121985202847,
          6.1249468917262675,
          5.646771798249802,
          5.168596704773222,
          4.690421611296642,
          4.2122465178201765
         ],
         "yaxis": "y6"
        },
        {
         "name": "Rússia",
         "type": "scatter",
         "x": [
          "2007 ",
          "2008 ",
          "2009 ",
          "2010 ",
          "2011 ",
          "2012 ",
          "2013 ",
          "2014 ",
          "2015 ",
          "2016 ",
          "2017 ",
          "2018 ",
          "2019 ",
          "2020 ",
          "2021 "
         ],
         "xaxis": "x6",
         "y": [
          9.00729868861076,
          14.1107677840442,
          11.6473295764118,
          6.8493923025503,
          8.44046485932559,
          5.0747430079915,
          6.75371026220953,
          7.82341183865503,
          15.5344050528404,
          7.04244762954798,
          3.68332944412231,
          2.87829723647886,
          4.47036660760175,
          3.38165937237896,
          6.69445891957619
         ],
         "yaxis": "y6"
        },
        {
         "line": {
          "color": "red"
         },
         "mode": "lines",
         "name": "Regressão",
         "type": "scatter",
         "x": [
          2007,
          2008,
          2009,
          2010,
          2011,
          2012,
          2013,
          2014,
          2015,
          2016,
          2017,
          2018,
          2019,
          2020,
          2021
         ],
         "xaxis": "x3",
         "y": [
          2.2131312791339894,
          2.1033685570344005,
          1.9936058349348116,
          1.883843112835251,
          1.7740803907356621,
          1.6643176686360732,
          1.5545549465365127,
          1.4447922244369238,
          1.3350295023373349,
          1.2252667802377744,
          1.1155040581381854,
          1.0057413360385965,
          0.8959786139390076,
          0.7862158918394471,
          0.6764531697398581
         ],
         "yaxis": "y3"
        },
        {
         "name": "Espanha",
         "type": "scatter",
         "x": [
          "2007 ",
          "2008 ",
          "2009 ",
          "2010 ",
          "2011 ",
          "2012 ",
          "2013 ",
          "2014 ",
          "2015 ",
          "2016 ",
          "2017 ",
          "2018 ",
          "2019 ",
          "2020 ",
          "2021 "
         ],
         "xaxis": "x3",
         "y": [
          2.78679745804947,
          4.07534335957341,
          -0.287813083535237,
          1.79986457728766,
          3.19610188833788,
          2.44612782366812,
          1.40858109183012,
          -0.151114837527181,
          -0.500365709903282,
          -0.202598000426425,
          1.95607633363964,
          1.67498136863794,
          0.699518994458693,
          -0.322753017299705,
          3.09313511976406
         ],
         "yaxis": "y3"
        },
        {
         "line": {
          "color": "red"
         },
         "mode": "lines",
         "name": "Regressão",
         "type": "scatter",
         "x": [
          2007,
          2008,
          2009,
          2010,
          2011,
          2012,
          2013,
          2014,
          2015,
          2016,
          2017,
          2018,
          2019,
          2020,
          2021
         ],
         "xaxis": "x4",
         "y": [
          2.7621987852905363,
          2.6724324149600704,
          2.582666044629576,
          2.492899674299082,
          2.403133303968616,
          2.3133669336381217,
          2.2236005633076275,
          2.1338341929771616,
          2.0440678226466673,
          1.954301452316173,
          1.8645350819857072,
          1.7747687116552129,
          1.6850023413247186,
          1.5952359709942527,
          1.5054696006637585
         ],
         "yaxis": "y4"
        },
        {
         "name": "Reino Unido",
         "type": "scatter",
         "x": [
          "2007 ",
          "2008 ",
          "2009 ",
          "2010 ",
          "2011 ",
          "2012 ",
          "2013 ",
          "2014 ",
          "2015 ",
          "2016 ",
          "2017 ",
          "2018 ",
          "2019 ",
          "2020 ",
          "2021 "
         ],
         "xaxis": "x4",
         "y": [
          2.38656150773328,
          3.52140856342537,
          1.96173173560107,
          2.49265472467065,
          3.85611244682819,
          2.57323479654528,
          2.29166666666666,
          1.45112016293279,
          0.368046842325369,
          1.00841736811403,
          2.55775577557754,
          2.29283990345939,
          1.73810460086511,
          0.98948670377243,
          2.51837109614205
         ],
         "yaxis": "y4"
        },
        {
         "line": {
          "color": "red"
         },
         "mode": "lines",
         "name": "Regressão",
         "type": "scatter",
         "x": [
          2007,
          2008,
          2009,
          2010,
          2011,
          2012,
          2013,
          2014,
          2015,
          2016,
          2017,
          2018,
          2019,
          2020,
          2021
         ],
         "xaxis": "x",
         "y": [
          1.8668147082615931,
          1.8857084299214648,
          1.9046021515813365,
          1.9234958732412082,
          1.9423895949010728,
          1.9612833165609445,
          1.9801770382208161,
          1.9990707598806878,
          2.0179644815405595,
          2.036858203200424,
          2.055751924860296,
          2.0746456465201675,
          2.093539368180039,
          2.112433089839911,
          2.1313268114997825
         ],
         "yaxis": "y"
        },
        {
         "name": "Estados Unidos",
         "type": "scatter",
         "x": [
          "2007 ",
          "2008 ",
          "2009 ",
          "2010 ",
          "2011 ",
          "2012 ",
          "2013 ",
          "2014 ",
          "2015 ",
          "2016 ",
          "2017 ",
          "2018 ",
          "2019 ",
          "2020 ",
          "2021 "
         ],
         "xaxis": "x",
         "y": [
          2.85267248150136,
          3.83910029665101,
          -0.35554626629975,
          1.64004344238989,
          3.15684156862206,
          2.06933726526059,
          1.46483265562714,
          1.62222297740821,
          0.118627135552435,
          1.26158320570537,
          2.13011000365963,
          2.44258329692818,
          1.81221007526015,
          1.23358439630637,
          4.69785886363739
         ],
         "yaxis": "y"
        }
       ],
       "layout": {
        "colorway": [
         "blue",
         "green",
         "orange",
         "purple",
         "brown",
         "black",
         "gray"
        ],
        "height": 600,
        "showlegend": false,
        "template": {
         "data": {
          "bar": [
           {
            "error_x": {
             "color": "#2a3f5f"
            },
            "error_y": {
             "color": "#2a3f5f"
            },
            "marker": {
             "line": {
              "color": "#E5ECF6",
              "width": 0.5
             },
             "pattern": {
              "fillmode": "overlay",
              "size": 10,
              "solidity": 0.2
             }
            },
            "type": "bar"
           }
          ],
          "barpolar": [
           {
            "marker": {
             "line": {
              "color": "#E5ECF6",
              "width": 0.5
             },
             "pattern": {
              "fillmode": "overlay",
              "size": 10,
              "solidity": 0.2
             }
            },
            "type": "barpolar"
           }
          ],
          "carpet": [
           {
            "aaxis": {
             "endlinecolor": "#2a3f5f",
             "gridcolor": "white",
             "linecolor": "white",
             "minorgridcolor": "white",
             "startlinecolor": "#2a3f5f"
            },
            "baxis": {
             "endlinecolor": "#2a3f5f",
             "gridcolor": "white",
             "linecolor": "white",
             "minorgridcolor": "white",
             "startlinecolor": "#2a3f5f"
            },
            "type": "carpet"
           }
          ],
          "choropleth": [
           {
            "colorbar": {
             "outlinewidth": 0,
             "ticks": ""
            },
            "type": "choropleth"
           }
          ],
          "contour": [
           {
            "colorbar": {
             "outlinewidth": 0,
             "ticks": ""
            },
            "colorscale": [
             [
              0,
              "#0d0887"
             ],
             [
              0.1111111111111111,
              "#46039f"
             ],
             [
              0.2222222222222222,
              "#7201a8"
             ],
             [
              0.3333333333333333,
              "#9c179e"
             ],
             [
              0.4444444444444444,
              "#bd3786"
             ],
             [
              0.5555555555555556,
              "#d8576b"
             ],
             [
              0.6666666666666666,
              "#ed7953"
             ],
             [
              0.7777777777777778,
              "#fb9f3a"
             ],
             [
              0.8888888888888888,
              "#fdca26"
             ],
             [
              1,
              "#f0f921"
             ]
            ],
            "type": "contour"
           }
          ],
          "contourcarpet": [
           {
            "colorbar": {
             "outlinewidth": 0,
             "ticks": ""
            },
            "type": "contourcarpet"
           }
          ],
          "heatmap": [
           {
            "colorbar": {
             "outlinewidth": 0,
             "ticks": ""
            },
            "colorscale": [
             [
              0,
              "#0d0887"
             ],
             [
              0.1111111111111111,
              "#46039f"
             ],
             [
              0.2222222222222222,
              "#7201a8"
             ],
             [
              0.3333333333333333,
              "#9c179e"
             ],
             [
              0.4444444444444444,
              "#bd3786"
             ],
             [
              0.5555555555555556,
              "#d8576b"
             ],
             [
              0.6666666666666666,
              "#ed7953"
             ],
             [
              0.7777777777777778,
              "#fb9f3a"
             ],
             [
              0.8888888888888888,
              "#fdca26"
             ],
             [
              1,
              "#f0f921"
             ]
            ],
            "type": "heatmap"
           }
          ],
          "heatmapgl": [
           {
            "colorbar": {
             "outlinewidth": 0,
             "ticks": ""
            },
            "colorscale": [
             [
              0,
              "#0d0887"
             ],
             [
              0.1111111111111111,
              "#46039f"
             ],
             [
              0.2222222222222222,
              "#7201a8"
             ],
             [
              0.3333333333333333,
              "#9c179e"
             ],
             [
              0.4444444444444444,
              "#bd3786"
             ],
             [
              0.5555555555555556,
              "#d8576b"
             ],
             [
              0.6666666666666666,
              "#ed7953"
             ],
             [
              0.7777777777777778,
              "#fb9f3a"
             ],
             [
              0.8888888888888888,
              "#fdca26"
             ],
             [
              1,
              "#f0f921"
             ]
            ],
            "type": "heatmapgl"
           }
          ],
          "histogram": [
           {
            "marker": {
             "pattern": {
              "fillmode": "overlay",
              "size": 10,
              "solidity": 0.2
             }
            },
            "type": "histogram"
           }
          ],
          "histogram2d": [
           {
            "colorbar": {
             "outlinewidth": 0,
             "ticks": ""
            },
            "colorscale": [
             [
              0,
              "#0d0887"
             ],
             [
              0.1111111111111111,
              "#46039f"
             ],
             [
              0.2222222222222222,
              "#7201a8"
             ],
             [
              0.3333333333333333,
              "#9c179e"
             ],
             [
              0.4444444444444444,
              "#bd3786"
             ],
             [
              0.5555555555555556,
              "#d8576b"
             ],
             [
              0.6666666666666666,
              "#ed7953"
             ],
             [
              0.7777777777777778,
              "#fb9f3a"
             ],
             [
              0.8888888888888888,
              "#fdca26"
             ],
             [
              1,
              "#f0f921"
             ]
            ],
            "type": "histogram2d"
           }
          ],
          "histogram2dcontour": [
           {
            "colorbar": {
             "outlinewidth": 0,
             "ticks": ""
            },
            "colorscale": [
             [
              0,
              "#0d0887"
             ],
             [
              0.1111111111111111,
              "#46039f"
             ],
             [
              0.2222222222222222,
              "#7201a8"
             ],
             [
              0.3333333333333333,
              "#9c179e"
             ],
             [
              0.4444444444444444,
              "#bd3786"
             ],
             [
              0.5555555555555556,
              "#d8576b"
             ],
             [
              0.6666666666666666,
              "#ed7953"
             ],
             [
              0.7777777777777778,
              "#fb9f3a"
             ],
             [
              0.8888888888888888,
              "#fdca26"
             ],
             [
              1,
              "#f0f921"
             ]
            ],
            "type": "histogram2dcontour"
           }
          ],
          "mesh3d": [
           {
            "colorbar": {
             "outlinewidth": 0,
             "ticks": ""
            },
            "type": "mesh3d"
           }
          ],
          "parcoords": [
           {
            "line": {
             "colorbar": {
              "outlinewidth": 0,
              "ticks": ""
             }
            },
            "type": "parcoords"
           }
          ],
          "pie": [
           {
            "automargin": true,
            "type": "pie"
           }
          ],
          "scatter": [
           {
            "fillpattern": {
             "fillmode": "overlay",
             "size": 10,
             "solidity": 0.2
            },
            "type": "scatter"
           }
          ],
          "scatter3d": [
           {
            "line": {
             "colorbar": {
              "outlinewidth": 0,
              "ticks": ""
             }
            },
            "marker": {
             "colorbar": {
              "outlinewidth": 0,
              "ticks": ""
             }
            },
            "type": "scatter3d"
           }
          ],
          "scattercarpet": [
           {
            "marker": {
             "colorbar": {
              "outlinewidth": 0,
              "ticks": ""
             }
            },
            "type": "scattercarpet"
           }
          ],
          "scattergeo": [
           {
            "marker": {
             "colorbar": {
              "outlinewidth": 0,
              "ticks": ""
             }
            },
            "type": "scattergeo"
           }
          ],
          "scattergl": [
           {
            "marker": {
             "colorbar": {
              "outlinewidth": 0,
              "ticks": ""
             }
            },
            "type": "scattergl"
           }
          ],
          "scattermapbox": [
           {
            "marker": {
             "colorbar": {
              "outlinewidth": 0,
              "ticks": ""
             }
            },
            "type": "scattermapbox"
           }
          ],
          "scatterpolar": [
           {
            "marker": {
             "colorbar": {
              "outlinewidth": 0,
              "ticks": ""
             }
            },
            "type": "scatterpolar"
           }
          ],
          "scatterpolargl": [
           {
            "marker": {
             "colorbar": {
              "outlinewidth": 0,
              "ticks": ""
             }
            },
            "type": "scatterpolargl"
           }
          ],
          "scatterternary": [
           {
            "marker": {
             "colorbar": {
              "outlinewidth": 0,
              "ticks": ""
             }
            },
            "type": "scatterternary"
           }
          ],
          "surface": [
           {
            "colorbar": {
             "outlinewidth": 0,
             "ticks": ""
            },
            "colorscale": [
             [
              0,
              "#0d0887"
             ],
             [
              0.1111111111111111,
              "#46039f"
             ],
             [
              0.2222222222222222,
              "#7201a8"
             ],
             [
              0.3333333333333333,
              "#9c179e"
             ],
             [
              0.4444444444444444,
              "#bd3786"
             ],
             [
              0.5555555555555556,
              "#d8576b"
             ],
             [
              0.6666666666666666,
              "#ed7953"
             ],
             [
              0.7777777777777778,
              "#fb9f3a"
             ],
             [
              0.8888888888888888,
              "#fdca26"
             ],
             [
              1,
              "#f0f921"
             ]
            ],
            "type": "surface"
           }
          ],
          "table": [
           {
            "cells": {
             "fill": {
              "color": "#EBF0F8"
             },
             "line": {
              "color": "white"
             }
            },
            "header": {
             "fill": {
              "color": "#C8D4E3"
             },
             "line": {
              "color": "white"
             }
            },
            "type": "table"
           }
          ]
         },
         "layout": {
          "annotationdefaults": {
           "arrowcolor": "#2a3f5f",
           "arrowhead": 0,
           "arrowwidth": 1
          },
          "autotypenumbers": "strict",
          "coloraxis": {
           "colorbar": {
            "outlinewidth": 0,
            "ticks": ""
           }
          },
          "colorscale": {
           "diverging": [
            [
             0,
             "#8e0152"
            ],
            [
             0.1,
             "#c51b7d"
            ],
            [
             0.2,
             "#de77ae"
            ],
            [
             0.3,
             "#f1b6da"
            ],
            [
             0.4,
             "#fde0ef"
            ],
            [
             0.5,
             "#f7f7f7"
            ],
            [
             0.6,
             "#e6f5d0"
            ],
            [
             0.7,
             "#b8e186"
            ],
            [
             0.8,
             "#7fbc41"
            ],
            [
             0.9,
             "#4d9221"
            ],
            [
             1,
             "#276419"
            ]
           ],
           "sequential": [
            [
             0,
             "#0d0887"
            ],
            [
             0.1111111111111111,
             "#46039f"
            ],
            [
             0.2222222222222222,
             "#7201a8"
            ],
            [
             0.3333333333333333,
             "#9c179e"
            ],
            [
             0.4444444444444444,
             "#bd3786"
            ],
            [
             0.5555555555555556,
             "#d8576b"
            ],
            [
             0.6666666666666666,
             "#ed7953"
            ],
            [
             0.7777777777777778,
             "#fb9f3a"
            ],
            [
             0.8888888888888888,
             "#fdca26"
            ],
            [
             1,
             "#f0f921"
            ]
           ],
           "sequentialminus": [
            [
             0,
             "#0d0887"
            ],
            [
             0.1111111111111111,
             "#46039f"
            ],
            [
             0.2222222222222222,
             "#7201a8"
            ],
            [
             0.3333333333333333,
             "#9c179e"
            ],
            [
             0.4444444444444444,
             "#bd3786"
            ],
            [
             0.5555555555555556,
             "#d8576b"
            ],
            [
             0.6666666666666666,
             "#ed7953"
            ],
            [
             0.7777777777777778,
             "#fb9f3a"
            ],
            [
             0.8888888888888888,
             "#fdca26"
            ],
            [
             1,
             "#f0f921"
            ]
           ]
          },
          "colorway": [
           "#636efa",
           "#EF553B",
           "#00cc96",
           "#ab63fa",
           "#FFA15A",
           "#19d3f3",
           "#FF6692",
           "#B6E880",
           "#FF97FF",
           "#FECB52"
          ],
          "font": {
           "color": "#2a3f5f"
          },
          "geo": {
           "bgcolor": "white",
           "lakecolor": "white",
           "landcolor": "#E5ECF6",
           "showlakes": true,
           "showland": true,
           "subunitcolor": "white"
          },
          "hoverlabel": {
           "align": "left"
          },
          "hovermode": "closest",
          "mapbox": {
           "style": "light"
          },
          "paper_bgcolor": "white",
          "plot_bgcolor": "#E5ECF6",
          "polar": {
           "angularaxis": {
            "gridcolor": "white",
            "linecolor": "white",
            "ticks": ""
           },
           "bgcolor": "#E5ECF6",
           "radialaxis": {
            "gridcolor": "white",
            "linecolor": "white",
            "ticks": ""
           }
          },
          "scene": {
           "xaxis": {
            "backgroundcolor": "#E5ECF6",
            "gridcolor": "white",
            "gridwidth": 2,
            "linecolor": "white",
            "showbackground": true,
            "ticks": "",
            "zerolinecolor": "white"
           },
           "yaxis": {
            "backgroundcolor": "#E5ECF6",
            "gridcolor": "white",
            "gridwidth": 2,
            "linecolor": "white",
            "showbackground": true,
            "ticks": "",
            "zerolinecolor": "white"
           },
           "zaxis": {
            "backgroundcolor": "#E5ECF6",
            "gridcolor": "white",
            "gridwidth": 2,
            "linecolor": "white",
            "showbackground": true,
            "ticks": "",
            "zerolinecolor": "white"
           }
          },
          "shapedefaults": {
           "line": {
            "color": "#2a3f5f"
           }
          },
          "ternary": {
           "aaxis": {
            "gridcolor": "white",
            "linecolor": "white",
            "ticks": ""
           },
           "baxis": {
            "gridcolor": "white",
            "linecolor": "white",
            "ticks": ""
           },
           "bgcolor": "#E5ECF6",
           "caxis": {
            "gridcolor": "white",
            "linecolor": "white",
            "ticks": ""
           }
          },
          "title": {
           "x": 0.05
          },
          "xaxis": {
           "automargin": true,
           "gridcolor": "white",
           "linecolor": "white",
           "ticks": "",
           "title": {
            "standoff": 15
           },
           "zerolinecolor": "white",
           "zerolinewidth": 2
          },
          "yaxis": {
           "automargin": true,
           "gridcolor": "white",
           "linecolor": "white",
           "ticks": "",
           "title": {
            "standoff": 15
           },
           "zerolinecolor": "white",
           "zerolinewidth": 2
          }
         }
        },
        "title": {
         "text": "Comparação da regressão estimada da inflação dos países responsáveis por 80% da exportação"
        },
        "width": 1300,
        "xaxis": {
         "anchor": "y",
         "domain": [
          0,
          0.45
         ],
         "tickfont": {
          "size": 8
         },
         "tickvals": [
          "2007 ",
          "2008 ",
          "2009 ",
          "2010 ",
          "2011 ",
          "2012 ",
          "2013 ",
          "2014 ",
          "2015 ",
          "2016 ",
          "2017 ",
          "2018 ",
          "2019 ",
          "2020 ",
          "2021 "
         ],
         "title": {
          "font": {
           "size": 10
          },
          "standoff": 10,
          "text": "Estados Unidos"
         }
        },
        "xaxis2": {
         "anchor": "y2",
         "domain": [
          0.55,
          1
         ]
        },
        "xaxis3": {
         "anchor": "y3",
         "domain": [
          0,
          0.45
         ],
         "tickfont": {
          "size": 8
         },
         "tickvals": [
          "2007 ",
          "2008 ",
          "2009 ",
          "2010 ",
          "2011 ",
          "2012 ",
          "2013 ",
          "2014 ",
          "2015 ",
          "2016 ",
          "2017 ",
          "2018 ",
          "2019 ",
          "2020 ",
          "2021 "
         ],
         "title": {
          "font": {
           "size": 10
          },
          "standoff": 10,
          "text": "Espanha"
         }
        },
        "xaxis4": {
         "anchor": "y4",
         "domain": [
          0.55,
          1
         ],
         "tickfont": {
          "size": 8
         },
         "tickvals": [
          "2007 ",
          "2008 ",
          "2009 ",
          "2010 ",
          "2011 ",
          "2012 ",
          "2013 ",
          "2014 ",
          "2015 ",
          "2016 ",
          "2017 ",
          "2018 ",
          "2019 ",
          "2020 ",
          "2021 "
         ],
         "title": {
          "font": {
           "size": 10
          },
          "standoff": 10,
          "text": "Reino Unido"
         }
        },
        "xaxis5": {
         "anchor": "y5",
         "domain": [
          0,
          0.45
         ],
         "tickfont": {
          "size": 8
         },
         "tickvals": [
          "2007 ",
          "2008 ",
          "2009 ",
          "2010 ",
          "2011 ",
          "2012 ",
          "2013 ",
          "2014 ",
          "2015 ",
          "2016 ",
          "2017 ",
          "2018 ",
          "2019 ",
          "2020 ",
          "2021 "
         ],
         "title": {
          "font": {
           "size": 10
          },
          "standoff": 10,
          "text": "Paraguai"
         }
        },
        "xaxis6": {
         "anchor": "y6",
         "domain": [
          0.55,
          1
         ],
         "tickfont": {
          "size": 8
         },
         "tickvals": [
          "2007 ",
          "2008 ",
          "2009 ",
          "2010 ",
          "2011 ",
          "2012 ",
          "2013 ",
          "2014 ",
          "2015 ",
          "2016 ",
          "2017 ",
          "2018 ",
          "2019 ",
          "2020 ",
          "2021 "
         ],
         "title": {
          "font": {
           "size": 10
          },
          "standoff": 10,
          "text": "Rússia"
         }
        },
        "xaxis7": {
         "anchor": "y7",
         "domain": [
          0,
          0.45
         ],
         "tickfont": {
          "size": 8
         },
         "tickvals": [
          "2007 ",
          "2008 ",
          "2009 ",
          "2010 ",
          "2011 ",
          "2012 ",
          "2013 ",
          "2014 ",
          "2015 ",
          "2016 ",
          "2017 ",
          "2018 ",
          "2019 ",
          "2020 ",
          "2021 "
         ],
         "title": {
          "font": {
           "size": 10
          },
          "standoff": 10,
          "text": "China"
         }
        },
        "xaxis8": {
         "anchor": "y8",
         "domain": [
          0.55,
          1
         ],
         "tickfont": {
          "size": 8
         },
         "tickvals": [
          "2007 ",
          "2008 ",
          "2009 ",
          "2010 ",
          "2011 ",
          "2012 ",
          "2013 ",
          "2014 ",
          "2015 ",
          "2016 ",
          "2017 ",
          "2018 ",
          "2019 ",
          "2020 ",
          "2021 "
         ],
         "title": {
          "font": {
           "size": 10
          },
          "standoff": 10,
          "text": "Países Baixos"
         }
        },
        "yaxis": {
         "anchor": "x",
         "domain": [
          0,
          0.19375
         ]
        },
        "yaxis2": {
         "anchor": "x2",
         "domain": [
          0,
          0.19375
         ]
        },
        "yaxis3": {
         "anchor": "x3",
         "domain": [
          0.26875,
          0.4625
         ]
        },
        "yaxis4": {
         "anchor": "x4",
         "domain": [
          0.26875,
          0.4625
         ]
        },
        "yaxis5": {
         "anchor": "x5",
         "domain": [
          0.5375,
          0.73125
         ]
        },
        "yaxis6": {
         "anchor": "x6",
         "domain": [
          0.5375,
          0.73125
         ]
        },
        "yaxis7": {
         "anchor": "x7",
         "domain": [
          0.80625,
          1
         ]
        },
        "yaxis8": {
         "anchor": "x8",
         "domain": [
          0.80625,
          1
         ]
        }
       }
      }
     },
     "metadata": {},
     "output_type": "display_data"
    }
   ],
   "source": [
    "plot_regressao_estimada(paises_inflation, 'Comparação da regressão estimada da inflação dos países responsáveis por 80% da exportação', float)"
   ]
  },
  {
   "cell_type": "code",
   "execution_count": 60,
   "metadata": {},
   "outputs": [
    {
     "data": {
      "application/vnd.plotly.v1+json": {
       "config": {
        "plotlyServerURL": "https://plot.ly"
       },
       "data": [
        {
         "line": {
          "color": "red"
         },
         "mode": "lines",
         "name": "Regressão",
         "type": "scatter",
         "x": [
          2007,
          2008,
          2009,
          2010,
          2011,
          2012,
          2013,
          2014,
          2015,
          2016,
          2017,
          2018,
          2019,
          2020,
          2021
         ],
         "xaxis": "x7",
         "y": [
          56.368719181586584,
          54.65924669934839,
          52.94977421711019,
          51.24030173487199,
          49.530829252633794,
          47.821356770395596,
          46.1118842881574,
          44.4024118059192,
          42.692939323681,
          40.983466841442805,
          39.27399435920461,
          37.56452187696641,
          35.85504939472821,
          34.145576912490014,
          32.43610443025182
         ],
         "yaxis": "y7"
        },
        {
         "name": "China",
         "type": "scatter",
         "x": [
          "2007 ",
          "2008 ",
          "2009 ",
          "2010 ",
          "2011 ",
          "2012 ",
          "2013 ",
          "2014 ",
          "2015 ",
          "2016 ",
          "2017 ",
          "2018 ",
          "2019 ",
          "2020 ",
          "2021 "
         ],
         "xaxis": "x7",
         "y": [
          62.19336347670665,
          57.61271534332558,
          45.18487037855449,
          50.717077662736706,
          50.740904586358994,
          48.26752236738123,
          46.744375577311786,
          44.90521595435021,
          39.46416933524471,
          36.89441501703114,
          37.63241324049957,
          37.56578410209563,
          35.89009603426494,
          34.75429577604815,
          37.46895823689454
         ],
         "yaxis": "y7"
        },
        {
         "line": {
          "color": "red"
         },
         "mode": "lines",
         "name": "Regressão",
         "type": "scatter",
         "x": [
          2007,
          2008,
          2009,
          2010,
          2011,
          2012,
          2013,
          2014,
          2015,
          2016,
          2017,
          2018,
          2019,
          2020,
          2021
         ],
         "xaxis": "x8",
         "y": [
          129.8904399224475,
          132.09877575796327,
          134.30711159347902,
          136.51544742899478,
          138.72378326451053,
          140.93211910002628,
          143.14045493554204,
          145.3487907710578,
          147.55712660657355,
          149.7654624420893,
          151.97379827760506,
          154.1821341131208,
          156.39046994863656,
          158.59880578415232,
          160.80714161966807
         ],
         "yaxis": "y8"
        },
        {
         "name": "Países Baixos",
         "type": "scatter",
         "x": [
          "2007 ",
          "2008 ",
          "2009 ",
          "2010 ",
          "2011 ",
          "2012 ",
          "2013 ",
          "2014 ",
          "2015 ",
          "2016 ",
          "2017 ",
          "2018 ",
          "2019 ",
          "2020 ",
          "2021 "
         ],
         "xaxis": "x8",
         "y": [
          130.4578710208828,
          131.0598920268604,
          116.88954967815863,
          131.52207413479937,
          142.4717732821411,
          149.26841520079145,
          149.5493313024348,
          150.05375543510632,
          157.8165760396981,
          148.85866473161786,
          156.02821122108634,
          158.823210208957,
          155.2706766454914,
          146.46177796190977,
          155.70008267589648
         ],
         "yaxis": "y8"
        },
        {
         "line": {
          "color": "red"
         },
         "mode": "lines",
         "name": "Regressão",
         "type": "scatter",
         "x": [
          2007,
          2008,
          2009,
          2010,
          2011,
          2012,
          2013,
          2014,
          2015,
          2016,
          2017,
          2018,
          2019,
          2020,
          2021
         ],
         "xaxis": "x5",
         "y": [
          78.70505532759739,
          77.85720560490427,
          77.00935588221114,
          76.16150615951778,
          75.31365643682466,
          74.46580671413153,
          73.6179569914384,
          72.77010726874528,
          71.92225754605192,
          71.0744078233588,
          70.22655810066567,
          69.37870837797254,
          68.53085865527919,
          67.68300893258606,
          66.83515920989294
         ],
         "yaxis": "y5"
        },
        {
         "name": "Paraguai",
         "type": "scatter",
         "x": [
          "2007 ",
          "2008 ",
          "2009 ",
          "2010 ",
          "2011 ",
          "2012 ",
          "2013 ",
          "2014 ",
          "2015 ",
          "2016 ",
          "2017 ",
          "2018 ",
          "2019 ",
          "2020 ",
          "2021 "
         ],
         "xaxis": "x5",
         "y": [
          79.00113742029681,
          80.77757465726802,
          70.8419818624432,
          81.2575233746727,
          78.49212384893475,
          74.76495745607937,
          73.36987138410746,
          69.08372409747166,
          66.9401410467947,
          67.78838798148007,
          71.48221272127164,
          72.52858606852838,
          71.32765530509727,
          63.09465043482228,
          70.80108137192369
         ],
         "yaxis": "y5"
        },
        {
         "line": {
          "color": "red"
         },
         "mode": "lines",
         "name": "Regressão",
         "type": "scatter",
         "x": [
          2007,
          2008,
          2009,
          2010,
          2011,
          2012,
          2013,
          2014,
          2015,
          2016,
          2017,
          2018,
          2019,
          2020,
          2021
         ],
         "xaxis": "x6",
         "y": [
          49.83650535267441,
          49.7162041783854,
          49.595903004096414,
          49.4756018298074,
          49.35530065551839,
          49.23499948122938,
          49.11469830694037,
          48.99439713265136,
          48.874095958362375,
          48.753794784073364,
          48.63349360978435,
          48.51319243549534,
          48.39289126120633,
          48.27259008691732,
          48.152288912628336
         ],
         "yaxis": "y6"
        },
        {
         "name": "Rússia",
         "type": "scatter",
         "x": [
          "2007 ",
          "2008 ",
          "2009 ",
          "2010 ",
          "2011 ",
          "2012 ",
          "2013 ",
          "2014 ",
          "2015 ",
          "2016 ",
          "2017 ",
          "2018 ",
          "2019 ",
          "2020 ",
          "2021 "
         ],
         "xaxis": "x6",
         "y": [
          51.706122745771665,
          53.38246604089083,
          48.435061028067686,
          50.355505487367644,
          48.035399407791864,
          47.151390385795715,
          46.287149400499,
          47.80134126281159,
          49.35934931168865,
          46.518119839609604,
          46.87652433713111,
          51.5809003703964,
          49.22875366190334,
          46.03086561363736,
          52.16700809641036
         ],
         "yaxis": "y6"
        },
        {
         "line": {
          "color": "red"
         },
         "mode": "lines",
         "name": "Regressão",
         "type": "scatter",
         "x": [
          2007,
          2008,
          2009,
          2010,
          2011,
          2012,
          2013,
          2014,
          2015,
          2016,
          2017,
          2018,
          2019,
          2020,
          2021
         ],
         "xaxis": "x3",
         "y": [
          53.88651246981908,
          54.91854207841243,
          55.95057168700578,
          56.98260129559958,
          58.01463090419293,
          59.046660512786275,
          60.07869012137962,
          61.11071972997297,
          62.14274933856632,
          63.174778947159666,
          64.20680855575347,
          65.23883816434682,
          66.27086777294016,
          67.30289738153351,
          68.33492699012686
         ],
         "yaxis": "y3"
        },
        {
         "name": "Espanha",
         "type": "scatter",
         "x": [
          "2007 ",
          "2008 ",
          "2009 ",
          "2010 ",
          "2011 ",
          "2012 ",
          "2013 ",
          "2014 ",
          "2015 ",
          "2016 ",
          "2017 ",
          "2018 ",
          "2019 ",
          "2020 ",
          "2021 "
         ],
         "xaxis": "x3",
         "y": [
          57.74760375960333,
          55.98333004368473,
          46.994874327027475,
          52.92824055731796,
          58.793171035277595,
          60.84507479361927,
          61.976315719860445,
          63.83826195419753,
          64.18320514390238,
          63.73988262952926,
          66.6570608657952,
          67.57494025463114,
          66.87389051740126,
          60.143167777142715,
          68.38177657058671
         ],
         "yaxis": "y3"
        },
        {
         "line": {
          "color": "red"
         },
         "mode": "lines",
         "name": "Regressão",
         "type": "scatter",
         "x": [
          2007,
          2008,
          2009,
          2010,
          2011,
          2012,
          2013,
          2014,
          2015,
          2016,
          2017,
          2018,
          2019,
          2020,
          2021
         ],
         "xaxis": "x4",
         "y": [
          56.976120483386126,
          57.313644226116025,
          57.65116796884581,
          57.98869171157571,
          58.32621545430561,
          58.66373919703551,
          59.00126293976541,
          59.33878668249531,
          59.6763104252251,
          60.013834167955,
          60.3513579106849,
          60.688881653414796,
          61.026405396144696,
          61.363929138874596,
          61.70145288160438
         ],
         "yaxis": "y4"
        },
        {
         "name": "Reino Unido",
         "type": "scatter",
         "x": [
          "2007 ",
          "2008 ",
          "2009 ",
          "2010 ",
          "2011 ",
          "2012 ",
          "2013 ",
          "2014 ",
          "2015 ",
          "2016 ",
          "2017 ",
          "2018 ",
          "2019 ",
          "2020 ",
          "2021 "
         ],
         "xaxis": "x4",
         "y": [
          52.83414586179771,
          56.40528814469094,
          54.59049077184992,
          58.80663441208994,
          63.15719581230985,
          61.8899501004237,
          61.65552747691741,
          58.85731739984443,
          56.9130212524948,
          59.25621955116904,
          62.79956719590525,
          63.99979605174724,
          64.1301531307911,
          58.11615884383441,
          56.670334231557305
         ],
         "yaxis": "y4"
        },
        {
         "line": {
          "color": "red"
         },
         "mode": "lines",
         "name": "Regressão",
         "type": "scatter",
         "x": [
          2007,
          2008,
          2009,
          2010,
          2011,
          2012,
          2013,
          2014,
          2015,
          2016,
          2017,
          2018,
          2019,
          2020,
          2021
         ],
         "xaxis": "x",
         "y": [
          29.59092785498774,
          29.334984001265184,
          29.079040147542514,
          28.823096293819958,
          28.56715244009729,
          28.31120858637462,
          28.055264732652063,
          27.799320878929393,
          27.543377025206837,
          27.287433171484167,
          27.031489317761498,
          26.77554546403894,
          26.519601610316272,
          26.263657756593716,
          26.007713902871046
         ],
         "yaxis": "y"
        },
        {
         "name": "Estados Unidos",
         "type": "scatter",
         "x": [
          "2007 ",
          "2008 ",
          "2009 ",
          "2010 ",
          "2011 ",
          "2012 ",
          "2013 ",
          "2014 ",
          "2015 ",
          "2016 ",
          "2017 ",
          "2018 ",
          "2019 ",
          "2020 ",
          "2021 "
         ],
         "xaxis": "x",
         "y": [
          28.01201768226667,
          29.867795794531933,
          24.759531168987643,
          28.219895234673064,
          30.842486241194344,
          30.681835365729548,
          30.0023671411205,
          29.997999780085333,
          27.812233502497254,
          26.586999360460915,
          27.279161022007354,
          27.610379272095802,
          26.451949473785387,
          23.383761877796093,
          25.481400266712185
         ],
         "yaxis": "y"
        }
       ],
       "layout": {
        "colorway": [
         "blue",
         "green",
         "orange",
         "purple",
         "brown",
         "black",
         "gray"
        ],
        "height": 600,
        "showlegend": false,
        "template": {
         "data": {
          "bar": [
           {
            "error_x": {
             "color": "#2a3f5f"
            },
            "error_y": {
             "color": "#2a3f5f"
            },
            "marker": {
             "line": {
              "color": "#E5ECF6",
              "width": 0.5
             },
             "pattern": {
              "fillmode": "overlay",
              "size": 10,
              "solidity": 0.2
             }
            },
            "type": "bar"
           }
          ],
          "barpolar": [
           {
            "marker": {
             "line": {
              "color": "#E5ECF6",
              "width": 0.5
             },
             "pattern": {
              "fillmode": "overlay",
              "size": 10,
              "solidity": 0.2
             }
            },
            "type": "barpolar"
           }
          ],
          "carpet": [
           {
            "aaxis": {
             "endlinecolor": "#2a3f5f",
             "gridcolor": "white",
             "linecolor": "white",
             "minorgridcolor": "white",
             "startlinecolor": "#2a3f5f"
            },
            "baxis": {
             "endlinecolor": "#2a3f5f",
             "gridcolor": "white",
             "linecolor": "white",
             "minorgridcolor": "white",
             "startlinecolor": "#2a3f5f"
            },
            "type": "carpet"
           }
          ],
          "choropleth": [
           {
            "colorbar": {
             "outlinewidth": 0,
             "ticks": ""
            },
            "type": "choropleth"
           }
          ],
          "contour": [
           {
            "colorbar": {
             "outlinewidth": 0,
             "ticks": ""
            },
            "colorscale": [
             [
              0,
              "#0d0887"
             ],
             [
              0.1111111111111111,
              "#46039f"
             ],
             [
              0.2222222222222222,
              "#7201a8"
             ],
             [
              0.3333333333333333,
              "#9c179e"
             ],
             [
              0.4444444444444444,
              "#bd3786"
             ],
             [
              0.5555555555555556,
              "#d8576b"
             ],
             [
              0.6666666666666666,
              "#ed7953"
             ],
             [
              0.7777777777777778,
              "#fb9f3a"
             ],
             [
              0.8888888888888888,
              "#fdca26"
             ],
             [
              1,
              "#f0f921"
             ]
            ],
            "type": "contour"
           }
          ],
          "contourcarpet": [
           {
            "colorbar": {
             "outlinewidth": 0,
             "ticks": ""
            },
            "type": "contourcarpet"
           }
          ],
          "heatmap": [
           {
            "colorbar": {
             "outlinewidth": 0,
             "ticks": ""
            },
            "colorscale": [
             [
              0,
              "#0d0887"
             ],
             [
              0.1111111111111111,
              "#46039f"
             ],
             [
              0.2222222222222222,
              "#7201a8"
             ],
             [
              0.3333333333333333,
              "#9c179e"
             ],
             [
              0.4444444444444444,
              "#bd3786"
             ],
             [
              0.5555555555555556,
              "#d8576b"
             ],
             [
              0.6666666666666666,
              "#ed7953"
             ],
             [
              0.7777777777777778,
              "#fb9f3a"
             ],
             [
              0.8888888888888888,
              "#fdca26"
             ],
             [
              1,
              "#f0f921"
             ]
            ],
            "type": "heatmap"
           }
          ],
          "heatmapgl": [
           {
            "colorbar": {
             "outlinewidth": 0,
             "ticks": ""
            },
            "colorscale": [
             [
              0,
              "#0d0887"
             ],
             [
              0.1111111111111111,
              "#46039f"
             ],
             [
              0.2222222222222222,
              "#7201a8"
             ],
             [
              0.3333333333333333,
              "#9c179e"
             ],
             [
              0.4444444444444444,
              "#bd3786"
             ],
             [
              0.5555555555555556,
              "#d8576b"
             ],
             [
              0.6666666666666666,
              "#ed7953"
             ],
             [
              0.7777777777777778,
              "#fb9f3a"
             ],
             [
              0.8888888888888888,
              "#fdca26"
             ],
             [
              1,
              "#f0f921"
             ]
            ],
            "type": "heatmapgl"
           }
          ],
          "histogram": [
           {
            "marker": {
             "pattern": {
              "fillmode": "overlay",
              "size": 10,
              "solidity": 0.2
             }
            },
            "type": "histogram"
           }
          ],
          "histogram2d": [
           {
            "colorbar": {
             "outlinewidth": 0,
             "ticks": ""
            },
            "colorscale": [
             [
              0,
              "#0d0887"
             ],
             [
              0.1111111111111111,
              "#46039f"
             ],
             [
              0.2222222222222222,
              "#7201a8"
             ],
             [
              0.3333333333333333,
              "#9c179e"
             ],
             [
              0.4444444444444444,
              "#bd3786"
             ],
             [
              0.5555555555555556,
              "#d8576b"
             ],
             [
              0.6666666666666666,
              "#ed7953"
             ],
             [
              0.7777777777777778,
              "#fb9f3a"
             ],
             [
              0.8888888888888888,
              "#fdca26"
             ],
             [
              1,
              "#f0f921"
             ]
            ],
            "type": "histogram2d"
           }
          ],
          "histogram2dcontour": [
           {
            "colorbar": {
             "outlinewidth": 0,
             "ticks": ""
            },
            "colorscale": [
             [
              0,
              "#0d0887"
             ],
             [
              0.1111111111111111,
              "#46039f"
             ],
             [
              0.2222222222222222,
              "#7201a8"
             ],
             [
              0.3333333333333333,
              "#9c179e"
             ],
             [
              0.4444444444444444,
              "#bd3786"
             ],
             [
              0.5555555555555556,
              "#d8576b"
             ],
             [
              0.6666666666666666,
              "#ed7953"
             ],
             [
              0.7777777777777778,
              "#fb9f3a"
             ],
             [
              0.8888888888888888,
              "#fdca26"
             ],
             [
              1,
              "#f0f921"
             ]
            ],
            "type": "histogram2dcontour"
           }
          ],
          "mesh3d": [
           {
            "colorbar": {
             "outlinewidth": 0,
             "ticks": ""
            },
            "type": "mesh3d"
           }
          ],
          "parcoords": [
           {
            "line": {
             "colorbar": {
              "outlinewidth": 0,
              "ticks": ""
             }
            },
            "type": "parcoords"
           }
          ],
          "pie": [
           {
            "automargin": true,
            "type": "pie"
           }
          ],
          "scatter": [
           {
            "fillpattern": {
             "fillmode": "overlay",
             "size": 10,
             "solidity": 0.2
            },
            "type": "scatter"
           }
          ],
          "scatter3d": [
           {
            "line": {
             "colorbar": {
              "outlinewidth": 0,
              "ticks": ""
             }
            },
            "marker": {
             "colorbar": {
              "outlinewidth": 0,
              "ticks": ""
             }
            },
            "type": "scatter3d"
           }
          ],
          "scattercarpet": [
           {
            "marker": {
             "colorbar": {
              "outlinewidth": 0,
              "ticks": ""
             }
            },
            "type": "scattercarpet"
           }
          ],
          "scattergeo": [
           {
            "marker": {
             "colorbar": {
              "outlinewidth": 0,
              "ticks": ""
             }
            },
            "type": "scattergeo"
           }
          ],
          "scattergl": [
           {
            "marker": {
             "colorbar": {
              "outlinewidth": 0,
              "ticks": ""
             }
            },
            "type": "scattergl"
           }
          ],
          "scattermapbox": [
           {
            "marker": {
             "colorbar": {
              "outlinewidth": 0,
              "ticks": ""
             }
            },
            "type": "scattermapbox"
           }
          ],
          "scatterpolar": [
           {
            "marker": {
             "colorbar": {
              "outlinewidth": 0,
              "ticks": ""
             }
            },
            "type": "scatterpolar"
           }
          ],
          "scatterpolargl": [
           {
            "marker": {
             "colorbar": {
              "outlinewidth": 0,
              "ticks": ""
             }
            },
            "type": "scatterpolargl"
           }
          ],
          "scatterternary": [
           {
            "marker": {
             "colorbar": {
              "outlinewidth": 0,
              "ticks": ""
             }
            },
            "type": "scatterternary"
           }
          ],
          "surface": [
           {
            "colorbar": {
             "outlinewidth": 0,
             "ticks": ""
            },
            "colorscale": [
             [
              0,
              "#0d0887"
             ],
             [
              0.1111111111111111,
              "#46039f"
             ],
             [
              0.2222222222222222,
              "#7201a8"
             ],
             [
              0.3333333333333333,
              "#9c179e"
             ],
             [
              0.4444444444444444,
              "#bd3786"
             ],
             [
              0.5555555555555556,
              "#d8576b"
             ],
             [
              0.6666666666666666,
              "#ed7953"
             ],
             [
              0.7777777777777778,
              "#fb9f3a"
             ],
             [
              0.8888888888888888,
              "#fdca26"
             ],
             [
              1,
              "#f0f921"
             ]
            ],
            "type": "surface"
           }
          ],
          "table": [
           {
            "cells": {
             "fill": {
              "color": "#EBF0F8"
             },
             "line": {
              "color": "white"
             }
            },
            "header": {
             "fill": {
              "color": "#C8D4E3"
             },
             "line": {
              "color": "white"
             }
            },
            "type": "table"
           }
          ]
         },
         "layout": {
          "annotationdefaults": {
           "arrowcolor": "#2a3f5f",
           "arrowhead": 0,
           "arrowwidth": 1
          },
          "autotypenumbers": "strict",
          "coloraxis": {
           "colorbar": {
            "outlinewidth": 0,
            "ticks": ""
           }
          },
          "colorscale": {
           "diverging": [
            [
             0,
             "#8e0152"
            ],
            [
             0.1,
             "#c51b7d"
            ],
            [
             0.2,
             "#de77ae"
            ],
            [
             0.3,
             "#f1b6da"
            ],
            [
             0.4,
             "#fde0ef"
            ],
            [
             0.5,
             "#f7f7f7"
            ],
            [
             0.6,
             "#e6f5d0"
            ],
            [
             0.7,
             "#b8e186"
            ],
            [
             0.8,
             "#7fbc41"
            ],
            [
             0.9,
             "#4d9221"
            ],
            [
             1,
             "#276419"
            ]
           ],
           "sequential": [
            [
             0,
             "#0d0887"
            ],
            [
             0.1111111111111111,
             "#46039f"
            ],
            [
             0.2222222222222222,
             "#7201a8"
            ],
            [
             0.3333333333333333,
             "#9c179e"
            ],
            [
             0.4444444444444444,
             "#bd3786"
            ],
            [
             0.5555555555555556,
             "#d8576b"
            ],
            [
             0.6666666666666666,
             "#ed7953"
            ],
            [
             0.7777777777777778,
             "#fb9f3a"
            ],
            [
             0.8888888888888888,
             "#fdca26"
            ],
            [
             1,
             "#f0f921"
            ]
           ],
           "sequentialminus": [
            [
             0,
             "#0d0887"
            ],
            [
             0.1111111111111111,
             "#46039f"
            ],
            [
             0.2222222222222222,
             "#7201a8"
            ],
            [
             0.3333333333333333,
             "#9c179e"
            ],
            [
             0.4444444444444444,
             "#bd3786"
            ],
            [
             0.5555555555555556,
             "#d8576b"
            ],
            [
             0.6666666666666666,
             "#ed7953"
            ],
            [
             0.7777777777777778,
             "#fb9f3a"
            ],
            [
             0.8888888888888888,
             "#fdca26"
            ],
            [
             1,
             "#f0f921"
            ]
           ]
          },
          "colorway": [
           "#636efa",
           "#EF553B",
           "#00cc96",
           "#ab63fa",
           "#FFA15A",
           "#19d3f3",
           "#FF6692",
           "#B6E880",
           "#FF97FF",
           "#FECB52"
          ],
          "font": {
           "color": "#2a3f5f"
          },
          "geo": {
           "bgcolor": "white",
           "lakecolor": "white",
           "landcolor": "#E5ECF6",
           "showlakes": true,
           "showland": true,
           "subunitcolor": "white"
          },
          "hoverlabel": {
           "align": "left"
          },
          "hovermode": "closest",
          "mapbox": {
           "style": "light"
          },
          "paper_bgcolor": "white",
          "plot_bgcolor": "#E5ECF6",
          "polar": {
           "angularaxis": {
            "gridcolor": "white",
            "linecolor": "white",
            "ticks": ""
           },
           "bgcolor": "#E5ECF6",
           "radialaxis": {
            "gridcolor": "white",
            "linecolor": "white",
            "ticks": ""
           }
          },
          "scene": {
           "xaxis": {
            "backgroundcolor": "#E5ECF6",
            "gridcolor": "white",
            "gridwidth": 2,
            "linecolor": "white",
            "showbackground": true,
            "ticks": "",
            "zerolinecolor": "white"
           },
           "yaxis": {
            "backgroundcolor": "#E5ECF6",
            "gridcolor": "white",
            "gridwidth": 2,
            "linecolor": "white",
            "showbackground": true,
            "ticks": "",
            "zerolinecolor": "white"
           },
           "zaxis": {
            "backgroundcolor": "#E5ECF6",
            "gridcolor": "white",
            "gridwidth": 2,
            "linecolor": "white",
            "showbackground": true,
            "ticks": "",
            "zerolinecolor": "white"
           }
          },
          "shapedefaults": {
           "line": {
            "color": "#2a3f5f"
           }
          },
          "ternary": {
           "aaxis": {
            "gridcolor": "white",
            "linecolor": "white",
            "ticks": ""
           },
           "baxis": {
            "gridcolor": "white",
            "linecolor": "white",
            "ticks": ""
           },
           "bgcolor": "#E5ECF6",
           "caxis": {
            "gridcolor": "white",
            "linecolor": "white",
            "ticks": ""
           }
          },
          "title": {
           "x": 0.05
          },
          "xaxis": {
           "automargin": true,
           "gridcolor": "white",
           "linecolor": "white",
           "ticks": "",
           "title": {
            "standoff": 15
           },
           "zerolinecolor": "white",
           "zerolinewidth": 2
          },
          "yaxis": {
           "automargin": true,
           "gridcolor": "white",
           "linecolor": "white",
           "ticks": "",
           "title": {
            "standoff": 15
           },
           "zerolinecolor": "white",
           "zerolinewidth": 2
          }
         }
        },
        "title": {
         "text": "Comparação da regressão estimada do comércio internacional do países responsáveis por 80% da exportação"
        },
        "width": 1300,
        "xaxis": {
         "anchor": "y",
         "domain": [
          0,
          0.45
         ],
         "tickfont": {
          "size": 8
         },
         "tickvals": [
          "2007 ",
          "2008 ",
          "2009 ",
          "2010 ",
          "2011 ",
          "2012 ",
          "2013 ",
          "2014 ",
          "2015 ",
          "2016 ",
          "2017 ",
          "2018 ",
          "2019 ",
          "2020 ",
          "2021 "
         ],
         "title": {
          "font": {
           "size": 10
          },
          "standoff": 10,
          "text": "Estados Unidos"
         }
        },
        "xaxis2": {
         "anchor": "y2",
         "domain": [
          0.55,
          1
         ]
        },
        "xaxis3": {
         "anchor": "y3",
         "domain": [
          0,
          0.45
         ],
         "tickfont": {
          "size": 8
         },
         "tickvals": [
          "2007 ",
          "2008 ",
          "2009 ",
          "2010 ",
          "2011 ",
          "2012 ",
          "2013 ",
          "2014 ",
          "2015 ",
          "2016 ",
          "2017 ",
          "2018 ",
          "2019 ",
          "2020 ",
          "2021 "
         ],
         "title": {
          "font": {
           "size": 10
          },
          "standoff": 10,
          "text": "Espanha"
         }
        },
        "xaxis4": {
         "anchor": "y4",
         "domain": [
          0.55,
          1
         ],
         "tickfont": {
          "size": 8
         },
         "tickvals": [
          "2007 ",
          "2008 ",
          "2009 ",
          "2010 ",
          "2011 ",
          "2012 ",
          "2013 ",
          "2014 ",
          "2015 ",
          "2016 ",
          "2017 ",
          "2018 ",
          "2019 ",
          "2020 ",
          "2021 "
         ],
         "title": {
          "font": {
           "size": 10
          },
          "standoff": 10,
          "text": "Reino Unido"
         }
        },
        "xaxis5": {
         "anchor": "y5",
         "domain": [
          0,
          0.45
         ],
         "tickfont": {
          "size": 8
         },
         "tickvals": [
          "2007 ",
          "2008 ",
          "2009 ",
          "2010 ",
          "2011 ",
          "2012 ",
          "2013 ",
          "2014 ",
          "2015 ",
          "2016 ",
          "2017 ",
          "2018 ",
          "2019 ",
          "2020 ",
          "2021 "
         ],
         "title": {
          "font": {
           "size": 10
          },
          "standoff": 10,
          "text": "Paraguai"
         }
        },
        "xaxis6": {
         "anchor": "y6",
         "domain": [
          0.55,
          1
         ],
         "tickfont": {
          "size": 8
         },
         "tickvals": [
          "2007 ",
          "2008 ",
          "2009 ",
          "2010 ",
          "2011 ",
          "2012 ",
          "2013 ",
          "2014 ",
          "2015 ",
          "2016 ",
          "2017 ",
          "2018 ",
          "2019 ",
          "2020 ",
          "2021 "
         ],
         "title": {
          "font": {
           "size": 10
          },
          "standoff": 10,
          "text": "Rússia"
         }
        },
        "xaxis7": {
         "anchor": "y7",
         "domain": [
          0,
          0.45
         ],
         "tickfont": {
          "size": 8
         },
         "tickvals": [
          "2007 ",
          "2008 ",
          "2009 ",
          "2010 ",
          "2011 ",
          "2012 ",
          "2013 ",
          "2014 ",
          "2015 ",
          "2016 ",
          "2017 ",
          "2018 ",
          "2019 ",
          "2020 ",
          "2021 "
         ],
         "title": {
          "font": {
           "size": 10
          },
          "standoff": 10,
          "text": "China"
         }
        },
        "xaxis8": {
         "anchor": "y8",
         "domain": [
          0.55,
          1
         ],
         "tickfont": {
          "size": 8
         },
         "tickvals": [
          "2007 ",
          "2008 ",
          "2009 ",
          "2010 ",
          "2011 ",
          "2012 ",
          "2013 ",
          "2014 ",
          "2015 ",
          "2016 ",
          "2017 ",
          "2018 ",
          "2019 ",
          "2020 ",
          "2021 "
         ],
         "title": {
          "font": {
           "size": 10
          },
          "standoff": 10,
          "text": "Países Baixos"
         }
        },
        "yaxis": {
         "anchor": "x",
         "domain": [
          0,
          0.19375
         ]
        },
        "yaxis2": {
         "anchor": "x2",
         "domain": [
          0,
          0.19375
         ]
        },
        "yaxis3": {
         "anchor": "x3",
         "domain": [
          0.26875,
          0.4625
         ]
        },
        "yaxis4": {
         "anchor": "x4",
         "domain": [
          0.26875,
          0.4625
         ]
        },
        "yaxis5": {
         "anchor": "x5",
         "domain": [
          0.5375,
          0.73125
         ]
        },
        "yaxis6": {
         "anchor": "x6",
         "domain": [
          0.5375,
          0.73125
         ]
        },
        "yaxis7": {
         "anchor": "x7",
         "domain": [
          0.80625,
          1
         ]
        },
        "yaxis8": {
         "anchor": "x8",
         "domain": [
          0.80625,
          1
         ]
        }
       }
      }
     },
     "metadata": {},
     "output_type": "display_data"
    }
   ],
   "source": [
    "plot_regressao_estimada(paises_trade, 'Comparação da regressão estimada do comércio internacional do países responsáveis por 80% da exportação', float)"
   ]
  },
  {
   "cell_type": "code",
   "execution_count": 61,
   "metadata": {},
   "outputs": [
    {
     "data": {
      "application/vnd.plotly.v1+json": {
       "config": {
        "plotlyServerURL": "https://plot.ly"
       },
       "data": [
        {
         "line": {
          "color": "red"
         },
         "mode": "lines",
         "name": "Regressão",
         "type": "scatter",
         "x": [
          2007,
          2008,
          2009,
          2010,
          2011,
          2012,
          2013,
          2014,
          2015,
          2016,
          2017,
          2018,
          2019,
          2020,
          2021
         ],
         "xaxis": "x7",
         "y": [
          1318077333.3333416,
          1325434476.190485,
          1332791619.0476284,
          1340148761.90477,
          1347505904.7619133,
          1354863047.6190548,
          1362220190.4761982,
          1369577333.3333416,
          1376934476.190483,
          1384291619.0476265,
          1391648761.904768,
          1399005904.7619114,
          1406363047.6190548,
          1413720190.4761963,
          1421077333.3333397
         ],
         "yaxis": "y7"
        },
        {
         "name": "China",
         "type": "scatter",
         "x": [
          "2007 ",
          "2008 ",
          "2009 ",
          "2010 ",
          "2011 ",
          "2012 ",
          "2013 ",
          "2014 ",
          "2015 ",
          "2016 ",
          "2017 ",
          "2018 ",
          "2019 ",
          "2020 ",
          "2021 "
         ],
         "xaxis": "x7",
         "y": [
          1317885000,
          1324655000,
          1331260000,
          1337705000,
          1345035000,
          1354190000,
          1363240000,
          1371860000,
          1379860000,
          1387790000,
          1396215000,
          1402760000,
          1407745000,
          1411100000,
          1412360000
         ],
         "yaxis": "y7"
        },
        {
         "line": {
          "color": "red"
         },
         "mode": "lines",
         "name": "Regressão",
         "type": "scatter",
         "x": [
          2007,
          2008,
          2009,
          2010,
          2011,
          2012,
          2013,
          2014,
          2015,
          2016,
          2017,
          2018,
          2019,
          2020,
          2021
         ],
         "xaxis": "x8",
         "y": [
          16351880.908333391,
          16432499.083333373,
          16513117.258333385,
          16593735.433333367,
          16674353.608333379,
          16754971.783333361,
          16835589.958333373,
          16916208.133333355,
          16996826.308333367,
          17077444.48333335,
          17158062.65833336,
          17238680.833333343,
          17319299.008333355,
          17399917.183333337,
          17480535.35833335
         ],
         "yaxis": "y8"
        },
        {
         "name": "Países Baixos",
         "type": "scatter",
         "x": [
          "2007 ",
          "2008 ",
          "2009 ",
          "2010 ",
          "2011 ",
          "2012 ",
          "2013 ",
          "2014 ",
          "2015 ",
          "2016 ",
          "2017 ",
          "2018 ",
          "2019 ",
          "2020 ",
          "2021 "
         ],
         "xaxis": "x8",
         "y": [
          16381696,
          16445593,
          16530388,
          16615394,
          16693074,
          16754962,
          16804432,
          16865008,
          16939923,
          17030314,
          17131296,
          17231624,
          17344874,
          17441500,
          17533044
         ],
         "yaxis": "y8"
        },
        {
         "line": {
          "color": "red"
         },
         "mode": "lines",
         "name": "Regressão",
         "type": "scatter",
         "x": [
          2007,
          2008,
          2009,
          2010,
          2011,
          2012,
          2013,
          2014,
          2015,
          2016,
          2017,
          2018,
          2019,
          2020,
          2021
         ],
         "xaxis": "x5",
         "y": [
          5539405.591666758,
          5621070.802381039,
          5702736.013095349,
          5784401.22380963,
          5866066.43452391,
          5947731.645238191,
          6029396.8559524715,
          6111062.066666752,
          6192727.277381033,
          6274392.488095313,
          6356057.698809594,
          6437722.9095238745,
          6519388.120238155,
          6601053.3309524655,
          6682718.541666746
         ],
         "yaxis": "y5"
        },
        {
         "name": "Paraguai",
         "type": "scatter",
         "x": [
          "2007 ",
          "2008 ",
          "2009 ",
          "2010 ",
          "2011 ",
          "2012 ",
          "2013 ",
          "2014 ",
          "2015 ",
          "2016 ",
          "2017 ",
          "2018 ",
          "2019 ",
          "2020 ",
          "2021 "
         ],
         "xaxis": "x5",
         "y": [
          5590145,
          5645148,
          5702574,
          5768613,
          5843939,
          5923322,
          6005652,
          6090721,
          6177950,
          6266615,
          6355404,
          6443328,
          6530026,
          6618695,
          6703799
         ],
         "yaxis": "y5"
        },
        {
         "line": {
          "color": "red"
         },
         "mode": "lines",
         "name": "Regressão",
         "type": "scatter",
         "x": [
          2007,
          2008,
          2009,
          2010,
          2011,
          2012,
          2013,
          2014,
          2015,
          2016,
          2017,
          2018,
          2019,
          2020,
          2021
         ],
         "xaxis": "x6",
         "y": [
          142736175.45000014,
          142859713.61428586,
          142983251.77857158,
          143106789.94285727,
          143230328.10714298,
          143353866.2714287,
          143477404.4357144,
          143600942.6000001,
          143724480.76428583,
          143848018.92857155,
          143971557.09285724,
          144095095.25714296,
          144218633.42142868,
          144342171.5857144,
          144465709.7500001
         ],
         "yaxis": "y6"
        },
        {
         "name": "Rússia",
         "type": "scatter",
         "x": [
          "2007 ",
          "2008 ",
          "2009 ",
          "2010 ",
          "2011 ",
          "2012 ",
          "2013 ",
          "2014 ",
          "2015 ",
          "2016 ",
          "2017 ",
          "2018 ",
          "2019 ",
          "2020 ",
          "2021 "
         ],
         "xaxis": "x6",
         "y": [
          142805114,
          142742366,
          142785349,
          142849468,
          142960908,
          143201721,
          143506995,
          143819667,
          144096870,
          144342397,
          144496739,
          144477859,
          144406261,
          144073139,
          143449286
         ],
         "yaxis": "y6"
        },
        {
         "line": {
          "color": "red"
         },
         "mode": "lines",
         "name": "Regressão",
         "type": "scatter",
         "x": [
          2007,
          2008,
          2009,
          2010,
          2011,
          2012,
          2013,
          2014,
          2015,
          2016,
          2017,
          2018,
          2019,
          2020,
          2021
         ],
         "xaxis": "x3",
         "y": [
          45914906.53333339,
          46012525.19047627,
          46110143.84761912,
          46207762.504761964,
          46305381.16190481,
          46402999.81904769,
          46500618.47619054,
          46598237.133333385,
          46695855.79047626,
          46793474.44761911,
          46891093.10476196,
          46988711.761904806,
          47086330.41904768,
          47183949.07619053,
          47281567.73333338
         ],
         "yaxis": "y3"
        },
        {
         "name": "Espanha",
         "type": "scatter",
         "x": [
          "2007 ",
          "2008 ",
          "2009 ",
          "2010 ",
          "2011 ",
          "2012 ",
          "2013 ",
          "2014 ",
          "2015 ",
          "2016 ",
          "2017 ",
          "2018 ",
          "2019 ",
          "2020 ",
          "2021 "
         ],
         "xaxis": "x3",
         "y": [
          45226803,
          45954106,
          46362946,
          46576897,
          46742697,
          46773055,
          46620045,
          46480882,
          46444832,
          46484062,
          46593236,
          46797754,
          47134837,
          47365655,
          47415750
         ],
         "yaxis": "y3"
        },
        {
         "line": {
          "color": "red"
         },
         "mode": "lines",
         "name": "Regressão",
         "type": "scatter",
         "x": [
          2007,
          2008,
          2009,
          2010,
          2011,
          2012,
          2013,
          2014,
          2015,
          2016,
          2017,
          2018,
          2019,
          2020,
          2021
         ],
         "xaxis": "x4",
         "y": [
          61445344.450000644,
          61889843.81428635,
          62334343.17857206,
          62778842.542857766,
          63223341.90714347,
          63667841.27142918,
          64112340.63571489,
          64556840.000000596,
          65001339.3642863,
          65445838.72857201,
          65890338.09285772,
          66334837.457143426,
          66779336.82142913,
          67223836.18571484,
          67668335.55000043
         ],
         "yaxis": "y4"
        },
        {
         "name": "Reino Unido",
         "type": "scatter",
         "x": [
          "2007 ",
          "2008 ",
          "2009 ",
          "2010 ",
          "2011 ",
          "2012 ",
          "2013 ",
          "2014 ",
          "2015 ",
          "2016 ",
          "2017 ",
          "2018 ",
          "2019 ",
          "2020 ",
          "2021 "
         ],
         "xaxis": "x4",
         "y": [
          61322463,
          61806995,
          62276270,
          62766365,
          63258810,
          63700215,
          64128273,
          64602298,
          65116219,
          65611593,
          66058859,
          66460344,
          66836327,
          67081000,
          67326569
         ],
         "yaxis": "y4"
        },
        {
         "line": {
          "color": "red"
         },
         "mode": "lines",
         "name": "Regressão",
         "type": "scatter",
         "x": [
          2007,
          2008,
          2009,
          2010,
          2011,
          2012,
          2013,
          2014,
          2015,
          2016,
          2017,
          2018,
          2019,
          2020,
          2021
         ],
         "xaxis": "x",
         "y": [
          302406808.6666689,
          304623237.1238117,
          306839665.58095455,
          309056094.0380974,
          311272522.4952402,
          313488950.95238304,
          315705379.4095259,
          317921807.8666687,
          320138236.32381153,
          322354664.78095436,
          324571093.2380972,
          326787521.69524,
          329003950.15238285,
          331220378.6095257,
          333436807.0666685
         ],
         "yaxis": "y"
        },
        {
         "name": "Estados Unidos",
         "type": "scatter",
         "x": [
          "2007 ",
          "2008 ",
          "2009 ",
          "2010 ",
          "2011 ",
          "2012 ",
          "2013 ",
          "2014 ",
          "2015 ",
          "2016 ",
          "2017 ",
          "2018 ",
          "2019 ",
          "2020 ",
          "2021 "
         ],
         "xaxis": "x",
         "y": [
          301231207,
          304093966,
          306771529,
          309327143,
          311583481,
          313877662,
          316059947,
          318386329,
          320738994,
          323071755,
          325122128,
          326838199,
          328329953,
          331501080,
          331893745
         ],
         "yaxis": "y"
        }
       ],
       "layout": {
        "colorway": [
         "blue",
         "green",
         "orange",
         "purple",
         "brown",
         "black",
         "gray"
        ],
        "height": 600,
        "showlegend": false,
        "template": {
         "data": {
          "bar": [
           {
            "error_x": {
             "color": "#2a3f5f"
            },
            "error_y": {
             "color": "#2a3f5f"
            },
            "marker": {
             "line": {
              "color": "#E5ECF6",
              "width": 0.5
             },
             "pattern": {
              "fillmode": "overlay",
              "size": 10,
              "solidity": 0.2
             }
            },
            "type": "bar"
           }
          ],
          "barpolar": [
           {
            "marker": {
             "line": {
              "color": "#E5ECF6",
              "width": 0.5
             },
             "pattern": {
              "fillmode": "overlay",
              "size": 10,
              "solidity": 0.2
             }
            },
            "type": "barpolar"
           }
          ],
          "carpet": [
           {
            "aaxis": {
             "endlinecolor": "#2a3f5f",
             "gridcolor": "white",
             "linecolor": "white",
             "minorgridcolor": "white",
             "startlinecolor": "#2a3f5f"
            },
            "baxis": {
             "endlinecolor": "#2a3f5f",
             "gridcolor": "white",
             "linecolor": "white",
             "minorgridcolor": "white",
             "startlinecolor": "#2a3f5f"
            },
            "type": "carpet"
           }
          ],
          "choropleth": [
           {
            "colorbar": {
             "outlinewidth": 0,
             "ticks": ""
            },
            "type": "choropleth"
           }
          ],
          "contour": [
           {
            "colorbar": {
             "outlinewidth": 0,
             "ticks": ""
            },
            "colorscale": [
             [
              0,
              "#0d0887"
             ],
             [
              0.1111111111111111,
              "#46039f"
             ],
             [
              0.2222222222222222,
              "#7201a8"
             ],
             [
              0.3333333333333333,
              "#9c179e"
             ],
             [
              0.4444444444444444,
              "#bd3786"
             ],
             [
              0.5555555555555556,
              "#d8576b"
             ],
             [
              0.6666666666666666,
              "#ed7953"
             ],
             [
              0.7777777777777778,
              "#fb9f3a"
             ],
             [
              0.8888888888888888,
              "#fdca26"
             ],
             [
              1,
              "#f0f921"
             ]
            ],
            "type": "contour"
           }
          ],
          "contourcarpet": [
           {
            "colorbar": {
             "outlinewidth": 0,
             "ticks": ""
            },
            "type": "contourcarpet"
           }
          ],
          "heatmap": [
           {
            "colorbar": {
             "outlinewidth": 0,
             "ticks": ""
            },
            "colorscale": [
             [
              0,
              "#0d0887"
             ],
             [
              0.1111111111111111,
              "#46039f"
             ],
             [
              0.2222222222222222,
              "#7201a8"
             ],
             [
              0.3333333333333333,
              "#9c179e"
             ],
             [
              0.4444444444444444,
              "#bd3786"
             ],
             [
              0.5555555555555556,
              "#d8576b"
             ],
             [
              0.6666666666666666,
              "#ed7953"
             ],
             [
              0.7777777777777778,
              "#fb9f3a"
             ],
             [
              0.8888888888888888,
              "#fdca26"
             ],
             [
              1,
              "#f0f921"
             ]
            ],
            "type": "heatmap"
           }
          ],
          "heatmapgl": [
           {
            "colorbar": {
             "outlinewidth": 0,
             "ticks": ""
            },
            "colorscale": [
             [
              0,
              "#0d0887"
             ],
             [
              0.1111111111111111,
              "#46039f"
             ],
             [
              0.2222222222222222,
              "#7201a8"
             ],
             [
              0.3333333333333333,
              "#9c179e"
             ],
             [
              0.4444444444444444,
              "#bd3786"
             ],
             [
              0.5555555555555556,
              "#d8576b"
             ],
             [
              0.6666666666666666,
              "#ed7953"
             ],
             [
              0.7777777777777778,
              "#fb9f3a"
             ],
             [
              0.8888888888888888,
              "#fdca26"
             ],
             [
              1,
              "#f0f921"
             ]
            ],
            "type": "heatmapgl"
           }
          ],
          "histogram": [
           {
            "marker": {
             "pattern": {
              "fillmode": "overlay",
              "size": 10,
              "solidity": 0.2
             }
            },
            "type": "histogram"
           }
          ],
          "histogram2d": [
           {
            "colorbar": {
             "outlinewidth": 0,
             "ticks": ""
            },
            "colorscale": [
             [
              0,
              "#0d0887"
             ],
             [
              0.1111111111111111,
              "#46039f"
             ],
             [
              0.2222222222222222,
              "#7201a8"
             ],
             [
              0.3333333333333333,
              "#9c179e"
             ],
             [
              0.4444444444444444,
              "#bd3786"
             ],
             [
              0.5555555555555556,
              "#d8576b"
             ],
             [
              0.6666666666666666,
              "#ed7953"
             ],
             [
              0.7777777777777778,
              "#fb9f3a"
             ],
             [
              0.8888888888888888,
              "#fdca26"
             ],
             [
              1,
              "#f0f921"
             ]
            ],
            "type": "histogram2d"
           }
          ],
          "histogram2dcontour": [
           {
            "colorbar": {
             "outlinewidth": 0,
             "ticks": ""
            },
            "colorscale": [
             [
              0,
              "#0d0887"
             ],
             [
              0.1111111111111111,
              "#46039f"
             ],
             [
              0.2222222222222222,
              "#7201a8"
             ],
             [
              0.3333333333333333,
              "#9c179e"
             ],
             [
              0.4444444444444444,
              "#bd3786"
             ],
             [
              0.5555555555555556,
              "#d8576b"
             ],
             [
              0.6666666666666666,
              "#ed7953"
             ],
             [
              0.7777777777777778,
              "#fb9f3a"
             ],
             [
              0.8888888888888888,
              "#fdca26"
             ],
             [
              1,
              "#f0f921"
             ]
            ],
            "type": "histogram2dcontour"
           }
          ],
          "mesh3d": [
           {
            "colorbar": {
             "outlinewidth": 0,
             "ticks": ""
            },
            "type": "mesh3d"
           }
          ],
          "parcoords": [
           {
            "line": {
             "colorbar": {
              "outlinewidth": 0,
              "ticks": ""
             }
            },
            "type": "parcoords"
           }
          ],
          "pie": [
           {
            "automargin": true,
            "type": "pie"
           }
          ],
          "scatter": [
           {
            "fillpattern": {
             "fillmode": "overlay",
             "size": 10,
             "solidity": 0.2
            },
            "type": "scatter"
           }
          ],
          "scatter3d": [
           {
            "line": {
             "colorbar": {
              "outlinewidth": 0,
              "ticks": ""
             }
            },
            "marker": {
             "colorbar": {
              "outlinewidth": 0,
              "ticks": ""
             }
            },
            "type": "scatter3d"
           }
          ],
          "scattercarpet": [
           {
            "marker": {
             "colorbar": {
              "outlinewidth": 0,
              "ticks": ""
             }
            },
            "type": "scattercarpet"
           }
          ],
          "scattergeo": [
           {
            "marker": {
             "colorbar": {
              "outlinewidth": 0,
              "ticks": ""
             }
            },
            "type": "scattergeo"
           }
          ],
          "scattergl": [
           {
            "marker": {
             "colorbar": {
              "outlinewidth": 0,
              "ticks": ""
             }
            },
            "type": "scattergl"
           }
          ],
          "scattermapbox": [
           {
            "marker": {
             "colorbar": {
              "outlinewidth": 0,
              "ticks": ""
             }
            },
            "type": "scattermapbox"
           }
          ],
          "scatterpolar": [
           {
            "marker": {
             "colorbar": {
              "outlinewidth": 0,
              "ticks": ""
             }
            },
            "type": "scatterpolar"
           }
          ],
          "scatterpolargl": [
           {
            "marker": {
             "colorbar": {
              "outlinewidth": 0,
              "ticks": ""
             }
            },
            "type": "scatterpolargl"
           }
          ],
          "scatterternary": [
           {
            "marker": {
             "colorbar": {
              "outlinewidth": 0,
              "ticks": ""
             }
            },
            "type": "scatterternary"
           }
          ],
          "surface": [
           {
            "colorbar": {
             "outlinewidth": 0,
             "ticks": ""
            },
            "colorscale": [
             [
              0,
              "#0d0887"
             ],
             [
              0.1111111111111111,
              "#46039f"
             ],
             [
              0.2222222222222222,
              "#7201a8"
             ],
             [
              0.3333333333333333,
              "#9c179e"
             ],
             [
              0.4444444444444444,
              "#bd3786"
             ],
             [
              0.5555555555555556,
              "#d8576b"
             ],
             [
              0.6666666666666666,
              "#ed7953"
             ],
             [
              0.7777777777777778,
              "#fb9f3a"
             ],
             [
              0.8888888888888888,
              "#fdca26"
             ],
             [
              1,
              "#f0f921"
             ]
            ],
            "type": "surface"
           }
          ],
          "table": [
           {
            "cells": {
             "fill": {
              "color": "#EBF0F8"
             },
             "line": {
              "color": "white"
             }
            },
            "header": {
             "fill": {
              "color": "#C8D4E3"
             },
             "line": {
              "color": "white"
             }
            },
            "type": "table"
           }
          ]
         },
         "layout": {
          "annotationdefaults": {
           "arrowcolor": "#2a3f5f",
           "arrowhead": 0,
           "arrowwidth": 1
          },
          "autotypenumbers": "strict",
          "coloraxis": {
           "colorbar": {
            "outlinewidth": 0,
            "ticks": ""
           }
          },
          "colorscale": {
           "diverging": [
            [
             0,
             "#8e0152"
            ],
            [
             0.1,
             "#c51b7d"
            ],
            [
             0.2,
             "#de77ae"
            ],
            [
             0.3,
             "#f1b6da"
            ],
            [
             0.4,
             "#fde0ef"
            ],
            [
             0.5,
             "#f7f7f7"
            ],
            [
             0.6,
             "#e6f5d0"
            ],
            [
             0.7,
             "#b8e186"
            ],
            [
             0.8,
             "#7fbc41"
            ],
            [
             0.9,
             "#4d9221"
            ],
            [
             1,
             "#276419"
            ]
           ],
           "sequential": [
            [
             0,
             "#0d0887"
            ],
            [
             0.1111111111111111,
             "#46039f"
            ],
            [
             0.2222222222222222,
             "#7201a8"
            ],
            [
             0.3333333333333333,
             "#9c179e"
            ],
            [
             0.4444444444444444,
             "#bd3786"
            ],
            [
             0.5555555555555556,
             "#d8576b"
            ],
            [
             0.6666666666666666,
             "#ed7953"
            ],
            [
             0.7777777777777778,
             "#fb9f3a"
            ],
            [
             0.8888888888888888,
             "#fdca26"
            ],
            [
             1,
             "#f0f921"
            ]
           ],
           "sequentialminus": [
            [
             0,
             "#0d0887"
            ],
            [
             0.1111111111111111,
             "#46039f"
            ],
            [
             0.2222222222222222,
             "#7201a8"
            ],
            [
             0.3333333333333333,
             "#9c179e"
            ],
            [
             0.4444444444444444,
             "#bd3786"
            ],
            [
             0.5555555555555556,
             "#d8576b"
            ],
            [
             0.6666666666666666,
             "#ed7953"
            ],
            [
             0.7777777777777778,
             "#fb9f3a"
            ],
            [
             0.8888888888888888,
             "#fdca26"
            ],
            [
             1,
             "#f0f921"
            ]
           ]
          },
          "colorway": [
           "#636efa",
           "#EF553B",
           "#00cc96",
           "#ab63fa",
           "#FFA15A",
           "#19d3f3",
           "#FF6692",
           "#B6E880",
           "#FF97FF",
           "#FECB52"
          ],
          "font": {
           "color": "#2a3f5f"
          },
          "geo": {
           "bgcolor": "white",
           "lakecolor": "white",
           "landcolor": "#E5ECF6",
           "showlakes": true,
           "showland": true,
           "subunitcolor": "white"
          },
          "hoverlabel": {
           "align": "left"
          },
          "hovermode": "closest",
          "mapbox": {
           "style": "light"
          },
          "paper_bgcolor": "white",
          "plot_bgcolor": "#E5ECF6",
          "polar": {
           "angularaxis": {
            "gridcolor": "white",
            "linecolor": "white",
            "ticks": ""
           },
           "bgcolor": "#E5ECF6",
           "radialaxis": {
            "gridcolor": "white",
            "linecolor": "white",
            "ticks": ""
           }
          },
          "scene": {
           "xaxis": {
            "backgroundcolor": "#E5ECF6",
            "gridcolor": "white",
            "gridwidth": 2,
            "linecolor": "white",
            "showbackground": true,
            "ticks": "",
            "zerolinecolor": "white"
           },
           "yaxis": {
            "backgroundcolor": "#E5ECF6",
            "gridcolor": "white",
            "gridwidth": 2,
            "linecolor": "white",
            "showbackground": true,
            "ticks": "",
            "zerolinecolor": "white"
           },
           "zaxis": {
            "backgroundcolor": "#E5ECF6",
            "gridcolor": "white",
            "gridwidth": 2,
            "linecolor": "white",
            "showbackground": true,
            "ticks": "",
            "zerolinecolor": "white"
           }
          },
          "shapedefaults": {
           "line": {
            "color": "#2a3f5f"
           }
          },
          "ternary": {
           "aaxis": {
            "gridcolor": "white",
            "linecolor": "white",
            "ticks": ""
           },
           "baxis": {
            "gridcolor": "white",
            "linecolor": "white",
            "ticks": ""
           },
           "bgcolor": "#E5ECF6",
           "caxis": {
            "gridcolor": "white",
            "linecolor": "white",
            "ticks": ""
           }
          },
          "title": {
           "x": 0.05
          },
          "xaxis": {
           "automargin": true,
           "gridcolor": "white",
           "linecolor": "white",
           "ticks": "",
           "title": {
            "standoff": 15
           },
           "zerolinecolor": "white",
           "zerolinewidth": 2
          },
          "yaxis": {
           "automargin": true,
           "gridcolor": "white",
           "linecolor": "white",
           "ticks": "",
           "title": {
            "standoff": 15
           },
           "zerolinecolor": "white",
           "zerolinewidth": 2
          }
         }
        },
        "title": {
         "text": "Comparação da regressão estimada da população dos países responsáveis por 80% da exportação"
        },
        "width": 1300,
        "xaxis": {
         "anchor": "y",
         "domain": [
          0,
          0.45
         ],
         "tickfont": {
          "size": 8
         },
         "tickvals": [
          "2007 ",
          "2008 ",
          "2009 ",
          "2010 ",
          "2011 ",
          "2012 ",
          "2013 ",
          "2014 ",
          "2015 ",
          "2016 ",
          "2017 ",
          "2018 ",
          "2019 ",
          "2020 ",
          "2021 "
         ],
         "title": {
          "font": {
           "size": 10
          },
          "standoff": 10,
          "text": "Estados Unidos"
         }
        },
        "xaxis2": {
         "anchor": "y2",
         "domain": [
          0.55,
          1
         ]
        },
        "xaxis3": {
         "anchor": "y3",
         "domain": [
          0,
          0.45
         ],
         "tickfont": {
          "size": 8
         },
         "tickvals": [
          "2007 ",
          "2008 ",
          "2009 ",
          "2010 ",
          "2011 ",
          "2012 ",
          "2013 ",
          "2014 ",
          "2015 ",
          "2016 ",
          "2017 ",
          "2018 ",
          "2019 ",
          "2020 ",
          "2021 "
         ],
         "title": {
          "font": {
           "size": 10
          },
          "standoff": 10,
          "text": "Espanha"
         }
        },
        "xaxis4": {
         "anchor": "y4",
         "domain": [
          0.55,
          1
         ],
         "tickfont": {
          "size": 8
         },
         "tickvals": [
          "2007 ",
          "2008 ",
          "2009 ",
          "2010 ",
          "2011 ",
          "2012 ",
          "2013 ",
          "2014 ",
          "2015 ",
          "2016 ",
          "2017 ",
          "2018 ",
          "2019 ",
          "2020 ",
          "2021 "
         ],
         "title": {
          "font": {
           "size": 10
          },
          "standoff": 10,
          "text": "Reino Unido"
         }
        },
        "xaxis5": {
         "anchor": "y5",
         "domain": [
          0,
          0.45
         ],
         "tickfont": {
          "size": 8
         },
         "tickvals": [
          "2007 ",
          "2008 ",
          "2009 ",
          "2010 ",
          "2011 ",
          "2012 ",
          "2013 ",
          "2014 ",
          "2015 ",
          "2016 ",
          "2017 ",
          "2018 ",
          "2019 ",
          "2020 ",
          "2021 "
         ],
         "title": {
          "font": {
           "size": 10
          },
          "standoff": 10,
          "text": "Paraguai"
         }
        },
        "xaxis6": {
         "anchor": "y6",
         "domain": [
          0.55,
          1
         ],
         "tickfont": {
          "size": 8
         },
         "tickvals": [
          "2007 ",
          "2008 ",
          "2009 ",
          "2010 ",
          "2011 ",
          "2012 ",
          "2013 ",
          "2014 ",
          "2015 ",
          "2016 ",
          "2017 ",
          "2018 ",
          "2019 ",
          "2020 ",
          "2021 "
         ],
         "title": {
          "font": {
           "size": 10
          },
          "standoff": 10,
          "text": "Rússia"
         }
        },
        "xaxis7": {
         "anchor": "y7",
         "domain": [
          0,
          0.45
         ],
         "tickfont": {
          "size": 8
         },
         "tickvals": [
          "2007 ",
          "2008 ",
          "2009 ",
          "2010 ",
          "2011 ",
          "2012 ",
          "2013 ",
          "2014 ",
          "2015 ",
          "2016 ",
          "2017 ",
          "2018 ",
          "2019 ",
          "2020 ",
          "2021 "
         ],
         "title": {
          "font": {
           "size": 10
          },
          "standoff": 10,
          "text": "China"
         }
        },
        "xaxis8": {
         "anchor": "y8",
         "domain": [
          0.55,
          1
         ],
         "tickfont": {
          "size": 8
         },
         "tickvals": [
          "2007 ",
          "2008 ",
          "2009 ",
          "2010 ",
          "2011 ",
          "2012 ",
          "2013 ",
          "2014 ",
          "2015 ",
          "2016 ",
          "2017 ",
          "2018 ",
          "2019 ",
          "2020 ",
          "2021 "
         ],
         "title": {
          "font": {
           "size": 10
          },
          "standoff": 10,
          "text": "Países Baixos"
         }
        },
        "yaxis": {
         "anchor": "x",
         "domain": [
          0,
          0.19375
         ]
        },
        "yaxis2": {
         "anchor": "x2",
         "domain": [
          0,
          0.19375
         ]
        },
        "yaxis3": {
         "anchor": "x3",
         "domain": [
          0.26875,
          0.4625
         ]
        },
        "yaxis4": {
         "anchor": "x4",
         "domain": [
          0.26875,
          0.4625
         ]
        },
        "yaxis5": {
         "anchor": "x5",
         "domain": [
          0.5375,
          0.73125
         ]
        },
        "yaxis6": {
         "anchor": "x6",
         "domain": [
          0.5375,
          0.73125
         ]
        },
        "yaxis7": {
         "anchor": "x7",
         "domain": [
          0.80625,
          1
         ]
        },
        "yaxis8": {
         "anchor": "x8",
         "domain": [
          0.80625,
          1
         ]
        }
       }
      }
     },
     "metadata": {},
     "output_type": "display_data"
    }
   ],
   "source": [
    "plot_regressao_estimada(paises_population, 'Comparação da regressão estimada da população dos países responsáveis por 80% da exportação', int)"
   ]
  },
  {
   "cell_type": "code",
   "execution_count": 62,
   "metadata": {},
   "outputs": [
    {
     "data": {
      "application/vnd.plotly.v1+json": {
       "config": {
        "plotlyServerURL": "https://plot.ly"
       },
       "data": [
        {
         "line": {
          "color": "red"
         },
         "mode": "lines",
         "name": "Regressão",
         "type": "scatter",
         "x": [
          2007,
          2008,
          2009,
          2010,
          2011,
          2012,
          2013,
          2014,
          2015,
          2016,
          2017,
          2018,
          2019,
          2020,
          2021
         ],
         "xaxis": "x7",
         "y": [
          4.527916666666673,
          4.534880952380959,
          4.541845238095245,
          4.548809523809531,
          4.555773809523817,
          4.562738095238103,
          4.569702380952389,
          4.576666666666675,
          4.583630952380961,
          4.590595238095247,
          4.597559523809533,
          4.604523809523819,
          4.611488095238105,
          4.618452380952391,
          4.625416666666677
         ],
         "yaxis": "y7"
        },
        {
         "name": "China",
         "type": "scatter",
         "x": [
          "2007 ",
          "2008 ",
          "2009 ",
          "2010 ",
          "2011 ",
          "2012 ",
          "2013 ",
          "2014 ",
          "2015 ",
          "2016 ",
          "2017 ",
          "2018 ",
          "2019 ",
          "2020 ",
          "2021 "
         ],
         "xaxis": "x7",
         "y": [
          4.35,
          4.59,
          4.72,
          4.53,
          4.55,
          4.58,
          4.6,
          4.63,
          4.65,
          4.56,
          4.47,
          4.31,
          4.56,
          5,
          4.55
         ],
         "yaxis": "y7"
        },
        {
         "line": {
          "color": "red"
         },
         "mode": "lines",
         "name": "Regressão",
         "type": "scatter",
         "x": [
          2007,
          2008,
          2009,
          2010,
          2011,
          2012,
          2013,
          2014,
          2015,
          2016,
          2017,
          2018,
          2019,
          2020,
          2021
         ],
         "xaxis": "x8",
         "y": [
          5.248833333333245,
          5.218619047618965,
          5.188404761904685,
          5.158190476190406,
          5.127976190476119,
          5.097761904761839,
          5.067547619047559,
          5.0373333333332795,
          5.007119047619,
          4.97690476190472,
          4.94669047619044,
          4.9164761904761605,
          4.886261904761881,
          4.856047619047601,
          4.825833333333321
         ],
         "yaxis": "y8"
        },
        {
         "name": "Países Baixos",
         "type": "scatter",
         "x": [
          "2007 ",
          "2008 ",
          "2009 ",
          "2010 ",
          "2011 ",
          "2012 ",
          "2013 ",
          "2014 ",
          "2015 ",
          "2016 ",
          "2017 ",
          "2018 ",
          "2019 ",
          "2020 ",
          "2021 "
         ],
         "xaxis": "x8",
         "y": [
          4.15,
          3.65,
          4.35,
          4.99,
          4.98,
          5.82,
          7.24,
          7.42,
          6.87,
          6.01,
          4.84,
          3.83,
          3.38,
          3.82,
          4.21
         ],
         "yaxis": "y8"
        },
        {
         "line": {
          "color": "red"
         },
         "mode": "lines",
         "name": "Regressão",
         "type": "scatter",
         "x": [
          2007,
          2008,
          2009,
          2010,
          2011,
          2012,
          2013,
          2014,
          2015,
          2016,
          2017,
          2018,
          2019,
          2020,
          2021
         ],
         "xaxis": "x5",
         "y": [
          4.005916666666849,
          4.190023809524007,
          4.374130952381108,
          4.558238095238266,
          4.7423452380954245,
          4.926452380952526,
          5.110559523809684,
          5.294666666666785,
          5.478773809523943,
          5.6628809523811015,
          5.846988095238203,
          6.031095238095361,
          6.215202380952462,
          6.39930952380962,
          6.583416666666778
         ],
         "yaxis": "y5"
        },
        {
         "name": "Paraguai",
         "type": "scatter",
         "x": [
          "2007 ",
          "2008 ",
          "2009 ",
          "2010 ",
          "2011 ",
          "2012 ",
          "2013 ",
          "2014 ",
          "2015 ",
          "2016 ",
          "2017 ",
          "2018 ",
          "2019 ",
          "2020 ",
          "2021 "
         ],
         "xaxis": "x5",
         "y": [
          4.71,
          4.42,
          5.46,
          4.57,
          4.67,
          4.09,
          4.38,
          5.03,
          4.56,
          5.25,
          4.61,
          6.22,
          6.59,
          7.55,
          7.31
         ],
         "yaxis": "y5"
        },
        {
         "line": {
          "color": "red"
         },
         "mode": "lines",
         "name": "Regressão",
         "type": "scatter",
         "x": [
          2007,
          2008,
          2009,
          2010,
          2011,
          2012,
          2013,
          2014,
          2015,
          2016,
          2017,
          2018,
          2019,
          2020,
          2021
         ],
         "xaxis": "x6",
         "y": [
          6.900333333333151,
          6.7381904761903115,
          6.576047619047472,
          6.4139047619045755,
          6.251761904761736,
          6.089619047618896,
          5.927476190476057,
          5.765333333333217,
          5.6031904761903775,
          5.441047619047481,
          5.278904761904641,
          5.116761904761802,
          4.954619047618962,
          4.792476190476123,
          4.630333333333283
         ],
         "yaxis": "y6"
        },
        {
         "name": "Rússia",
         "type": "scatter",
         "x": [
          "2007 ",
          "2008 ",
          "2009 ",
          "2010 ",
          "2011 ",
          "2012 ",
          "2013 ",
          "2014 ",
          "2015 ",
          "2016 ",
          "2017 ",
          "2018 ",
          "2019 ",
          "2020 ",
          "2021 "
         ],
         "xaxis": "x6",
         "y": [
          6,
          6.21,
          8.3,
          7.37,
          6.54,
          5.44,
          5.46,
          5.16,
          5.57,
          5.56,
          5.21,
          4.85,
          4.5,
          5.59,
          4.72
         ],
         "yaxis": "y6"
        },
        {
         "line": {
          "color": "red"
         },
         "mode": "lines",
         "name": "Regressão",
         "type": "scatter",
         "x": [
          2007,
          2008,
          2009,
          2010,
          2011,
          2012,
          2013,
          2014,
          2015,
          2016,
          2017,
          2018,
          2019,
          2020,
          2021
         ],
         "xaxis": "x3",
         "y": [
          17.97974999999977,
          18.00635714285695,
          18.03296428571413,
          18.05957142857131,
          18.08617857142849,
          18.11278571428567,
          18.13939285714285,
          18.166000000000032,
          18.192607142857213,
          18.219214285714393,
          18.245821428571574,
          18.272428571428755,
          18.299035714285935,
          18.325642857143116,
          18.352250000000296
         ],
         "yaxis": "y3"
        },
        {
         "name": "Espanha",
         "type": "scatter",
         "x": [
          "2007 ",
          "2008 ",
          "2009 ",
          "2010 ",
          "2011 ",
          "2012 ",
          "2013 ",
          "2014 ",
          "2015 ",
          "2016 ",
          "2017 ",
          "2018 ",
          "2019 ",
          "2020 ",
          "2021 "
         ],
         "xaxis": "x3",
         "y": [
          8.23,
          11.25,
          17.86,
          19.86,
          21.39,
          24.79,
          26.09,
          24.44,
          22.06,
          19.64,
          17.22,
          15.25,
          14.1,
          15.53,
          14.78
         ],
         "yaxis": "y3"
        },
        {
         "line": {
          "color": "red"
         },
         "mode": "lines",
         "name": "Regressão",
         "type": "scatter",
         "x": [
          2007,
          2008,
          2009,
          2010,
          2011,
          2012,
          2013,
          2014,
          2015,
          2016,
          2017,
          2018,
          2019,
          2020,
          2021
         ],
         "xaxis": "x4",
         "y": [
          7.405266666666364,
          7.178209523809244,
          6.951152380952124,
          6.724095238095003,
          6.497038095237826,
          6.269980952380706,
          6.042923809523586,
          5.815866666666466,
          5.588809523809346,
          5.361752380952225,
          5.134695238095105,
          4.907638095237985,
          4.680580952380865,
          4.453523809523688,
          4.226466666666568
         ],
         "yaxis": "y4"
        },
        {
         "name": "Reino Unido",
         "type": "scatter",
         "x": [
          "2007 ",
          "2008 ",
          "2009 ",
          "2010 ",
          "2011 ",
          "2012 ",
          "2013 ",
          "2014 ",
          "2015 ",
          "2016 ",
          "2017 ",
          "2018 ",
          "2019 ",
          "2020 ",
          "2021 "
         ],
         "xaxis": "x4",
         "y": [
          5.26,
          5.62,
          7.54,
          7.79,
          8.04,
          7.88,
          7.52,
          6.11,
          5.3,
          4.81,
          4.33,
          4,
          3.74,
          4.472,
          4.826
         ],
         "yaxis": "y4"
        },
        {
         "line": {
          "color": "red"
         },
         "mode": "lines",
         "name": "Regressão",
         "type": "scatter",
         "x": [
          2007,
          2008,
          2009,
          2010,
          2011,
          2012,
          2013,
          2014,
          2015,
          2016,
          2017,
          2018,
          2019,
          2020,
          2021
         ],
         "xaxis": "x",
         "y": [
          7.713416666666376,
          7.519309523809227,
          7.325202380952078,
          7.131095238094986,
          6.936988095237837,
          6.7428809523807445,
          6.5487738095235954,
          6.354666666666503,
          6.160559523809354,
          5.966452380952205,
          5.772345238095113,
          5.578238095237964,
          5.384130952380872,
          5.190023809523723,
          4.995916666666631
         ],
         "yaxis": "y"
        },
        {
         "name": "Estados Unidos",
         "type": "scatter",
         "x": [
          "2007 ",
          "2008 ",
          "2009 ",
          "2010 ",
          "2011 ",
          "2012 ",
          "2013 ",
          "2014 ",
          "2015 ",
          "2016 ",
          "2017 ",
          "2018 ",
          "2019 ",
          "2020 ",
          "2021 "
         ],
         "xaxis": "x",
         "y": [
          4.62,
          5.78,
          9.25,
          9.63,
          8.95,
          8.07,
          7.37,
          6.17,
          5.28,
          4.87,
          4.36,
          3.9,
          3.67,
          8.05,
          5.35
         ],
         "yaxis": "y"
        }
       ],
       "layout": {
        "colorway": [
         "blue",
         "green",
         "orange",
         "purple",
         "brown",
         "black",
         "gray"
        ],
        "height": 600,
        "showlegend": false,
        "template": {
         "data": {
          "bar": [
           {
            "error_x": {
             "color": "#2a3f5f"
            },
            "error_y": {
             "color": "#2a3f5f"
            },
            "marker": {
             "line": {
              "color": "#E5ECF6",
              "width": 0.5
             },
             "pattern": {
              "fillmode": "overlay",
              "size": 10,
              "solidity": 0.2
             }
            },
            "type": "bar"
           }
          ],
          "barpolar": [
           {
            "marker": {
             "line": {
              "color": "#E5ECF6",
              "width": 0.5
             },
             "pattern": {
              "fillmode": "overlay",
              "size": 10,
              "solidity": 0.2
             }
            },
            "type": "barpolar"
           }
          ],
          "carpet": [
           {
            "aaxis": {
             "endlinecolor": "#2a3f5f",
             "gridcolor": "white",
             "linecolor": "white",
             "minorgridcolor": "white",
             "startlinecolor": "#2a3f5f"
            },
            "baxis": {
             "endlinecolor": "#2a3f5f",
             "gridcolor": "white",
             "linecolor": "white",
             "minorgridcolor": "white",
             "startlinecolor": "#2a3f5f"
            },
            "type": "carpet"
           }
          ],
          "choropleth": [
           {
            "colorbar": {
             "outlinewidth": 0,
             "ticks": ""
            },
            "type": "choropleth"
           }
          ],
          "contour": [
           {
            "colorbar": {
             "outlinewidth": 0,
             "ticks": ""
            },
            "colorscale": [
             [
              0,
              "#0d0887"
             ],
             [
              0.1111111111111111,
              "#46039f"
             ],
             [
              0.2222222222222222,
              "#7201a8"
             ],
             [
              0.3333333333333333,
              "#9c179e"
             ],
             [
              0.4444444444444444,
              "#bd3786"
             ],
             [
              0.5555555555555556,
              "#d8576b"
             ],
             [
              0.6666666666666666,
              "#ed7953"
             ],
             [
              0.7777777777777778,
              "#fb9f3a"
             ],
             [
              0.8888888888888888,
              "#fdca26"
             ],
             [
              1,
              "#f0f921"
             ]
            ],
            "type": "contour"
           }
          ],
          "contourcarpet": [
           {
            "colorbar": {
             "outlinewidth": 0,
             "ticks": ""
            },
            "type": "contourcarpet"
           }
          ],
          "heatmap": [
           {
            "colorbar": {
             "outlinewidth": 0,
             "ticks": ""
            },
            "colorscale": [
             [
              0,
              "#0d0887"
             ],
             [
              0.1111111111111111,
              "#46039f"
             ],
             [
              0.2222222222222222,
              "#7201a8"
             ],
             [
              0.3333333333333333,
              "#9c179e"
             ],
             [
              0.4444444444444444,
              "#bd3786"
             ],
             [
              0.5555555555555556,
              "#d8576b"
             ],
             [
              0.6666666666666666,
              "#ed7953"
             ],
             [
              0.7777777777777778,
              "#fb9f3a"
             ],
             [
              0.8888888888888888,
              "#fdca26"
             ],
             [
              1,
              "#f0f921"
             ]
            ],
            "type": "heatmap"
           }
          ],
          "heatmapgl": [
           {
            "colorbar": {
             "outlinewidth": 0,
             "ticks": ""
            },
            "colorscale": [
             [
              0,
              "#0d0887"
             ],
             [
              0.1111111111111111,
              "#46039f"
             ],
             [
              0.2222222222222222,
              "#7201a8"
             ],
             [
              0.3333333333333333,
              "#9c179e"
             ],
             [
              0.4444444444444444,
              "#bd3786"
             ],
             [
              0.5555555555555556,
              "#d8576b"
             ],
             [
              0.6666666666666666,
              "#ed7953"
             ],
             [
              0.7777777777777778,
              "#fb9f3a"
             ],
             [
              0.8888888888888888,
              "#fdca26"
             ],
             [
              1,
              "#f0f921"
             ]
            ],
            "type": "heatmapgl"
           }
          ],
          "histogram": [
           {
            "marker": {
             "pattern": {
              "fillmode": "overlay",
              "size": 10,
              "solidity": 0.2
             }
            },
            "type": "histogram"
           }
          ],
          "histogram2d": [
           {
            "colorbar": {
             "outlinewidth": 0,
             "ticks": ""
            },
            "colorscale": [
             [
              0,
              "#0d0887"
             ],
             [
              0.1111111111111111,
              "#46039f"
             ],
             [
              0.2222222222222222,
              "#7201a8"
             ],
             [
              0.3333333333333333,
              "#9c179e"
             ],
             [
              0.4444444444444444,
              "#bd3786"
             ],
             [
              0.5555555555555556,
              "#d8576b"
             ],
             [
              0.6666666666666666,
              "#ed7953"
             ],
             [
              0.7777777777777778,
              "#fb9f3a"
             ],
             [
              0.8888888888888888,
              "#fdca26"
             ],
             [
              1,
              "#f0f921"
             ]
            ],
            "type": "histogram2d"
           }
          ],
          "histogram2dcontour": [
           {
            "colorbar": {
             "outlinewidth": 0,
             "ticks": ""
            },
            "colorscale": [
             [
              0,
              "#0d0887"
             ],
             [
              0.1111111111111111,
              "#46039f"
             ],
             [
              0.2222222222222222,
              "#7201a8"
             ],
             [
              0.3333333333333333,
              "#9c179e"
             ],
             [
              0.4444444444444444,
              "#bd3786"
             ],
             [
              0.5555555555555556,
              "#d8576b"
             ],
             [
              0.6666666666666666,
              "#ed7953"
             ],
             [
              0.7777777777777778,
              "#fb9f3a"
             ],
             [
              0.8888888888888888,
              "#fdca26"
             ],
             [
              1,
              "#f0f921"
             ]
            ],
            "type": "histogram2dcontour"
           }
          ],
          "mesh3d": [
           {
            "colorbar": {
             "outlinewidth": 0,
             "ticks": ""
            },
            "type": "mesh3d"
           }
          ],
          "parcoords": [
           {
            "line": {
             "colorbar": {
              "outlinewidth": 0,
              "ticks": ""
             }
            },
            "type": "parcoords"
           }
          ],
          "pie": [
           {
            "automargin": true,
            "type": "pie"
           }
          ],
          "scatter": [
           {
            "fillpattern": {
             "fillmode": "overlay",
             "size": 10,
             "solidity": 0.2
            },
            "type": "scatter"
           }
          ],
          "scatter3d": [
           {
            "line": {
             "colorbar": {
              "outlinewidth": 0,
              "ticks": ""
             }
            },
            "marker": {
             "colorbar": {
              "outlinewidth": 0,
              "ticks": ""
             }
            },
            "type": "scatter3d"
           }
          ],
          "scattercarpet": [
           {
            "marker": {
             "colorbar": {
              "outlinewidth": 0,
              "ticks": ""
             }
            },
            "type": "scattercarpet"
           }
          ],
          "scattergeo": [
           {
            "marker": {
             "colorbar": {
              "outlinewidth": 0,
              "ticks": ""
             }
            },
            "type": "scattergeo"
           }
          ],
          "scattergl": [
           {
            "marker": {
             "colorbar": {
              "outlinewidth": 0,
              "ticks": ""
             }
            },
            "type": "scattergl"
           }
          ],
          "scattermapbox": [
           {
            "marker": {
             "colorbar": {
              "outlinewidth": 0,
              "ticks": ""
             }
            },
            "type": "scattermapbox"
           }
          ],
          "scatterpolar": [
           {
            "marker": {
             "colorbar": {
              "outlinewidth": 0,
              "ticks": ""
             }
            },
            "type": "scatterpolar"
           }
          ],
          "scatterpolargl": [
           {
            "marker": {
             "colorbar": {
              "outlinewidth": 0,
              "ticks": ""
             }
            },
            "type": "scatterpolargl"
           }
          ],
          "scatterternary": [
           {
            "marker": {
             "colorbar": {
              "outlinewidth": 0,
              "ticks": ""
             }
            },
            "type": "scatterternary"
           }
          ],
          "surface": [
           {
            "colorbar": {
             "outlinewidth": 0,
             "ticks": ""
            },
            "colorscale": [
             [
              0,
              "#0d0887"
             ],
             [
              0.1111111111111111,
              "#46039f"
             ],
             [
              0.2222222222222222,
              "#7201a8"
             ],
             [
              0.3333333333333333,
              "#9c179e"
             ],
             [
              0.4444444444444444,
              "#bd3786"
             ],
             [
              0.5555555555555556,
              "#d8576b"
             ],
             [
              0.6666666666666666,
              "#ed7953"
             ],
             [
              0.7777777777777778,
              "#fb9f3a"
             ],
             [
              0.8888888888888888,
              "#fdca26"
             ],
             [
              1,
              "#f0f921"
             ]
            ],
            "type": "surface"
           }
          ],
          "table": [
           {
            "cells": {
             "fill": {
              "color": "#EBF0F8"
             },
             "line": {
              "color": "white"
             }
            },
            "header": {
             "fill": {
              "color": "#C8D4E3"
             },
             "line": {
              "color": "white"
             }
            },
            "type": "table"
           }
          ]
         },
         "layout": {
          "annotationdefaults": {
           "arrowcolor": "#2a3f5f",
           "arrowhead": 0,
           "arrowwidth": 1
          },
          "autotypenumbers": "strict",
          "coloraxis": {
           "colorbar": {
            "outlinewidth": 0,
            "ticks": ""
           }
          },
          "colorscale": {
           "diverging": [
            [
             0,
             "#8e0152"
            ],
            [
             0.1,
             "#c51b7d"
            ],
            [
             0.2,
             "#de77ae"
            ],
            [
             0.3,
             "#f1b6da"
            ],
            [
             0.4,
             "#fde0ef"
            ],
            [
             0.5,
             "#f7f7f7"
            ],
            [
             0.6,
             "#e6f5d0"
            ],
            [
             0.7,
             "#b8e186"
            ],
            [
             0.8,
             "#7fbc41"
            ],
            [
             0.9,
             "#4d9221"
            ],
            [
             1,
             "#276419"
            ]
           ],
           "sequential": [
            [
             0,
             "#0d0887"
            ],
            [
             0.1111111111111111,
             "#46039f"
            ],
            [
             0.2222222222222222,
             "#7201a8"
            ],
            [
             0.3333333333333333,
             "#9c179e"
            ],
            [
             0.4444444444444444,
             "#bd3786"
            ],
            [
             0.5555555555555556,
             "#d8576b"
            ],
            [
             0.6666666666666666,
             "#ed7953"
            ],
            [
             0.7777777777777778,
             "#fb9f3a"
            ],
            [
             0.8888888888888888,
             "#fdca26"
            ],
            [
             1,
             "#f0f921"
            ]
           ],
           "sequentialminus": [
            [
             0,
             "#0d0887"
            ],
            [
             0.1111111111111111,
             "#46039f"
            ],
            [
             0.2222222222222222,
             "#7201a8"
            ],
            [
             0.3333333333333333,
             "#9c179e"
            ],
            [
             0.4444444444444444,
             "#bd3786"
            ],
            [
             0.5555555555555556,
             "#d8576b"
            ],
            [
             0.6666666666666666,
             "#ed7953"
            ],
            [
             0.7777777777777778,
             "#fb9f3a"
            ],
            [
             0.8888888888888888,
             "#fdca26"
            ],
            [
             1,
             "#f0f921"
            ]
           ]
          },
          "colorway": [
           "#636efa",
           "#EF553B",
           "#00cc96",
           "#ab63fa",
           "#FFA15A",
           "#19d3f3",
           "#FF6692",
           "#B6E880",
           "#FF97FF",
           "#FECB52"
          ],
          "font": {
           "color": "#2a3f5f"
          },
          "geo": {
           "bgcolor": "white",
           "lakecolor": "white",
           "landcolor": "#E5ECF6",
           "showlakes": true,
           "showland": true,
           "subunitcolor": "white"
          },
          "hoverlabel": {
           "align": "left"
          },
          "hovermode": "closest",
          "mapbox": {
           "style": "light"
          },
          "paper_bgcolor": "white",
          "plot_bgcolor": "#E5ECF6",
          "polar": {
           "angularaxis": {
            "gridcolor": "white",
            "linecolor": "white",
            "ticks": ""
           },
           "bgcolor": "#E5ECF6",
           "radialaxis": {
            "gridcolor": "white",
            "linecolor": "white",
            "ticks": ""
           }
          },
          "scene": {
           "xaxis": {
            "backgroundcolor": "#E5ECF6",
            "gridcolor": "white",
            "gridwidth": 2,
            "linecolor": "white",
            "showbackground": true,
            "ticks": "",
            "zerolinecolor": "white"
           },
           "yaxis": {
            "backgroundcolor": "#E5ECF6",
            "gridcolor": "white",
            "gridwidth": 2,
            "linecolor": "white",
            "showbackground": true,
            "ticks": "",
            "zerolinecolor": "white"
           },
           "zaxis": {
            "backgroundcolor": "#E5ECF6",
            "gridcolor": "white",
            "gridwidth": 2,
            "linecolor": "white",
            "showbackground": true,
            "ticks": "",
            "zerolinecolor": "white"
           }
          },
          "shapedefaults": {
           "line": {
            "color": "#2a3f5f"
           }
          },
          "ternary": {
           "aaxis": {
            "gridcolor": "white",
            "linecolor": "white",
            "ticks": ""
           },
           "baxis": {
            "gridcolor": "white",
            "linecolor": "white",
            "ticks": ""
           },
           "bgcolor": "#E5ECF6",
           "caxis": {
            "gridcolor": "white",
            "linecolor": "white",
            "ticks": ""
           }
          },
          "title": {
           "x": 0.05
          },
          "xaxis": {
           "automargin": true,
           "gridcolor": "white",
           "linecolor": "white",
           "ticks": "",
           "title": {
            "standoff": 15
           },
           "zerolinecolor": "white",
           "zerolinewidth": 2
          },
          "yaxis": {
           "automargin": true,
           "gridcolor": "white",
           "linecolor": "white",
           "ticks": "",
           "title": {
            "standoff": 15
           },
           "zerolinecolor": "white",
           "zerolinewidth": 2
          }
         }
        },
        "title": {
         "text": "Comparação da regressão estimada do desemprego dos países responsáveis por 80% da exportação"
        },
        "width": 1300,
        "xaxis": {
         "anchor": "y",
         "domain": [
          0,
          0.45
         ],
         "tickfont": {
          "size": 8
         },
         "tickvals": [
          "2007 ",
          "2008 ",
          "2009 ",
          "2010 ",
          "2011 ",
          "2012 ",
          "2013 ",
          "2014 ",
          "2015 ",
          "2016 ",
          "2017 ",
          "2018 ",
          "2019 ",
          "2020 ",
          "2021 "
         ],
         "title": {
          "font": {
           "size": 10
          },
          "standoff": 10,
          "text": "Estados Unidos"
         }
        },
        "xaxis2": {
         "anchor": "y2",
         "domain": [
          0.55,
          1
         ]
        },
        "xaxis3": {
         "anchor": "y3",
         "domain": [
          0,
          0.45
         ],
         "tickfont": {
          "size": 8
         },
         "tickvals": [
          "2007 ",
          "2008 ",
          "2009 ",
          "2010 ",
          "2011 ",
          "2012 ",
          "2013 ",
          "2014 ",
          "2015 ",
          "2016 ",
          "2017 ",
          "2018 ",
          "2019 ",
          "2020 ",
          "2021 "
         ],
         "title": {
          "font": {
           "size": 10
          },
          "standoff": 10,
          "text": "Espanha"
         }
        },
        "xaxis4": {
         "anchor": "y4",
         "domain": [
          0.55,
          1
         ],
         "tickfont": {
          "size": 8
         },
         "tickvals": [
          "2007 ",
          "2008 ",
          "2009 ",
          "2010 ",
          "2011 ",
          "2012 ",
          "2013 ",
          "2014 ",
          "2015 ",
          "2016 ",
          "2017 ",
          "2018 ",
          "2019 ",
          "2020 ",
          "2021 "
         ],
         "title": {
          "font": {
           "size": 10
          },
          "standoff": 10,
          "text": "Reino Unido"
         }
        },
        "xaxis5": {
         "anchor": "y5",
         "domain": [
          0,
          0.45
         ],
         "tickfont": {
          "size": 8
         },
         "tickvals": [
          "2007 ",
          "2008 ",
          "2009 ",
          "2010 ",
          "2011 ",
          "2012 ",
          "2013 ",
          "2014 ",
          "2015 ",
          "2016 ",
          "2017 ",
          "2018 ",
          "2019 ",
          "2020 ",
          "2021 "
         ],
         "title": {
          "font": {
           "size": 10
          },
          "standoff": 10,
          "text": "Paraguai"
         }
        },
        "xaxis6": {
         "anchor": "y6",
         "domain": [
          0.55,
          1
         ],
         "tickfont": {
          "size": 8
         },
         "tickvals": [
          "2007 ",
          "2008 ",
          "2009 ",
          "2010 ",
          "2011 ",
          "2012 ",
          "2013 ",
          "2014 ",
          "2015 ",
          "2016 ",
          "2017 ",
          "2018 ",
          "2019 ",
          "2020 ",
          "2021 "
         ],
         "title": {
          "font": {
           "size": 10
          },
          "standoff": 10,
          "text": "Rússia"
         }
        },
        "xaxis7": {
         "anchor": "y7",
         "domain": [
          0,
          0.45
         ],
         "tickfont": {
          "size": 8
         },
         "tickvals": [
          "2007 ",
          "2008 ",
          "2009 ",
          "2010 ",
          "2011 ",
          "2012 ",
          "2013 ",
          "2014 ",
          "2015 ",
          "2016 ",
          "2017 ",
          "2018 ",
          "2019 ",
          "2020 ",
          "2021 "
         ],
         "title": {
          "font": {
           "size": 10
          },
          "standoff": 10,
          "text": "China"
         }
        },
        "xaxis8": {
         "anchor": "y8",
         "domain": [
          0.55,
          1
         ],
         "tickfont": {
          "size": 8
         },
         "tickvals": [
          "2007 ",
          "2008 ",
          "2009 ",
          "2010 ",
          "2011 ",
          "2012 ",
          "2013 ",
          "2014 ",
          "2015 ",
          "2016 ",
          "2017 ",
          "2018 ",
          "2019 ",
          "2020 ",
          "2021 "
         ],
         "title": {
          "font": {
           "size": 10
          },
          "standoff": 10,
          "text": "Países Baixos"
         }
        },
        "yaxis": {
         "anchor": "x",
         "domain": [
          0,
          0.19375
         ]
        },
        "yaxis2": {
         "anchor": "x2",
         "domain": [
          0,
          0.19375
         ]
        },
        "yaxis3": {
         "anchor": "x3",
         "domain": [
          0.26875,
          0.4625
         ]
        },
        "yaxis4": {
         "anchor": "x4",
         "domain": [
          0.26875,
          0.4625
         ]
        },
        "yaxis5": {
         "anchor": "x5",
         "domain": [
          0.5375,
          0.73125
         ]
        },
        "yaxis6": {
         "anchor": "x6",
         "domain": [
          0.5375,
          0.73125
         ]
        },
        "yaxis7": {
         "anchor": "x7",
         "domain": [
          0.80625,
          1
         ]
        },
        "yaxis8": {
         "anchor": "x8",
         "domain": [
          0.80625,
          1
         ]
        }
       }
      }
     },
     "metadata": {},
     "output_type": "display_data"
    }
   ],
   "source": [
    "plot_regressao_estimada(paises_unemployment, 'Comparação da regressão estimada do desemprego dos países responsáveis por 80% da exportação', float)"
   ]
  },
  {
   "attachments": {},
   "cell_type": "markdown",
   "metadata": {},
   "source": [
    "## Comparação dos países mais representativos"
   ]
  },
  {
   "cell_type": "code",
   "execution_count": 63,
   "metadata": {},
   "outputs": [],
   "source": [
    "def plot_regressao_estimada_comparacao(data, title, data_type):\n",
    "    data = data.query(\"pais == 'Paraguai' or pais == 'Rússia'\")\n",
    "    num_paises = len(data)\n",
    "    pib = make_subplots(rows=num_paises, cols=1)\n",
    "    pib.update_layout(\n",
    "        title=title,\n",
    "        width=1300,\n",
    "        height=600,\n",
    "        showlegend=False\n",
    "    )\n",
    "    for i, pais in enumerate(data.pais):\n",
    "        row = i + 1\n",
    "        trace = go.Scatter(x=data.columns[1:], y=data.iloc[i, 1:], name=pais)\n",
    "        x = np.array(data.columns[1:], dtype=float)\n",
    "        y = np.array(data.iloc[i, 1:], dtype=float)\n",
    "        coef = np.polyfit(x, y, 1)\n",
    "        line = coef[1] + coef[0] * x\n",
    "        reg = go.Scatter(x=x, y=line, mode='lines', name='Regressão', line=dict(color='red'))\n",
    "        pib.add_trace(reg, row=row, col=1)\n",
    "        pib.add_trace(trace, row=row, col=1)\n",
    "        pib.update_xaxes(title_text=pais, row=row, col=1, title_standoff=10, tickfont=dict(size=8), title_font=dict(size=10))\n",
    "    pib.show()"
   ]
  },
  {
   "cell_type": "code",
   "execution_count": 64,
   "metadata": {},
   "outputs": [
    {
     "data": {
      "application/vnd.plotly.v1+json": {
       "config": {
        "plotlyServerURL": "https://plot.ly"
       },
       "data": [
        {
         "line": {
          "color": "red"
         },
         "mode": "lines",
         "name": "Regressão",
         "type": "scatter",
         "x": [
          2007,
          2008,
          2009,
          2010,
          2011,
          2012,
          2013,
          2014,
          2015,
          2016,
          2017,
          2018,
          2019,
          2020,
          2021
         ],
         "xaxis": "x",
         "y": [
          -631626.6666661501,
          -233163.26666617393,
          165300.13333380222,
          563763.5333337784,
          962226.9333337545,
          1360690.3333337307,
          1759153.7333337069,
          2157617.133333802,
          2556080.5333337784,
          2954543.9333337545,
          3353007.3333337307,
          3751470.733333707,
          4149934.133333683,
          4548397.533333659,
          4946860.933333635
         ],
         "yaxis": "y"
        },
        {
         "name": "Paraguai",
         "type": "scatter",
         "x": [
          "2007",
          "2008",
          "2009",
          "2010",
          "2011",
          "2012",
          "2013",
          "2014",
          "2015",
          "2016",
          "2017",
          "2018",
          "2019",
          "2020",
          "2021"
         ],
         "xaxis": "x",
         "y": [
          801519,
          1374088,
          392087,
          449197,
          276281,
          428279,
          680828,
          908028,
          741370,
          1655417,
          4274650,
          5494321,
          3826587,
          3869243,
          7192362
         ],
         "yaxis": "y"
        },
        {
         "line": {
          "color": "red"
         },
         "mode": "lines",
         "name": "Regressão",
         "type": "scatter",
         "x": [
          2007,
          2008,
          2009,
          2010,
          2011,
          2012,
          2013,
          2014,
          2015,
          2016,
          2017,
          2018,
          2019,
          2020,
          2021
         ],
         "xaxis": "x2",
         "y": [
          3222278.466666341,
          3005372.2666663527,
          2788466.0666663647,
          2571559.8666663766,
          2354653.6666663885,
          2137747.4666664004,
          1920841.2666664124,
          1703935.0666664243,
          1487028.8666664362,
          1270122.666666448,
          1053216.4666665196,
          836310.2666665316,
          619404.0666665435,
          402497.8666665554,
          185591.66666656733
         ],
         "yaxis": "y2"
        },
        {
         "name": "Rússia",
         "type": "scatter",
         "x": [
          "2007",
          "2008",
          "2009",
          "2010",
          "2011",
          "2012",
          "2013",
          "2014",
          "2015",
          "2016",
          "2017",
          "2018",
          "2019",
          "2020",
          "2021"
         ],
         "xaxis": "x2",
         "y": [
          173160,
          2352768,
          5732280,
          0,
          0,
          2103968,
          14795694,
          61440,
          18240,
          0,
          0,
          0,
          0,
          8550,
          312926
         ],
         "yaxis": "y2"
        }
       ],
       "layout": {
        "height": 600,
        "showlegend": false,
        "template": {
         "data": {
          "bar": [
           {
            "error_x": {
             "color": "#2a3f5f"
            },
            "error_y": {
             "color": "#2a3f5f"
            },
            "marker": {
             "line": {
              "color": "#E5ECF6",
              "width": 0.5
             },
             "pattern": {
              "fillmode": "overlay",
              "size": 10,
              "solidity": 0.2
             }
            },
            "type": "bar"
           }
          ],
          "barpolar": [
           {
            "marker": {
             "line": {
              "color": "#E5ECF6",
              "width": 0.5
             },
             "pattern": {
              "fillmode": "overlay",
              "size": 10,
              "solidity": 0.2
             }
            },
            "type": "barpolar"
           }
          ],
          "carpet": [
           {
            "aaxis": {
             "endlinecolor": "#2a3f5f",
             "gridcolor": "white",
             "linecolor": "white",
             "minorgridcolor": "white",
             "startlinecolor": "#2a3f5f"
            },
            "baxis": {
             "endlinecolor": "#2a3f5f",
             "gridcolor": "white",
             "linecolor": "white",
             "minorgridcolor": "white",
             "startlinecolor": "#2a3f5f"
            },
            "type": "carpet"
           }
          ],
          "choropleth": [
           {
            "colorbar": {
             "outlinewidth": 0,
             "ticks": ""
            },
            "type": "choropleth"
           }
          ],
          "contour": [
           {
            "colorbar": {
             "outlinewidth": 0,
             "ticks": ""
            },
            "colorscale": [
             [
              0,
              "#0d0887"
             ],
             [
              0.1111111111111111,
              "#46039f"
             ],
             [
              0.2222222222222222,
              "#7201a8"
             ],
             [
              0.3333333333333333,
              "#9c179e"
             ],
             [
              0.4444444444444444,
              "#bd3786"
             ],
             [
              0.5555555555555556,
              "#d8576b"
             ],
             [
              0.6666666666666666,
              "#ed7953"
             ],
             [
              0.7777777777777778,
              "#fb9f3a"
             ],
             [
              0.8888888888888888,
              "#fdca26"
             ],
             [
              1,
              "#f0f921"
             ]
            ],
            "type": "contour"
           }
          ],
          "contourcarpet": [
           {
            "colorbar": {
             "outlinewidth": 0,
             "ticks": ""
            },
            "type": "contourcarpet"
           }
          ],
          "heatmap": [
           {
            "colorbar": {
             "outlinewidth": 0,
             "ticks": ""
            },
            "colorscale": [
             [
              0,
              "#0d0887"
             ],
             [
              0.1111111111111111,
              "#46039f"
             ],
             [
              0.2222222222222222,
              "#7201a8"
             ],
             [
              0.3333333333333333,
              "#9c179e"
             ],
             [
              0.4444444444444444,
              "#bd3786"
             ],
             [
              0.5555555555555556,
              "#d8576b"
             ],
             [
              0.6666666666666666,
              "#ed7953"
             ],
             [
              0.7777777777777778,
              "#fb9f3a"
             ],
             [
              0.8888888888888888,
              "#fdca26"
             ],
             [
              1,
              "#f0f921"
             ]
            ],
            "type": "heatmap"
           }
          ],
          "heatmapgl": [
           {
            "colorbar": {
             "outlinewidth": 0,
             "ticks": ""
            },
            "colorscale": [
             [
              0,
              "#0d0887"
             ],
             [
              0.1111111111111111,
              "#46039f"
             ],
             [
              0.2222222222222222,
              "#7201a8"
             ],
             [
              0.3333333333333333,
              "#9c179e"
             ],
             [
              0.4444444444444444,
              "#bd3786"
             ],
             [
              0.5555555555555556,
              "#d8576b"
             ],
             [
              0.6666666666666666,
              "#ed7953"
             ],
             [
              0.7777777777777778,
              "#fb9f3a"
             ],
             [
              0.8888888888888888,
              "#fdca26"
             ],
             [
              1,
              "#f0f921"
             ]
            ],
            "type": "heatmapgl"
           }
          ],
          "histogram": [
           {
            "marker": {
             "pattern": {
              "fillmode": "overlay",
              "size": 10,
              "solidity": 0.2
             }
            },
            "type": "histogram"
           }
          ],
          "histogram2d": [
           {
            "colorbar": {
             "outlinewidth": 0,
             "ticks": ""
            },
            "colorscale": [
             [
              0,
              "#0d0887"
             ],
             [
              0.1111111111111111,
              "#46039f"
             ],
             [
              0.2222222222222222,
              "#7201a8"
             ],
             [
              0.3333333333333333,
              "#9c179e"
             ],
             [
              0.4444444444444444,
              "#bd3786"
             ],
             [
              0.5555555555555556,
              "#d8576b"
             ],
             [
              0.6666666666666666,
              "#ed7953"
             ],
             [
              0.7777777777777778,
              "#fb9f3a"
             ],
             [
              0.8888888888888888,
              "#fdca26"
             ],
             [
              1,
              "#f0f921"
             ]
            ],
            "type": "histogram2d"
           }
          ],
          "histogram2dcontour": [
           {
            "colorbar": {
             "outlinewidth": 0,
             "ticks": ""
            },
            "colorscale": [
             [
              0,
              "#0d0887"
             ],
             [
              0.1111111111111111,
              "#46039f"
             ],
             [
              0.2222222222222222,
              "#7201a8"
             ],
             [
              0.3333333333333333,
              "#9c179e"
             ],
             [
              0.4444444444444444,
              "#bd3786"
             ],
             [
              0.5555555555555556,
              "#d8576b"
             ],
             [
              0.6666666666666666,
              "#ed7953"
             ],
             [
              0.7777777777777778,
              "#fb9f3a"
             ],
             [
              0.8888888888888888,
              "#fdca26"
             ],
             [
              1,
              "#f0f921"
             ]
            ],
            "type": "histogram2dcontour"
           }
          ],
          "mesh3d": [
           {
            "colorbar": {
             "outlinewidth": 0,
             "ticks": ""
            },
            "type": "mesh3d"
           }
          ],
          "parcoords": [
           {
            "line": {
             "colorbar": {
              "outlinewidth": 0,
              "ticks": ""
             }
            },
            "type": "parcoords"
           }
          ],
          "pie": [
           {
            "automargin": true,
            "type": "pie"
           }
          ],
          "scatter": [
           {
            "fillpattern": {
             "fillmode": "overlay",
             "size": 10,
             "solidity": 0.2
            },
            "type": "scatter"
           }
          ],
          "scatter3d": [
           {
            "line": {
             "colorbar": {
              "outlinewidth": 0,
              "ticks": ""
             }
            },
            "marker": {
             "colorbar": {
              "outlinewidth": 0,
              "ticks": ""
             }
            },
            "type": "scatter3d"
           }
          ],
          "scattercarpet": [
           {
            "marker": {
             "colorbar": {
              "outlinewidth": 0,
              "ticks": ""
             }
            },
            "type": "scattercarpet"
           }
          ],
          "scattergeo": [
           {
            "marker": {
             "colorbar": {
              "outlinewidth": 0,
              "ticks": ""
             }
            },
            "type": "scattergeo"
           }
          ],
          "scattergl": [
           {
            "marker": {
             "colorbar": {
              "outlinewidth": 0,
              "ticks": ""
             }
            },
            "type": "scattergl"
           }
          ],
          "scattermapbox": [
           {
            "marker": {
             "colorbar": {
              "outlinewidth": 0,
              "ticks": ""
             }
            },
            "type": "scattermapbox"
           }
          ],
          "scatterpolar": [
           {
            "marker": {
             "colorbar": {
              "outlinewidth": 0,
              "ticks": ""
             }
            },
            "type": "scatterpolar"
           }
          ],
          "scatterpolargl": [
           {
            "marker": {
             "colorbar": {
              "outlinewidth": 0,
              "ticks": ""
             }
            },
            "type": "scatterpolargl"
           }
          ],
          "scatterternary": [
           {
            "marker": {
             "colorbar": {
              "outlinewidth": 0,
              "ticks": ""
             }
            },
            "type": "scatterternary"
           }
          ],
          "surface": [
           {
            "colorbar": {
             "outlinewidth": 0,
             "ticks": ""
            },
            "colorscale": [
             [
              0,
              "#0d0887"
             ],
             [
              0.1111111111111111,
              "#46039f"
             ],
             [
              0.2222222222222222,
              "#7201a8"
             ],
             [
              0.3333333333333333,
              "#9c179e"
             ],
             [
              0.4444444444444444,
              "#bd3786"
             ],
             [
              0.5555555555555556,
              "#d8576b"
             ],
             [
              0.6666666666666666,
              "#ed7953"
             ],
             [
              0.7777777777777778,
              "#fb9f3a"
             ],
             [
              0.8888888888888888,
              "#fdca26"
             ],
             [
              1,
              "#f0f921"
             ]
            ],
            "type": "surface"
           }
          ],
          "table": [
           {
            "cells": {
             "fill": {
              "color": "#EBF0F8"
             },
             "line": {
              "color": "white"
             }
            },
            "header": {
             "fill": {
              "color": "#C8D4E3"
             },
             "line": {
              "color": "white"
             }
            },
            "type": "table"
           }
          ]
         },
         "layout": {
          "annotationdefaults": {
           "arrowcolor": "#2a3f5f",
           "arrowhead": 0,
           "arrowwidth": 1
          },
          "autotypenumbers": "strict",
          "coloraxis": {
           "colorbar": {
            "outlinewidth": 0,
            "ticks": ""
           }
          },
          "colorscale": {
           "diverging": [
            [
             0,
             "#8e0152"
            ],
            [
             0.1,
             "#c51b7d"
            ],
            [
             0.2,
             "#de77ae"
            ],
            [
             0.3,
             "#f1b6da"
            ],
            [
             0.4,
             "#fde0ef"
            ],
            [
             0.5,
             "#f7f7f7"
            ],
            [
             0.6,
             "#e6f5d0"
            ],
            [
             0.7,
             "#b8e186"
            ],
            [
             0.8,
             "#7fbc41"
            ],
            [
             0.9,
             "#4d9221"
            ],
            [
             1,
             "#276419"
            ]
           ],
           "sequential": [
            [
             0,
             "#0d0887"
            ],
            [
             0.1111111111111111,
             "#46039f"
            ],
            [
             0.2222222222222222,
             "#7201a8"
            ],
            [
             0.3333333333333333,
             "#9c179e"
            ],
            [
             0.4444444444444444,
             "#bd3786"
            ],
            [
             0.5555555555555556,
             "#d8576b"
            ],
            [
             0.6666666666666666,
             "#ed7953"
            ],
            [
             0.7777777777777778,
             "#fb9f3a"
            ],
            [
             0.8888888888888888,
             "#fdca26"
            ],
            [
             1,
             "#f0f921"
            ]
           ],
           "sequentialminus": [
            [
             0,
             "#0d0887"
            ],
            [
             0.1111111111111111,
             "#46039f"
            ],
            [
             0.2222222222222222,
             "#7201a8"
            ],
            [
             0.3333333333333333,
             "#9c179e"
            ],
            [
             0.4444444444444444,
             "#bd3786"
            ],
            [
             0.5555555555555556,
             "#d8576b"
            ],
            [
             0.6666666666666666,
             "#ed7953"
            ],
            [
             0.7777777777777778,
             "#fb9f3a"
            ],
            [
             0.8888888888888888,
             "#fdca26"
            ],
            [
             1,
             "#f0f921"
            ]
           ]
          },
          "colorway": [
           "#636efa",
           "#EF553B",
           "#00cc96",
           "#ab63fa",
           "#FFA15A",
           "#19d3f3",
           "#FF6692",
           "#B6E880",
           "#FF97FF",
           "#FECB52"
          ],
          "font": {
           "color": "#2a3f5f"
          },
          "geo": {
           "bgcolor": "white",
           "lakecolor": "white",
           "landcolor": "#E5ECF6",
           "showlakes": true,
           "showland": true,
           "subunitcolor": "white"
          },
          "hoverlabel": {
           "align": "left"
          },
          "hovermode": "closest",
          "mapbox": {
           "style": "light"
          },
          "paper_bgcolor": "white",
          "plot_bgcolor": "#E5ECF6",
          "polar": {
           "angularaxis": {
            "gridcolor": "white",
            "linecolor": "white",
            "ticks": ""
           },
           "bgcolor": "#E5ECF6",
           "radialaxis": {
            "gridcolor": "white",
            "linecolor": "white",
            "ticks": ""
           }
          },
          "scene": {
           "xaxis": {
            "backgroundcolor": "#E5ECF6",
            "gridcolor": "white",
            "gridwidth": 2,
            "linecolor": "white",
            "showbackground": true,
            "ticks": "",
            "zerolinecolor": "white"
           },
           "yaxis": {
            "backgroundcolor": "#E5ECF6",
            "gridcolor": "white",
            "gridwidth": 2,
            "linecolor": "white",
            "showbackground": true,
            "ticks": "",
            "zerolinecolor": "white"
           },
           "zaxis": {
            "backgroundcolor": "#E5ECF6",
            "gridcolor": "white",
            "gridwidth": 2,
            "linecolor": "white",
            "showbackground": true,
            "ticks": "",
            "zerolinecolor": "white"
           }
          },
          "shapedefaults": {
           "line": {
            "color": "#2a3f5f"
           }
          },
          "ternary": {
           "aaxis": {
            "gridcolor": "white",
            "linecolor": "white",
            "ticks": ""
           },
           "baxis": {
            "gridcolor": "white",
            "linecolor": "white",
            "ticks": ""
           },
           "bgcolor": "#E5ECF6",
           "caxis": {
            "gridcolor": "white",
            "linecolor": "white",
            "ticks": ""
           }
          },
          "title": {
           "x": 0.05
          },
          "xaxis": {
           "automargin": true,
           "gridcolor": "white",
           "linecolor": "white",
           "ticks": "",
           "title": {
            "standoff": 15
           },
           "zerolinecolor": "white",
           "zerolinewidth": 2
          },
          "yaxis": {
           "automargin": true,
           "gridcolor": "white",
           "linecolor": "white",
           "ticks": "",
           "title": {
            "standoff": 15
           },
           "zerolinecolor": "white",
           "zerolinewidth": 2
          }
         }
        },
        "title": {
         "text": "Comparação da regressão estimada dos valores de exportação para Paraguai e Rússia"
        },
        "width": 1300,
        "xaxis": {
         "anchor": "y",
         "domain": [
          0,
          1
         ],
         "tickfont": {
          "size": 8
         },
         "title": {
          "font": {
           "size": 10
          },
          "standoff": 10,
          "text": "Paraguai"
         }
        },
        "xaxis2": {
         "anchor": "y2",
         "domain": [
          0,
          1
         ],
         "tickfont": {
          "size": 8
         },
         "title": {
          "font": {
           "size": 10
          },
          "standoff": 10,
          "text": "Rússia"
         }
        },
        "yaxis": {
         "anchor": "x",
         "domain": [
          0.575,
          1
         ]
        },
        "yaxis2": {
         "anchor": "x2",
         "domain": [
          0,
          0.425
         ]
        }
       }
      }
     },
     "metadata": {},
     "output_type": "display_data"
    }
   ],
   "source": [
    "plot_regressao_estimada_comparacao(paises_exportacao, 'Comparação da regressão estimada dos valores de exportação para Paraguai e Rússia', int)"
   ]
  },
  {
   "cell_type": "code",
   "execution_count": 65,
   "metadata": {},
   "outputs": [
    {
     "data": {
      "application/vnd.plotly.v1+json": {
       "config": {
        "plotlyServerURL": "https://plot.ly"
       },
       "data": [
        {
         "line": {
          "color": "red"
         },
         "mode": "lines",
         "name": "Regressão",
         "type": "scatter",
         "x": [
          2007,
          2008,
          2009,
          2010,
          2011,
          2012,
          2013,
          2014,
          2015,
          2016,
          2017,
          2018,
          2019,
          2020,
          2021
         ],
         "xaxis": "x",
         "y": [
          24362627151.055664,
          25666743116.663086,
          26970859082.270508,
          28274975047.87793,
          29579091013.48535,
          30883206979.092773,
          32187322944.700195,
          33491438910.308105,
          34795554875.91553,
          36099670841.52295,
          37403786807.13037,
          38707902772.73779,
          40012018738.345215,
          41316134703.95264,
          42620250669.56006
         ],
         "yaxis": "y"
        },
        {
         "name": "Paraguai",
         "type": "scatter",
         "x": [
          "2007",
          "2008",
          "2009",
          "2010",
          "2011",
          "2012",
          "2013",
          "2014",
          "2015",
          "2016",
          "2017",
          "2018",
          "2019",
          "2020",
          "2021"
         ],
         "xaxis": "x",
         "y": [
          17856393235.4,
          24615267663.5,
          22355151162,
          27260886405.2,
          33756238766.5,
          33271921136.3,
          38501122141.4,
          40377929295.6,
          36211447840.1,
          36089700222.9,
          38997129473.6,
          40225448340.6,
          37925338329.1,
          35432178068.2,
          39495431574.2
         ],
         "yaxis": "y"
        },
        {
         "line": {
          "color": "red"
         },
         "mode": "lines",
         "name": "Regressão",
         "type": "scatter",
         "x": [
          2007,
          2008,
          2009,
          2010,
          2011,
          2012,
          2013,
          2014,
          2015,
          2016,
          2017,
          2018,
          2019,
          2020,
          2021
         ],
         "xaxis": "x2",
         "y": [
          1651487697336.3027,
          1655057136683.8916,
          1658626576031.4805,
          1662196015379.0693,
          1665765454726.6582,
          1669334894074.247,
          1672904333421.836,
          1676473772769.4248,
          1680043212117.0137,
          1683612651464.6025,
          1687182090812.1914,
          1690751530159.7803,
          1694320969507.37,
          1697890408854.959,
          1701459848202.5479
         ],
         "yaxis": "y2"
        },
        {
         "name": "Rússia",
         "type": "scatter",
         "x": [
          "2007",
          "2008",
          "2009",
          "2010",
          "2011",
          "2012",
          "2013",
          "2014",
          "2015",
          "2016",
          "2017",
          "2018",
          "2019",
          "2020",
          "2021"
         ],
         "xaxis": "x2",
         "y": [
          1299705764823.6,
          1660846387624.8,
          1222644282201.9,
          1524917468442,
          2045925608274.4,
          2208295773643.2,
          2292473246621.1,
          2059241965490.8,
          1363481063446.8,
          1276786979221.8,
          1574199387070.9,
          1657329646183.6,
          1693113904262.9,
          1489362488439.8,
          1778782625793.7
         ],
         "yaxis": "y2"
        }
       ],
       "layout": {
        "height": 600,
        "showlegend": false,
        "template": {
         "data": {
          "bar": [
           {
            "error_x": {
             "color": "#2a3f5f"
            },
            "error_y": {
             "color": "#2a3f5f"
            },
            "marker": {
             "line": {
              "color": "#E5ECF6",
              "width": 0.5
             },
             "pattern": {
              "fillmode": "overlay",
              "size": 10,
              "solidity": 0.2
             }
            },
            "type": "bar"
           }
          ],
          "barpolar": [
           {
            "marker": {
             "line": {
              "color": "#E5ECF6",
              "width": 0.5
             },
             "pattern": {
              "fillmode": "overlay",
              "size": 10,
              "solidity": 0.2
             }
            },
            "type": "barpolar"
           }
          ],
          "carpet": [
           {
            "aaxis": {
             "endlinecolor": "#2a3f5f",
             "gridcolor": "white",
             "linecolor": "white",
             "minorgridcolor": "white",
             "startlinecolor": "#2a3f5f"
            },
            "baxis": {
             "endlinecolor": "#2a3f5f",
             "gridcolor": "white",
             "linecolor": "white",
             "minorgridcolor": "white",
             "startlinecolor": "#2a3f5f"
            },
            "type": "carpet"
           }
          ],
          "choropleth": [
           {
            "colorbar": {
             "outlinewidth": 0,
             "ticks": ""
            },
            "type": "choropleth"
           }
          ],
          "contour": [
           {
            "colorbar": {
             "outlinewidth": 0,
             "ticks": ""
            },
            "colorscale": [
             [
              0,
              "#0d0887"
             ],
             [
              0.1111111111111111,
              "#46039f"
             ],
             [
              0.2222222222222222,
              "#7201a8"
             ],
             [
              0.3333333333333333,
              "#9c179e"
             ],
             [
              0.4444444444444444,
              "#bd3786"
             ],
             [
              0.5555555555555556,
              "#d8576b"
             ],
             [
              0.6666666666666666,
              "#ed7953"
             ],
             [
              0.7777777777777778,
              "#fb9f3a"
             ],
             [
              0.8888888888888888,
              "#fdca26"
             ],
             [
              1,
              "#f0f921"
             ]
            ],
            "type": "contour"
           }
          ],
          "contourcarpet": [
           {
            "colorbar": {
             "outlinewidth": 0,
             "ticks": ""
            },
            "type": "contourcarpet"
           }
          ],
          "heatmap": [
           {
            "colorbar": {
             "outlinewidth": 0,
             "ticks": ""
            },
            "colorscale": [
             [
              0,
              "#0d0887"
             ],
             [
              0.1111111111111111,
              "#46039f"
             ],
             [
              0.2222222222222222,
              "#7201a8"
             ],
             [
              0.3333333333333333,
              "#9c179e"
             ],
             [
              0.4444444444444444,
              "#bd3786"
             ],
             [
              0.5555555555555556,
              "#d8576b"
             ],
             [
              0.6666666666666666,
              "#ed7953"
             ],
             [
              0.7777777777777778,
              "#fb9f3a"
             ],
             [
              0.8888888888888888,
              "#fdca26"
             ],
             [
              1,
              "#f0f921"
             ]
            ],
            "type": "heatmap"
           }
          ],
          "heatmapgl": [
           {
            "colorbar": {
             "outlinewidth": 0,
             "ticks": ""
            },
            "colorscale": [
             [
              0,
              "#0d0887"
             ],
             [
              0.1111111111111111,
              "#46039f"
             ],
             [
              0.2222222222222222,
              "#7201a8"
             ],
             [
              0.3333333333333333,
              "#9c179e"
             ],
             [
              0.4444444444444444,
              "#bd3786"
             ],
             [
              0.5555555555555556,
              "#d8576b"
             ],
             [
              0.6666666666666666,
              "#ed7953"
             ],
             [
              0.7777777777777778,
              "#fb9f3a"
             ],
             [
              0.8888888888888888,
              "#fdca26"
             ],
             [
              1,
              "#f0f921"
             ]
            ],
            "type": "heatmapgl"
           }
          ],
          "histogram": [
           {
            "marker": {
             "pattern": {
              "fillmode": "overlay",
              "size": 10,
              "solidity": 0.2
             }
            },
            "type": "histogram"
           }
          ],
          "histogram2d": [
           {
            "colorbar": {
             "outlinewidth": 0,
             "ticks": ""
            },
            "colorscale": [
             [
              0,
              "#0d0887"
             ],
             [
              0.1111111111111111,
              "#46039f"
             ],
             [
              0.2222222222222222,
              "#7201a8"
             ],
             [
              0.3333333333333333,
              "#9c179e"
             ],
             [
              0.4444444444444444,
              "#bd3786"
             ],
             [
              0.5555555555555556,
              "#d8576b"
             ],
             [
              0.6666666666666666,
              "#ed7953"
             ],
             [
              0.7777777777777778,
              "#fb9f3a"
             ],
             [
              0.8888888888888888,
              "#fdca26"
             ],
             [
              1,
              "#f0f921"
             ]
            ],
            "type": "histogram2d"
           }
          ],
          "histogram2dcontour": [
           {
            "colorbar": {
             "outlinewidth": 0,
             "ticks": ""
            },
            "colorscale": [
             [
              0,
              "#0d0887"
             ],
             [
              0.1111111111111111,
              "#46039f"
             ],
             [
              0.2222222222222222,
              "#7201a8"
             ],
             [
              0.3333333333333333,
              "#9c179e"
             ],
             [
              0.4444444444444444,
              "#bd3786"
             ],
             [
              0.5555555555555556,
              "#d8576b"
             ],
             [
              0.6666666666666666,
              "#ed7953"
             ],
             [
              0.7777777777777778,
              "#fb9f3a"
             ],
             [
              0.8888888888888888,
              "#fdca26"
             ],
             [
              1,
              "#f0f921"
             ]
            ],
            "type": "histogram2dcontour"
           }
          ],
          "mesh3d": [
           {
            "colorbar": {
             "outlinewidth": 0,
             "ticks": ""
            },
            "type": "mesh3d"
           }
          ],
          "parcoords": [
           {
            "line": {
             "colorbar": {
              "outlinewidth": 0,
              "ticks": ""
             }
            },
            "type": "parcoords"
           }
          ],
          "pie": [
           {
            "automargin": true,
            "type": "pie"
           }
          ],
          "scatter": [
           {
            "fillpattern": {
             "fillmode": "overlay",
             "size": 10,
             "solidity": 0.2
            },
            "type": "scatter"
           }
          ],
          "scatter3d": [
           {
            "line": {
             "colorbar": {
              "outlinewidth": 0,
              "ticks": ""
             }
            },
            "marker": {
             "colorbar": {
              "outlinewidth": 0,
              "ticks": ""
             }
            },
            "type": "scatter3d"
           }
          ],
          "scattercarpet": [
           {
            "marker": {
             "colorbar": {
              "outlinewidth": 0,
              "ticks": ""
             }
            },
            "type": "scattercarpet"
           }
          ],
          "scattergeo": [
           {
            "marker": {
             "colorbar": {
              "outlinewidth": 0,
              "ticks": ""
             }
            },
            "type": "scattergeo"
           }
          ],
          "scattergl": [
           {
            "marker": {
             "colorbar": {
              "outlinewidth": 0,
              "ticks": ""
             }
            },
            "type": "scattergl"
           }
          ],
          "scattermapbox": [
           {
            "marker": {
             "colorbar": {
              "outlinewidth": 0,
              "ticks": ""
             }
            },
            "type": "scattermapbox"
           }
          ],
          "scatterpolar": [
           {
            "marker": {
             "colorbar": {
              "outlinewidth": 0,
              "ticks": ""
             }
            },
            "type": "scatterpolar"
           }
          ],
          "scatterpolargl": [
           {
            "marker": {
             "colorbar": {
              "outlinewidth": 0,
              "ticks": ""
             }
            },
            "type": "scatterpolargl"
           }
          ],
          "scatterternary": [
           {
            "marker": {
             "colorbar": {
              "outlinewidth": 0,
              "ticks": ""
             }
            },
            "type": "scatterternary"
           }
          ],
          "surface": [
           {
            "colorbar": {
             "outlinewidth": 0,
             "ticks": ""
            },
            "colorscale": [
             [
              0,
              "#0d0887"
             ],
             [
              0.1111111111111111,
              "#46039f"
             ],
             [
              0.2222222222222222,
              "#7201a8"
             ],
             [
              0.3333333333333333,
              "#9c179e"
             ],
             [
              0.4444444444444444,
              "#bd3786"
             ],
             [
              0.5555555555555556,
              "#d8576b"
             ],
             [
              0.6666666666666666,
              "#ed7953"
             ],
             [
              0.7777777777777778,
              "#fb9f3a"
             ],
             [
              0.8888888888888888,
              "#fdca26"
             ],
             [
              1,
              "#f0f921"
             ]
            ],
            "type": "surface"
           }
          ],
          "table": [
           {
            "cells": {
             "fill": {
              "color": "#EBF0F8"
             },
             "line": {
              "color": "white"
             }
            },
            "header": {
             "fill": {
              "color": "#C8D4E3"
             },
             "line": {
              "color": "white"
             }
            },
            "type": "table"
           }
          ]
         },
         "layout": {
          "annotationdefaults": {
           "arrowcolor": "#2a3f5f",
           "arrowhead": 0,
           "arrowwidth": 1
          },
          "autotypenumbers": "strict",
          "coloraxis": {
           "colorbar": {
            "outlinewidth": 0,
            "ticks": ""
           }
          },
          "colorscale": {
           "diverging": [
            [
             0,
             "#8e0152"
            ],
            [
             0.1,
             "#c51b7d"
            ],
            [
             0.2,
             "#de77ae"
            ],
            [
             0.3,
             "#f1b6da"
            ],
            [
             0.4,
             "#fde0ef"
            ],
            [
             0.5,
             "#f7f7f7"
            ],
            [
             0.6,
             "#e6f5d0"
            ],
            [
             0.7,
             "#b8e186"
            ],
            [
             0.8,
             "#7fbc41"
            ],
            [
             0.9,
             "#4d9221"
            ],
            [
             1,
             "#276419"
            ]
           ],
           "sequential": [
            [
             0,
             "#0d0887"
            ],
            [
             0.1111111111111111,
             "#46039f"
            ],
            [
             0.2222222222222222,
             "#7201a8"
            ],
            [
             0.3333333333333333,
             "#9c179e"
            ],
            [
             0.4444444444444444,
             "#bd3786"
            ],
            [
             0.5555555555555556,
             "#d8576b"
            ],
            [
             0.6666666666666666,
             "#ed7953"
            ],
            [
             0.7777777777777778,
             "#fb9f3a"
            ],
            [
             0.8888888888888888,
             "#fdca26"
            ],
            [
             1,
             "#f0f921"
            ]
           ],
           "sequentialminus": [
            [
             0,
             "#0d0887"
            ],
            [
             0.1111111111111111,
             "#46039f"
            ],
            [
             0.2222222222222222,
             "#7201a8"
            ],
            [
             0.3333333333333333,
             "#9c179e"
            ],
            [
             0.4444444444444444,
             "#bd3786"
            ],
            [
             0.5555555555555556,
             "#d8576b"
            ],
            [
             0.6666666666666666,
             "#ed7953"
            ],
            [
             0.7777777777777778,
             "#fb9f3a"
            ],
            [
             0.8888888888888888,
             "#fdca26"
            ],
            [
             1,
             "#f0f921"
            ]
           ]
          },
          "colorway": [
           "#636efa",
           "#EF553B",
           "#00cc96",
           "#ab63fa",
           "#FFA15A",
           "#19d3f3",
           "#FF6692",
           "#B6E880",
           "#FF97FF",
           "#FECB52"
          ],
          "font": {
           "color": "#2a3f5f"
          },
          "geo": {
           "bgcolor": "white",
           "lakecolor": "white",
           "landcolor": "#E5ECF6",
           "showlakes": true,
           "showland": true,
           "subunitcolor": "white"
          },
          "hoverlabel": {
           "align": "left"
          },
          "hovermode": "closest",
          "mapbox": {
           "style": "light"
          },
          "paper_bgcolor": "white",
          "plot_bgcolor": "#E5ECF6",
          "polar": {
           "angularaxis": {
            "gridcolor": "white",
            "linecolor": "white",
            "ticks": ""
           },
           "bgcolor": "#E5ECF6",
           "radialaxis": {
            "gridcolor": "white",
            "linecolor": "white",
            "ticks": ""
           }
          },
          "scene": {
           "xaxis": {
            "backgroundcolor": "#E5ECF6",
            "gridcolor": "white",
            "gridwidth": 2,
            "linecolor": "white",
            "showbackground": true,
            "ticks": "",
            "zerolinecolor": "white"
           },
           "yaxis": {
            "backgroundcolor": "#E5ECF6",
            "gridcolor": "white",
            "gridwidth": 2,
            "linecolor": "white",
            "showbackground": true,
            "ticks": "",
            "zerolinecolor": "white"
           },
           "zaxis": {
            "backgroundcolor": "#E5ECF6",
            "gridcolor": "white",
            "gridwidth": 2,
            "linecolor": "white",
            "showbackground": true,
            "ticks": "",
            "zerolinecolor": "white"
           }
          },
          "shapedefaults": {
           "line": {
            "color": "#2a3f5f"
           }
          },
          "ternary": {
           "aaxis": {
            "gridcolor": "white",
            "linecolor": "white",
            "ticks": ""
           },
           "baxis": {
            "gridcolor": "white",
            "linecolor": "white",
            "ticks": ""
           },
           "bgcolor": "#E5ECF6",
           "caxis": {
            "gridcolor": "white",
            "linecolor": "white",
            "ticks": ""
           }
          },
          "title": {
           "x": 0.05
          },
          "xaxis": {
           "automargin": true,
           "gridcolor": "white",
           "linecolor": "white",
           "ticks": "",
           "title": {
            "standoff": 15
           },
           "zerolinecolor": "white",
           "zerolinewidth": 2
          },
          "yaxis": {
           "automargin": true,
           "gridcolor": "white",
           "linecolor": "white",
           "ticks": "",
           "title": {
            "standoff": 15
           },
           "zerolinecolor": "white",
           "zerolinewidth": 2
          }
         }
        },
        "title": {
         "text": "Comparação do PIB dos países Paraguai e Rússia"
        },
        "width": 1300,
        "xaxis": {
         "anchor": "y",
         "domain": [
          0,
          1
         ],
         "tickfont": {
          "size": 8
         },
         "title": {
          "font": {
           "size": 10
          },
          "standoff": 10,
          "text": "Paraguai"
         }
        },
        "xaxis2": {
         "anchor": "y2",
         "domain": [
          0,
          1
         ],
         "tickfont": {
          "size": 8
         },
         "title": {
          "font": {
           "size": 10
          },
          "standoff": 10,
          "text": "Rússia"
         }
        },
        "yaxis": {
         "anchor": "x",
         "domain": [
          0.575,
          1
         ]
        },
        "yaxis2": {
         "anchor": "x2",
         "domain": [
          0,
          0.425
         ]
        }
       }
      }
     },
     "metadata": {},
     "output_type": "display_data"
    }
   ],
   "source": [
    "plot_regressao_estimada_comparacao(paises_pib, 'Comparação do PIB dos países Paraguai e Rússia', float)"
   ]
  },
  {
   "cell_type": "code",
   "execution_count": 66,
   "metadata": {},
   "outputs": [
    {
     "data": {
      "application/vnd.plotly.v1+json": {
       "config": {
        "plotlyServerURL": "https://plot.ly"
       },
       "data": [
        {
         "line": {
          "color": "red"
         },
         "mode": "lines",
         "name": "Regressão",
         "type": "scatter",
         "x": [
          2007,
          2008,
          2009,
          2010,
          2011,
          2012,
          2013,
          2014,
          2015,
          2016,
          2017,
          2018,
          2019,
          2020,
          2021
         ],
         "xaxis": "x",
         "y": [
          6.825622351728612,
          6.510318683083483,
          6.195015014438354,
          5.8797113457932255,
          5.564407677148097,
          5.249104008502968,
          4.933800339857839,
          4.618496671212711,
          4.303193002567582,
          3.9878893339224533,
          3.6725856652773246,
          3.357281996632082,
          3.0419783279869534,
          2.7266746593418247,
          2.411370990696696
         ],
         "yaxis": "y"
        },
        {
         "name": "Paraguai",
         "type": "scatter",
         "x": [
          "2007 ",
          "2008 ",
          "2009 ",
          "2010 ",
          "2011 ",
          "2012 ",
          "2013 ",
          "2014 ",
          "2015 ",
          "2016 ",
          "2017 ",
          "2018 ",
          "2019 ",
          "2020 ",
          "2021 "
         ],
         "xaxis": "x",
         "y": [
          8.13047417698579,
          10.1547846489023,
          2.5919467343056,
          4.6511627906977,
          8.25396825396825,
          3.6759189797449,
          2.68385738718593,
          5.02882767456758,
          3.12900274473924,
          4.08682280577242,
          3.60247741348942,
          3.97561015740689,
          2.7570972756279,
          1.7675159235669,
          4.78798310123612
         ],
         "yaxis": "y"
        },
        {
         "line": {
          "color": "red"
         },
         "mode": "lines",
         "name": "Regressão",
         "type": "scatter",
         "x": [
          2007,
          2008,
          2009,
          2010,
          2011,
          2012,
          2013,
          2014,
          2015,
          2016,
          2017,
          2018,
          2019,
          2020,
          2021
         ],
         "xaxis": "x2",
         "y": [
          10.906697826491609,
          10.42852273301503,
          9.950347639538563,
          9.472172546061984,
          8.993997452585518,
          8.515822359108938,
          8.037647265632359,
          7.559472172155893,
          7.081297078679313,
          6.603121985202847,
          6.1249468917262675,
          5.646771798249802,
          5.168596704773222,
          4.690421611296642,
          4.2122465178201765
         ],
         "yaxis": "y2"
        },
        {
         "name": "Rússia",
         "type": "scatter",
         "x": [
          "2007 ",
          "2008 ",
          "2009 ",
          "2010 ",
          "2011 ",
          "2012 ",
          "2013 ",
          "2014 ",
          "2015 ",
          "2016 ",
          "2017 ",
          "2018 ",
          "2019 ",
          "2020 ",
          "2021 "
         ],
         "xaxis": "x2",
         "y": [
          9.00729868861076,
          14.1107677840442,
          11.6473295764118,
          6.8493923025503,
          8.44046485932559,
          5.0747430079915,
          6.75371026220953,
          7.82341183865503,
          15.5344050528404,
          7.04244762954798,
          3.68332944412231,
          2.87829723647886,
          4.47036660760175,
          3.38165937237896,
          6.69445891957619
         ],
         "yaxis": "y2"
        }
       ],
       "layout": {
        "height": 600,
        "showlegend": false,
        "template": {
         "data": {
          "bar": [
           {
            "error_x": {
             "color": "#2a3f5f"
            },
            "error_y": {
             "color": "#2a3f5f"
            },
            "marker": {
             "line": {
              "color": "#E5ECF6",
              "width": 0.5
             },
             "pattern": {
              "fillmode": "overlay",
              "size": 10,
              "solidity": 0.2
             }
            },
            "type": "bar"
           }
          ],
          "barpolar": [
           {
            "marker": {
             "line": {
              "color": "#E5ECF6",
              "width": 0.5
             },
             "pattern": {
              "fillmode": "overlay",
              "size": 10,
              "solidity": 0.2
             }
            },
            "type": "barpolar"
           }
          ],
          "carpet": [
           {
            "aaxis": {
             "endlinecolor": "#2a3f5f",
             "gridcolor": "white",
             "linecolor": "white",
             "minorgridcolor": "white",
             "startlinecolor": "#2a3f5f"
            },
            "baxis": {
             "endlinecolor": "#2a3f5f",
             "gridcolor": "white",
             "linecolor": "white",
             "minorgridcolor": "white",
             "startlinecolor": "#2a3f5f"
            },
            "type": "carpet"
           }
          ],
          "choropleth": [
           {
            "colorbar": {
             "outlinewidth": 0,
             "ticks": ""
            },
            "type": "choropleth"
           }
          ],
          "contour": [
           {
            "colorbar": {
             "outlinewidth": 0,
             "ticks": ""
            },
            "colorscale": [
             [
              0,
              "#0d0887"
             ],
             [
              0.1111111111111111,
              "#46039f"
             ],
             [
              0.2222222222222222,
              "#7201a8"
             ],
             [
              0.3333333333333333,
              "#9c179e"
             ],
             [
              0.4444444444444444,
              "#bd3786"
             ],
             [
              0.5555555555555556,
              "#d8576b"
             ],
             [
              0.6666666666666666,
              "#ed7953"
             ],
             [
              0.7777777777777778,
              "#fb9f3a"
             ],
             [
              0.8888888888888888,
              "#fdca26"
             ],
             [
              1,
              "#f0f921"
             ]
            ],
            "type": "contour"
           }
          ],
          "contourcarpet": [
           {
            "colorbar": {
             "outlinewidth": 0,
             "ticks": ""
            },
            "type": "contourcarpet"
           }
          ],
          "heatmap": [
           {
            "colorbar": {
             "outlinewidth": 0,
             "ticks": ""
            },
            "colorscale": [
             [
              0,
              "#0d0887"
             ],
             [
              0.1111111111111111,
              "#46039f"
             ],
             [
              0.2222222222222222,
              "#7201a8"
             ],
             [
              0.3333333333333333,
              "#9c179e"
             ],
             [
              0.4444444444444444,
              "#bd3786"
             ],
             [
              0.5555555555555556,
              "#d8576b"
             ],
             [
              0.6666666666666666,
              "#ed7953"
             ],
             [
              0.7777777777777778,
              "#fb9f3a"
             ],
             [
              0.8888888888888888,
              "#fdca26"
             ],
             [
              1,
              "#f0f921"
             ]
            ],
            "type": "heatmap"
           }
          ],
          "heatmapgl": [
           {
            "colorbar": {
             "outlinewidth": 0,
             "ticks": ""
            },
            "colorscale": [
             [
              0,
              "#0d0887"
             ],
             [
              0.1111111111111111,
              "#46039f"
             ],
             [
              0.2222222222222222,
              "#7201a8"
             ],
             [
              0.3333333333333333,
              "#9c179e"
             ],
             [
              0.4444444444444444,
              "#bd3786"
             ],
             [
              0.5555555555555556,
              "#d8576b"
             ],
             [
              0.6666666666666666,
              "#ed7953"
             ],
             [
              0.7777777777777778,
              "#fb9f3a"
             ],
             [
              0.8888888888888888,
              "#fdca26"
             ],
             [
              1,
              "#f0f921"
             ]
            ],
            "type": "heatmapgl"
           }
          ],
          "histogram": [
           {
            "marker": {
             "pattern": {
              "fillmode": "overlay",
              "size": 10,
              "solidity": 0.2
             }
            },
            "type": "histogram"
           }
          ],
          "histogram2d": [
           {
            "colorbar": {
             "outlinewidth": 0,
             "ticks": ""
            },
            "colorscale": [
             [
              0,
              "#0d0887"
             ],
             [
              0.1111111111111111,
              "#46039f"
             ],
             [
              0.2222222222222222,
              "#7201a8"
             ],
             [
              0.3333333333333333,
              "#9c179e"
             ],
             [
              0.4444444444444444,
              "#bd3786"
             ],
             [
              0.5555555555555556,
              "#d8576b"
             ],
             [
              0.6666666666666666,
              "#ed7953"
             ],
             [
              0.7777777777777778,
              "#fb9f3a"
             ],
             [
              0.8888888888888888,
              "#fdca26"
             ],
             [
              1,
              "#f0f921"
             ]
            ],
            "type": "histogram2d"
           }
          ],
          "histogram2dcontour": [
           {
            "colorbar": {
             "outlinewidth": 0,
             "ticks": ""
            },
            "colorscale": [
             [
              0,
              "#0d0887"
             ],
             [
              0.1111111111111111,
              "#46039f"
             ],
             [
              0.2222222222222222,
              "#7201a8"
             ],
             [
              0.3333333333333333,
              "#9c179e"
             ],
             [
              0.4444444444444444,
              "#bd3786"
             ],
             [
              0.5555555555555556,
              "#d8576b"
             ],
             [
              0.6666666666666666,
              "#ed7953"
             ],
             [
              0.7777777777777778,
              "#fb9f3a"
             ],
             [
              0.8888888888888888,
              "#fdca26"
             ],
             [
              1,
              "#f0f921"
             ]
            ],
            "type": "histogram2dcontour"
           }
          ],
          "mesh3d": [
           {
            "colorbar": {
             "outlinewidth": 0,
             "ticks": ""
            },
            "type": "mesh3d"
           }
          ],
          "parcoords": [
           {
            "line": {
             "colorbar": {
              "outlinewidth": 0,
              "ticks": ""
             }
            },
            "type": "parcoords"
           }
          ],
          "pie": [
           {
            "automargin": true,
            "type": "pie"
           }
          ],
          "scatter": [
           {
            "fillpattern": {
             "fillmode": "overlay",
             "size": 10,
             "solidity": 0.2
            },
            "type": "scatter"
           }
          ],
          "scatter3d": [
           {
            "line": {
             "colorbar": {
              "outlinewidth": 0,
              "ticks": ""
             }
            },
            "marker": {
             "colorbar": {
              "outlinewidth": 0,
              "ticks": ""
             }
            },
            "type": "scatter3d"
           }
          ],
          "scattercarpet": [
           {
            "marker": {
             "colorbar": {
              "outlinewidth": 0,
              "ticks": ""
             }
            },
            "type": "scattercarpet"
           }
          ],
          "scattergeo": [
           {
            "marker": {
             "colorbar": {
              "outlinewidth": 0,
              "ticks": ""
             }
            },
            "type": "scattergeo"
           }
          ],
          "scattergl": [
           {
            "marker": {
             "colorbar": {
              "outlinewidth": 0,
              "ticks": ""
             }
            },
            "type": "scattergl"
           }
          ],
          "scattermapbox": [
           {
            "marker": {
             "colorbar": {
              "outlinewidth": 0,
              "ticks": ""
             }
            },
            "type": "scattermapbox"
           }
          ],
          "scatterpolar": [
           {
            "marker": {
             "colorbar": {
              "outlinewidth": 0,
              "ticks": ""
             }
            },
            "type": "scatterpolar"
           }
          ],
          "scatterpolargl": [
           {
            "marker": {
             "colorbar": {
              "outlinewidth": 0,
              "ticks": ""
             }
            },
            "type": "scatterpolargl"
           }
          ],
          "scatterternary": [
           {
            "marker": {
             "colorbar": {
              "outlinewidth": 0,
              "ticks": ""
             }
            },
            "type": "scatterternary"
           }
          ],
          "surface": [
           {
            "colorbar": {
             "outlinewidth": 0,
             "ticks": ""
            },
            "colorscale": [
             [
              0,
              "#0d0887"
             ],
             [
              0.1111111111111111,
              "#46039f"
             ],
             [
              0.2222222222222222,
              "#7201a8"
             ],
             [
              0.3333333333333333,
              "#9c179e"
             ],
             [
              0.4444444444444444,
              "#bd3786"
             ],
             [
              0.5555555555555556,
              "#d8576b"
             ],
             [
              0.6666666666666666,
              "#ed7953"
             ],
             [
              0.7777777777777778,
              "#fb9f3a"
             ],
             [
              0.8888888888888888,
              "#fdca26"
             ],
             [
              1,
              "#f0f921"
             ]
            ],
            "type": "surface"
           }
          ],
          "table": [
           {
            "cells": {
             "fill": {
              "color": "#EBF0F8"
             },
             "line": {
              "color": "white"
             }
            },
            "header": {
             "fill": {
              "color": "#C8D4E3"
             },
             "line": {
              "color": "white"
             }
            },
            "type": "table"
           }
          ]
         },
         "layout": {
          "annotationdefaults": {
           "arrowcolor": "#2a3f5f",
           "arrowhead": 0,
           "arrowwidth": 1
          },
          "autotypenumbers": "strict",
          "coloraxis": {
           "colorbar": {
            "outlinewidth": 0,
            "ticks": ""
           }
          },
          "colorscale": {
           "diverging": [
            [
             0,
             "#8e0152"
            ],
            [
             0.1,
             "#c51b7d"
            ],
            [
             0.2,
             "#de77ae"
            ],
            [
             0.3,
             "#f1b6da"
            ],
            [
             0.4,
             "#fde0ef"
            ],
            [
             0.5,
             "#f7f7f7"
            ],
            [
             0.6,
             "#e6f5d0"
            ],
            [
             0.7,
             "#b8e186"
            ],
            [
             0.8,
             "#7fbc41"
            ],
            [
             0.9,
             "#4d9221"
            ],
            [
             1,
             "#276419"
            ]
           ],
           "sequential": [
            [
             0,
             "#0d0887"
            ],
            [
             0.1111111111111111,
             "#46039f"
            ],
            [
             0.2222222222222222,
             "#7201a8"
            ],
            [
             0.3333333333333333,
             "#9c179e"
            ],
            [
             0.4444444444444444,
             "#bd3786"
            ],
            [
             0.5555555555555556,
             "#d8576b"
            ],
            [
             0.6666666666666666,
             "#ed7953"
            ],
            [
             0.7777777777777778,
             "#fb9f3a"
            ],
            [
             0.8888888888888888,
             "#fdca26"
            ],
            [
             1,
             "#f0f921"
            ]
           ],
           "sequentialminus": [
            [
             0,
             "#0d0887"
            ],
            [
             0.1111111111111111,
             "#46039f"
            ],
            [
             0.2222222222222222,
             "#7201a8"
            ],
            [
             0.3333333333333333,
             "#9c179e"
            ],
            [
             0.4444444444444444,
             "#bd3786"
            ],
            [
             0.5555555555555556,
             "#d8576b"
            ],
            [
             0.6666666666666666,
             "#ed7953"
            ],
            [
             0.7777777777777778,
             "#fb9f3a"
            ],
            [
             0.8888888888888888,
             "#fdca26"
            ],
            [
             1,
             "#f0f921"
            ]
           ]
          },
          "colorway": [
           "#636efa",
           "#EF553B",
           "#00cc96",
           "#ab63fa",
           "#FFA15A",
           "#19d3f3",
           "#FF6692",
           "#B6E880",
           "#FF97FF",
           "#FECB52"
          ],
          "font": {
           "color": "#2a3f5f"
          },
          "geo": {
           "bgcolor": "white",
           "lakecolor": "white",
           "landcolor": "#E5ECF6",
           "showlakes": true,
           "showland": true,
           "subunitcolor": "white"
          },
          "hoverlabel": {
           "align": "left"
          },
          "hovermode": "closest",
          "mapbox": {
           "style": "light"
          },
          "paper_bgcolor": "white",
          "plot_bgcolor": "#E5ECF6",
          "polar": {
           "angularaxis": {
            "gridcolor": "white",
            "linecolor": "white",
            "ticks": ""
           },
           "bgcolor": "#E5ECF6",
           "radialaxis": {
            "gridcolor": "white",
            "linecolor": "white",
            "ticks": ""
           }
          },
          "scene": {
           "xaxis": {
            "backgroundcolor": "#E5ECF6",
            "gridcolor": "white",
            "gridwidth": 2,
            "linecolor": "white",
            "showbackground": true,
            "ticks": "",
            "zerolinecolor": "white"
           },
           "yaxis": {
            "backgroundcolor": "#E5ECF6",
            "gridcolor": "white",
            "gridwidth": 2,
            "linecolor": "white",
            "showbackground": true,
            "ticks": "",
            "zerolinecolor": "white"
           },
           "zaxis": {
            "backgroundcolor": "#E5ECF6",
            "gridcolor": "white",
            "gridwidth": 2,
            "linecolor": "white",
            "showbackground": true,
            "ticks": "",
            "zerolinecolor": "white"
           }
          },
          "shapedefaults": {
           "line": {
            "color": "#2a3f5f"
           }
          },
          "ternary": {
           "aaxis": {
            "gridcolor": "white",
            "linecolor": "white",
            "ticks": ""
           },
           "baxis": {
            "gridcolor": "white",
            "linecolor": "white",
            "ticks": ""
           },
           "bgcolor": "#E5ECF6",
           "caxis": {
            "gridcolor": "white",
            "linecolor": "white",
            "ticks": ""
           }
          },
          "title": {
           "x": 0.05
          },
          "xaxis": {
           "automargin": true,
           "gridcolor": "white",
           "linecolor": "white",
           "ticks": "",
           "title": {
            "standoff": 15
           },
           "zerolinecolor": "white",
           "zerolinewidth": 2
          },
          "yaxis": {
           "automargin": true,
           "gridcolor": "white",
           "linecolor": "white",
           "ticks": "",
           "title": {
            "standoff": 15
           },
           "zerolinecolor": "white",
           "zerolinewidth": 2
          }
         }
        },
        "title": {
         "text": "Comparação da inflação dos países Paraguai e Rússia"
        },
        "width": 1300,
        "xaxis": {
         "anchor": "y",
         "domain": [
          0,
          1
         ],
         "tickfont": {
          "size": 8
         },
         "title": {
          "font": {
           "size": 10
          },
          "standoff": 10,
          "text": "Paraguai"
         }
        },
        "xaxis2": {
         "anchor": "y2",
         "domain": [
          0,
          1
         ],
         "tickfont": {
          "size": 8
         },
         "title": {
          "font": {
           "size": 10
          },
          "standoff": 10,
          "text": "Rússia"
         }
        },
        "yaxis": {
         "anchor": "x",
         "domain": [
          0.575,
          1
         ]
        },
        "yaxis2": {
         "anchor": "x2",
         "domain": [
          0,
          0.425
         ]
        }
       }
      }
     },
     "metadata": {},
     "output_type": "display_data"
    }
   ],
   "source": [
    "plot_regressao_estimada_comparacao(paises_inflation, 'Comparação da inflação dos países Paraguai e Rússia', float)"
   ]
  },
  {
   "cell_type": "code",
   "execution_count": 67,
   "metadata": {},
   "outputs": [
    {
     "data": {
      "application/vnd.plotly.v1+json": {
       "config": {
        "plotlyServerURL": "https://plot.ly"
       },
       "data": [
        {
         "line": {
          "color": "red"
         },
         "mode": "lines",
         "name": "Regressão",
         "type": "scatter",
         "x": [
          2007,
          2008,
          2009,
          2010,
          2011,
          2012,
          2013,
          2014,
          2015,
          2016,
          2017,
          2018,
          2019,
          2020,
          2021
         ],
         "xaxis": "x",
         "y": [
          78.70505532759739,
          77.85720560490427,
          77.00935588221114,
          76.16150615951778,
          75.31365643682466,
          74.46580671413153,
          73.6179569914384,
          72.77010726874528,
          71.92225754605192,
          71.0744078233588,
          70.22655810066567,
          69.37870837797254,
          68.53085865527919,
          67.68300893258606,
          66.83515920989294
         ],
         "yaxis": "y"
        },
        {
         "name": "Paraguai",
         "type": "scatter",
         "x": [
          "2007 ",
          "2008 ",
          "2009 ",
          "2010 ",
          "2011 ",
          "2012 ",
          "2013 ",
          "2014 ",
          "2015 ",
          "2016 ",
          "2017 ",
          "2018 ",
          "2019 ",
          "2020 ",
          "2021 "
         ],
         "xaxis": "x",
         "y": [
          79.00113742029681,
          80.77757465726802,
          70.8419818624432,
          81.2575233746727,
          78.49212384893475,
          74.76495745607937,
          73.36987138410746,
          69.08372409747166,
          66.9401410467947,
          67.78838798148007,
          71.48221272127164,
          72.52858606852838,
          71.32765530509727,
          63.09465043482228,
          70.80108137192369
         ],
         "yaxis": "y"
        },
        {
         "line": {
          "color": "red"
         },
         "mode": "lines",
         "name": "Regressão",
         "type": "scatter",
         "x": [
          2007,
          2008,
          2009,
          2010,
          2011,
          2012,
          2013,
          2014,
          2015,
          2016,
          2017,
          2018,
          2019,
          2020,
          2021
         ],
         "xaxis": "x2",
         "y": [
          49.83650535267441,
          49.7162041783854,
          49.595903004096414,
          49.4756018298074,
          49.35530065551839,
          49.23499948122938,
          49.11469830694037,
          48.99439713265136,
          48.874095958362375,
          48.753794784073364,
          48.63349360978435,
          48.51319243549534,
          48.39289126120633,
          48.27259008691732,
          48.152288912628336
         ],
         "yaxis": "y2"
        },
        {
         "name": "Rússia",
         "type": "scatter",
         "x": [
          "2007 ",
          "2008 ",
          "2009 ",
          "2010 ",
          "2011 ",
          "2012 ",
          "2013 ",
          "2014 ",
          "2015 ",
          "2016 ",
          "2017 ",
          "2018 ",
          "2019 ",
          "2020 ",
          "2021 "
         ],
         "xaxis": "x2",
         "y": [
          51.706122745771665,
          53.38246604089083,
          48.435061028067686,
          50.355505487367644,
          48.035399407791864,
          47.151390385795715,
          46.287149400499,
          47.80134126281159,
          49.35934931168865,
          46.518119839609604,
          46.87652433713111,
          51.5809003703964,
          49.22875366190334,
          46.03086561363736,
          52.16700809641036
         ],
         "yaxis": "y2"
        }
       ],
       "layout": {
        "height": 600,
        "showlegend": false,
        "template": {
         "data": {
          "bar": [
           {
            "error_x": {
             "color": "#2a3f5f"
            },
            "error_y": {
             "color": "#2a3f5f"
            },
            "marker": {
             "line": {
              "color": "#E5ECF6",
              "width": 0.5
             },
             "pattern": {
              "fillmode": "overlay",
              "size": 10,
              "solidity": 0.2
             }
            },
            "type": "bar"
           }
          ],
          "barpolar": [
           {
            "marker": {
             "line": {
              "color": "#E5ECF6",
              "width": 0.5
             },
             "pattern": {
              "fillmode": "overlay",
              "size": 10,
              "solidity": 0.2
             }
            },
            "type": "barpolar"
           }
          ],
          "carpet": [
           {
            "aaxis": {
             "endlinecolor": "#2a3f5f",
             "gridcolor": "white",
             "linecolor": "white",
             "minorgridcolor": "white",
             "startlinecolor": "#2a3f5f"
            },
            "baxis": {
             "endlinecolor": "#2a3f5f",
             "gridcolor": "white",
             "linecolor": "white",
             "minorgridcolor": "white",
             "startlinecolor": "#2a3f5f"
            },
            "type": "carpet"
           }
          ],
          "choropleth": [
           {
            "colorbar": {
             "outlinewidth": 0,
             "ticks": ""
            },
            "type": "choropleth"
           }
          ],
          "contour": [
           {
            "colorbar": {
             "outlinewidth": 0,
             "ticks": ""
            },
            "colorscale": [
             [
              0,
              "#0d0887"
             ],
             [
              0.1111111111111111,
              "#46039f"
             ],
             [
              0.2222222222222222,
              "#7201a8"
             ],
             [
              0.3333333333333333,
              "#9c179e"
             ],
             [
              0.4444444444444444,
              "#bd3786"
             ],
             [
              0.5555555555555556,
              "#d8576b"
             ],
             [
              0.6666666666666666,
              "#ed7953"
             ],
             [
              0.7777777777777778,
              "#fb9f3a"
             ],
             [
              0.8888888888888888,
              "#fdca26"
             ],
             [
              1,
              "#f0f921"
             ]
            ],
            "type": "contour"
           }
          ],
          "contourcarpet": [
           {
            "colorbar": {
             "outlinewidth": 0,
             "ticks": ""
            },
            "type": "contourcarpet"
           }
          ],
          "heatmap": [
           {
            "colorbar": {
             "outlinewidth": 0,
             "ticks": ""
            },
            "colorscale": [
             [
              0,
              "#0d0887"
             ],
             [
              0.1111111111111111,
              "#46039f"
             ],
             [
              0.2222222222222222,
              "#7201a8"
             ],
             [
              0.3333333333333333,
              "#9c179e"
             ],
             [
              0.4444444444444444,
              "#bd3786"
             ],
             [
              0.5555555555555556,
              "#d8576b"
             ],
             [
              0.6666666666666666,
              "#ed7953"
             ],
             [
              0.7777777777777778,
              "#fb9f3a"
             ],
             [
              0.8888888888888888,
              "#fdca26"
             ],
             [
              1,
              "#f0f921"
             ]
            ],
            "type": "heatmap"
           }
          ],
          "heatmapgl": [
           {
            "colorbar": {
             "outlinewidth": 0,
             "ticks": ""
            },
            "colorscale": [
             [
              0,
              "#0d0887"
             ],
             [
              0.1111111111111111,
              "#46039f"
             ],
             [
              0.2222222222222222,
              "#7201a8"
             ],
             [
              0.3333333333333333,
              "#9c179e"
             ],
             [
              0.4444444444444444,
              "#bd3786"
             ],
             [
              0.5555555555555556,
              "#d8576b"
             ],
             [
              0.6666666666666666,
              "#ed7953"
             ],
             [
              0.7777777777777778,
              "#fb9f3a"
             ],
             [
              0.8888888888888888,
              "#fdca26"
             ],
             [
              1,
              "#f0f921"
             ]
            ],
            "type": "heatmapgl"
           }
          ],
          "histogram": [
           {
            "marker": {
             "pattern": {
              "fillmode": "overlay",
              "size": 10,
              "solidity": 0.2
             }
            },
            "type": "histogram"
           }
          ],
          "histogram2d": [
           {
            "colorbar": {
             "outlinewidth": 0,
             "ticks": ""
            },
            "colorscale": [
             [
              0,
              "#0d0887"
             ],
             [
              0.1111111111111111,
              "#46039f"
             ],
             [
              0.2222222222222222,
              "#7201a8"
             ],
             [
              0.3333333333333333,
              "#9c179e"
             ],
             [
              0.4444444444444444,
              "#bd3786"
             ],
             [
              0.5555555555555556,
              "#d8576b"
             ],
             [
              0.6666666666666666,
              "#ed7953"
             ],
             [
              0.7777777777777778,
              "#fb9f3a"
             ],
             [
              0.8888888888888888,
              "#fdca26"
             ],
             [
              1,
              "#f0f921"
             ]
            ],
            "type": "histogram2d"
           }
          ],
          "histogram2dcontour": [
           {
            "colorbar": {
             "outlinewidth": 0,
             "ticks": ""
            },
            "colorscale": [
             [
              0,
              "#0d0887"
             ],
             [
              0.1111111111111111,
              "#46039f"
             ],
             [
              0.2222222222222222,
              "#7201a8"
             ],
             [
              0.3333333333333333,
              "#9c179e"
             ],
             [
              0.4444444444444444,
              "#bd3786"
             ],
             [
              0.5555555555555556,
              "#d8576b"
             ],
             [
              0.6666666666666666,
              "#ed7953"
             ],
             [
              0.7777777777777778,
              "#fb9f3a"
             ],
             [
              0.8888888888888888,
              "#fdca26"
             ],
             [
              1,
              "#f0f921"
             ]
            ],
            "type": "histogram2dcontour"
           }
          ],
          "mesh3d": [
           {
            "colorbar": {
             "outlinewidth": 0,
             "ticks": ""
            },
            "type": "mesh3d"
           }
          ],
          "parcoords": [
           {
            "line": {
             "colorbar": {
              "outlinewidth": 0,
              "ticks": ""
             }
            },
            "type": "parcoords"
           }
          ],
          "pie": [
           {
            "automargin": true,
            "type": "pie"
           }
          ],
          "scatter": [
           {
            "fillpattern": {
             "fillmode": "overlay",
             "size": 10,
             "solidity": 0.2
            },
            "type": "scatter"
           }
          ],
          "scatter3d": [
           {
            "line": {
             "colorbar": {
              "outlinewidth": 0,
              "ticks": ""
             }
            },
            "marker": {
             "colorbar": {
              "outlinewidth": 0,
              "ticks": ""
             }
            },
            "type": "scatter3d"
           }
          ],
          "scattercarpet": [
           {
            "marker": {
             "colorbar": {
              "outlinewidth": 0,
              "ticks": ""
             }
            },
            "type": "scattercarpet"
           }
          ],
          "scattergeo": [
           {
            "marker": {
             "colorbar": {
              "outlinewidth": 0,
              "ticks": ""
             }
            },
            "type": "scattergeo"
           }
          ],
          "scattergl": [
           {
            "marker": {
             "colorbar": {
              "outlinewidth": 0,
              "ticks": ""
             }
            },
            "type": "scattergl"
           }
          ],
          "scattermapbox": [
           {
            "marker": {
             "colorbar": {
              "outlinewidth": 0,
              "ticks": ""
             }
            },
            "type": "scattermapbox"
           }
          ],
          "scatterpolar": [
           {
            "marker": {
             "colorbar": {
              "outlinewidth": 0,
              "ticks": ""
             }
            },
            "type": "scatterpolar"
           }
          ],
          "scatterpolargl": [
           {
            "marker": {
             "colorbar": {
              "outlinewidth": 0,
              "ticks": ""
             }
            },
            "type": "scatterpolargl"
           }
          ],
          "scatterternary": [
           {
            "marker": {
             "colorbar": {
              "outlinewidth": 0,
              "ticks": ""
             }
            },
            "type": "scatterternary"
           }
          ],
          "surface": [
           {
            "colorbar": {
             "outlinewidth": 0,
             "ticks": ""
            },
            "colorscale": [
             [
              0,
              "#0d0887"
             ],
             [
              0.1111111111111111,
              "#46039f"
             ],
             [
              0.2222222222222222,
              "#7201a8"
             ],
             [
              0.3333333333333333,
              "#9c179e"
             ],
             [
              0.4444444444444444,
              "#bd3786"
             ],
             [
              0.5555555555555556,
              "#d8576b"
             ],
             [
              0.6666666666666666,
              "#ed7953"
             ],
             [
              0.7777777777777778,
              "#fb9f3a"
             ],
             [
              0.8888888888888888,
              "#fdca26"
             ],
             [
              1,
              "#f0f921"
             ]
            ],
            "type": "surface"
           }
          ],
          "table": [
           {
            "cells": {
             "fill": {
              "color": "#EBF0F8"
             },
             "line": {
              "color": "white"
             }
            },
            "header": {
             "fill": {
              "color": "#C8D4E3"
             },
             "line": {
              "color": "white"
             }
            },
            "type": "table"
           }
          ]
         },
         "layout": {
          "annotationdefaults": {
           "arrowcolor": "#2a3f5f",
           "arrowhead": 0,
           "arrowwidth": 1
          },
          "autotypenumbers": "strict",
          "coloraxis": {
           "colorbar": {
            "outlinewidth": 0,
            "ticks": ""
           }
          },
          "colorscale": {
           "diverging": [
            [
             0,
             "#8e0152"
            ],
            [
             0.1,
             "#c51b7d"
            ],
            [
             0.2,
             "#de77ae"
            ],
            [
             0.3,
             "#f1b6da"
            ],
            [
             0.4,
             "#fde0ef"
            ],
            [
             0.5,
             "#f7f7f7"
            ],
            [
             0.6,
             "#e6f5d0"
            ],
            [
             0.7,
             "#b8e186"
            ],
            [
             0.8,
             "#7fbc41"
            ],
            [
             0.9,
             "#4d9221"
            ],
            [
             1,
             "#276419"
            ]
           ],
           "sequential": [
            [
             0,
             "#0d0887"
            ],
            [
             0.1111111111111111,
             "#46039f"
            ],
            [
             0.2222222222222222,
             "#7201a8"
            ],
            [
             0.3333333333333333,
             "#9c179e"
            ],
            [
             0.4444444444444444,
             "#bd3786"
            ],
            [
             0.5555555555555556,
             "#d8576b"
            ],
            [
             0.6666666666666666,
             "#ed7953"
            ],
            [
             0.7777777777777778,
             "#fb9f3a"
            ],
            [
             0.8888888888888888,
             "#fdca26"
            ],
            [
             1,
             "#f0f921"
            ]
           ],
           "sequentialminus": [
            [
             0,
             "#0d0887"
            ],
            [
             0.1111111111111111,
             "#46039f"
            ],
            [
             0.2222222222222222,
             "#7201a8"
            ],
            [
             0.3333333333333333,
             "#9c179e"
            ],
            [
             0.4444444444444444,
             "#bd3786"
            ],
            [
             0.5555555555555556,
             "#d8576b"
            ],
            [
             0.6666666666666666,
             "#ed7953"
            ],
            [
             0.7777777777777778,
             "#fb9f3a"
            ],
            [
             0.8888888888888888,
             "#fdca26"
            ],
            [
             1,
             "#f0f921"
            ]
           ]
          },
          "colorway": [
           "#636efa",
           "#EF553B",
           "#00cc96",
           "#ab63fa",
           "#FFA15A",
           "#19d3f3",
           "#FF6692",
           "#B6E880",
           "#FF97FF",
           "#FECB52"
          ],
          "font": {
           "color": "#2a3f5f"
          },
          "geo": {
           "bgcolor": "white",
           "lakecolor": "white",
           "landcolor": "#E5ECF6",
           "showlakes": true,
           "showland": true,
           "subunitcolor": "white"
          },
          "hoverlabel": {
           "align": "left"
          },
          "hovermode": "closest",
          "mapbox": {
           "style": "light"
          },
          "paper_bgcolor": "white",
          "plot_bgcolor": "#E5ECF6",
          "polar": {
           "angularaxis": {
            "gridcolor": "white",
            "linecolor": "white",
            "ticks": ""
           },
           "bgcolor": "#E5ECF6",
           "radialaxis": {
            "gridcolor": "white",
            "linecolor": "white",
            "ticks": ""
           }
          },
          "scene": {
           "xaxis": {
            "backgroundcolor": "#E5ECF6",
            "gridcolor": "white",
            "gridwidth": 2,
            "linecolor": "white",
            "showbackground": true,
            "ticks": "",
            "zerolinecolor": "white"
           },
           "yaxis": {
            "backgroundcolor": "#E5ECF6",
            "gridcolor": "white",
            "gridwidth": 2,
            "linecolor": "white",
            "showbackground": true,
            "ticks": "",
            "zerolinecolor": "white"
           },
           "zaxis": {
            "backgroundcolor": "#E5ECF6",
            "gridcolor": "white",
            "gridwidth": 2,
            "linecolor": "white",
            "showbackground": true,
            "ticks": "",
            "zerolinecolor": "white"
           }
          },
          "shapedefaults": {
           "line": {
            "color": "#2a3f5f"
           }
          },
          "ternary": {
           "aaxis": {
            "gridcolor": "white",
            "linecolor": "white",
            "ticks": ""
           },
           "baxis": {
            "gridcolor": "white",
            "linecolor": "white",
            "ticks": ""
           },
           "bgcolor": "#E5ECF6",
           "caxis": {
            "gridcolor": "white",
            "linecolor": "white",
            "ticks": ""
           }
          },
          "title": {
           "x": 0.05
          },
          "xaxis": {
           "automargin": true,
           "gridcolor": "white",
           "linecolor": "white",
           "ticks": "",
           "title": {
            "standoff": 15
           },
           "zerolinecolor": "white",
           "zerolinewidth": 2
          },
          "yaxis": {
           "automargin": true,
           "gridcolor": "white",
           "linecolor": "white",
           "ticks": "",
           "title": {
            "standoff": 15
           },
           "zerolinecolor": "white",
           "zerolinewidth": 2
          }
         }
        },
        "title": {
         "text": "Comparação do índice de comércio internacional dos países Paraguai e Rússia"
        },
        "width": 1300,
        "xaxis": {
         "anchor": "y",
         "domain": [
          0,
          1
         ],
         "tickfont": {
          "size": 8
         },
         "title": {
          "font": {
           "size": 10
          },
          "standoff": 10,
          "text": "Paraguai"
         }
        },
        "xaxis2": {
         "anchor": "y2",
         "domain": [
          0,
          1
         ],
         "tickfont": {
          "size": 8
         },
         "title": {
          "font": {
           "size": 10
          },
          "standoff": 10,
          "text": "Rússia"
         }
        },
        "yaxis": {
         "anchor": "x",
         "domain": [
          0.575,
          1
         ]
        },
        "yaxis2": {
         "anchor": "x2",
         "domain": [
          0,
          0.425
         ]
        }
       }
      }
     },
     "metadata": {},
     "output_type": "display_data"
    }
   ],
   "source": [
    "plot_regressao_estimada_comparacao(paises_trade, 'Comparação do índice de comércio internacional dos países Paraguai e Rússia', float)"
   ]
  },
  {
   "cell_type": "code",
   "execution_count": 68,
   "metadata": {},
   "outputs": [
    {
     "data": {
      "application/vnd.plotly.v1+json": {
       "config": {
        "plotlyServerURL": "https://plot.ly"
       },
       "data": [
        {
         "line": {
          "color": "red"
         },
         "mode": "lines",
         "name": "Regressão",
         "type": "scatter",
         "x": [
          2007,
          2008,
          2009,
          2010,
          2011,
          2012,
          2013,
          2014,
          2015,
          2016,
          2017,
          2018,
          2019,
          2020,
          2021
         ],
         "xaxis": "x",
         "y": [
          5539405.591666758,
          5621070.802381039,
          5702736.013095349,
          5784401.22380963,
          5866066.43452391,
          5947731.645238191,
          6029396.8559524715,
          6111062.066666752,
          6192727.277381033,
          6274392.488095313,
          6356057.698809594,
          6437722.9095238745,
          6519388.120238155,
          6601053.3309524655,
          6682718.541666746
         ],
         "yaxis": "y"
        },
        {
         "name": "Paraguai",
         "type": "scatter",
         "x": [
          "2007 ",
          "2008 ",
          "2009 ",
          "2010 ",
          "2011 ",
          "2012 ",
          "2013 ",
          "2014 ",
          "2015 ",
          "2016 ",
          "2017 ",
          "2018 ",
          "2019 ",
          "2020 ",
          "2021 "
         ],
         "xaxis": "x",
         "y": [
          5590145,
          5645148,
          5702574,
          5768613,
          5843939,
          5923322,
          6005652,
          6090721,
          6177950,
          6266615,
          6355404,
          6443328,
          6530026,
          6618695,
          6703799
         ],
         "yaxis": "y"
        },
        {
         "line": {
          "color": "red"
         },
         "mode": "lines",
         "name": "Regressão",
         "type": "scatter",
         "x": [
          2007,
          2008,
          2009,
          2010,
          2011,
          2012,
          2013,
          2014,
          2015,
          2016,
          2017,
          2018,
          2019,
          2020,
          2021
         ],
         "xaxis": "x2",
         "y": [
          142736175.45000014,
          142859713.61428586,
          142983251.77857158,
          143106789.94285727,
          143230328.10714298,
          143353866.2714287,
          143477404.4357144,
          143600942.6000001,
          143724480.76428583,
          143848018.92857155,
          143971557.09285724,
          144095095.25714296,
          144218633.42142868,
          144342171.5857144,
          144465709.7500001
         ],
         "yaxis": "y2"
        },
        {
         "name": "Rússia",
         "type": "scatter",
         "x": [
          "2007 ",
          "2008 ",
          "2009 ",
          "2010 ",
          "2011 ",
          "2012 ",
          "2013 ",
          "2014 ",
          "2015 ",
          "2016 ",
          "2017 ",
          "2018 ",
          "2019 ",
          "2020 ",
          "2021 "
         ],
         "xaxis": "x2",
         "y": [
          142805114,
          142742366,
          142785349,
          142849468,
          142960908,
          143201721,
          143506995,
          143819667,
          144096870,
          144342397,
          144496739,
          144477859,
          144406261,
          144073139,
          143449286
         ],
         "yaxis": "y2"
        }
       ],
       "layout": {
        "height": 600,
        "showlegend": false,
        "template": {
         "data": {
          "bar": [
           {
            "error_x": {
             "color": "#2a3f5f"
            },
            "error_y": {
             "color": "#2a3f5f"
            },
            "marker": {
             "line": {
              "color": "#E5ECF6",
              "width": 0.5
             },
             "pattern": {
              "fillmode": "overlay",
              "size": 10,
              "solidity": 0.2
             }
            },
            "type": "bar"
           }
          ],
          "barpolar": [
           {
            "marker": {
             "line": {
              "color": "#E5ECF6",
              "width": 0.5
             },
             "pattern": {
              "fillmode": "overlay",
              "size": 10,
              "solidity": 0.2
             }
            },
            "type": "barpolar"
           }
          ],
          "carpet": [
           {
            "aaxis": {
             "endlinecolor": "#2a3f5f",
             "gridcolor": "white",
             "linecolor": "white",
             "minorgridcolor": "white",
             "startlinecolor": "#2a3f5f"
            },
            "baxis": {
             "endlinecolor": "#2a3f5f",
             "gridcolor": "white",
             "linecolor": "white",
             "minorgridcolor": "white",
             "startlinecolor": "#2a3f5f"
            },
            "type": "carpet"
           }
          ],
          "choropleth": [
           {
            "colorbar": {
             "outlinewidth": 0,
             "ticks": ""
            },
            "type": "choropleth"
           }
          ],
          "contour": [
           {
            "colorbar": {
             "outlinewidth": 0,
             "ticks": ""
            },
            "colorscale": [
             [
              0,
              "#0d0887"
             ],
             [
              0.1111111111111111,
              "#46039f"
             ],
             [
              0.2222222222222222,
              "#7201a8"
             ],
             [
              0.3333333333333333,
              "#9c179e"
             ],
             [
              0.4444444444444444,
              "#bd3786"
             ],
             [
              0.5555555555555556,
              "#d8576b"
             ],
             [
              0.6666666666666666,
              "#ed7953"
             ],
             [
              0.7777777777777778,
              "#fb9f3a"
             ],
             [
              0.8888888888888888,
              "#fdca26"
             ],
             [
              1,
              "#f0f921"
             ]
            ],
            "type": "contour"
           }
          ],
          "contourcarpet": [
           {
            "colorbar": {
             "outlinewidth": 0,
             "ticks": ""
            },
            "type": "contourcarpet"
           }
          ],
          "heatmap": [
           {
            "colorbar": {
             "outlinewidth": 0,
             "ticks": ""
            },
            "colorscale": [
             [
              0,
              "#0d0887"
             ],
             [
              0.1111111111111111,
              "#46039f"
             ],
             [
              0.2222222222222222,
              "#7201a8"
             ],
             [
              0.3333333333333333,
              "#9c179e"
             ],
             [
              0.4444444444444444,
              "#bd3786"
             ],
             [
              0.5555555555555556,
              "#d8576b"
             ],
             [
              0.6666666666666666,
              "#ed7953"
             ],
             [
              0.7777777777777778,
              "#fb9f3a"
             ],
             [
              0.8888888888888888,
              "#fdca26"
             ],
             [
              1,
              "#f0f921"
             ]
            ],
            "type": "heatmap"
           }
          ],
          "heatmapgl": [
           {
            "colorbar": {
             "outlinewidth": 0,
             "ticks": ""
            },
            "colorscale": [
             [
              0,
              "#0d0887"
             ],
             [
              0.1111111111111111,
              "#46039f"
             ],
             [
              0.2222222222222222,
              "#7201a8"
             ],
             [
              0.3333333333333333,
              "#9c179e"
             ],
             [
              0.4444444444444444,
              "#bd3786"
             ],
             [
              0.5555555555555556,
              "#d8576b"
             ],
             [
              0.6666666666666666,
              "#ed7953"
             ],
             [
              0.7777777777777778,
              "#fb9f3a"
             ],
             [
              0.8888888888888888,
              "#fdca26"
             ],
             [
              1,
              "#f0f921"
             ]
            ],
            "type": "heatmapgl"
           }
          ],
          "histogram": [
           {
            "marker": {
             "pattern": {
              "fillmode": "overlay",
              "size": 10,
              "solidity": 0.2
             }
            },
            "type": "histogram"
           }
          ],
          "histogram2d": [
           {
            "colorbar": {
             "outlinewidth": 0,
             "ticks": ""
            },
            "colorscale": [
             [
              0,
              "#0d0887"
             ],
             [
              0.1111111111111111,
              "#46039f"
             ],
             [
              0.2222222222222222,
              "#7201a8"
             ],
             [
              0.3333333333333333,
              "#9c179e"
             ],
             [
              0.4444444444444444,
              "#bd3786"
             ],
             [
              0.5555555555555556,
              "#d8576b"
             ],
             [
              0.6666666666666666,
              "#ed7953"
             ],
             [
              0.7777777777777778,
              "#fb9f3a"
             ],
             [
              0.8888888888888888,
              "#fdca26"
             ],
             [
              1,
              "#f0f921"
             ]
            ],
            "type": "histogram2d"
           }
          ],
          "histogram2dcontour": [
           {
            "colorbar": {
             "outlinewidth": 0,
             "ticks": ""
            },
            "colorscale": [
             [
              0,
              "#0d0887"
             ],
             [
              0.1111111111111111,
              "#46039f"
             ],
             [
              0.2222222222222222,
              "#7201a8"
             ],
             [
              0.3333333333333333,
              "#9c179e"
             ],
             [
              0.4444444444444444,
              "#bd3786"
             ],
             [
              0.5555555555555556,
              "#d8576b"
             ],
             [
              0.6666666666666666,
              "#ed7953"
             ],
             [
              0.7777777777777778,
              "#fb9f3a"
             ],
             [
              0.8888888888888888,
              "#fdca26"
             ],
             [
              1,
              "#f0f921"
             ]
            ],
            "type": "histogram2dcontour"
           }
          ],
          "mesh3d": [
           {
            "colorbar": {
             "outlinewidth": 0,
             "ticks": ""
            },
            "type": "mesh3d"
           }
          ],
          "parcoords": [
           {
            "line": {
             "colorbar": {
              "outlinewidth": 0,
              "ticks": ""
             }
            },
            "type": "parcoords"
           }
          ],
          "pie": [
           {
            "automargin": true,
            "type": "pie"
           }
          ],
          "scatter": [
           {
            "fillpattern": {
             "fillmode": "overlay",
             "size": 10,
             "solidity": 0.2
            },
            "type": "scatter"
           }
          ],
          "scatter3d": [
           {
            "line": {
             "colorbar": {
              "outlinewidth": 0,
              "ticks": ""
             }
            },
            "marker": {
             "colorbar": {
              "outlinewidth": 0,
              "ticks": ""
             }
            },
            "type": "scatter3d"
           }
          ],
          "scattercarpet": [
           {
            "marker": {
             "colorbar": {
              "outlinewidth": 0,
              "ticks": ""
             }
            },
            "type": "scattercarpet"
           }
          ],
          "scattergeo": [
           {
            "marker": {
             "colorbar": {
              "outlinewidth": 0,
              "ticks": ""
             }
            },
            "type": "scattergeo"
           }
          ],
          "scattergl": [
           {
            "marker": {
             "colorbar": {
              "outlinewidth": 0,
              "ticks": ""
             }
            },
            "type": "scattergl"
           }
          ],
          "scattermapbox": [
           {
            "marker": {
             "colorbar": {
              "outlinewidth": 0,
              "ticks": ""
             }
            },
            "type": "scattermapbox"
           }
          ],
          "scatterpolar": [
           {
            "marker": {
             "colorbar": {
              "outlinewidth": 0,
              "ticks": ""
             }
            },
            "type": "scatterpolar"
           }
          ],
          "scatterpolargl": [
           {
            "marker": {
             "colorbar": {
              "outlinewidth": 0,
              "ticks": ""
             }
            },
            "type": "scatterpolargl"
           }
          ],
          "scatterternary": [
           {
            "marker": {
             "colorbar": {
              "outlinewidth": 0,
              "ticks": ""
             }
            },
            "type": "scatterternary"
           }
          ],
          "surface": [
           {
            "colorbar": {
             "outlinewidth": 0,
             "ticks": ""
            },
            "colorscale": [
             [
              0,
              "#0d0887"
             ],
             [
              0.1111111111111111,
              "#46039f"
             ],
             [
              0.2222222222222222,
              "#7201a8"
             ],
             [
              0.3333333333333333,
              "#9c179e"
             ],
             [
              0.4444444444444444,
              "#bd3786"
             ],
             [
              0.5555555555555556,
              "#d8576b"
             ],
             [
              0.6666666666666666,
              "#ed7953"
             ],
             [
              0.7777777777777778,
              "#fb9f3a"
             ],
             [
              0.8888888888888888,
              "#fdca26"
             ],
             [
              1,
              "#f0f921"
             ]
            ],
            "type": "surface"
           }
          ],
          "table": [
           {
            "cells": {
             "fill": {
              "color": "#EBF0F8"
             },
             "line": {
              "color": "white"
             }
            },
            "header": {
             "fill": {
              "color": "#C8D4E3"
             },
             "line": {
              "color": "white"
             }
            },
            "type": "table"
           }
          ]
         },
         "layout": {
          "annotationdefaults": {
           "arrowcolor": "#2a3f5f",
           "arrowhead": 0,
           "arrowwidth": 1
          },
          "autotypenumbers": "strict",
          "coloraxis": {
           "colorbar": {
            "outlinewidth": 0,
            "ticks": ""
           }
          },
          "colorscale": {
           "diverging": [
            [
             0,
             "#8e0152"
            ],
            [
             0.1,
             "#c51b7d"
            ],
            [
             0.2,
             "#de77ae"
            ],
            [
             0.3,
             "#f1b6da"
            ],
            [
             0.4,
             "#fde0ef"
            ],
            [
             0.5,
             "#f7f7f7"
            ],
            [
             0.6,
             "#e6f5d0"
            ],
            [
             0.7,
             "#b8e186"
            ],
            [
             0.8,
             "#7fbc41"
            ],
            [
             0.9,
             "#4d9221"
            ],
            [
             1,
             "#276419"
            ]
           ],
           "sequential": [
            [
             0,
             "#0d0887"
            ],
            [
             0.1111111111111111,
             "#46039f"
            ],
            [
             0.2222222222222222,
             "#7201a8"
            ],
            [
             0.3333333333333333,
             "#9c179e"
            ],
            [
             0.4444444444444444,
             "#bd3786"
            ],
            [
             0.5555555555555556,
             "#d8576b"
            ],
            [
             0.6666666666666666,
             "#ed7953"
            ],
            [
             0.7777777777777778,
             "#fb9f3a"
            ],
            [
             0.8888888888888888,
             "#fdca26"
            ],
            [
             1,
             "#f0f921"
            ]
           ],
           "sequentialminus": [
            [
             0,
             "#0d0887"
            ],
            [
             0.1111111111111111,
             "#46039f"
            ],
            [
             0.2222222222222222,
             "#7201a8"
            ],
            [
             0.3333333333333333,
             "#9c179e"
            ],
            [
             0.4444444444444444,
             "#bd3786"
            ],
            [
             0.5555555555555556,
             "#d8576b"
            ],
            [
             0.6666666666666666,
             "#ed7953"
            ],
            [
             0.7777777777777778,
             "#fb9f3a"
            ],
            [
             0.8888888888888888,
             "#fdca26"
            ],
            [
             1,
             "#f0f921"
            ]
           ]
          },
          "colorway": [
           "#636efa",
           "#EF553B",
           "#00cc96",
           "#ab63fa",
           "#FFA15A",
           "#19d3f3",
           "#FF6692",
           "#B6E880",
           "#FF97FF",
           "#FECB52"
          ],
          "font": {
           "color": "#2a3f5f"
          },
          "geo": {
           "bgcolor": "white",
           "lakecolor": "white",
           "landcolor": "#E5ECF6",
           "showlakes": true,
           "showland": true,
           "subunitcolor": "white"
          },
          "hoverlabel": {
           "align": "left"
          },
          "hovermode": "closest",
          "mapbox": {
           "style": "light"
          },
          "paper_bgcolor": "white",
          "plot_bgcolor": "#E5ECF6",
          "polar": {
           "angularaxis": {
            "gridcolor": "white",
            "linecolor": "white",
            "ticks": ""
           },
           "bgcolor": "#E5ECF6",
           "radialaxis": {
            "gridcolor": "white",
            "linecolor": "white",
            "ticks": ""
           }
          },
          "scene": {
           "xaxis": {
            "backgroundcolor": "#E5ECF6",
            "gridcolor": "white",
            "gridwidth": 2,
            "linecolor": "white",
            "showbackground": true,
            "ticks": "",
            "zerolinecolor": "white"
           },
           "yaxis": {
            "backgroundcolor": "#E5ECF6",
            "gridcolor": "white",
            "gridwidth": 2,
            "linecolor": "white",
            "showbackground": true,
            "ticks": "",
            "zerolinecolor": "white"
           },
           "zaxis": {
            "backgroundcolor": "#E5ECF6",
            "gridcolor": "white",
            "gridwidth": 2,
            "linecolor": "white",
            "showbackground": true,
            "ticks": "",
            "zerolinecolor": "white"
           }
          },
          "shapedefaults": {
           "line": {
            "color": "#2a3f5f"
           }
          },
          "ternary": {
           "aaxis": {
            "gridcolor": "white",
            "linecolor": "white",
            "ticks": ""
           },
           "baxis": {
            "gridcolor": "white",
            "linecolor": "white",
            "ticks": ""
           },
           "bgcolor": "#E5ECF6",
           "caxis": {
            "gridcolor": "white",
            "linecolor": "white",
            "ticks": ""
           }
          },
          "title": {
           "x": 0.05
          },
          "xaxis": {
           "automargin": true,
           "gridcolor": "white",
           "linecolor": "white",
           "ticks": "",
           "title": {
            "standoff": 15
           },
           "zerolinecolor": "white",
           "zerolinewidth": 2
          },
          "yaxis": {
           "automargin": true,
           "gridcolor": "white",
           "linecolor": "white",
           "ticks": "",
           "title": {
            "standoff": 15
           },
           "zerolinecolor": "white",
           "zerolinewidth": 2
          }
         }
        },
        "title": {
         "text": "Comparação da população dos países Paraguai e Rússia"
        },
        "width": 1300,
        "xaxis": {
         "anchor": "y",
         "domain": [
          0,
          1
         ],
         "tickfont": {
          "size": 8
         },
         "title": {
          "font": {
           "size": 10
          },
          "standoff": 10,
          "text": "Paraguai"
         }
        },
        "xaxis2": {
         "anchor": "y2",
         "domain": [
          0,
          1
         ],
         "tickfont": {
          "size": 8
         },
         "title": {
          "font": {
           "size": 10
          },
          "standoff": 10,
          "text": "Rússia"
         }
        },
        "yaxis": {
         "anchor": "x",
         "domain": [
          0.575,
          1
         ]
        },
        "yaxis2": {
         "anchor": "x2",
         "domain": [
          0,
          0.425
         ]
        }
       }
      }
     },
     "metadata": {},
     "output_type": "display_data"
    }
   ],
   "source": [
    "plot_regressao_estimada_comparacao(paises_population, 'Comparação da população dos países Paraguai e Rússia', int)"
   ]
  },
  {
   "cell_type": "code",
   "execution_count": 69,
   "metadata": {},
   "outputs": [
    {
     "data": {
      "application/vnd.plotly.v1+json": {
       "config": {
        "plotlyServerURL": "https://plot.ly"
       },
       "data": [
        {
         "line": {
          "color": "red"
         },
         "mode": "lines",
         "name": "Regressão",
         "type": "scatter",
         "x": [
          2007,
          2008,
          2009,
          2010,
          2011,
          2012,
          2013,
          2014,
          2015,
          2016,
          2017,
          2018,
          2019,
          2020,
          2021
         ],
         "xaxis": "x",
         "y": [
          4.005916666666849,
          4.190023809524007,
          4.374130952381108,
          4.558238095238266,
          4.7423452380954245,
          4.926452380952526,
          5.110559523809684,
          5.294666666666785,
          5.478773809523943,
          5.6628809523811015,
          5.846988095238203,
          6.031095238095361,
          6.215202380952462,
          6.39930952380962,
          6.583416666666778
         ],
         "yaxis": "y"
        },
        {
         "name": "Paraguai",
         "type": "scatter",
         "x": [
          "2007 ",
          "2008 ",
          "2009 ",
          "2010 ",
          "2011 ",
          "2012 ",
          "2013 ",
          "2014 ",
          "2015 ",
          "2016 ",
          "2017 ",
          "2018 ",
          "2019 ",
          "2020 ",
          "2021 "
         ],
         "xaxis": "x",
         "y": [
          4.71,
          4.42,
          5.46,
          4.57,
          4.67,
          4.09,
          4.38,
          5.03,
          4.56,
          5.25,
          4.61,
          6.22,
          6.59,
          7.55,
          7.31
         ],
         "yaxis": "y"
        },
        {
         "line": {
          "color": "red"
         },
         "mode": "lines",
         "name": "Regressão",
         "type": "scatter",
         "x": [
          2007,
          2008,
          2009,
          2010,
          2011,
          2012,
          2013,
          2014,
          2015,
          2016,
          2017,
          2018,
          2019,
          2020,
          2021
         ],
         "xaxis": "x2",
         "y": [
          6.900333333333151,
          6.7381904761903115,
          6.576047619047472,
          6.4139047619045755,
          6.251761904761736,
          6.089619047618896,
          5.927476190476057,
          5.765333333333217,
          5.6031904761903775,
          5.441047619047481,
          5.278904761904641,
          5.116761904761802,
          4.954619047618962,
          4.792476190476123,
          4.630333333333283
         ],
         "yaxis": "y2"
        },
        {
         "name": "Rússia",
         "type": "scatter",
         "x": [
          "2007 ",
          "2008 ",
          "2009 ",
          "2010 ",
          "2011 ",
          "2012 ",
          "2013 ",
          "2014 ",
          "2015 ",
          "2016 ",
          "2017 ",
          "2018 ",
          "2019 ",
          "2020 ",
          "2021 "
         ],
         "xaxis": "x2",
         "y": [
          6,
          6.21,
          8.3,
          7.37,
          6.54,
          5.44,
          5.46,
          5.16,
          5.57,
          5.56,
          5.21,
          4.85,
          4.5,
          5.59,
          4.72
         ],
         "yaxis": "y2"
        }
       ],
       "layout": {
        "height": 600,
        "showlegend": false,
        "template": {
         "data": {
          "bar": [
           {
            "error_x": {
             "color": "#2a3f5f"
            },
            "error_y": {
             "color": "#2a3f5f"
            },
            "marker": {
             "line": {
              "color": "#E5ECF6",
              "width": 0.5
             },
             "pattern": {
              "fillmode": "overlay",
              "size": 10,
              "solidity": 0.2
             }
            },
            "type": "bar"
           }
          ],
          "barpolar": [
           {
            "marker": {
             "line": {
              "color": "#E5ECF6",
              "width": 0.5
             },
             "pattern": {
              "fillmode": "overlay",
              "size": 10,
              "solidity": 0.2
             }
            },
            "type": "barpolar"
           }
          ],
          "carpet": [
           {
            "aaxis": {
             "endlinecolor": "#2a3f5f",
             "gridcolor": "white",
             "linecolor": "white",
             "minorgridcolor": "white",
             "startlinecolor": "#2a3f5f"
            },
            "baxis": {
             "endlinecolor": "#2a3f5f",
             "gridcolor": "white",
             "linecolor": "white",
             "minorgridcolor": "white",
             "startlinecolor": "#2a3f5f"
            },
            "type": "carpet"
           }
          ],
          "choropleth": [
           {
            "colorbar": {
             "outlinewidth": 0,
             "ticks": ""
            },
            "type": "choropleth"
           }
          ],
          "contour": [
           {
            "colorbar": {
             "outlinewidth": 0,
             "ticks": ""
            },
            "colorscale": [
             [
              0,
              "#0d0887"
             ],
             [
              0.1111111111111111,
              "#46039f"
             ],
             [
              0.2222222222222222,
              "#7201a8"
             ],
             [
              0.3333333333333333,
              "#9c179e"
             ],
             [
              0.4444444444444444,
              "#bd3786"
             ],
             [
              0.5555555555555556,
              "#d8576b"
             ],
             [
              0.6666666666666666,
              "#ed7953"
             ],
             [
              0.7777777777777778,
              "#fb9f3a"
             ],
             [
              0.8888888888888888,
              "#fdca26"
             ],
             [
              1,
              "#f0f921"
             ]
            ],
            "type": "contour"
           }
          ],
          "contourcarpet": [
           {
            "colorbar": {
             "outlinewidth": 0,
             "ticks": ""
            },
            "type": "contourcarpet"
           }
          ],
          "heatmap": [
           {
            "colorbar": {
             "outlinewidth": 0,
             "ticks": ""
            },
            "colorscale": [
             [
              0,
              "#0d0887"
             ],
             [
              0.1111111111111111,
              "#46039f"
             ],
             [
              0.2222222222222222,
              "#7201a8"
             ],
             [
              0.3333333333333333,
              "#9c179e"
             ],
             [
              0.4444444444444444,
              "#bd3786"
             ],
             [
              0.5555555555555556,
              "#d8576b"
             ],
             [
              0.6666666666666666,
              "#ed7953"
             ],
             [
              0.7777777777777778,
              "#fb9f3a"
             ],
             [
              0.8888888888888888,
              "#fdca26"
             ],
             [
              1,
              "#f0f921"
             ]
            ],
            "type": "heatmap"
           }
          ],
          "heatmapgl": [
           {
            "colorbar": {
             "outlinewidth": 0,
             "ticks": ""
            },
            "colorscale": [
             [
              0,
              "#0d0887"
             ],
             [
              0.1111111111111111,
              "#46039f"
             ],
             [
              0.2222222222222222,
              "#7201a8"
             ],
             [
              0.3333333333333333,
              "#9c179e"
             ],
             [
              0.4444444444444444,
              "#bd3786"
             ],
             [
              0.5555555555555556,
              "#d8576b"
             ],
             [
              0.6666666666666666,
              "#ed7953"
             ],
             [
              0.7777777777777778,
              "#fb9f3a"
             ],
             [
              0.8888888888888888,
              "#fdca26"
             ],
             [
              1,
              "#f0f921"
             ]
            ],
            "type": "heatmapgl"
           }
          ],
          "histogram": [
           {
            "marker": {
             "pattern": {
              "fillmode": "overlay",
              "size": 10,
              "solidity": 0.2
             }
            },
            "type": "histogram"
           }
          ],
          "histogram2d": [
           {
            "colorbar": {
             "outlinewidth": 0,
             "ticks": ""
            },
            "colorscale": [
             [
              0,
              "#0d0887"
             ],
             [
              0.1111111111111111,
              "#46039f"
             ],
             [
              0.2222222222222222,
              "#7201a8"
             ],
             [
              0.3333333333333333,
              "#9c179e"
             ],
             [
              0.4444444444444444,
              "#bd3786"
             ],
             [
              0.5555555555555556,
              "#d8576b"
             ],
             [
              0.6666666666666666,
              "#ed7953"
             ],
             [
              0.7777777777777778,
              "#fb9f3a"
             ],
             [
              0.8888888888888888,
              "#fdca26"
             ],
             [
              1,
              "#f0f921"
             ]
            ],
            "type": "histogram2d"
           }
          ],
          "histogram2dcontour": [
           {
            "colorbar": {
             "outlinewidth": 0,
             "ticks": ""
            },
            "colorscale": [
             [
              0,
              "#0d0887"
             ],
             [
              0.1111111111111111,
              "#46039f"
             ],
             [
              0.2222222222222222,
              "#7201a8"
             ],
             [
              0.3333333333333333,
              "#9c179e"
             ],
             [
              0.4444444444444444,
              "#bd3786"
             ],
             [
              0.5555555555555556,
              "#d8576b"
             ],
             [
              0.6666666666666666,
              "#ed7953"
             ],
             [
              0.7777777777777778,
              "#fb9f3a"
             ],
             [
              0.8888888888888888,
              "#fdca26"
             ],
             [
              1,
              "#f0f921"
             ]
            ],
            "type": "histogram2dcontour"
           }
          ],
          "mesh3d": [
           {
            "colorbar": {
             "outlinewidth": 0,
             "ticks": ""
            },
            "type": "mesh3d"
           }
          ],
          "parcoords": [
           {
            "line": {
             "colorbar": {
              "outlinewidth": 0,
              "ticks": ""
             }
            },
            "type": "parcoords"
           }
          ],
          "pie": [
           {
            "automargin": true,
            "type": "pie"
           }
          ],
          "scatter": [
           {
            "fillpattern": {
             "fillmode": "overlay",
             "size": 10,
             "solidity": 0.2
            },
            "type": "scatter"
           }
          ],
          "scatter3d": [
           {
            "line": {
             "colorbar": {
              "outlinewidth": 0,
              "ticks": ""
             }
            },
            "marker": {
             "colorbar": {
              "outlinewidth": 0,
              "ticks": ""
             }
            },
            "type": "scatter3d"
           }
          ],
          "scattercarpet": [
           {
            "marker": {
             "colorbar": {
              "outlinewidth": 0,
              "ticks": ""
             }
            },
            "type": "scattercarpet"
           }
          ],
          "scattergeo": [
           {
            "marker": {
             "colorbar": {
              "outlinewidth": 0,
              "ticks": ""
             }
            },
            "type": "scattergeo"
           }
          ],
          "scattergl": [
           {
            "marker": {
             "colorbar": {
              "outlinewidth": 0,
              "ticks": ""
             }
            },
            "type": "scattergl"
           }
          ],
          "scattermapbox": [
           {
            "marker": {
             "colorbar": {
              "outlinewidth": 0,
              "ticks": ""
             }
            },
            "type": "scattermapbox"
           }
          ],
          "scatterpolar": [
           {
            "marker": {
             "colorbar": {
              "outlinewidth": 0,
              "ticks": ""
             }
            },
            "type": "scatterpolar"
           }
          ],
          "scatterpolargl": [
           {
            "marker": {
             "colorbar": {
              "outlinewidth": 0,
              "ticks": ""
             }
            },
            "type": "scatterpolargl"
           }
          ],
          "scatterternary": [
           {
            "marker": {
             "colorbar": {
              "outlinewidth": 0,
              "ticks": ""
             }
            },
            "type": "scatterternary"
           }
          ],
          "surface": [
           {
            "colorbar": {
             "outlinewidth": 0,
             "ticks": ""
            },
            "colorscale": [
             [
              0,
              "#0d0887"
             ],
             [
              0.1111111111111111,
              "#46039f"
             ],
             [
              0.2222222222222222,
              "#7201a8"
             ],
             [
              0.3333333333333333,
              "#9c179e"
             ],
             [
              0.4444444444444444,
              "#bd3786"
             ],
             [
              0.5555555555555556,
              "#d8576b"
             ],
             [
              0.6666666666666666,
              "#ed7953"
             ],
             [
              0.7777777777777778,
              "#fb9f3a"
             ],
             [
              0.8888888888888888,
              "#fdca26"
             ],
             [
              1,
              "#f0f921"
             ]
            ],
            "type": "surface"
           }
          ],
          "table": [
           {
            "cells": {
             "fill": {
              "color": "#EBF0F8"
             },
             "line": {
              "color": "white"
             }
            },
            "header": {
             "fill": {
              "color": "#C8D4E3"
             },
             "line": {
              "color": "white"
             }
            },
            "type": "table"
           }
          ]
         },
         "layout": {
          "annotationdefaults": {
           "arrowcolor": "#2a3f5f",
           "arrowhead": 0,
           "arrowwidth": 1
          },
          "autotypenumbers": "strict",
          "coloraxis": {
           "colorbar": {
            "outlinewidth": 0,
            "ticks": ""
           }
          },
          "colorscale": {
           "diverging": [
            [
             0,
             "#8e0152"
            ],
            [
             0.1,
             "#c51b7d"
            ],
            [
             0.2,
             "#de77ae"
            ],
            [
             0.3,
             "#f1b6da"
            ],
            [
             0.4,
             "#fde0ef"
            ],
            [
             0.5,
             "#f7f7f7"
            ],
            [
             0.6,
             "#e6f5d0"
            ],
            [
             0.7,
             "#b8e186"
            ],
            [
             0.8,
             "#7fbc41"
            ],
            [
             0.9,
             "#4d9221"
            ],
            [
             1,
             "#276419"
            ]
           ],
           "sequential": [
            [
             0,
             "#0d0887"
            ],
            [
             0.1111111111111111,
             "#46039f"
            ],
            [
             0.2222222222222222,
             "#7201a8"
            ],
            [
             0.3333333333333333,
             "#9c179e"
            ],
            [
             0.4444444444444444,
             "#bd3786"
            ],
            [
             0.5555555555555556,
             "#d8576b"
            ],
            [
             0.6666666666666666,
             "#ed7953"
            ],
            [
             0.7777777777777778,
             "#fb9f3a"
            ],
            [
             0.8888888888888888,
             "#fdca26"
            ],
            [
             1,
             "#f0f921"
            ]
           ],
           "sequentialminus": [
            [
             0,
             "#0d0887"
            ],
            [
             0.1111111111111111,
             "#46039f"
            ],
            [
             0.2222222222222222,
             "#7201a8"
            ],
            [
             0.3333333333333333,
             "#9c179e"
            ],
            [
             0.4444444444444444,
             "#bd3786"
            ],
            [
             0.5555555555555556,
             "#d8576b"
            ],
            [
             0.6666666666666666,
             "#ed7953"
            ],
            [
             0.7777777777777778,
             "#fb9f3a"
            ],
            [
             0.8888888888888888,
             "#fdca26"
            ],
            [
             1,
             "#f0f921"
            ]
           ]
          },
          "colorway": [
           "#636efa",
           "#EF553B",
           "#00cc96",
           "#ab63fa",
           "#FFA15A",
           "#19d3f3",
           "#FF6692",
           "#B6E880",
           "#FF97FF",
           "#FECB52"
          ],
          "font": {
           "color": "#2a3f5f"
          },
          "geo": {
           "bgcolor": "white",
           "lakecolor": "white",
           "landcolor": "#E5ECF6",
           "showlakes": true,
           "showland": true,
           "subunitcolor": "white"
          },
          "hoverlabel": {
           "align": "left"
          },
          "hovermode": "closest",
          "mapbox": {
           "style": "light"
          },
          "paper_bgcolor": "white",
          "plot_bgcolor": "#E5ECF6",
          "polar": {
           "angularaxis": {
            "gridcolor": "white",
            "linecolor": "white",
            "ticks": ""
           },
           "bgcolor": "#E5ECF6",
           "radialaxis": {
            "gridcolor": "white",
            "linecolor": "white",
            "ticks": ""
           }
          },
          "scene": {
           "xaxis": {
            "backgroundcolor": "#E5ECF6",
            "gridcolor": "white",
            "gridwidth": 2,
            "linecolor": "white",
            "showbackground": true,
            "ticks": "",
            "zerolinecolor": "white"
           },
           "yaxis": {
            "backgroundcolor": "#E5ECF6",
            "gridcolor": "white",
            "gridwidth": 2,
            "linecolor": "white",
            "showbackground": true,
            "ticks": "",
            "zerolinecolor": "white"
           },
           "zaxis": {
            "backgroundcolor": "#E5ECF6",
            "gridcolor": "white",
            "gridwidth": 2,
            "linecolor": "white",
            "showbackground": true,
            "ticks": "",
            "zerolinecolor": "white"
           }
          },
          "shapedefaults": {
           "line": {
            "color": "#2a3f5f"
           }
          },
          "ternary": {
           "aaxis": {
            "gridcolor": "white",
            "linecolor": "white",
            "ticks": ""
           },
           "baxis": {
            "gridcolor": "white",
            "linecolor": "white",
            "ticks": ""
           },
           "bgcolor": "#E5ECF6",
           "caxis": {
            "gridcolor": "white",
            "linecolor": "white",
            "ticks": ""
           }
          },
          "title": {
           "x": 0.05
          },
          "xaxis": {
           "automargin": true,
           "gridcolor": "white",
           "linecolor": "white",
           "ticks": "",
           "title": {
            "standoff": 15
           },
           "zerolinecolor": "white",
           "zerolinewidth": 2
          },
          "yaxis": {
           "automargin": true,
           "gridcolor": "white",
           "linecolor": "white",
           "ticks": "",
           "title": {
            "standoff": 15
           },
           "zerolinecolor": "white",
           "zerolinewidth": 2
          }
         }
        },
        "title": {
         "text": "Comparação do desemprego dos países Paraguai e Rússia"
        },
        "width": 1300,
        "xaxis": {
         "anchor": "y",
         "domain": [
          0,
          1
         ],
         "tickfont": {
          "size": 8
         },
         "title": {
          "font": {
           "size": 10
          },
          "standoff": 10,
          "text": "Paraguai"
         }
        },
        "xaxis2": {
         "anchor": "y2",
         "domain": [
          0,
          1
         ],
         "tickfont": {
          "size": 8
         },
         "title": {
          "font": {
           "size": 10
          },
          "standoff": 10,
          "text": "Rússia"
         }
        },
        "yaxis": {
         "anchor": "x",
         "domain": [
          0.575,
          1
         ]
        },
        "yaxis2": {
         "anchor": "x2",
         "domain": [
          0,
          0.425
         ]
        }
       }
      }
     },
     "metadata": {},
     "output_type": "display_data"
    }
   ],
   "source": [
    "plot_regressao_estimada_comparacao(paises_unemployment, 'Comparação do desemprego dos países Paraguai e Rússia', float)"
   ]
  }
 ],
 "metadata": {
  "kernelspec": {
   "display_name": ".venv3_11",
   "language": "python",
   "name": "python3"
  },
  "language_info": {
   "codemirror_mode": {
    "name": "ipython",
    "version": 3
   },
   "file_extension": ".py",
   "mimetype": "text/x-python",
   "name": "python",
   "nbconvert_exporter": "python",
   "pygments_lexer": "ipython3",
   "version": "3.10.11"
  },
  "orig_nbformat": 4
 },
 "nbformat": 4,
 "nbformat_minor": 2
}
