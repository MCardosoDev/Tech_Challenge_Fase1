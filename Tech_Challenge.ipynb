{
 "cells": [
  {
   "cell_type": "code",
   "execution_count": null,
   "metadata": {},
   "outputs": [],
   "source": [
    "import pandas as pd\n",
    "import numpy as np\n",
    "import math\n",
    "import matplotlib.pyplot as plt\n",
    "import seaborn as sns\n",
    "import plotly.express as px\n",
    "import plotly.graph_objects as go\n",
    "from plotly.subplots import make_subplots\n",
    "from IPython.display import Image"
   ]
  },
  {
   "cell_type": "code",
   "execution_count": null,
   "metadata": {},
   "outputs": [],
   "source": [
    "display(Image(url=\"Data/tech_challenge_1.png\", width=600, height=600), Image(url=\"Data/tech_challenge_2.png\", width=600, height=600))"
   ]
  },
  {
   "attachments": {},
   "cell_type": "markdown",
   "metadata": {},
   "source": [
    "# Importar dados de exportação de vinhos"
   ]
  },
  {
   "cell_type": "code",
   "execution_count": null,
   "metadata": {},
   "outputs": [],
   "source": [
    "dataset_exp = pd.read_csv('Data/ExpVinho.csv', sep=';')\n",
    "dataset_exp.head()"
   ]
  },
  {
   "attachments": {},
   "cell_type": "markdown",
   "metadata": {},
   "source": [
    "# Importar dados de importação de vinhos"
   ]
  },
  {
   "cell_type": "code",
   "execution_count": null,
   "metadata": {},
   "outputs": [],
   "source": [
    "dataset_imp = pd.read_csv('Data/ImpVinhos.csv', sep=';')\n",
    "dataset_imp.head()"
   ]
  },
  {
   "cell_type": "code",
   "execution_count": null,
   "metadata": {},
   "outputs": [],
   "source": [
    "dataset_exp.drop(\"Id\", axis=1, inplace=True)\n",
    "dataset_exp.info()"
   ]
  },
  {
   "cell_type": "code",
   "execution_count": null,
   "metadata": {},
   "outputs": [],
   "source": [
    "dataset_imp.drop(\"Id\", axis=1, inplace=True)\n",
    "dataset_imp.info()"
   ]
  },
  {
   "cell_type": "code",
   "execution_count": null,
   "metadata": {},
   "outputs": [],
   "source": [
    "dataset_exp.rename(columns={\"País\": \"pais\"}, inplace=True)\n",
    "dataset_exp.head()"
   ]
  },
  {
   "cell_type": "code",
   "execution_count": null,
   "metadata": {},
   "outputs": [],
   "source": [
    "dataset_imp.rename(columns={\"País\": \"pais\"}, inplace=True)\n",
    "dataset_imp.head()"
   ]
  },
  {
   "cell_type": "code",
   "execution_count": null,
   "metadata": {},
   "outputs": [],
   "source": [
    "colunas_exp = [coluna for coluna in dataset_exp.columns if '.1' in coluna]\n",
    "colunas_exp.insert(0, 'pais')\n",
    "dataset_exp_valor = dataset_exp[colunas_exp]\n",
    "dataset_exp_valor.columns = dataset_exp_valor.columns.str.replace('.1', '')\n",
    "dataset_exp_valor.info()"
   ]
  },
  {
   "cell_type": "code",
   "execution_count": null,
   "metadata": {},
   "outputs": [],
   "source": [
    "colunas_imp = [coluna for coluna in dataset_exp.columns if '.1' in coluna]\n",
    "colunas_imp.insert(0, 'pais')\n",
    "dataset_imp_valor = dataset_imp[colunas_imp]\n",
    "dataset_imp_valor.columns = dataset_imp_valor.columns.str.replace('.1', '')\n",
    "dataset_imp_valor.info()"
   ]
  },
  {
   "cell_type": "code",
   "execution_count": null,
   "metadata": {},
   "outputs": [],
   "source": [
    "colunas_exp.remove('pais')\n",
    "dataset_exp_quantidade = dataset_exp.drop(colunas_exp, axis=1)\n",
    "dataset_exp_quantidade.info()"
   ]
  },
  {
   "cell_type": "code",
   "execution_count": null,
   "metadata": {},
   "outputs": [],
   "source": [
    "colunas_imp.remove('pais')\n",
    "dataset_imp_quantidade = dataset_imp.drop(colunas_imp, axis=1)\n",
    "dataset_imp_quantidade.info()"
   ]
  },
  {
   "cell_type": "code",
   "execution_count": null,
   "metadata": {},
   "outputs": [],
   "source": [
    "dataset_exp_quantidade.head(3)"
   ]
  },
  {
   "cell_type": "code",
   "execution_count": null,
   "metadata": {},
   "outputs": [],
   "source": [
    "dataset_exp_valor.head(3)"
   ]
  },
  {
   "cell_type": "code",
   "execution_count": null,
   "metadata": {},
   "outputs": [],
   "source": [
    "dataset_imp_quantidade.head(3)"
   ]
  },
  {
   "cell_type": "code",
   "execution_count": null,
   "metadata": {},
   "outputs": [],
   "source": [
    "dataset_imp_valor.head(3)"
   ]
  },
  {
   "cell_type": "code",
   "execution_count": null,
   "metadata": {},
   "outputs": [],
   "source": [
    "dataset_exp_quantidade_unpivot = dataset_exp_quantidade.reset_index().melt(id_vars=[\"pais\"], value_vars=dataset_exp_quantidade.columns)\n",
    "dataset_exp_quantidade_unpivot.columns = [\"Pais_destino\", \"ano\", \"Quantidade\"]\n",
    "dataset_exp_quantidade_unpivot.insert(0, 'Pais_origem', 'Brasil')\n",
    "dataset_exp_quantidade_unpivot.ano = dataset_exp_quantidade_unpivot.ano.astype(\"datetime64[ns]\").dt.year\n",
    "dataset_exp_quantidade_unpivot"
   ]
  },
  {
   "cell_type": "code",
   "execution_count": null,
   "metadata": {},
   "outputs": [],
   "source": [
    "dataset_imp_quantidade_unpivot = dataset_imp_quantidade.reset_index().melt(id_vars=[\"pais\"], value_vars=dataset_imp_quantidade.columns)\n",
    "dataset_imp_quantidade_unpivot.columns = [\"Pais_destino\", \"ano\", \"Quantidade\"]\n",
    "dataset_imp_quantidade_unpivot.insert(0, 'Pais_origem', 'Brasil')\n",
    "dataset_imp_quantidade_unpivot.ano = dataset_imp_quantidade_unpivot.ano.astype(\"datetime64[ns]\").dt.year\n",
    "dataset_imp_quantidade_unpivot"
   ]
  },
  {
   "cell_type": "code",
   "execution_count": null,
   "metadata": {},
   "outputs": [],
   "source": [
    "dataset_exp_valor_unpivot = dataset_exp_valor.reset_index().melt(id_vars=[\"pais\"], value_vars=dataset_exp_valor.columns)\n",
    "dataset_exp_valor_unpivot.columns = [\"Pais_destino\", \"ano\", \"Valor\"]\n",
    "dataset_exp_valor_unpivot.insert(0, 'Pais_origem', 'Brasil')\n",
    "dataset_exp_valor_unpivot.ano = dataset_exp_valor_unpivot.ano.astype(\"datetime64[ns]\").dt.year\n",
    "dataset_exp_valor_unpivot"
   ]
  },
  {
   "cell_type": "code",
   "execution_count": null,
   "metadata": {},
   "outputs": [],
   "source": [
    "dataset_imp_valor_unpivot = dataset_imp_valor.reset_index().melt(id_vars=[\"pais\"], value_vars=dataset_imp_valor.columns)\n",
    "dataset_imp_valor_unpivot.columns = [\"Pais_destino\", \"ano\", \"Valor\"]\n",
    "dataset_imp_valor_unpivot.insert(0, 'Pais_origem', 'Brasil')\n",
    "dataset_imp_valor_unpivot.ano = dataset_imp_valor_unpivot.ano.astype(\"datetime64[ns]\").dt.year\n",
    "dataset_imp_valor_unpivot"
   ]
  },
  {
   "cell_type": "code",
   "execution_count": null,
   "metadata": {},
   "outputs": [],
   "source": [
    "dataset_exp_unpivot = pd.merge(\n",
    "    dataset_exp_quantidade_unpivot,\n",
    "    dataset_exp_valor_unpivot,\n",
    "    left_on=['Pais_origem', 'Pais_destino', 'ano'],\n",
    "    right_on=['Pais_origem', 'Pais_destino', 'ano'])\n",
    "dataset_exp_unpivot"
   ]
  },
  {
   "cell_type": "code",
   "execution_count": null,
   "metadata": {},
   "outputs": [],
   "source": [
    "dataset_imp_unpivot = pd.merge(\n",
    "    dataset_imp_quantidade_unpivot,\n",
    "    dataset_imp_valor_unpivot,\n",
    "    left_on=['Pais_origem', 'Pais_destino', 'ano'],\n",
    "    right_on=['Pais_origem', 'Pais_destino', 'ano'])\n",
    "dataset_imp_unpivot = dataset_imp_unpivot.drop(dataset_imp_unpivot.index[-3:])\n",
    "dataset_imp_unpivot"
   ]
  },
  {
   "cell_type": "code",
   "execution_count": null,
   "metadata": {},
   "outputs": [],
   "source": [
    "dataset_exp_periodo = dataset_exp_unpivot.query(\"ano >= 2007\")\n",
    "dataset_exp_periodo.ano.unique()"
   ]
  },
  {
   "cell_type": "code",
   "execution_count": null,
   "metadata": {},
   "outputs": [],
   "source": [
    "dataset_imp_periodo = dataset_imp_unpivot.query(\"ano >= 2007\")\n",
    "dataset_imp_periodo.ano.unique()"
   ]
  },
  {
   "cell_type": "code",
   "execution_count": null,
   "metadata": {},
   "outputs": [],
   "source": [
    "dataset_exp_periodo.head(5)"
   ]
  },
  {
   "cell_type": "code",
   "execution_count": null,
   "metadata": {},
   "outputs": [],
   "source": [
    "dataset_imp_periodo.head(5)"
   ]
  },
  {
   "cell_type": "code",
   "execution_count": null,
   "metadata": {},
   "outputs": [],
   "source": [
    "total_exp_ano = dataset_exp_periodo.groupby('ano').sum()\n",
    "total_exp_ano = total_exp_ano.iloc[:,2:4]\n",
    "total_exp_ano.head()"
   ]
  },
  {
   "cell_type": "code",
   "execution_count": null,
   "metadata": {},
   "outputs": [],
   "source": [
    "total_imp_ano = dataset_imp_periodo.groupby('ano').sum()\n",
    "total_imp_ano = total_imp_ano.iloc[:,2:4]\n",
    "total_imp_ano.head()"
   ]
  },
  {
   "attachments": {},
   "cell_type": "markdown",
   "metadata": {},
   "source": [
    "# Dados para gráfico de porcentagem anual"
   ]
  },
  {
   "cell_type": "code",
   "execution_count": null,
   "metadata": {},
   "outputs": [],
   "source": [
    "#Dataset com 124 países e 15 anos\n",
    "dataset_exp_periodo"
   ]
  },
  {
   "cell_type": "code",
   "execution_count": null,
   "metadata": {},
   "outputs": [],
   "source": [
    "df_temporal=dataset_exp_periodo.iloc[:,[0,1,2,4]]\n",
    "df_temporal"
   ]
  },
  {
   "cell_type": "code",
   "execution_count": null,
   "metadata": {},
   "outputs": [],
   "source": [
    "df_temporal=df_temporal.pivot(index='ano', columns='Pais_destino', values='Valor')\n"
   ]
  },
  {
   "cell_type": "code",
   "execution_count": null,
   "metadata": {},
   "outputs": [],
   "source": [
    "df_temporal=df_temporal/1000_000"
   ]
  },
  {
   "cell_type": "code",
   "execution_count": null,
   "metadata": {},
   "outputs": [],
   "source": [
    "df_temporal"
   ]
  },
  {
   "cell_type": "code",
   "execution_count": null,
   "metadata": {},
   "outputs": [],
   "source": [
    "paises_separados = ['Rússia', 'Paraguai','Estados Unidos','Reino Unido', 'China']\n",
    "df_anos=df_temporal[['Rússia', 'Paraguai','Estados Unidos','Reino Unido', 'China']]\n",
    "df_anos['Outros'] = df_temporal.drop(paises_separados, axis=1).sum(axis=1)\n",
    "df_anos"
   ]
  },
  {
   "cell_type": "code",
   "execution_count": null,
   "metadata": {},
   "outputs": [],
   "source": [
    "df_anos=df_anos[['Outros','China','Reino Unido','Estados Unidos','Paraguai','Rússia']]\n",
    "df_anos"
   ]
  },
  {
   "cell_type": "code",
   "execution_count": null,
   "metadata": {},
   "outputs": [],
   "source": [
    "def plot_per_anual(data):  \n",
    "    \n",
    "    cores = {\n",
    "        'Rússia': 'rgb(255, 0, 0)',     # Vermelho\n",
    "        'Paraguai': 'rgb(200, 162, 200)',   # Lilás\n",
    "        'Estados Unidos': 'rgb(0, 0, 255)',     # Azul\n",
    "        'Reino Unido':'rgb(128, 0, 128)',   # Roxo\n",
    "        'China': 'rgb(255, 255, 0)',   # Amarelo\n",
    "        'Outros': 'rgb(128, 128, 128)'      # Cinza\n",
    "    }\n",
    "    data_percent=data.mul(100).div(data.sum(axis=1),axis=0)\n",
    "    fig = go.Figure()\n",
    "\n",
    "    for coluna in data.columns:\n",
    "        fig.add_trace(go.Bar(\n",
    "            x=data.index,\n",
    "            y=data[coluna],\n",
    "            name=coluna,\n",
    "            marker=dict(color=cores[coluna]),\n",
    "            text=data_percent[coluna].apply(lambda x: f'{x:.1f}%'),  \n",
    "            textposition='auto' \n",
    "        ))\n",
    "\n",
    "    fig.update_layout(\n",
    "        title='Percentual de exportação anual dos países com maior influência',\n",
    "        barmode='stack',\n",
    "        legend=dict(x=1, y=1, orientation='v'),\n",
    "        xaxis=dict(tickmode='linear'),\n",
    "        height=800,\n",
    "        yaxis_title='Valor (em milhões de U$)'\n",
    "    )\n",
    "    fig.show()\n"
   ]
  },
  {
   "cell_type": "code",
   "execution_count": null,
   "metadata": {},
   "outputs": [],
   "source": [
    "plot_per_anual(df_anos)"
   ]
  },
  {
   "attachments": {},
   "cell_type": "markdown",
   "metadata": {},
   "source": [
    "# Dados para Pareto de 2016 a 2021"
   ]
  },
  {
   "cell_type": "code",
   "execution_count": null,
   "metadata": {},
   "outputs": [],
   "source": [
    "total_exp_5 =dataset_exp_periodo.query(\"ano>=2016\")\n",
    "total_exp_5 = total_exp_5.groupby('ano').sum()\n",
    "total_exp_5 = total_exp_5.iloc[:,2:4]\n",
    "total_exp_5.head()"
   ]
  },
  {
   "cell_type": "code",
   "execution_count": null,
   "metadata": {},
   "outputs": [],
   "source": [
    "total_exp_5 = dataset_exp_periodo.query(\"ano>=2016\").groupby(['Pais_destino','Pais_origem']).sum()\n",
    "total_exp_5=total_exp_5.drop(columns=['ano','Quantidade'],axis=1)\n",
    "total_exp_5.head()"
   ]
  },
  {
   "cell_type": "code",
   "execution_count": null,
   "metadata": {},
   "outputs": [],
   "source": [
    "exp_pareto_5 = total_exp_5.sort_values('Valor', ascending=False)\n",
    "exp_pareto_5['Porcentagem_acumulada_valor'] = (exp_pareto_5['Valor'].cumsum() / exp_pareto_5['Valor'].sum()) * 100\n",
    "exp_pareto_5"
   ]
  },
  {
   "attachments": {},
   "cell_type": "markdown",
   "metadata": {},
   "source": [
    "# Criar tabela com itens de \"a\" até \"d\""
   ]
  },
  {
   "cell_type": "code",
   "execution_count": null,
   "metadata": {},
   "outputs": [],
   "source": [
    "total_exp_pais = dataset_exp_periodo.groupby(['Pais_destino', 'Pais_origem']).sum()\n",
    "total_exp_pais = total_exp_pais.iloc[:,:4].sort_values(by=['Quantidade', 'Valor'], ascending=False)\n",
    "total_exp_pais.drop(columns=['ano'], inplace=True)\n",
    "total_exp_pais.reset_index(inplace=True)\n",
    "total_exp_pais = total_exp_pais[(total_exp_pais.Quantidade != 0) & (total_exp_pais.Valor != 0)]\n",
    "total_exp_pais.head()"
   ]
  },
  {
   "cell_type": "code",
   "execution_count": null,
   "metadata": {},
   "outputs": [],
   "source": [
    "total_imp_pais = dataset_imp_periodo.groupby(['Pais_destino', 'Pais_origem']).sum()\n",
    "total_imp_pais = total_imp_pais.iloc[:,:4].sort_values(by=['Quantidade', 'Valor'], ascending=False)\n",
    "total_imp_pais.drop(columns=['ano'], inplace=True)\n",
    "total_imp_pais.reset_index(inplace=True)\n",
    "total_imp_pais = total_imp_pais.drop(total_imp_pais.index[-3:])\n",
    "total_imp_pais = total_imp_pais[(total_imp_pais.Quantidade != 0) & (total_imp_pais.Valor != 0)]\n",
    "total_imp_pais.head()"
   ]
  },
  {
   "cell_type": "code",
   "execution_count": null,
   "metadata": {},
   "outputs": [],
   "source": [
    "total_exp = dataset_exp_periodo.groupby(['Pais_origem', 'Pais_destino', 'ano']).sum()\n",
    "total_exp.head()"
   ]
  },
  {
   "cell_type": "code",
   "execution_count": null,
   "metadata": {},
   "outputs": [],
   "source": [
    "total_imp = dataset_imp_periodo.groupby(['Pais_origem', 'Pais_destino', 'ano']).sum()\n",
    "total_imp.head()"
   ]
  },
  {
   "cell_type": "code",
   "execution_count": null,
   "metadata": {},
   "outputs": [],
   "source": [
    "dataset_exp_periodo[['Quantidade', 'Valor']].describe().round()"
   ]
  },
  {
   "cell_type": "code",
   "execution_count": null,
   "metadata": {},
   "outputs": [],
   "source": [
    "dataset_imp_periodo[['Quantidade', 'Valor']].describe().round()"
   ]
  },
  {
   "cell_type": "code",
   "execution_count": null,
   "metadata": {},
   "outputs": [],
   "source": [
    "total_exp_pais.replace('Alemanha, República Democrática', 'Alemanha', inplace=True)\n",
    "total_exp_pais.replace('Taiwan (FORMOSA)', 'Taiwan', inplace=True)\n",
    "total_exp_pais.replace('Tcheca, República', 'República Tcheca', inplace=True)\n",
    "total_exp_pais.replace('Marshall, Ilhas', 'Ilhas Marshall', inplace=True)\n",
    "total_exp_pais.replace('Coreia, Republica Sul', 'Coreia do Sul', inplace=True)\n",
    "total_exp_pais.replace('Eslovaca, Republica', 'Eslováquia', inplace=True)"
   ]
  },
  {
   "cell_type": "code",
   "execution_count": null,
   "metadata": {},
   "outputs": [],
   "source": [
    "total_imp_pais.replace('Alemanha, República Democrática', 'Alemanha', inplace=True)\n",
    "total_imp_pais.replace('Taiwan (FORMOSA)', 'Taiwan', inplace=True)\n",
    "total_imp_pais.replace('Tcheca, República', 'República Tcheca', inplace=True)\n",
    "total_imp_pais.replace('Geórgia do Sul e Sandwich do Sul, Ilhas', 'Ilhas Geórgia do Sul e Sandwich do Sul,', inplace=True)\n",
    "total_imp_pais.replace('Paises Baixos (Holanda)', 'Países Baixos', inplace=True)\n",
    "total_imp_pais.replace('Tcheca, República', 'República Tcheca', inplace=True)"
   ]
  },
  {
   "attachments": {},
   "cell_type": "markdown",
   "metadata": {},
   "source": [
    "### Salvar .CSV para uso no Streamlit"
   ]
  },
  {
   "cell_type": "code",
   "execution_count": null,
   "metadata": {},
   "outputs": [],
   "source": [
    "total_exp_pais.to_csv('ExpVinhoPeriodo.csv', sep=',', index=False)\n",
    "total_imp_pais.to_csv('ImpVinhosPeriodo.csv', sep=',', index=False)"
   ]
  },
  {
   "cell_type": "code",
   "execution_count": null,
   "metadata": {},
   "outputs": [],
   "source": [
    "total_exp_pareto = total_exp_pais.sort_values('Valor', ascending=False)\n",
    "total_exp_pareto['Porcentagem_acumulada_valor'] = (total_exp_pareto['Valor'].cumsum() / total_exp_pareto['Valor'].sum()) * 100\n",
    "totalq_exp_pareto = total_exp_pais.sort_values('Quantidade', ascending=False)\n",
    "totalq_exp_pareto['Porcentagem_acumulada_quantidade'] = (totalq_exp_pareto['Quantidade'].cumsum() / totalq_exp_pareto['Quantidade'].sum()) * 100\n",
    "total_exp_pareto"
   ]
  },
  {
   "cell_type": "code",
   "execution_count": null,
   "metadata": {},
   "outputs": [],
   "source": [
    "totalq_exp_pareto.head(10)"
   ]
  },
  {
   "cell_type": "code",
   "execution_count": null,
   "metadata": {},
   "outputs": [],
   "source": [
    "total_imp_pareto = total_imp_pais.sort_values('Valor', ascending=False)\n",
    "total_imp_pareto['Porcentagem_acumulada_valor'] = (total_imp_pareto['Valor'].cumsum() / total_imp_pareto['Valor'].sum()) * 100\n",
    "total_imp_pareto['Porcentagem_acumulada_quantidade'] = (total_imp_pareto['Quantidade'].cumsum() / total_imp_pareto['Quantidade'].sum()) * 100\n",
    "total_imp_pareto"
   ]
  },
  {
   "attachments": {},
   "cell_type": "markdown",
   "metadata": {},
   "source": [
    "### Salvar .CSV para uso no Streamlit"
   ]
  },
  {
   "cell_type": "code",
   "execution_count": null,
   "metadata": {},
   "outputs": [],
   "source": [
    "total_exp_pareto.to_csv('ExpPareto.csv', sep=',', index=False)\n",
    "totalq_exp_pareto.to_csv('QExpPareto.csv', sep=',', index=False)\n",
    "total_imp_pareto.to_csv('ImpPareto.csv', sep=',', index=False)\n",
    "exp_pareto_5.to_csv('ExpPareto5.csv', sep=',')\n",
    "df_anos.to_csv('PorcentAnual.csv', sep=',')"
   ]
  },
  {
   "cell_type": "code",
   "execution_count": null,
   "metadata": {},
   "outputs": [],
   "source": [
    "total_exp_pareto"
   ]
  },
  {
   "attachments": {},
   "cell_type": "markdown",
   "metadata": {},
   "source": [
    "- fornecer o montante de venda de exportação dos últimos 15 anos\n",
    "- separando a analise por país\n",
    "- e trazendo quais as prospercções futuras e possíveis ações para uma melhoria nas exportações\n",
    "- Construa gráfico atraentes e que passem a ideia central para que os acionistas e invetidores possam seguir em frente com suas ações."
   ]
  },
  {
   "cell_type": "code",
   "execution_count": null,
   "metadata": {},
   "outputs": [],
   "source": [
    "total_exp_pareto_81 = total_exp_pareto.query(\"Porcentagem_acumulada_valor < 81\")\n",
    "total_exp_pareto_81"
   ]
  },
  {
   "cell_type": "code",
   "execution_count": null,
   "metadata": {},
   "outputs": [],
   "source": [
    "totalq_exp_pareto_92 = totalq_exp_pareto.query(\" Porcentagem_acumulada_quantidade < 92\")"
   ]
  },
  {
   "cell_type": "code",
   "execution_count": null,
   "metadata": {},
   "outputs": [],
   "source": [
    "total_imp_pareto = total_imp_pareto.query(\"Porcentagem_acumulada_valor < 90 or Porcentagem_acumulada_quantidade < 90\")\n",
    "total_imp_pareto"
   ]
  },
  {
   "cell_type": "code",
   "execution_count": null,
   "metadata": {},
   "outputs": [],
   "source": [
    "def plot_pareto(data, bar_x, bar_y, scatter_x, scatter_y, title, title_x, title_y, mean):\n",
    "    pareto = px.bar(\n",
    "        data,\n",
    "        x=bar_x,\n",
    "        y=bar_y,\n",
    "        color=bar_x,\n",
    "        title=bar_x,\n",
    "        color_discrete_sequence=px.colors.qualitative.T10,\n",
    "        template='plotly_white',\n",
    "        text_auto='.2s'\n",
    "    )\n",
    "    pareto.update_layout(\n",
    "        width=1300,\n",
    "        height=600\n",
    "    )\n",
    "    pareto.add_scatter(\n",
    "        x=data[scatter_x],\n",
    "        y=data[scatter_y], \n",
    "        mode='lines+text',\n",
    "        name='Porcentagem Acumulada',\n",
    "        text=[f'{x:.2f}' for x in data[scatter_y]],\n",
    "        textposition='top center',\n",
    "        yaxis='y2',\n",
    "        line={'color': 'red'}\n",
    "    )\n",
    "    pareto.update_layout(\n",
    "        title=title,\n",
    "        xaxis=dict(title=title_x),\n",
    "        yaxis=dict(title=title_y),\n",
    "        yaxis2=dict(title='Porcentagem Acumulada', overlaying='y', side='right', showgrid=False, range=[0, 100]),\n",
    "        legend=dict(orientation='h', yanchor='bottom', y=1.02, xanchor='right', x=1)\n",
    "    )\n",
    "    pareto.add_shape(\n",
    "        type='line',\n",
    "        x0=0,\n",
    "        x1=1,\n",
    "        y0=80,\n",
    "        y1=80,\n",
    "        line=dict(color='black', width=1),\n",
    "        xref='paper',\n",
    "        yref='y2'\n",
    "    )\n",
    "    pareto.add_shape(\n",
    "        type='line',\n",
    "        x0=0,\n",
    "        x1=7,\n",
    "        y0=mean,\n",
    "        y1=mean,\n",
    "        line=dict(color='blue', width=1)\n",
    "    )\n",
    "    pareto.add_annotation(\n",
    "        x=4.5,\n",
    "        y=mean,\n",
    "        text= f\"Média: {mean / 1000000:.2f}M\",\n",
    "        showarrow=True,\n",
    "        arrowhead=1,\n",
    "        ax=40,\n",
    "        ay=-40,\n",
    "        xref='x',\n",
    "        font=dict(color='blue')\n",
    "    )\n",
    "    pareto.show()"
   ]
  },
  {
   "attachments": {},
   "cell_type": "markdown",
   "metadata": {},
   "source": [
    "## Gráfico de Pareto dados de Exportação"
   ]
  },
  {
   "cell_type": "code",
   "execution_count": null,
   "metadata": {},
   "outputs": [],
   "source": [
    "plot_pareto(\n",
    "    total_exp_pareto_81,\n",
    "    \"Pais_destino\",\n",
    "    \"Valor\",\n",
    "    \"Pais_destino\",\n",
    "    \"Porcentagem_acumulada_valor\",\n",
    "    \"Gráfico de Pareto - Valor Total de Vendas para países responsáveis por 80% da vendas no período\",\n",
    "    \"País\",\n",
    "    \"Valor (U$)\",\n",
    "    total_exp_pareto.Valor.mean()\n",
    ")"
   ]
  },
  {
   "attachments": {},
   "cell_type": "markdown",
   "metadata": {},
   "source": [
    "**Paraguai, Rússia, Estados Unidos, Reino Unido, China, Países Baixos e Espanha são responsáveis por 80% do total vendido**"
   ]
  },
  {
   "cell_type": "code",
   "execution_count": null,
   "metadata": {},
   "outputs": [],
   "source": [
    "plot_pareto(\n",
    "    totalq_exp_pareto_92,\n",
    "    \"Pais_destino\",\n",
    "    \"Quantidade\",\n",
    "    \"Pais_destino\",\n",
    "    \"Porcentagem_acumulada_quantidade\",\n",
    "    \"Gráfico de Pareto - Quantidade Total de Vendas para países responsáveis por 90% das quantidades vendidas no período\",\n",
    "    \"País\",\n",
    "    \"Quantidade (L)\",\n",
    "    totalq_exp_pareto.Quantidade.mean()\n",
    ")"
   ]
  },
  {
   "attachments": {},
   "cell_type": "markdown",
   "metadata": {},
   "source": [
    "**Paraguai, Rússia e EUA são responsáveis por 80% do total vendido em Kg/Litros**"
   ]
  },
  {
   "cell_type": "code",
   "execution_count": null,
   "metadata": {},
   "outputs": [],
   "source": [
    "plot_pareto(\n",
    "    exp_pareto_5.query(\"Porcentagem_acumulada_valor < 90\").reset_index(),\n",
    "    \"Pais_destino\",\n",
    "    \"Valor\",\n",
    "    \"Pais_destino\",\n",
    "    \"Porcentagem_acumulada_valor\",\n",
    "    \"Gráfico de Pareto - Valor Total de Vendas parar países responsáveis por até 90% da vendas no período de 2016 a 2021\",\n",
    "    \"País\",\n",
    "    \"Valor (U$)\",\n",
    "    exp_pareto_5.Valor.mean()\n",
    ")"
   ]
  },
  {
   "cell_type": "code",
   "execution_count": null,
   "metadata": {},
   "outputs": [],
   "source": [
    "# plot_pareto(\n",
    "#     exp_pareto_2014.query(\"Porcentagem_acumulada_valor < 85\").reset_index(),\n",
    "#     \"Pais_destino\",\n",
    "#     \"Valor\",\n",
    "#     \"Pais_destino\",\n",
    "#     \"Porcentagem_acumulada_valor\",\n",
    "#     \"Gráfico de Pareto - Valor Total de Vendas para países responsáveis por até 85% da vendas em 2014\",\n",
    "#     \"País\",\n",
    "#     \"Valor (U$)\",\n",
    "#     exp_pareto_2014.Valor.mean()\n",
    "# )"
   ]
  },
  {
   "attachments": {},
   "cell_type": "markdown",
   "metadata": {},
   "source": [
    "## Gráfico de Pareto dados de Importação"
   ]
  },
  {
   "cell_type": "code",
   "execution_count": null,
   "metadata": {},
   "outputs": [],
   "source": [
    "plot_pareto(\n",
    "    total_imp_pareto,\n",
    "    \"Pais_destino\",\n",
    "    \"Valor\",\n",
    "    \"Pais_destino\",\n",
    "    \"Porcentagem_acumulada_valor\",\n",
    "    \"Gráfico de Pareto - Valor Total de Importação para países responsáveis por 80% das importações no período\",\n",
    "    \"País\",\n",
    "    \"Valor (U$)\",\n",
    "    total_imp_pareto.Valor.mean()\n",
    ")"
   ]
  },
  {
   "attachments": {},
   "cell_type": "markdown",
   "metadata": {},
   "source": [
    "**Chile, Argentina, Portugal e Itália são responsáveis por 80% do total importado**"
   ]
  },
  {
   "cell_type": "code",
   "execution_count": null,
   "metadata": {},
   "outputs": [],
   "source": [
    "plot_pareto(\n",
    "    total_imp_pareto,\n",
    "    \"Pais_destino\",\n",
    "    \"Quantidade\",\n",
    "    \"Pais_destino\",\n",
    "    \"Porcentagem_acumulada_quantidade\",\n",
    "    \"Gráfico de Pareto - Quantidade Total de Importação para países responsáveis por 80% das importações no período\",\n",
    "    \"País\",\n",
    "    \"Quantidade (L)\",\n",
    "    total_imp_pareto.Quantidade.mean()\n",
    ")"
   ]
  },
  {
   "attachments": {},
   "cell_type": "markdown",
   "metadata": {},
   "source": [
    "**Chile, Argentina, Portugal e Itália são responsáveis por 80% da quantidade importada**"
   ]
  },
  {
   "attachments": {},
   "cell_type": "markdown",
   "metadata": {},
   "source": [
    "# Importar dados financeiros do Banco Mundial"
   ]
  },
  {
   "attachments": {},
   "cell_type": "markdown",
   "metadata": {},
   "source": [
    "## Dados do PIB (US$)"
   ]
  },
  {
   "cell_type": "code",
   "execution_count": null,
   "metadata": {},
   "outputs": [],
   "source": [
    "dataset_pib = pd.read_excel('data/GPD.xlsx', thousands=',', decimal='.', skipfooter=50)\n",
    "dataset_pib.drop('Unnamed: 4', axis=1, inplace=True)\n",
    "dataset_pib.rename(columns={\" \": \"pais\"}, inplace=True)\n",
    "dataset_pib.head(1)"
   ]
  },
  {
   "attachments": {},
   "cell_type": "markdown",
   "metadata": {},
   "source": [
    "## Dados de Inflação (%)"
   ]
  },
  {
   "cell_type": "code",
   "execution_count": null,
   "metadata": {},
   "outputs": [],
   "source": [
    "dataset_inflation = pd.read_excel('data/Inflation.xlsx', skipfooter=54)\n",
    "dataset_inflation.drop('Series Name', axis=1, inplace=True)\n",
    "dataset_inflation.drop('Series Code', axis=1, inplace=True)\n",
    "dataset_inflation.drop('Country Code', axis=1, inplace=True)\n",
    "dataset_inflation.rename(columns={\"Country Name\": \"pais\"}, inplace=True)\n",
    "dataset_inflation.columns = dataset_inflation.columns.str.replace(r'\\[YR\\d{4}\\]\\s*', '', regex=True)\n",
    "dataset_inflation.head(1)"
   ]
  },
  {
   "attachments": {},
   "cell_type": "markdown",
   "metadata": {},
   "source": [
    "## Dados de proporção do comércio internacional em relação ao PIB (%) "
   ]
  },
  {
   "cell_type": "code",
   "execution_count": null,
   "metadata": {},
   "outputs": [],
   "source": [
    "dataset_trade = pd.read_excel('data/Trade.xlsx', skipfooter=54)\n",
    "dataset_trade.drop('Series Name', axis=1, inplace=True)\n",
    "dataset_trade.drop('Series Code', axis=1, inplace=True)\n",
    "dataset_trade.drop('Country Code', axis=1, inplace=True)\n",
    "dataset_trade.rename(columns={\"Country Name\": \"pais\"}, inplace=True)\n",
    "dataset_trade.columns = dataset_trade.columns.str.replace(r'\\[YR\\d{4}\\]\\s*', '', regex=True)\n",
    "dataset_trade.head(2)"
   ]
  },
  {
   "attachments": {},
   "cell_type": "markdown",
   "metadata": {},
   "source": [
    "## Dados de população"
   ]
  },
  {
   "cell_type": "code",
   "execution_count": null,
   "metadata": {},
   "outputs": [],
   "source": [
    "dataset_population = pd.read_excel('data/Population.xlsx', skipfooter=54)\n",
    "dataset_population.drop('Series Name', axis=1, inplace=True)\n",
    "dataset_population.drop('Series Code', axis=1, inplace=True)\n",
    "dataset_population.drop('Country Code', axis=1, inplace=True)\n",
    "dataset_population.rename(columns={\"Country Name\": \"pais\"}, inplace=True)\n",
    "dataset_population.columns = dataset_population.columns.str.replace(r'\\[YR\\d{4}\\]\\s*', '', regex=True)\n",
    "dataset_population.head(1)"
   ]
  },
  {
   "attachments": {},
   "cell_type": "markdown",
   "metadata": {},
   "source": [
    "## Dados de desemprego"
   ]
  },
  {
   "cell_type": "code",
   "execution_count": null,
   "metadata": {},
   "outputs": [],
   "source": [
    "dataset_unemployment = pd.read_excel('data/Unemployment.xlsx', skipfooter=54)\n",
    "dataset_unemployment.drop('Series Name', axis=1, inplace=True)\n",
    "dataset_unemployment.drop('Series Code', axis=1, inplace=True)\n",
    "dataset_unemployment.drop('Country Code', axis=1, inplace=True)\n",
    "dataset_unemployment.rename(columns={\"Country Name\": \"pais\"}, inplace=True)\n",
    "dataset_unemployment.columns = dataset_unemployment.columns.str.replace(r'\\[YR\\d{4}\\]\\s*', '', regex=True)\n",
    "dataset_unemployment.head(1)"
   ]
  },
  {
   "attachments": {},
   "cell_type": "markdown",
   "metadata": {},
   "source": [
    "# Limpeza dos dados"
   ]
  },
  {
   "cell_type": "code",
   "execution_count": null,
   "metadata": {},
   "outputs": [],
   "source": [
    "dataset_pib.set_index('pais',inplace=True)\n",
    "dataset_pib"
   ]
  },
  {
   "cell_type": "code",
   "execution_count": null,
   "metadata": {},
   "outputs": [],
   "source": [
    "dataset_inflation.set_index('pais',inplace=True)\n",
    "dataset_inflation"
   ]
  },
  {
   "cell_type": "code",
   "execution_count": null,
   "metadata": {},
   "outputs": [],
   "source": [
    "dataset_trade.set_index('pais',inplace=True)\n",
    "dataset_trade"
   ]
  },
  {
   "cell_type": "code",
   "execution_count": null,
   "metadata": {},
   "outputs": [],
   "source": [
    "dataset_population.set_index('pais',inplace=True)\n",
    "dataset_population"
   ]
  },
  {
   "cell_type": "code",
   "execution_count": null,
   "metadata": {},
   "outputs": [],
   "source": [
    "dataset_unemployment.set_index('pais',inplace=True)\n",
    "dataset_unemployment"
   ]
  },
  {
   "cell_type": "code",
   "execution_count": null,
   "metadata": {},
   "outputs": [],
   "source": [
    "dataset_pib.info()"
   ]
  },
  {
   "cell_type": "code",
   "execution_count": null,
   "metadata": {},
   "outputs": [],
   "source": [
    "dataset_pib = dataset_pib.replace(\"..\", \"0\").applymap(lambda x: float(x) if isinstance(x, str) else x)\n",
    "dataset_pib.reset_index(inplace=True)\n",
    "dataset_pib"
   ]
  },
  {
   "cell_type": "code",
   "execution_count": null,
   "metadata": {},
   "outputs": [],
   "source": [
    "dataset_pib.info()"
   ]
  },
  {
   "cell_type": "code",
   "execution_count": null,
   "metadata": {},
   "outputs": [],
   "source": [
    "dataset_inflation.info()"
   ]
  },
  {
   "cell_type": "code",
   "execution_count": null,
   "metadata": {},
   "outputs": [],
   "source": [
    "dataset_inflation = dataset_inflation.replace(\"..\", \"0\").applymap(lambda x: float(x) if isinstance(x, str) else x)\n",
    "dataset_inflation.reset_index(inplace=True)\n",
    "dataset_inflation"
   ]
  },
  {
   "cell_type": "code",
   "execution_count": null,
   "metadata": {},
   "outputs": [],
   "source": [
    "dataset_inflation.info()"
   ]
  },
  {
   "cell_type": "code",
   "execution_count": null,
   "metadata": {},
   "outputs": [],
   "source": [
    "dataset_trade.info()"
   ]
  },
  {
   "cell_type": "code",
   "execution_count": null,
   "metadata": {},
   "outputs": [],
   "source": [
    "dataset_trade = dataset_trade.replace(\"..\", \"0\").applymap(lambda x: float(x) if isinstance(x, str) else x)\n",
    "dataset_trade.reset_index(inplace=True)\n",
    "dataset_trade"
   ]
  },
  {
   "cell_type": "code",
   "execution_count": null,
   "metadata": {},
   "outputs": [],
   "source": [
    "dataset_trade.info()"
   ]
  },
  {
   "cell_type": "code",
   "execution_count": null,
   "metadata": {},
   "outputs": [],
   "source": [
    "dataset_population.info()"
   ]
  },
  {
   "cell_type": "code",
   "execution_count": null,
   "metadata": {},
   "outputs": [],
   "source": [
    "dataset_population = dataset_population.applymap(lambda x: float(x) if isinstance(x, str) else x)\n",
    "dataset_population.reset_index(inplace=True)\n",
    "dataset_population"
   ]
  },
  {
   "cell_type": "code",
   "execution_count": null,
   "metadata": {},
   "outputs": [],
   "source": [
    "dataset_population.info()"
   ]
  },
  {
   "cell_type": "code",
   "execution_count": null,
   "metadata": {},
   "outputs": [],
   "source": [
    "dataset_unemployment.info()"
   ]
  },
  {
   "cell_type": "code",
   "execution_count": null,
   "metadata": {},
   "outputs": [],
   "source": [
    "dataset_unemployment = dataset_unemployment.replace(\"..\", \"0\").applymap(lambda x: float(x) if isinstance(x, str) else x)\n",
    "dataset_unemployment.reset_index(inplace=True)\n",
    "dataset_unemployment"
   ]
  },
  {
   "cell_type": "code",
   "execution_count": null,
   "metadata": {},
   "outputs": [],
   "source": [
    "dataset_unemployment.info()"
   ]
  },
  {
   "cell_type": "code",
   "execution_count": null,
   "metadata": {},
   "outputs": [],
   "source": [
    "dataset_exp_valor['pais'] = dataset_exp_valor['pais'].str.replace('Alemanha, República Democrática', 'Alemanha')\n",
    "dataset_exp_valor['pais'] = dataset_exp_valor['pais'].str.replace('Taiwan (FORMOSA)', 'Taiwan')\n",
    "paises_exportacao = dataset_exp_valor.query(\"pais == 'Paraguai' or pais == 'Rússia' or pais == 'Estados Unidos' or pais == 'Reino Unido' or pais == 'China' or pais == 'Países Baixos' or pais == 'Espanha' or pais == 'Alemanha' or pais == 'Japão' or pais == 'Haiti' or pais == 'Bélgica' or pais == 'Canadá' or pais == 'Suíça'\")\n",
    "periodo_exp = [str(ano) for ano in range(2007, 2022)]\n",
    "colunas_exp = ['pais'] + periodo_exp\n",
    "paises_exportacao = paises_exportacao.loc[:, colunas_exp]\n",
    "paises_exportacao.head()"
   ]
  },
  {
   "cell_type": "code",
   "execution_count": null,
   "metadata": {},
   "outputs": [],
   "source": [
    "# paises_importacao = dataset_imp_valor.query(\"pais == 'Paraguai' or pais == 'Rússia' or pais == 'Estados Unidos' or pais == 'Reino Unido' or pais == 'China' or pais == 'Países Baixos' or pais == 'Espanha'\")\n",
    "paises_importacao = dataset_imp_valor.query(\"pais == 'Chile' or pais == 'Argentina' or pais == 'Portugal' or pais == 'Itália' or pais == 'França' or pais == 'Espanha' or pais == 'Uruguai' or pais == 'Africa do Sul' or pais == 'Estados Unidos' or pais == 'Austrália' or pais == 'Nova Zelândia' or pais == 'Alemanha'\")\n",
    "periodo_imp = [str(ano) for ano in range(2007, 2022)]\n",
    "colunas_imp = ['pais'] + periodo_imp\n",
    "paises_importacao = paises_importacao.loc[:, colunas_imp]\n",
    "paises_importacao"
   ]
  },
  {
   "cell_type": "code",
   "execution_count": null,
   "metadata": {},
   "outputs": [],
   "source": [
    "paises_exportacao.dtypes"
   ]
  },
  {
   "cell_type": "code",
   "execution_count": null,
   "metadata": {},
   "outputs": [],
   "source": [
    "paises_importacao.dtypes"
   ]
  },
  {
   "cell_type": "code",
   "execution_count": null,
   "metadata": {},
   "outputs": [],
   "source": [
    "nomes = {\n",
    "    'Afghanistan': 'Afeganistão',\n",
    "    'Albania': 'Albânia',\n",
    "    'Algeria': 'Argélia',\n",
    "    'American Samoa': 'Samoa',\n",
    "    'Andorra': 'Andorra',\n",
    "    'Angola': 'Angola',\n",
    "    'Antigua and Barbuda': 'Antígua e Barbuda',\n",
    "    'Argentina': 'Argentina',\n",
    "    'Armenia': 'Armênia',\n",
    "    'Aruba': 'Aruba',\n",
    "    'Australia': 'Austrália',\n",
    "    'Austria': 'Áustria',\n",
    "    'Azerbaijan': 'Azerbaijão',\n",
    "    'Bahamas, The': 'Bahamas',\n",
    "    'Bahrain': 'Bahrein',\n",
    "    'Bangladesh': 'Bangladesh',\n",
    "    'Barbados': 'Barbados',\n",
    "    'Belarus': 'Bielorrússia',\n",
    "    'Belgium': 'Bélgica',\n",
    "    'Belize': 'Belize',\n",
    "    'Benin': 'Benin',\n",
    "    'Bermuda': 'Bermudas',\n",
    "    'Bhutan': 'Butão',\n",
    "    'Bolivia': 'Bolívia',\n",
    "    'Bosnia and Herzegovina': 'Bósnia e Herzegovina',\n",
    "    'Botswana': 'Botsuana',\n",
    "    'Brazil': 'Brasil',\n",
    "    'British Virgin Islands': 'Ilhas Virgens Britânicas',\n",
    "    'Brunei Darussalam': 'Brunei',\n",
    "    'Bulgaria': 'Bulgária',\n",
    "    'Burkina Faso': 'Burkina Faso',\n",
    "    'Burundi': 'Burundi',\n",
    "    'Cabo Verde': 'Cabo Verde',\n",
    "    'Cambodia': 'Camboja',\n",
    "    'Cameroon': 'Camarões',\n",
    "    'Canada': 'Canadá',\n",
    "    'Cayman Islands': 'Ilhas Cayman',\n",
    "    'Central African Republic': 'República Centro-Africana',\n",
    "    'Chad': 'Chade',\n",
    "    'Channel Islands': 'Ilhas do Canal',\n",
    "    'Chile': 'Chile',\n",
    "    'China': 'China',\n",
    "    'Colombia': 'Colômbia',\n",
    "    'Comoros': 'Comores',\n",
    "    'Congo, Dem. Rep.': 'Dem Congo',\n",
    "    'Congo, Rep.': 'Congo',\n",
    "    'Costa Rica': 'Costa Rica',\n",
    "    \"Cote d'Ivoire\": 'Costa do Marfim',\n",
    "    'Croatia': 'Croácia',\n",
    "    'Cuba': 'Cuba',\n",
    "    'Curacao': 'Curaçao',\n",
    "    'Cyprus': 'Chipre',\n",
    "    'Czechia': 'Tchéquia',\n",
    "    'Denmark': 'Dinamarca',\n",
    "    'Djibouti': 'Djibuti',\n",
    "    'Dominica': 'Dominica',\n",
    "    'Dominican Republic': 'República Dominicana',\n",
    "    'Ecuador': 'Equador',\n",
    "    'Egypt, Arab Rep.': 'Egito',\n",
    "    'El Salvador': 'El Salvador',\n",
    "    'Equatorial Guinea': 'Guiné Equatorial',\n",
    "    'Eritrea': 'Eritreia',\n",
    "    'Estonia': 'Estônia',\n",
    "    'Eswatini': 'Eswatini',\n",
    "    'Ethiopia': 'Etiópia',\n",
    "    'Faroe Islands': 'Ilhas Faroe',\n",
    "    'Fiji': 'Fiji',\n",
    "    'Finland': 'Finlândia',\n",
    "    'France': 'França',\n",
    "    'French Polynesia': 'Polinésia',\n",
    "    'Gabon': 'Gabão',\n",
    "    'Gambia, The': 'Gâmbia',\n",
    "    'Georgia': 'Geórgia',\n",
    "    'Germany': 'Alemanha',\n",
    "    'Ghana': 'Gana',\n",
    "    'Gibraltar': 'Gibraltar',\n",
    "    'Greece': 'Grécia',\n",
    "    'Greenland': 'Groenlândia',\n",
    "    'Grenada': 'Granada',\n",
    "    'Guam': 'Guam',\n",
    "    'Guatemala': 'Guatemala',\n",
    "    'Guinea': 'Guiné',\n",
    "    'Guinea-Bissau': 'Guiné-Bissau',\n",
    "    'Guyana': 'Guiana',\n",
    "    'Haiti': 'Haiti',\n",
    "    'Honduras': 'Honduras',\n",
    "    'Hong Kong SAR, China': 'Hong Kong',\n",
    "    'Hungary': 'Hungria',\n",
    "    'Iceland': 'Islândia',\n",
    "    'India': 'Índia',\n",
    "    'Indonesia': 'Indonésia',\n",
    "    'Iran, Islamic Rep.': 'Irã',\n",
    "    'Iraq': 'Iraque',\n",
    "    'Ireland': 'Irlanda',\n",
    "    'Isle of Man': 'Ilha de Man',\n",
    "    'Israel': 'Israel',\n",
    "    'Italy': 'Itália',\n",
    "    'Jamaica': 'Jamaica',\n",
    "    'Japan': 'Japão',\n",
    "    'Jordan': 'Jordânia',\n",
    "    'Kazakhstan': 'Cazaquistão',\n",
    "    'Kenya': 'Quênia',\n",
    "    'Kiribati': 'Kiribati',\n",
    "    \"Korea, Dem. People's Rep.\": 'Coreia do Norte',\n",
    "    'Korea, Rep.': 'Coreia do Sul',\n",
    "    'Kosovo': 'Kosovo',\n",
    "    'Kuwait': 'Kuwait',\n",
    "    'Kyrgyz Republic': 'Quirguistão',\n",
    "    'Lao PDR': 'Laos',\n",
    "    'Latvia': 'Letônia',\n",
    "    'Lebanon': 'Líbano',\n",
    "    'Lesotho': 'Lesoto',\n",
    "    'Liberia': 'Libéria',\n",
    "    'Libya': 'Líbia',\n",
    "    'Liechtenstein': 'Liechtenstein',\n",
    "    'Lithuania': 'Lituânia',\n",
    "    'Luxembourg': 'Luxemburgo',\n",
    "    'Macao SAR, China': 'Macau',\n",
    "    'Madagascar': 'Madagascar',\n",
    "    'Malawi': 'Malawi',\n",
    "    'Malaysia': 'Malásia',\n",
    "    'Maldives': 'Maldivas',\n",
    "    'Mali': 'Mali',\n",
    "    'Malta': 'Malta',\n",
    "    'Marshall Islands': 'Ilhas Marshall',\n",
    "    'Mauritania': 'Mauritânia',\n",
    "    'Mauritius': 'Maurício',\n",
    "    'Mexico': 'México',\n",
    "    'Micronesia, Fed. Sts.': 'Micronésia',\n",
    "    'Moldova': 'Moldávia',\n",
    "    'Monaco': 'Mônaco',\n",
    "    'Mongolia': 'Mongólia',\n",
    "    'Montenegro': 'Montenegro',\n",
    "    'Morocco': 'Marrocos',\n",
    "    'Mozambique': 'Moçambique',\n",
    "    'Myanmar': 'Mianmar',\n",
    "    'Namibia': 'Namíbia',\n",
    "    'Nauru': 'Nauru',\n",
    "    'Nepal': 'Nepal',\n",
    "    'Netherlands': 'Países Baixos',\n",
    "    'New Caledonia': 'Nova Caledônia',\n",
    "    'New Zealand': 'Nova Zelândia',\n",
    "    'Nicaragua': 'Nicarágua',\n",
    "    'Niger': 'Níger',\n",
    "    'Nigeria': 'Nigéria',\n",
    "    'North Macedonia': 'Macedônia do Norte',\n",
    "    'Northern Mariana Islands': 'Ilhas Marianas do Norte',\n",
    "    'Norway': 'Noruega',\n",
    "    'Oman': 'Omã',\n",
    "    'Pakistan': 'Paquistão',\n",
    "    'Palau': 'Palau',\n",
    "    'Panama': 'Panamá',\n",
    "    'Papua New Guinea': 'Papua-Nova Guiné',\n",
    "    'Paraguay': 'Paraguai',\n",
    "    'Peru': 'Peru',\n",
    "    'Philippines': 'Filipinas',\n",
    "    'Poland': 'Polônia',\n",
    "    'Portugal': 'Portugal',\n",
    "    'Puerto Rico': 'Porto Rico',\n",
    "    'Qatar': 'Catar',\n",
    "    'Romania': 'Romênia',\n",
    "    'Russian Federation': 'Rússia',\n",
    "    'Rwanda': 'Ruanda',\n",
    "    'Samoa': 'Samoa',\n",
    "    'San Marino': 'San Marino',\n",
    "    'Sao Tome and Principe': 'São Tomé e Príncipe',\n",
    "    'Saudi Arabia': 'Arábia Saudita',\n",
    "    'Senegal': 'Senegal',\n",
    "    'Serbia': 'Sérvia',\n",
    "    'Seychelles': 'Seychelles',\n",
    "    'Sierra Leone': 'Serra Leoa',\n",
    "    'Singapore': 'Singapura',\n",
    "    'Sint Maarten (Dutch part)': 'São Martinho',\n",
    "    'Slovak Republic': 'Eslováquia',\n",
    "    'Slovenia': 'Eslovênia',\n",
    "    'Solomon Islands': 'Ilhas Salomão',\n",
    "    'Somalia': 'Somália',\n",
    "    'South Africa': 'África do Sul',\n",
    "    'South Sudan': 'Sudão do Sul',\n",
    "    'Spain': 'Espanha',\n",
    "    'Sri Lanka': 'Sri Lanka',\n",
    "    'St. Kitts and Nevis': 'São Cristóvão e Névis',\n",
    "    'St. Lucia': 'Santa Lúcia',\n",
    "    'St. Martin (French part)': 'São Martinho',\n",
    "    'St. Vincent and the Grenadines': 'São Vicente e Granadinas',\n",
    "    'Sudan': 'Sudão',\n",
    "    'Suriname': 'Suriname',\n",
    "    'Sweden': 'Suécia',\n",
    "    'Switzerland': 'Suíça',\n",
    "    'Syrian Arab Republic': 'Síria',\n",
    "    'Tajikistan': 'Tajiquistão',\n",
    "    'Tanzania': 'Tanzânia',\n",
    "    'Thailand': 'Tailândia',\n",
    "    'Timor-Leste': 'Timor-Leste',\n",
    "    'Togo': 'Togo',\n",
    "    'Tonga': 'Tonga',\n",
    "    'Trinidad and Tobago': 'Trinidad e Tobago',\n",
    "    'Tunisia': 'Tunísia',\n",
    "    'Turkiye': 'Turquia',\n",
    "    'Turkmenistan': 'Turcomenistão',\n",
    "    'Turks and Caicos Islands': 'Ilhas Turks e Caicos',\n",
    "    'Tuvalu': 'Tuvalu',\n",
    "    'Uganda': 'Uganda',\n",
    "    'Ukraine': 'Ucrânia',\n",
    "    'United Arab Emirates': 'Emirados Árabes Unidos',\n",
    "    'United Kingdom': 'Reino Unido',\n",
    "    'United States': 'Estados Unidos',\n",
    "    'Uruguay': 'Uruguai',\n",
    "    'Uzbekistan': 'Uzbequistão',\n",
    "    'Vanuatu': 'Vanuatu',\n",
    "    'Venezuela, RB': 'Venezuela',\n",
    "    'Vietnam': 'Vietnã',\n",
    "    'Virgin Islands (U.S.)': 'Ilhas Virgens',\n",
    "    'West Bank and Gaza': 'Cisjordânia e Faixa de Gaza',\n",
    "    'Yemen, Rep.': 'Iêmen',\n",
    "    'Zambia': 'Zâmbia',\n",
    "    'Zimbabwe': 'Zimbábue'\n",
    "}\n",
    "\n",
    "dataset_pib[\"pais\"] = dataset_pib[\"pais\"].map(nomes)\n",
    "dataset_inflation[\"pais\"] = dataset_inflation[\"pais\"].map(nomes)\n",
    "dataset_trade[\"pais\"] = dataset_trade[\"pais\"].map(nomes)\n",
    "dataset_population[\"pais\"] = dataset_population[\"pais\"].map(nomes)\n",
    "dataset_unemployment[\"pais\"] = dataset_unemployment[\"pais\"].map(nomes)"
   ]
  },
  {
   "attachments": {},
   "cell_type": "markdown",
   "metadata": {},
   "source": [
    "### Salvar .CSV para uso no Streamlit"
   ]
  },
  {
   "cell_type": "code",
   "execution_count": null,
   "metadata": {},
   "outputs": [],
   "source": [
    "dataset_pib.to_csv('Pib.csv', sep=',', index=False)\n",
    "dataset_inflation.to_csv('Inflation.csv', sep=',', index=False)\n",
    "dataset_trade.to_csv('Trade.csv', sep=',', index=False)\n",
    "dataset_population.to_csv('Population.csv', sep=',', index=False)\n",
    "dataset_unemployment.to_csv('Unemployment.csv', sep=',', index=False)\n",
    "paises_exportacao.to_csv('Exportacao.csv', sep=',', index=False)\n",
    "paises_importacao.to_csv('Importacao.csv', sep=',', index=False)"
   ]
  },
  {
   "cell_type": "code",
   "execution_count": null,
   "metadata": {},
   "outputs": [],
   "source": [
    "paises_pib = dataset_pib.query(\"pais == 'Paraguai' or pais == 'Rússia' or pais == 'Estados Unidos' or pais == 'Reino Unido' or pais == 'China' or pais == 'Países Baixos' or pais == 'Espanha'\")\n",
    "paises_inflation = dataset_inflation.query(\"pais == 'Paraguai' or pais == 'Rússia' or pais == 'Estados Unidos' or pais == 'Reino Unido' or pais == 'China' or pais == 'Países Baixos' or pais == 'Espanha'\")\n",
    "paises_trade = dataset_trade.query(\"pais == 'Paraguai' or pais == 'Rússia' or pais == 'Estados Unidos' or pais == 'Reino Unido' or pais == 'China' or pais == 'Países Baixos' or pais == 'Espanha'\")\n",
    "paises_population = dataset_population.query(\"pais == 'Paraguai' or pais == 'Rússia' or pais == 'Estados Unidos' or pais == 'Reino Unido' or pais == 'China' or pais == 'Países Baixos' or pais == 'Espanha'\")\n",
    "paises_unemployment = dataset_unemployment.query(\"pais == 'Paraguai' or pais == 'Rússia' or pais == 'Estados Unidos' or pais == 'Reino Unido' or pais == 'China' or pais == 'Países Baixos' or pais == 'Espanha'\")\n",
    "# paises_pib = dataset_pib.query(\"pais == 'Paraguay' or pais == 'Russian Federation' or pais == 'United States' or pais == 'United Kingdom' or pais == 'China' or pais == 'Netherlands' or pais == 'Spain'\")\n",
    "# paises_inflation = dataset_inflation.query(\"pais == 'Paraguay' or pais == 'Russian Federation' or pais == 'United States' or pais == 'United Kingdom' or pais == 'China' or pais == 'Netherlands' or pais == 'Spain'\")\n",
    "# paises_trade = dataset_trade.query(\"pais == 'Paraguay' or pais == 'Russian Federation' or pais == 'United States' or pais == 'United Kingdom' or pais == 'China' or pais == 'Netherlands' or pais == 'Spain'\")\n",
    "# paises_population = dataset_population.query(\"pais == 'Paraguay' or pais == 'Russian Federation' or pais == 'United States' or pais == 'United Kingdom' or pais == 'China' or pais == 'Netherlands' or pais == 'Spain'\")\n",
    "# paises_unemployment = dataset_unemployment.query(\"pais == 'Paraguay' or pais == 'Russian Federation' or pais == 'United States' or pais == 'United Kingdom' or pais == 'China' or pais == 'Netherlands' or pais == 'Spain'\")"
   ]
  },
  {
   "attachments": {},
   "cell_type": "markdown",
   "metadata": {},
   "source": [
    "## Comparando"
   ]
  },
  {
   "cell_type": "code",
   "execution_count": null,
   "metadata": {},
   "outputs": [],
   "source": [
    "# paises_pib\n",
    "# paises_inflation\n",
    "# paises_trade\n",
    "# paises_population\n",
    "paises_unemployment"
   ]
  },
  {
   "cell_type": "code",
   "execution_count": null,
   "metadata": {},
   "outputs": [],
   "source": [
    "def plot_regressao_estimada(data, title, data_type):\n",
    "    num_paises = math.ceil(len(data)/2)\n",
    "    pib = make_subplots(rows=num_paises, cols=2, start_cell=\"bottom-left\")\n",
    "    pib.update_layout(\n",
    "        title=title,\n",
    "        width=1300,\n",
    "        height=800,\n",
    "        showlegend=False,\n",
    "        colorway=['blue', 'green', 'orange', 'purple', 'brown', 'black', 'gray']\n",
    "    )\n",
    "    for i, pais in enumerate(data.pais):\n",
    "        row = num_paises - (i // 2)\n",
    "        col = (i % 2) + 1\n",
    "        trace = go.Scatter(x=data.columns[1:], y=data.iloc[i, 1:], name=pais)\n",
    "        x = np.array(data.columns[1:], dtype=data_type)\n",
    "        y = np.array(data.iloc[i, 1:], dtype=data_type)\n",
    "        coef = np.polyfit(x, y, 1)\n",
    "        line = coef[1] + coef[0] * x\n",
    "        reg = go.Scatter(x=x, y=line, mode='lines', name='Regressão', line=dict(color='red'))\n",
    "        pib.add_trace(reg, row=row, col=col)\n",
    "        pib.add_trace(trace, row=row, col=col)\n",
    "        pib.update_xaxes(\n",
    "            title_text=pais,\n",
    "            row=row,\n",
    "            col=col,\n",
    "            title_standoff=10,\n",
    "            tickfont=dict(size=8),\n",
    "            title_font=dict(size=10),\n",
    "            tickvals=data.columns[1:]\n",
    "        )\n",
    "    pib.show()"
   ]
  },
  {
   "cell_type": "code",
   "execution_count": null,
   "metadata": {},
   "outputs": [],
   "source": [
    "def plot_regressao1(data, title, data_type):\n",
    "    # num_paises = math.ceil(len(data)/2)\n",
    "    #pib = make_subplots(rows=num_paises, cols=2, start_cell=\"bottom-left\")\n",
    "    pib=go.Figure()\n",
    "\n",
    "    pib.update_layout(\n",
    "        title=title,\n",
    "        width=600,\n",
    "        height=300,\n",
    "        showlegend=False,\n",
    "        colorway=['blue', 'green', 'orange', 'purple', 'brown', 'black', 'gray']\n",
    "    )\n",
    "    for i, pais in enumerate(data.pais):\n",
    "        # row = num_paises - (i // 2)\n",
    "        # col = (i % 2) + 1\n",
    "        trace = go.Scatter(x=data.columns[1:], y=data.iloc[i, 1:], name=pais)\n",
    "        x = np.array(data.columns[1:], dtype=data_type)\n",
    "        y = np.array(data.iloc[i, 1:], dtype=data_type)\n",
    "        coef = np.polyfit(x, y, 1)\n",
    "        line = coef[1] + coef[0] * x\n",
    "        reg = go.Scatter(x=x, y=line, mode='lines', name='Regressão', line=dict(color='red'))\n",
    "        pib.add_trace(reg)\n",
    "        pib.add_trace(trace)\n",
    "        pib.update_xaxes(\n",
    "            title_text=pais,\n",
    "            # row=row,\n",
    "            # col=col,\n",
    "            title_standoff=10,\n",
    "            tickfont=dict(size=8),\n",
    "            title_font=dict(size=10),\n",
    "            tickvals=data.columns[1:]\n",
    "        )\n",
    "    pib.show()"
   ]
  },
  {
   "cell_type": "code",
   "execution_count": null,
   "metadata": {},
   "outputs": [],
   "source": [
    "plot_regressao1(paises_exportacao.query(\"pais=='Haiti'\"), 'Regressão estimada dos valores de exportação para o Haiti', int)"
   ]
  },
  {
   "cell_type": "code",
   "execution_count": null,
   "metadata": {},
   "outputs": [],
   "source": [
    "plot_regressao_estimada(paises_exportacao, 'Comparação da regressão estimada dos valores de exportação para os principais países', int)"
   ]
  },
  {
   "cell_type": "code",
   "execution_count": null,
   "metadata": {},
   "outputs": [],
   "source": [
    "plot_regressao_estimada(paises_importacao, 'Comparação da regressão estimada dos valores de importação para os principais países', int)"
   ]
  },
  {
   "cell_type": "code",
   "execution_count": null,
   "metadata": {},
   "outputs": [],
   "source": [
    "plot_regressao_estimada(paises_pib, 'Comparação da regressão estimada do PIB dos países responsáveis por 80% da exportação', float)"
   ]
  },
  {
   "cell_type": "code",
   "execution_count": null,
   "metadata": {},
   "outputs": [],
   "source": [
    "plot_regressao_estimada(paises_inflation, 'Comparação da regressão estimada da inflação dos países responsáveis por 80% da exportação', float)"
   ]
  },
  {
   "cell_type": "code",
   "execution_count": null,
   "metadata": {},
   "outputs": [],
   "source": [
    "plot_regressao_estimada(paises_trade, 'Comparação da regressão estimada do comércio internacional do países responsáveis por 80% da exportação', float)"
   ]
  },
  {
   "cell_type": "code",
   "execution_count": null,
   "metadata": {},
   "outputs": [],
   "source": [
    "plot_regressao_estimada(paises_population, 'Comparação da regressão estimada da população dos países responsáveis por 80% da exportação', int)"
   ]
  },
  {
   "cell_type": "code",
   "execution_count": null,
   "metadata": {},
   "outputs": [],
   "source": [
    "plot_regressao_estimada(paises_unemployment, 'Comparação da regressão estimada do desemprego dos países responsáveis por 80% da exportação', float)"
   ]
  },
  {
   "attachments": {},
   "cell_type": "markdown",
   "metadata": {},
   "source": [
    "## Comparação dos países mais representativos"
   ]
  },
  {
   "cell_type": "code",
   "execution_count": null,
   "metadata": {},
   "outputs": [],
   "source": [
    "def plot_regressao_estimada_comparacao(data, title, data_type):\n",
    "    data = data.query(\"pais == 'Paraguai' or pais == 'Rússia'\")\n",
    "    num_paises = len(data)\n",
    "    pib = make_subplots(rows=num_paises, cols=1)\n",
    "    pib.update_layout(\n",
    "        title=title,\n",
    "        width=1300,\n",
    "        height=600,\n",
    "        showlegend=False\n",
    "    )\n",
    "    for i, pais in enumerate(data.pais):\n",
    "        row = i + 1\n",
    "        trace = go.Scatter(x=data.columns[1:], y=data.iloc[i, 1:], name=pais)\n",
    "        x = np.array(data.columns[1:], dtype=float)\n",
    "        y = np.array(data.iloc[i, 1:], dtype=float)\n",
    "        coef = np.polyfit(x, y, 1)\n",
    "        line = coef[1] + coef[0] * x\n",
    "        reg = go.Scatter(x=x, y=line, mode='lines', name='Regressão', line=dict(color='red'))\n",
    "        pib.add_trace(reg, row=row, col=1)\n",
    "        pib.add_trace(trace, row=row, col=1)\n",
    "        pib.update_xaxes(title_text=pais, row=row, col=1, title_standoff=10, tickfont=dict(size=8), title_font=dict(size=10))\n",
    "    pib.show()"
   ]
  },
  {
   "cell_type": "code",
   "execution_count": null,
   "metadata": {},
   "outputs": [],
   "source": [
    "plot_regressao_estimada_comparacao(paises_exportacao, 'Comparação da regressão estimada dos valores de exportação para Paraguai e Rússia', int)"
   ]
  },
  {
   "cell_type": "code",
   "execution_count": null,
   "metadata": {},
   "outputs": [],
   "source": [
    "plot_regressao_estimada_comparacao(paises_pib, 'Comparação do PIB dos países Paraguai e Rússia', float)"
   ]
  },
  {
   "cell_type": "code",
   "execution_count": null,
   "metadata": {},
   "outputs": [],
   "source": [
    "plot_regressao_estimada_comparacao(paises_inflation, 'Comparação da inflação dos países Paraguai e Rússia', float)"
   ]
  },
  {
   "cell_type": "code",
   "execution_count": null,
   "metadata": {},
   "outputs": [],
   "source": [
    "plot_regressao_estimada_comparacao(paises_trade, 'Comparação do índice de comércio internacional dos países Paraguai e Rússia', float)"
   ]
  },
  {
   "cell_type": "code",
   "execution_count": null,
   "metadata": {},
   "outputs": [],
   "source": [
    "plot_regressao_estimada_comparacao(paises_population, 'Comparação da população dos países Paraguai e Rússia', int)"
   ]
  },
  {
   "cell_type": "code",
   "execution_count": null,
   "metadata": {},
   "outputs": [],
   "source": [
    "plot_regressao_estimada_comparacao(paises_unemployment, 'Comparação do desemprego dos países Paraguai e Rússia', float)"
   ]
  },
  {
   "cell_type": "code",
   "execution_count": null,
   "metadata": {},
   "outputs": [],
   "source": [
    "dataset_2015 = pd.read_csv('Data/2015.csv', sep=',')\n",
    "dataset_2015 = dataset_2015[['Country','Happiness Score']]\n",
    "dataset_2015.rename(columns={\"Country\": \"pais\", \"Happiness Score\": \"2015\"}, inplace=True)\n",
    "dataset_2016 = pd.read_csv('Data/2016.csv', sep=',')\n",
    "dataset_2016 = dataset_2016[['Country','Happiness Score']]\n",
    "dataset_2016.rename(columns={\"Country\": \"pais\", \"Happiness Score\": \"2016\"}, inplace=True)\n",
    "dataset_2017 = pd.read_csv('Data/2017.csv', sep=',')\n",
    "dataset_2017 = dataset_2017[['Country','Happiness.Score']]\n",
    "dataset_2017.rename(columns={\"Country\": \"pais\", \"Happiness.Score\": \"2017\"}, inplace=True)\n",
    "dataset_2018 = pd.read_csv('Data/2018.csv', sep=',')\n",
    "dataset_2018 = dataset_2018[['Country or region','Score']]\n",
    "dataset_2018.rename(columns={\"Country or region\": \"pais\", \"Score\": \"2018\"}, inplace=True)\n",
    "dataset_2019 = pd.read_csv('Data/2019.csv', sep=',')\n",
    "dataset_2019 = dataset_2019[['Country or region','Score']]\n",
    "dataset_2019.rename(columns={\"Country or region\": \"pais\", \"Score\": \"2019\"}, inplace=True)\n",
    "dataset_2019.head()"
   ]
  },
  {
   "cell_type": "code",
   "execution_count": null,
   "metadata": {},
   "outputs": [],
   "source": [
    "dataset_whr = pd.merge(dataset_2015, dataset_2016, on='pais')\n",
    "dataset_whr = pd.merge(dataset_whr, dataset_2017, on='pais')\n",
    "dataset_whr = pd.merge(dataset_whr, dataset_2018, on='pais')\n",
    "dataset_whr = pd.merge(dataset_whr, dataset_2019, on='pais')\n",
    "nomes = {\n",
    "    \"Switzerland\": \"Suíça\",\n",
    "    \"Iceland\": \"Islândia\",\n",
    "    \"Denmark\": \"Dinamarca\",\n",
    "    \"Norway\": \"Noruega\",\n",
    "    \"Canada\": \"Canadá\",\n",
    "    \"Finland\": \"Finlândia\",\n",
    "    \"Netherlands\": \"Países Baixos\",\n",
    "    \"Sweden\": \"Suécia\",\n",
    "    \"New Zealand\": \"Nova Zelândia\",\n",
    "    \"Australia\": \"Austrália\",\n",
    "    \"Israel\": \"Israel\",\n",
    "    \"Costa Rica\": \"Costa Rica\",\n",
    "    \"Austria\": \"Áustria\",\n",
    "    \"Mexico\": \"México\",\n",
    "    \"United States\": \"Estados Unidos\",\n",
    "    \"Brazil\": \"Brasil\",\n",
    "    \"Luxembourg\": \"Luxemburgo\",\n",
    "    \"Ireland\": \"Irlanda\",\n",
    "    \"Belgium\": \"Bélgica\",\n",
    "    \"United Arab Emirates\": \"Emirados Árabes Unidos\",\n",
    "    \"United Kingdom\": \"Reino Unido\",\n",
    "    \"Venezuela\": \"Venezuela\",\n",
    "    \"Singapore\": \"Singapura\",\n",
    "    \"Panama\": \"Panamá\",\n",
    "    \"Germany\": \"Alemanha\",\n",
    "    \"Chile\": \"Chile\",\n",
    "    \"Qatar\": \"Catar\",\n",
    "    \"France\": \"França\",\n",
    "    \"Argentina\": \"Argentina\",\n",
    "    \"Czech Republic\": \"República Tcheca\",\n",
    "    \"Uruguay\": \"Uruguai\",\n",
    "    \"Colombia\": \"Colômbia\",\n",
    "    \"Thailand\": \"Tailândia\",\n",
    "    \"Saudi Arabia\": \"Arábia Saudita\",\n",
    "    \"Spain\": \"Espanha\",\n",
    "    \"Malta\": \"Malta\",\n",
    "    \"Kuwait\": \"Kuwait\",\n",
    "    \"El Salvador\": \"El Salvador\",\n",
    "    \"Guatemala\": \"Guatemala\",\n",
    "    \"Uzbekistan\": \"Uzbequistão\",\n",
    "    \"Slovakia\": \"Eslováquia\",\n",
    "    \"Japan\": \"Japão\",\n",
    "    \"South Korea\": \"Coreia do Sul\",\n",
    "    \"Ecuador\": \"Equador\",\n",
    "    \"Bahrain\": \"Bahrein\",\n",
    "    \"Italy\": \"Itália\",\n",
    "    \"Bolivia\": \"Bolívia\",\n",
    "    \"Moldova\": \"Moldávia\",\n",
    "    \"Paraguay\": \"Paraguai\",\n",
    "    \"Kazakhstan\": \"Cazaquistão\",\n",
    "    \"Slovenia\": \"Eslovênia\",\n",
    "    \"Lithuania\": \"Lituânia\",\n",
    "    \"Nicaragua\": \"Nicarágua\",\n",
    "    \"Peru\": \"Peru\",\n",
    "    \"Belarus\": \"Bielorrússia\",\n",
    "    \"Poland\": \"Polônia\",\n",
    "    \"Malaysia\": \"Malásia\",\n",
    "    \"Croatia\": \"Croácia\",\n",
    "    \"Libya\": \"Líbia\",\n",
    "    \"Russia\": \"Rússia\",\n",
    "    \"Jamaica\": \"Jamaica\",\n",
    "    \"Cyprus\": \"Chipre\",\n",
    "    \"Algeria\": \"Argélia\",\n",
    "    \"Kosovo\": \"Kosovo\",\n",
    "    \"Turkmenistan\": \"Turcomenistão\",\n",
    "    \"Mauritius\": \"Maurício\",\n",
    "    \"Estonia\": \"Estônia\",\n",
    "    \"Indonesia\": \"Indonésia\",\n",
    "    \"Vietnam\": \"Vietnã\",\n",
    "    \"Turkey\": \"Turquia\",\n",
    "    \"Kyrgyzstan\": \"Quirguistão\",\n",
    "    \"Nigeria\": \"Nigéria\",\n",
    "    \"Bhutan\": \"Butão\",\n",
    "    \"Azerbaijan\": \"Azerbaijão\",\n",
    "    \"Pakistan\": \"Paquistão\",\n",
    "    \"Jordan\": \"Jordânia\",\n",
    "    \"Montenegro\": \"Montenegro\",\n",
    "    \"China\": \"China\",\n",
    "    \"Zambia\": \"Zâmbia\",\n",
    "    \"Romania\": \"Romênia\",\n",
    "    \"Serbia\": \"Sérvia\",\n",
    "    \"Portugal\": \"Portugal\",\n",
    "    \"Latvia\": \"Letônia\",\n",
    "    \"Philippines\": \"Filipinas\",\n",
    "    \"Morocco\": \"Marrocos\",\n",
    "    \"Albania\": \"Albânia\",\n",
    "    \"Bosnia and Herzegovina\": \"Bósnia e Herzegovina\",\n",
    "    \"Dominican Republic\": \"República Dominicana\",\n",
    "    \"Mongolia\": \"Mongólia\",\n",
    "    \"Greece\": \"Grécia\",\n",
    "    \"Lebanon\": \"Líbano\",\n",
    "    \"Hungary\": \"Hungria\",\n",
    "    \"Honduras\": \"Honduras\",\n",
    "    \"Tajikistan\": \"Tajiquistão\",\n",
    "    \"Tunisia\": \"Tunísia\",\n",
    "    \"Palestinian Territories\": \"Palestina\",\n",
    "    \"Bangladesh\": \"Bangladesh\",\n",
    "    \"Iran\": \"Irã\",\n",
    "    \"Ukraine\": \"Ucrânia\",\n",
    "    \"Iraq\": \"Iraque\",\n",
    "    \"South Africa\": \"África do Sul\",\n",
    "    \"Ghana\": \"Gana\",\n",
    "    \"Zimbabwe\": \"Zimbábue\",\n",
    "    \"Liberia\": \"Libéria\",\n",
    "    \"India\": \"Índia\",\n",
    "    \"Haiti\": \"Haiti\",\n",
    "    \"Congo (Kinshasa)\": \"Dem Congo\",\n",
    "    \"Nepal\": \"Nepal\",\n",
    "    \"Ethiopia\": \"Etiópia\",\n",
    "    \"Sierra Leone\": \"Serra Leoa\",\n",
    "    \"Mauritania\": \"Mauritânia\",\n",
    "    \"Kenya\": \"Quênia\",\n",
    "    \"Armenia\": \"Armênia\",\n",
    "    \"Botswana\": \"Botsuana\",\n",
    "    \"Myanmar\": \"Mianmar (Birmânia)\",\n",
    "    \"Georgia\": \"Geórgia\",\n",
    "    \"Malawi\": \"Malawi\",\n",
    "    \"Sri Lanka\": \"Sri Lanka\",\n",
    "    \"Cameroon\": \"Camarões\",\n",
    "    \"Bulgaria\": \"Bulgária\",\n",
    "    \"Egypt\": \"Egito\",\n",
    "    \"Yemen\": \"Iêmen\",\n",
    "    \"Mali\": \"Mali\",\n",
    "    \"Congo (Brazzaville)\": \"Congo\",\n",
    "    \"Uganda\": \"Uganda\",\n",
    "    \"Senegal\": \"Senegal\",\n",
    "    \"Gabon\": \"Gabão\",\n",
    "    \"Niger\": \"Níger\",\n",
    "    \"Cambodia\": \"Camboja\",\n",
    "    \"Tanzania\": \"Tanzânia\",\n",
    "    \"Madagascar\": \"Madagascar\",\n",
    "    \"Chad\": \"Chade\",\n",
    "    \"Guinea\": \"Guiné\",\n",
    "    \"Ivory Coast\": \"Costa do Marfim\",\n",
    "    \"Burkina Faso\": \"Burkina Faso\",\n",
    "    \"Afghanistan\": \"Afeganistão\",\n",
    "    \"Rwanda\": \"Ruanda\",\n",
    "    \"Benin\": \"Benin\",\n",
    "    \"Syria\": \"Síria\",\n",
    "    \"Burundi\": \"Burundi\",\n",
    "    \"Togo\": \"Togo\"\n",
    "}\n",
    "\n",
    "dataset_whr[\"pais\"] = dataset_whr[\"pais\"].map(nomes)\n",
    "dataset_whr.head(1)"
   ]
  },
  {
   "attachments": {},
   "cell_type": "markdown",
   "metadata": {},
   "source": [
    "### Salvar .CSV para uso no Streamlit"
   ]
  },
  {
   "cell_type": "code",
   "execution_count": null,
   "metadata": {},
   "outputs": [],
   "source": [
    "dataset_whr.to_csv('wht.csv', sep=',', index=False)"
   ]
  },
  {
   "cell_type": "code",
   "execution_count": null,
   "metadata": {},
   "outputs": [],
   "source": [
    "dataset_whr = dataset_whr.query(\"pais == 'Paraguai' or pais == 'Rússia' or pais == 'Estados Unidos' or pais == 'Reino Unido' or pais == 'China' or pais == 'Países Baixos' or pais == 'Espanha'\")"
   ]
  },
  {
   "cell_type": "code",
   "execution_count": null,
   "metadata": {},
   "outputs": [],
   "source": [
    "plot_regressao_estimada(dataset_whr, 'Comparação da regressão estimada dos valores de felicidade para os principais países', int)"
   ]
  },
  {
   "cell_type": "code",
   "execution_count": null,
   "metadata": {},
   "outputs": [],
   "source": [
    "dataset_consumo = pd.read_csv('Data/consumption.csv', sep=',')\n",
    "dataset_consumo = dataset_consumo[['Location', 'Period', 'FactValueNumeric']]\n",
    "dataset_2020 = dataset_consumo.query(\"Period == 2020\").reset_index()\n",
    "dataset_2020.Period = dataset_2020.FactValueNumeric\n",
    "dataset_2020.rename(columns={'Location': 'pais', 'Period': '2020'}, inplace=True)\n",
    "dataset_2020 = dataset_2020[['pais', '2020']]\n",
    "dataset_2025 = dataset_consumo.query(\"Period == 2025\").reset_index()\n",
    "dataset_2025.Period = dataset_2025.FactValueNumeric\n",
    "dataset_2025 = dataset_2025.rename(columns={'Location': 'pais', 'Period': '2025',})\n",
    "dataset_2025 = dataset_2025[['pais', '2025']]\n",
    "dataset_consumo = dataset_2020.merge(dataset_2025, on='pais')\n",
    "dataset_consumo = dataset_consumo[dataset_consumo['2025'] != 0.0]\n",
    "nomes = {\n",
    "    'Afghanistan': 'Afeganistão',\n",
    "    'Albania': 'Albânia',\n",
    "    'Algeria': 'Argélia',\n",
    "    'Andorra': 'Andorra',\n",
    "    'Angola': 'Angola',\n",
    "    'Antigua and Barbuda': 'Antígua e Barbuda',\n",
    "    'Argentina': 'Argentina',\n",
    "    'Armenia': 'Armênia',\n",
    "    'Australia': 'Austrália',\n",
    "    'Austria': 'Áustria',\n",
    "    'Azerbaijan': 'Azerbaijão',\n",
    "    'Bahamas': 'Bahamas',\n",
    "    'Bahrain': 'Bahrein',\n",
    "    'Bangladesh': 'Bangladesh',\n",
    "    'Barbados': 'Barbados',\n",
    "    'Belarus': 'Bielorrússia',\n",
    "    'Belgium': 'Bélgica',\n",
    "    'Belize': 'Belize',\n",
    "    'Benin': 'Benin',\n",
    "    'Bhutan': 'Butão',\n",
    "    'Bolivia (Plurinational State of)': 'Bolívia',\n",
    "    'Bosnia and Herzegovina': 'Bósnia e Herzegovina',\n",
    "    'Botswana': 'Botsuana',\n",
    "    'Brazil': 'Brasil',\n",
    "    'Brunei Darussalam': 'Brunei',\n",
    "    'Bulgaria': 'Bulgária',\n",
    "    'Burkina Faso': 'Burquina Faso',\n",
    "    'Burundi': 'Burundi',\n",
    "    'Cambodia': 'Camboja',\n",
    "    'Cameroon': 'Camarões',\n",
    "    'Canada': 'Canadá',\n",
    "    'Cabo Verde': 'Cabo Verde',\n",
    "    'Central African Republic': 'República Centro-Africana',\n",
    "    'Chad': 'Chade',\n",
    "    'Chile': 'Chile',\n",
    "    'China': 'China',\n",
    "    'Colombia': 'Colômbia',\n",
    "    'Comoros': 'Comores',\n",
    "    'Congo': 'Congo',\n",
    "    'Cook Islands': 'Ilhas Cook',\n",
    "    'Costa Rica': 'Costa Rica',\n",
    "    \"Côte d’Ivoire\": 'Costa do Marfim',\n",
    "    'Croatia': 'Croácia',\n",
    "    'Cuba': 'Cuba',\n",
    "    'Cyprus': 'Chipre',\n",
    "    'Czechia': 'República Tcheca',\n",
    "    'Democratic People\\'s Republic of Korea': 'Coreia do Norte',\n",
    "    'Democratic Republic of the Congo': 'Dem Congo',\n",
    "    'Denmark': 'Dinamarca',\n",
    "    'Djibouti': 'Djibuti',\n",
    "    'Dominica': 'Dominica',\n",
    "    'Dominican Republic': 'República Dominicana',\n",
    "    'Ecuador': 'Equador',\n",
    "    'Egypt': 'Egito',\n",
    "    'El Salvador': 'El Salvador',\n",
    "    'Equatorial Guinea': 'Guiné Equatorial',\n",
    "    'Eritrea': 'Eritreia',\n",
    "    'Estonia': 'Estônia',\n",
    "    'Eswatini': 'Eswatini',\n",
    "    'Ethiopia': 'Etiópia',\n",
    "    'Fiji': 'Fiji',\n",
    "    'Finland': 'Finlândia',\n",
    "    'France': 'França',\n",
    "    'Gabon': 'Gabão',\n",
    "    'Gambia': 'Gâmbia',\n",
    "    'Georgia': 'Geórgia',\n",
    "    'Germany': 'Alemanha',\n",
    "    'Ghana': 'Gana',\n",
    "    'Greece': 'Grécia',\n",
    "    'Grenada': 'Granada',\n",
    "    'Guatemala': 'Guatemala',\n",
    "    'Guinea': 'Guiné',\n",
    "    'Guinea-Bissau': 'Guiné-Bissau',\n",
    "    'Guyana': 'Guiana',\n",
    "    'Haiti': 'Haiti',\n",
    "    'Honduras': 'Honduras',\n",
    "    'Hungary': 'Hungria',\n",
    "    'Iceland': 'Islândia',\n",
    "    'India': 'Índia',\n",
    "    'Indonesia': 'Indonésia',\n",
    "    'Iran (Islamic Republic of)': 'Irã',\n",
    "    'Iraq': 'Iraque',\n",
    "    'Ireland': 'Irlanda',\n",
    "    'Israel': 'Israel',\n",
    "    'Italy': 'Itália',\n",
    "    'Jamaica': 'Jamaica',\n",
    "    'Japan': 'Japão',\n",
    "    'Jordan': 'Jordânia',\n",
    "    'Kazakhstan': 'Cazaquistão',\n",
    "    'Kenya': 'Quênia',\n",
    "    'Kiribati': 'Kiribati',\n",
    "    'Kuwait': 'Kuwait',\n",
    "    'Kyrgyzstan': 'Quirguistão',\n",
    "    \"Lao People's Democratic Republic\": 'Laos',\n",
    "    'Latvia': 'Letônia',\n",
    "    'Lebanon': 'Líbano',\n",
    "    'Lesotho': 'Lesoto',\n",
    "    'Liberia': 'Libéria',\n",
    "    'Libya': 'Líbia',\n",
    "    'Liechtenstein': 'Liechtenstein',\n",
    "    'Lithuania': 'Lituânia',\n",
    "    'Luxembourg': 'Luxemburgo',\n",
    "    'Madagascar': 'Madagascar',\n",
    "    'Malawi': 'Malawi',\n",
    "    'Malaysia': 'Malásia',\n",
    "    'Maldives': 'Maldivas',\n",
    "    'Mali': 'Mali',\n",
    "    'Malta': 'Malta',\n",
    "    'Marshall Islands': 'Ilhas Marshall',\n",
    "    'Mauritania': 'Mauritânia',\n",
    "    'Mauritius': 'Maurício',\n",
    "    'Mexico': 'México',\n",
    "    'Micronesia (Federated States of)': 'Micronésia',\n",
    "    'Monaco': 'Mônaco',\n",
    "    'Mongolia': 'Mongólia',\n",
    "    'Montenegro': 'Montenegro',\n",
    "    'Morocco': 'Marrocos',\n",
    "    'Mozambique': 'Moçambique',\n",
    "    'Myanmar': 'Myanmar',\n",
    "    'Namibia': 'Namíbia',\n",
    "    'Nauru': 'Nauru',\n",
    "    'Nepal': 'Nepal',\n",
    "    'Netherlands': 'Países Baixos',\n",
    "    'New Zealand': 'Nova Zelândia',\n",
    "    'Nicaragua': 'Nicarágua',\n",
    "    'Niger': 'Níger',\n",
    "    'Nigeria': 'Nigéria',\n",
    "    'Niue': 'Niue',\n",
    "    'North Macedonia': 'Macedônia do Norte',\n",
    "    'Norway': 'Noruega',\n",
    "    'Oman': 'Omã',\n",
    "    'Pakistan': 'Paquistão',\n",
    "    'Palau': 'Palau',\n",
    "    'Panama': 'Panamá',\n",
    "    'Papua New Guinea': 'Papua-Nova Guiné',\n",
    "    'Paraguay': 'Paraguai',\n",
    "    'Peru': 'Peru',\n",
    "    'Philippines': 'Filipinas',\n",
    "    'Poland': 'Polônia',\n",
    "    'Portugal': 'Portugal',\n",
    "    'Qatar': 'Catar',\n",
    "    'Republic of Korea': 'Coreia do Sul',\n",
    "    'Republic of Moldova': 'Moldávia',\n",
    "    'Romania': 'Romênia',\n",
    "    'Russian Federation': 'Rússia',\n",
    "    'Rwanda': 'Ruanda',\n",
    "    'Saint Kitts and Nevis': 'São Cristóvão e Nevis',\n",
    "    'Saint Lucia': 'Santa Lúcia',\n",
    "    'Saint Vincent and the Grenadines': 'São Vicente e Granadinas',\n",
    "    'Samoa': 'Samoa',\n",
    "    'San Marino': 'San Marino',\n",
    "    'Sao Tome and Principe': 'São Tomé e Príncipe',\n",
    "    'Saudi Arabia': 'Arábia Saudita',\n",
    "    'Senegal': 'Senegal',\n",
    "    'Serbia': 'Sérvia',\n",
    "    'Seychelles': 'Seychelles',\n",
    "    'Sierra Leone': 'Serra Leoa',\n",
    "    'Singapore': 'Singapura',\n",
    "    'Slovakia': 'Eslováquia',\n",
    "    'Slovenia': 'Eslovênia',\n",
    "    'Solomon Islands': 'Ilhas Salomão',\n",
    "    'Somalia': 'Somália',\n",
    "    'South Africa': 'África do Sul',\n",
    "    'South Sudan': 'Sudão do Sul',\n",
    "    'Spain': 'Espanha',\n",
    "    'Sri Lanka': 'Sri Lanka',\n",
    "    'Sudan': 'Sudão',\n",
    "    'Suriname': 'Suriname',\n",
    "    'Sweden': 'Suécia',\n",
    "    'Switzerland': 'Suíça',\n",
    "    'Syrian Arab Republic': 'Síria',\n",
    "    'Tajikistan': 'Tajiquistão',\n",
    "    'Thailand': 'Tailândia',\n",
    "    'Timor-Leste': 'Timor-Leste',\n",
    "    'Togo': 'Togo',\n",
    "    'Tonga': 'Tonga',\n",
    "    'Trinidad and Tobago': 'Trinidad e Tobago',\n",
    "    'Tunisia': 'Tunísia',\n",
    "    'Turkey': 'Turquia',\n",
    "    'Turkmenistan': 'Turcomenistão',\n",
    "    'Tuvalu': 'Tuvalu',\n",
    "    'Uganda': 'Uganda',\n",
    "    'Ukraine': 'Ucrânia',\n",
    "    'United Arab Emirates': 'Emirados Árabes Unidos',\n",
    "    'United Kingdom of Great Britain and Northern Ireland': 'Reino Unido',\n",
    "    'United Republic of Tanzania': 'Tanzânia',\n",
    "    'United States of America': 'Estados Unidos',\n",
    "    'Uruguay': 'Uruguai',\n",
    "    'Uzbekistan': 'Uzbequistão',\n",
    "    'Vanuatu': 'Vanuatu',\n",
    "    'Venezuela (Bolivarian Republic of)': 'Venezuela',\n",
    "    'Viet Nam': 'Vietnã',\n",
    "    'Yemen': 'Iêmen',\n",
    "    'Zambia': 'Zâmbia',\n",
    "    'Zimbabwe': 'Zimbábue'\n",
    "}\n",
    "\n",
    "dataset_consumo[\"pais\"] = dataset_consumo[\"pais\"].map(nomes)\n",
    "dataset_consumo[\"diferenca\"] = dataset_consumo[\"2025\"] - dataset_consumo[\"2020\"]\n",
    "dataset_consumo = dataset_consumo.dropna()\n",
    "dataset_consumo.sort_values('2025', ascending=False, inplace=True)\n",
    "dataset_consumo"
   ]
  },
  {
   "attachments": {},
   "cell_type": "markdown",
   "metadata": {},
   "source": [
    "### Salvar .CSV para uso no Streamlit"
   ]
  },
  {
   "cell_type": "code",
   "execution_count": null,
   "metadata": {},
   "outputs": [],
   "source": [
    "dataset_consumo.to_csv('Consumo.csv', sep=',', index=False)"
   ]
  },
  {
   "cell_type": "code",
   "execution_count": null,
   "metadata": {},
   "outputs": [],
   "source": [
    "consumo_paises = dataset_consumo.query(\"pais == 'Paraguai' or pais == 'Rússia' or pais == 'Estados Unidos' or pais == 'Reino Unido' or pais == 'China' or pais == 'Países Baixos' or pais == 'Espanha'\")\n",
    "# dados_paises = dataset_consumo[dataset_consumo[\"pais\"].isin(paises)]\n",
    "consumo = go.Figure()\n",
    "consumo.add_trace(go.Bar(x=consumo_paises.pais, y=consumo_paises[\"2020\"], name=\"2020\", marker=dict(color=\"lightblue\")))\n",
    "consumo.add_trace(go.Bar(x=consumo_paises.pais, y=consumo_paises[\"2025\"], name=\"2025\", marker=dict(color=\"lightgreen\")))\n",
    "for i, pais in enumerate(consumo_paises.pais):\n",
    "    diff = round(consumo_paises[\"diferenca\"].iloc[i], 2)\n",
    "    consumo.add_annotation(x=pais, y=max(consumo_paises[\"2020\"].iloc[i], consumo_paises[\"2025\"].iloc[i]),\n",
    "                            text=f\"Diferença: {diff}\",\n",
    "                            showarrow=False,\n",
    "                            font=dict(color=\"black\"),\n",
    "                            yshift=10\n",
    "                       )\n",
    "consumo.update_layout(title=\"Projeção do consumo de álcool em 2020 e 2025\",\n",
    "                    xaxis_title=\"Países\",\n",
    "                    yaxis_title=\"Consumo\",\n",
    "                    barmode=\"group\"\n",
    "                )\n",
    "consumo.show()"
   ]
  },
  {
   "cell_type": "code",
   "execution_count": null,
   "metadata": {},
   "outputs": [],
   "source": [
    "dataset_consumo_vinho = pd.read_excel('Data/data.xlsx')\n",
    "dataset_consumo_vinho = dataset_consumo_vinho[['Region/Country', 'Year', 'Quantity']]\n",
    "dataset_consumo_vinho.rename(columns={'Region/Country': 'pais', 'Year': 'ano', 'Quantity': 'quantidade'}, inplace=True)\n",
    "dataset_consumo_vinho['ano'] = dataset_consumo_vinho['ano'].astype('Int64')\n",
    "dataset_consumo_vinho.head(20)"
   ]
  },
  {
   "cell_type": "code",
   "execution_count": null,
   "metadata": {},
   "outputs": [],
   "source": [
    "dataset_consumo_vinho = dataset_consumo_vinho.pivot_table(index='pais', columns='ano', values='quantidade')\n",
    "dataset_consumo_vinho = dataset_consumo_vinho.reset_index()\n",
    "dataset_consumo_vinho.index.name = None\n",
    "dataset_consumo_vinho.head()"
   ]
  },
  {
   "cell_type": "code",
   "execution_count": null,
   "metadata": {},
   "outputs": [],
   "source": [
    "nomes = {\n",
    "    'Afghanistan': 'Afeganistão',\n",
    "    'Albania': 'Albânia',\n",
    "    'Algeria': 'Argélia',\n",
    "    'American Samoa': 'Samoa Americana',\n",
    "    'Angola': 'Angola',\n",
    "    'Antigua and Barbuda': 'Antígua e Barbuda',\n",
    "    'Argentina': 'Argentina',\n",
    "    'Armenia': 'Armênia',\n",
    "    'Australia': 'Austrália',\n",
    "    'Austria': 'Áustria',\n",
    "    'Azerbaijan': 'Azerbaijão',\n",
    "    'Bahamas': 'Bahamas',\n",
    "    'Bahrain': 'Bahrein',\n",
    "    'Bangladesh': 'Bangladesh',\n",
    "    'Barbados': 'Barbados',\n",
    "    'Belarus': 'Bielorrússia',\n",
    "    'Belgium': 'Bélgica',\n",
    "    'Belize': 'Belize',\n",
    "    'Benin': 'Benin',\n",
    "    'Bermuda': 'Bermudas',\n",
    "    'Bolivia': 'Bolívia',\n",
    "    'Bosnia and Herzegovina': 'Bósnia e Herzegovina',\n",
    "    'Botswana': 'Botsuana',\n",
    "    'Brazil': 'Brasil',\n",
    "    'Brunei Darussalam': 'Brunei',\n",
    "    'Bulgaria': 'Bulgária',\n",
    "    'Burkina Faso': 'Burkina Faso',\n",
    "    'Burundi': 'Burundi',\n",
    "    'Cabo Verde': 'Cabo Verde',\n",
    "    'Cambodia': 'Camboja',\n",
    "    'Cameroon': 'Camarões',\n",
    "    'Canada': 'Canadá',\n",
    "    'Central African Republic': 'República Centro-Africana',\n",
    "    'Chad': 'Chade',\n",
    "    'Chile': 'Chile',\n",
    "    'China': 'China',\n",
    "    'Colombia': 'Colômbia',\n",
    "    'Comoros': 'Comores',\n",
    "    'Congo': 'Congo',\n",
    "    'Congo (the Democratic Republic of the)': 'Dem Congo',\n",
    "    'Cook Islands': 'Ilhas Cook',\n",
    "    'Costa Rica': 'Costa Rica',\n",
    "    'Croatia': 'Croácia',\n",
    "    'Cuba': 'Cuba',\n",
    "    'Cyprus': 'Chipre',\n",
    "    'Czech Republic': 'República Tcheca',\n",
    "    \"Côte d'Ivoire\": 'Costa do Marfim',\n",
    "    'Denmark': 'Dinamarca',\n",
    "    'Djibouti': 'Djibuti',\n",
    "    'Dominica': 'Dominica',\n",
    "    'Dominican Republic': 'República Dominicana',\n",
    "    'Ecuador': 'Equador',\n",
    "    'Egypt': 'Egito',\n",
    "    'El Salvador': 'El Salvador',\n",
    "    'Estonia': 'Estônia',\n",
    "    'Eswatini': 'Suazilândia',\n",
    "    'Ethiopia': 'Etiópia',\n",
    "    'Faroe Islands': 'Ilhas Faroe',\n",
    "    'Fiji': 'Fiji',\n",
    "    'Finland': 'Finlândia',\n",
    "    'France': 'França',\n",
    "    'French Guiana': 'Guiana Francesa',\n",
    "    'French Polynesia': 'Polinésia Francesa',\n",
    "    'Gabon': 'Gabão',\n",
    "    'Gambia': 'Gâmbia',\n",
    "    'Georgia': 'Geórgia',\n",
    "    'Germany': 'Alemanha',\n",
    "    'Ghana': 'Gana',\n",
    "    'Global': 'Global',\n",
    "    'Greece': 'Grécia',\n",
    "    'Greenland': 'Groenlândia',\n",
    "    'Grenada': 'Granada',\n",
    "    'Guadeloupe': 'Guadalupe',\n",
    "    'Guam': 'Guam',\n",
    "    'Guinea': 'Guiné',\n",
    "    'Guinea-Bissau': 'Guiné-Bissau',\n",
    "    'Guyana': 'Guiana',\n",
    "    'Haiti': 'Haiti',\n",
    "    'Honduras': 'Honduras',\n",
    "    'Hong Kong': 'Hong Kong',\n",
    "    'Hungary': 'Hungria',\n",
    "    'Iceland': 'Islândia',\n",
    "    'India': 'Índia',\n",
    "    'Indonesia': 'Indonésia',\n",
    "    'Iran': 'Irã',\n",
    "    'Iraq': 'Iraque',\n",
    "    'Ireland': 'Irlanda',\n",
    "    'Israel': 'Israel',\n",
    "    'Italy': 'Itália',\n",
    "    'Jamaica': 'Jamaica',\n",
    "    'Japan': 'Japão',\n",
    "    'Jordan': 'Jordânia',\n",
    "    'Kazakhstan': 'Cazaquistão',\n",
    "    'Kenya': 'Quênia',\n",
    "    'Kiribati': 'Kiribati',\n",
    "    'Korea (the Republic of)': 'Coreia do Sul',\n",
    "    'Kyrgyzstan': 'Quirguistão',\n",
    "    \"Lao People's Democratic Republic\": 'Laos',\n",
    "    'Latvia': 'Letônia',\n",
    "    'Lebanon': 'Líbano',\n",
    "    'Lesotho': 'Lesoto',\n",
    "    'Liberia': 'Libéria',\n",
    "    'Libya': 'Líbia',\n",
    "    'Lithuania': 'Lituânia',\n",
    "    'Luxemburg': 'Luxemburgo',\n",
    "    'Macao': 'Macau',\n",
    "    'Madagascar': 'Madagascar',\n",
    "    'Malawi': 'Malawi',\n",
    "    'Malaysia': 'Malásia',\n",
    "    'Maldives': 'Maldivas',\n",
    "    'Mali': 'Mali',\n",
    "    'Malta': 'Malta',\n",
    "    'Martinique': 'Martinica',\n",
    "    'Mauritania': 'Mauritânia',\n",
    "    'Mauritius': 'Maurício',\n",
    "    'Mexico': 'México',\n",
    "    'Moldova': 'Moldávia',\n",
    "    'Mongolia': 'Mongólia',\n",
    "    'Montenegro': 'Montenegro',\n",
    "    'Montserrat': 'Montserrat',\n",
    "    'Morocco': 'Marrocos',\n",
    "    'Mozambique': 'Moçambique',\n",
    "    'Myanmar': 'Mianmar',\n",
    "    'Namibia': 'Namíbia',\n",
    "    'Nauru': 'Nauru',\n",
    "    'Nepal': 'Nepal',\n",
    "    'Netherlands': 'Países Baixos',\n",
    "    'Netherlands Antilles': 'Antilhas Holandesas',\n",
    "    'New Caledonia': 'Nova Caledônia',\n",
    "    'New Zealand': 'Nova Zelândia',\n",
    "    'Nicaragua': 'Nicarágua',\n",
    "    'Niger': 'Níger',\n",
    "    'Nigeria': 'Nigéria',\n",
    "    'Niue': 'Niue',\n",
    "    'Norway': 'Noruega',\n",
    "    'Pakistan': 'Paquistão',\n",
    "    'Panama': 'Panamá',\n",
    "    'Papua New Guinea': 'Papua-Nova Guiné',\n",
    "    'Paraguay': 'Paraguai',\n",
    "    'Peru': 'Peru',\n",
    "    'Philippines': 'Filipinas',\n",
    "    'Poland': 'Polônia',\n",
    "    'Portugal': 'Portugal',\n",
    "    'Republic of North Macedonia': 'Macedônia do Norte',\n",
    "    'Republic of Türkiye': 'Turquia',\n",
    "    'Reunion island': 'Reunião',\n",
    "    'Romania': 'Romênia',\n",
    "    'Russia': 'Rússia',\n",
    "    'Rwanda': 'Ruanda',\n",
    "    'Saint Helena': 'Santa Helena',\n",
    "    'Saint Kitts and Nevis': 'São Cristóvão e Nevis',\n",
    "    'Saint Lucia': 'Santa Lúcia',\n",
    "    'Saint Pierre And Miquelon': 'Saint-Pierre e Miquelon',\n",
    "    'Saint Vincent and the Grenadines': 'São Vicente e Granadinas',\n",
    "    'Samoa': 'Samoa',\n",
    "    'Sao Tome and Principe': 'São Tomé e Príncipe',\n",
    "    'Saudi Arabia': 'Arábia Saudita',\n",
    "    'Senegal': 'Senegal',\n",
    "    'Serbia': 'Sérvia',\n",
    "    'Seychelles': 'Seicheles',\n",
    "    'Sierra Leone': 'Serra Leoa',\n",
    "    'Singapore': 'Singapura',\n",
    "    'Slovakia': 'Eslováquia',\n",
    "    'Slovenia': 'Eslovênia',\n",
    "    'Solomon Islands': 'Ilhas Salomão',\n",
    "    'Somalia': 'Somália',\n",
    "    'South Africa': 'África do Sul',\n",
    "    'Spain': 'Espanha',\n",
    "    'Sri Lanka': 'Sri Lanka',\n",
    "    'State of Palestine': 'Palestina',\n",
    "    'Sudan': 'Sudão',\n",
    "    'Suriname': 'Suriname',\n",
    "    'Sweden': 'Suécia',\n",
    "    'Switzerland': 'Suíça',\n",
    "    'Syrian Arab Republic': 'Síria',\n",
    "    'Taiwan': 'Taiwan',\n",
    "    'Tajikistan': 'Tajiquistão',\n",
    "    'Tanzania, the United Republic of': 'Tanzânia',\n",
    "    'Thailand': 'Tailândia',\n",
    "    'Timor-Leste': 'Timor-Leste',\n",
    "    'Togo': 'Togo',\n",
    "    'Tonga': 'Tonga',\n",
    "    'Trinidad and Tobago': 'Trinidad e Tobago',\n",
    "    'Tunisia': 'Tunísia',\n",
    "    'Turkmenistan': 'Turcomenistão',\n",
    "    'Tuvalu': 'Tuvalu',\n",
    "    'Uganda': 'Uganda',\n",
    "    'Ukraine': 'Ucrânia',\n",
    "    'United Kingdom': 'Reino Unido',\n",
    "    'United States of America': 'Estados Unidos',\n",
    "    'Uruguay': 'Uruguai',\n",
    "    'Uzbekistan': 'Uzbequistão',\n",
    "    'Vanuatu': 'Vanuatu',\n",
    "    'Venezuela': 'Venezuela',\n",
    "    'Vietnam': 'Vietnã',\n",
    "    'Yemen': 'Iêmen',\n",
    "    'Zambia': 'Zâmbia',\n",
    "    'Zimbabwe': 'Zimbábue'\n",
    "}\n",
    "\n",
    "dataset_consumo_vinho[\"pais\"] = dataset_consumo_vinho[\"pais\"].map(nomes)"
   ]
  },
  {
   "cell_type": "code",
   "execution_count": null,
   "metadata": {},
   "outputs": [],
   "source": [
    "dataset_consumo_vinho.head()"
   ]
  },
  {
   "attachments": {},
   "cell_type": "markdown",
   "metadata": {},
   "source": [
    "### Salvar .CSV para uso no Streamlit"
   ]
  },
  {
   "cell_type": "code",
   "execution_count": null,
   "metadata": {},
   "outputs": [],
   "source": [
    "dataset_consumo_vinho.to_csv('ConsumoVinho.csv', sep=',', index=False)"
   ]
  },
  {
   "cell_type": "code",
   "execution_count": null,
   "metadata": {},
   "outputs": [],
   "source": [
    "dataset_consumo_vinho = dataset_consumo_vinho.query(\"pais == 'Paraguai' or pais == 'Rússia' or pais == 'Estados Unidos' or pais == 'Reino Unido' or pais == 'China' or pais == 'Países Baixos' or pais == 'Espanha'\")"
   ]
  },
  {
   "cell_type": "code",
   "execution_count": null,
   "metadata": {},
   "outputs": [],
   "source": [
    "plot_regressao_estimada(dataset_consumo_vinho, 'Comparação da regressão estimada do consumo de vinho para os principais países', float)"
   ]
  }
 ],
 "metadata": {
  "kernelspec": {
   "display_name": ".venv3_11",
   "language": "python",
   "name": "python3"
  },
  "language_info": {
   "codemirror_mode": {
    "name": "ipython",
    "version": 3
   },
   "file_extension": ".py",
   "mimetype": "text/x-python",
   "name": "python",
   "nbconvert_exporter": "python",
   "pygments_lexer": "ipython3",
   "version": "3.10.11"
  },
  "orig_nbformat": 4
 },
 "nbformat": 4,
 "nbformat_minor": 2
}
